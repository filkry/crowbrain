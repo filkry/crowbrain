{
 "metadata": {
  "name": "005_pilot5_process_data"
 },
 "nbformat": 3,
 "nbformat_minor": 0,
 "worksheets": [
  {
   "cells": [
    {
     "cell_type": "markdown",
     "metadata": {},
     "source": [
      "# HITs to CSV"
     ]
    },
    {
     "cell_type": "code",
     "collapsed": false,
     "input": [
      "import csv\n",
      "import glob\n",
      "import hashlib\n",
      "\n",
      "files = glob.glob(\"/raw_data/pilot5/*.csv\")\n",
      "print(files)\n"
     ],
     "language": "python",
     "metadata": {},
     "outputs": [
      {
       "output_type": "stream",
       "stream": "stdout",
       "text": [
        "['/raw_data/pilot5/50.csv', '/raw_data/pilot5/20.csv', '/raw_data/pilot5/5.csv']\n"
       ]
      }
     ],
     "prompt_number": 40
    },
    {
     "cell_type": "markdown",
     "metadata": {},
     "source": [
      "### Input Data\n",
      "\n",
      "Example of how our CSV files look:"
     ]
    },
    {
     "cell_type": "code",
     "collapsed": false,
     "input": [
      "def csv_top(file_name):\n",
      "    with open(file_name, 'r') as csvfile:\n",
      "        reader = csv.reader(csvfile, delimiter=\",\")\n",
      "        for (i, row) in enumerate(reader):\n",
      "            print row\n",
      "            if i > 1:\n",
      "                break"
     ],
     "language": "python",
     "metadata": {},
     "outputs": [],
     "prompt_number": 6
    },
    {
     "cell_type": "code",
     "collapsed": false,
     "input": [
      "csv_top(files[0])\n",
      "    "
     ],
     "language": "python",
     "metadata": {},
     "outputs": [
      {
       "output_type": "stream",
       "stream": "stdout",
       "text": [
        "['HitId', 'HitTitle', 'Annotation', 'AssignmentId', 'WorkerId', 'Status', 'AcceptTime', 'SubmitTime', 'Comments', 'End Time', 'Job ID', 'Answers', 'Start Time', 'Consent', 'Question']\n",
        "['24XSVGULF397RDD3QE6SBNYNYEGAO3', 'Brainstorm 50 ideas for a classic brainstorming problem.', 'brainstorm', '29EAZHHRRLFSZ5U35481SHO95NINEL', 'A2HJ1O9GJAVEF6', 'Approved', 'Thu Jun 06 17:00:39 PDT 2013', 'Thu Jun 06 17:04:40 PDT 2013', '', '1370563288800|1370563296007|1370563310651|1370563316127|1370563324588|1370563329329|1370563339795|1370563347901|1370563352509|1370563357288|1370563365374|1370563378689|1370563412593|1370563430070|1370563442473|1370563451512|1370563460585|1370563473693|1370563476909|||||||||||||||||||||||||||||||', '220', \"Unique|Different from everyone else|extra finger to use for other things|Not part of the norm|Can't wear regular gloves|Will scare others|Can enjoy freaking out others|Center of attention|Center of jokes|Will be ridicule|Will be alienated by others|Will have 12 fingers|Make alien hand prints|Can go console a doctor to get thumbs remove|Create gloves for people with extra fingers|Apply for disability|Conversation starter with other people|Don't have to get a costume for halloween||||||||||||||||||||||||||||||||\", '1370563275414|1370563288800|1370563296007|1370563310651|1370563316127|1370563324588|1370563329329|1370563339795|1370563347902|1370563352509|1370563357288|1370563365374|1370563378689|1370563412593|1370563430070|1370563442473|1370563451512|1370563460585|1370563473693|||||||||||||||||||||||||||||||', 'consentAccept', 'Imagine you woke up with an extra opposable thumb on each hand. List benefits and drawbacks.']\n",
        "['24XSVGULF397RDD3QE6SBNYNYEGAO3', 'Brainstorm 50 ideas for a classic brainstorming problem.', 'brainstorm', '2XM8LZ6R70G7QQFTIWUVM7WSJ0E7NJ', 'A6P0CC8HHZLFJ', 'Approved', 'Thu Jun 06 16:59:02 PDT 2013', 'Thu Jun 06 17:10:33 PDT 2013', '', '1370563184246|1370563188117|1370563197664|1370563224378|1370563242101|1370563261459|1370563265007|1370563287191|1370563274989|1370563295029|1370563329474|1370563342510|1370563347125|1370563352055|1370563366709|1370563371081|1370563388262|1370563391301|1370563397524|1370563402847|1370563430999|1370563442251|1370563453765|1370563467684|1370563480784|1370563490231|1370563509043|1370563519589|1370563564308|1370563568238|1370563579689|1370563593865|1370563599391|1370563616426|1370563624574|1370563631684|1370563636530|1370563641404|1370563644999|1370563648619|1370563655931|1370563667026|1370563672042|1370563679760|1370563687432|1370563702790|1370563728847|1370563733471|1370563816363|1370563797841', '229', \"Limbo|Funny hair|Washing windows|Mixing drinks via squeegee method|Cleaning walls|Microphone|Dance partner|Female masturbation tool|Weapon|Kung fu shield |Mop race|Children's horse toy|Balancing tool|Measuring device|Small  wall hole puncher|Dicipline|Reaching stick|Walking stick|Seeing eye stick|Baton|Poor girls colorguard wand|Sloppy Painting|Percussion stick|Flaming mop|Stirring a big pot|Witches vehicle |Raccoon defense system|Garden tool|Face washer|Shower tool|Bbq stick|Giant kebabs |Flag staff|Beach umbrella stick|Remote control for TV|Cat guard|Hockey stick|Lacrosse stick|Door holder|Baseball bat|Cricket bat|Jousting thing|Windshield wiper|Sword fighting|Inefficient rowing paddle |Poker|Tool for putting seeds in the ground|Knocking high things down|Bocchi ball |Light switch operator\", '1370563151573|1370563184247|1370563188120|1370563197669|1370563206416|1370563238978|1370563261460|1370563265008|1370563271488|1370563274990|1370563295031|1370563329476|1370563342512|1370563347127|1370563352056|1370563366710|1370563371083|1370563388262|1370563391302|1370563397525|1370563402848|1370563431001|1370563437412|1370563453769|1370563467687|1370563475792|1370563490232|1370563509044|1370563519590|1370563564311|1370563568240|1370563579692|1370563593869|1370563599392|1370563616427|1370563624576|1370563631685|1370563636531|1370563641405|1370563645000|1370563648621|1370563655932|1370563667028|1370563672044|1370563679763|1370563687436|1370563702792|1370563728848|1370563733473|1370563791370', 'consentAccept', 'List unusual uses for a mop.']\n"
       ]
      }
     ],
     "prompt_number": 7
    },
    {
     "cell_type": "markdown",
     "metadata": {},
     "source": [
      "### Check Data makes sense"
     ]
    },
    {
     "cell_type": "code",
     "collapsed": false,
     "input": [
      "def worker_results_from_row(row, rm):\n",
      "    hashed_id = hashlib.sha224(row[rm['WorkerId']]).hexdigest()\n",
      "    question = row[rm['Question']]\n",
      "    answers = [(None if t=='' else t) for t in row[rm['Answers']].split('|')]\n",
      "    num_answers = len(answers)\n",
      "    end_time = [(None if t == '' else int(t)) for t in row[rm['End Time']].split('|')]\n",
      "    start_time = [(None if t == '' else int(t)) for t in row[rm['Start Time']].split('|')]\n",
      "    \n",
      "    return hashed_id, question, num_answers, answers, start_time, end_time\n",
      "\n",
      "def row_mapping_from_row(row):\n",
      "    rm = {}\n",
      "    for i, field in enumerate(row):\n",
      "        rm[field] = i\n",
      "        \n",
      "    return rm"
     ],
     "language": "python",
     "metadata": {},
     "outputs": [],
     "prompt_number": 41
    },
    {
     "cell_type": "code",
     "collapsed": false,
     "input": [
      "for f in files:\n",
      "    with open(f, 'r') as csvfile:\n",
      "        reader = csv.reader(csvfile, delimiter=\",\")\n",
      "        rm = None\n",
      "        for (i, row) in enumerate(reader):\n",
      "            if i == 0:\n",
      "                rm = row_mapping_from_row(row)\n",
      "                continue\n",
      "            \n",
      "            hashed_id, question, num, answers, start_time, end_time = worker_results_from_row(row, rm)\n",
      "            \n",
      "            assert(num == 5 or num == 10 or num == 20 or num == 50)\n",
      "            \n",
      "            for i, t in enumerate(start_time):\n",
      "                assert(start_time[i] is None or end_time[i] is None or end_time[i] - t > 0)\n",
      "            "
     ],
     "language": "python",
     "metadata": {},
     "outputs": [],
     "prompt_number": 42
    },
    {
     "cell_type": "markdown",
     "metadata": {},
     "source": [
      "### Output formatted data\n",
      "\n",
      "We want data to look like this when outputted:\n",
      "\n",
      "Hashed worker ID | Question | Number of Answers Requested | Answer number | Answer | Answer Start Time | Answer End Time | Coded Answer"
     ]
    },
    {
     "cell_type": "code",
     "collapsed": false,
     "input": [
      "output_file = '/processed_data/pilot5/answers.csv'"
     ],
     "language": "python",
     "metadata": {},
     "outputs": [],
     "prompt_number": 43
    },
    {
     "cell_type": "code",
     "collapsed": false,
     "input": [
      "import md5\n",
      "\n",
      "with open(output_file, 'w') as outfile:\n",
      "    writer = csv.writer(outfile, delimiter=\",\")\n",
      "    writer.writerow([\"Hashed worker ID\", \"Question\", \"Number of Answers\", \"Answer number\", \"Answer\", \"Answer start time\", \"Answer end time\", \"Coded answer\"])\n",
      "    \n",
      "    for f in files:\n",
      "        with open(f, 'r') as csvfile:\n",
      "            reader = csv.reader(csvfile, delimiter=\",\")\n",
      "            rm = None\n",
      "            for i, row in enumerate(reader):\n",
      "                if i == 0:\n",
      "                    rm = row_mapping_from_row(row)\n",
      "                    continue\n",
      "                    \n",
      "                hashed_id, question, num, answers, start_time, end_time = worker_results_from_row(row, rm)\n",
      "                    \n",
      "                for i, answer in enumerate(answers):\n",
      "                    writer.writerow([hashed_id, question, num, i, answer, start_time[i], end_time[i], \"\"])"
     ],
     "language": "python",
     "metadata": {},
     "outputs": [],
     "prompt_number": 48
    },
    {
     "cell_type": "markdown",
     "metadata": {},
     "source": [
      "### Test output"
     ]
    },
    {
     "cell_type": "code",
     "collapsed": false,
     "input": [
      "csv_top(output_file)"
     ],
     "language": "python",
     "metadata": {},
     "outputs": [
      {
       "output_type": "stream",
       "stream": "stdout",
       "text": [
        "['Hashed worker ID', 'Question', 'Number of Answers', 'Answer number', 'Answer', 'Answer start time', 'Answer end time', 'Coded answer']\n",
        "['ad77998dec8f66f653184185e0953c8e5273de39c99170d30abddb49', 'Imagine you woke up with an extra opposable thumb on each hand. List benefits and drawbacks.', '50', '0', 'Unique', '1370563275414', '1370563288800', '']\n",
        "['ad77998dec8f66f653184185e0953c8e5273de39c99170d30abddb49', 'Imagine you woke up with an extra opposable thumb on each hand. List benefits and drawbacks.', '50', '1', 'Different from everyone else', '1370563288800', '1370563296007', '']\n"
       ]
      }
     ],
     "prompt_number": 49
    },
    {
     "cell_type": "markdown",
     "metadata": {},
     "source": [
      "## Coding\n",
      "\n",
      "The data is coded such that two items are assigned the same label if and only if they refer to the exact same phenomena despite being worded differently. Thus, *mayonaise* and *miracle whip* are different, but *ketchup* and *catsup* are the same."
     ]
    },
    {
     "cell_type": "code",
     "collapsed": false,
     "input": [],
     "language": "python",
     "metadata": {},
     "outputs": []
    }
   ],
   "metadata": {}
  }
 ]
}