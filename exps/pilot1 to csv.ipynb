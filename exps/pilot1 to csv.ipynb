{
 "metadata": {
  "name": "pilot1 to csv"
 },
 "nbformat": 3,
 "nbformat_minor": 0,
 "worksheets": [
  {
   "cells": [
    {
     "cell_type": "markdown",
     "metadata": {},
     "source": [
      "# HITs to CSV\n",
      "\n",
      "The purpose of this notebook is the convert the results from HITs to CSV. The HITs are in a sqlite DB.\n",
      "\n",
      "Had to grab the data from turk CSVs instead of sqlite because of weekend computer failure. :("
     ]
    },
    {
     "cell_type": "code",
     "collapsed": false,
     "input": [
      "import csv\n",
      "import glob\n",
      "\n",
      "files = glob.glob(\"/raw_data/pilot/*.csv\")\n",
      "print(files)\n"
     ],
     "language": "python",
     "metadata": {},
     "outputs": [
      {
       "output_type": "stream",
       "stream": "stdout",
       "text": [
        "['/raw_data/pilot/HITResultsFor24BL0XULRGNVA0A2WQO5NP7NKCKQ4B.csv', '/raw_data/pilot/HITResultsFor26L6XBAT2D5PPFULPGH0RG5TCWO15X.csv', '/raw_data/pilot/HITResultsFor2LAMEZZ2MIKOMQ1OZMP3GTWWBS46NQ.csv']\n"
       ]
      }
     ],
     "prompt_number": 6
    },
    {
     "cell_type": "markdown",
     "metadata": {},
     "source": [
      "### Input Data\n",
      "\n",
      "Example of how our CSV files look:"
     ]
    },
    {
     "cell_type": "code",
     "collapsed": false,
     "input": [
      "def csv_top(file_name):\n",
      "    with open(file_name, 'r') as csvfile:\n",
      "        reader = csv.reader(csvfile, delimiter=\",\")\n",
      "        for (i, row) in enumerate(reader):\n",
      "            print row\n",
      "            if i > 1:\n",
      "                break"
     ],
     "language": "python",
     "metadata": {},
     "outputs": [],
     "prompt_number": 53
    },
    {
     "cell_type": "code",
     "collapsed": false,
     "input": [
      "csv_top(files[0])\n",
      "    "
     ],
     "language": "python",
     "metadata": {},
     "outputs": [
      {
       "output_type": "stream",
       "stream": "stdout",
       "text": [
        "['HitId', 'HitTitle', 'Annotation', 'AssignmentId', 'WorkerId', 'Status', 'AcceptTime', 'SubmitTime', 'Answer 1', 'Answer 2', 'Answer 3', 'Answer 4']\n",
        "['24BL0XULRGNVA0A2WQO5NP7NKCKQ4B', 'Brainstorm 5 ideas for a classic brainstorming problem.', 'brainstorm', '2ZBWKUDD8XMD27AP9D262TO6IMLNCS', 'A2YYQJ3JWA2KGD', 'Approved', 'Fri May 17 12:00:25 PDT 2013', 'Fri May 17 12:01:43 PDT 2013', 'covariate', '', 'Aids|Lack of exercise|Boredom|Nervousness|Hunger', 'consentAccept', '']\n",
        "['24BL0XULRGNVA0A2WQO5NP7NKCKQ4B', 'Brainstorm 5 ideas for a classic brainstorming problem.', 'brainstorm', '2SL3HVWAVKI814Q6CEY2799Q6OJOGJ', 'AQ36OBO2GRA00', 'Approved', 'Fri May 17 12:14:09 PDT 2013', 'Fri May 17 12:15:12 PDT 2013', '', 'change in eating habits|change in exercise habits|medication|natural growth (e.g. puberty)|loss of limbs', 'consentAccept', 'covariate', '']\n"
       ]
      }
     ],
     "prompt_number": 54
    },
    {
     "cell_type": "markdown",
     "metadata": {},
     "source": [
      "### Output formatted data\n",
      "\n",
      "We want data to look like this when outputted:\n",
      "\n",
      "Hashed worker ID | Number of Answers Requested | Answer | Coded Answer"
     ]
    },
    {
     "cell_type": "code",
     "collapsed": false,
     "input": [
      "output_file = '/processed_data/pilot/answers.csv'"
     ],
     "language": "python",
     "metadata": {},
     "outputs": [],
     "prompt_number": 49
    },
    {
     "cell_type": "code",
     "collapsed": false,
     "input": [
      "import md5\n",
      "\n",
      "with open(output_file, 'w') as outfile:\n",
      "    writer = csv.writer(outfile, delimiter=\",\")\n",
      "    writer.writerow([\"Hashed worker ID\", \"Number of Answers\", \"Answer\", \"Coded answer\"])\n",
      "    \n",
      "    for f in files:\n",
      "        with open(f, 'r') as csvfile:\n",
      "            reader = csv.reader(csvfile, delimiter=\",\")\n",
      "            for row in reader:\n",
      "                for field in row:\n",
      "                    if not '|' in field:\n",
      "                        continue # Skip the fields that didn't request multiple answers\n",
      "                        # We do this because amazon mysteriously reorders the answer fields\n",
      "                    \n",
      "                    worker_id = row[4]\n",
      "                    hashed_worker_id = md5.new(worker_id).digest()\n",
      "                    answers = field.split('|')\n",
      "                    num_requested = len(answers)\n",
      "                    \n",
      "                    for answer in answers:\n",
      "                        writer.writerow([hashed_worker_id, num_requested, answer, \"\"])"
     ],
     "language": "python",
     "metadata": {},
     "outputs": [],
     "prompt_number": 50
    },
    {
     "cell_type": "markdown",
     "metadata": {},
     "source": [
      "### Test output"
     ]
    },
    {
     "cell_type": "code",
     "collapsed": false,
     "input": [
      "csv_top(output_file)"
     ],
     "language": "python",
     "metadata": {},
     "outputs": [
      {
       "output_type": "stream",
       "stream": "stdout",
       "text": [
        "['Hashed worker ID', 'Number of Answers', 'Answer', 'Coded answer']\n",
        "['\\x19\\xc2\\xb7\\x978\\xae\\x1a<H\\x83\\xd6S\\xdf\\xd4\\xf0!', '5', 'Aids', '']\n",
        "['\\x19\\xc2\\xb7\\x978\\xae\\x1a<H\\x83\\xd6S\\xdf\\xd4\\xf0!', '5', 'Lack of exercise', '']\n"
       ]
      }
     ],
     "prompt_number": 55
    },
    {
     "cell_type": "code",
     "collapsed": false,
     "input": [],
     "language": "python",
     "metadata": {},
     "outputs": []
    }
   ],
   "metadata": {}
  }
 ]
}