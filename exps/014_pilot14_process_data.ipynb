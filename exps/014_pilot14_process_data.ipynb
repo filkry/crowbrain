{
 "metadata": {
  "name": ""
 },
 "nbformat": 3,
 "nbformat_minor": 0,
 "worksheets": [
  {
   "cells": [
    {
     "cell_type": "markdown",
     "metadata": {},
     "source": [
      "# HITs to CSV"
     ]
    },
    {
     "cell_type": "code",
     "collapsed": false,
     "input": [
      "import csv\n",
      "import glob\n",
      "import hashlib\n",
      "\n",
      "files = glob.glob(\"/raw_data/pilot14/*.csv\")\n",
      "print(files)\n"
     ],
     "language": "python",
     "metadata": {},
     "outputs": [
      {
       "output_type": "stream",
       "stream": "stdout",
       "text": [
        "['/raw_data/pilot14/HITResultsFor2IG7QEOZFYQU0TZ9W16XZDS42NTJG0.csv', '/raw_data/pilot14/HITResultsFor2YDKCJ011K2930EPU3N698N4Q5P9BE.csv']\n"
       ]
      }
     ],
     "prompt_number": 1
    },
    {
     "cell_type": "markdown",
     "metadata": {},
     "source": [
      "### Input Data\n",
      "\n",
      "Example of how our CSV files look:"
     ]
    },
    {
     "cell_type": "code",
     "collapsed": false,
     "input": [
      "def csv_top(file_name):\n",
      "    with open(file_name, 'r') as csvfile:\n",
      "        reader = csv.reader(csvfile, delimiter=\",\")\n",
      "        for (i, row) in enumerate(reader):\n",
      "            print row\n",
      "            if i > 1:\n",
      "                break"
     ],
     "language": "python",
     "metadata": {},
     "outputs": [],
     "prompt_number": 2
    },
    {
     "cell_type": "code",
     "collapsed": false,
     "input": [
      "csv_top(files[0])\n",
      "    "
     ],
     "language": "python",
     "metadata": {},
     "outputs": [
      {
       "output_type": "stream",
       "stream": "stdout",
       "text": [
        "['HitId', 'HitTitle', 'Annotation', 'AssignmentId', 'WorkerId', 'Status', 'AcceptTime', 'SubmitTime', 'Answer 1', 'Answer 2', 'Answer 3', 'Answer 4', 'Answer 5', 'Answer 6', 'Answer 7', 'Answer 8']\n",
        "['2IG7QEOZFYQU0TZ9W16XZDS42NTJG0', 'Brainstorm 75 ideas for a classic brainstorming             problem.', 'brainstorm', '268KCCVLL3CC2KTXK2H4K9NQSGT7XJ', 'A3TPKHABNZG28K', 'Approved', 'Wed Aug 14 14:22:05 PDT 2013', 'Wed Aug 14 14:40:31 PDT 2013', '<p>Imagine you are in a social setting and you have forgotten the name of somebody you know. Brainstorm 75 ways you could learn their name without directly asking them. Be as specific as possible in your descriptions.</p>', '', '1376515337930|1376515348466|1376515351502|1376515357252|1376515371460|1376515383840|1376515404804|1376515434760|1376515454662|1376515466184|1376515479986|1376515503197|1376515543503|1376515551538|1376515566041|1376515570992|1376515581179|1376515586781|1376515591072|1376515597232|1376515609587|1376515635397|1376515640106|1376515677513|1376515688581|1376515727005|1376515783671|1376515852075|1376515911360|1376515917075|1376515921654|1376515925443|1376515930421|1376515942959|1376515980322|1376515992782|1376516003593|1376516020249|1376516046762|1376516085525|1376516094641|1376516158150|1376516167615|1376516182065|1376516194959|1376516211733|1376516217556|1376516222519|1376516237792|1376516277128|1376516297041|1376516308357|1376516313909|1376516319399|1376516329559|1376516385677|||||||||||||||||||', '1376515348465|1376515351502|1376515357251|1376515376554|1376515383840|1376515404803|1376515444171|1376515454661|1376515466184|1376515483080|1376515503197|1376515543503|1376515579016|1376515566041|1376515570991|1376515574862|1376515586780|1376515591071|1376515597232|1376515609587|1376515635397|1376515640105|1376515677513|1376515688581|1376515744171|1376515783671|1376515852074|1376515911359|1376515917074|1376515921653|1376515925443|1376515930420|1376515942959|1376515980322|1376515992782|1376516003593|1376516020248|1376516046762|1376516085524|1376516098417|1376516158149|1376516167614|1376516182065|1376516194958|1376516211733|1376516217556|1376516222519|1376516245192|1376516277127|1376516297040|1376516308355|1376516313909|1376516319398|1376516329558|1376516385677|1376516398074|||||||||||||||||||', '19', 'Listen to their conversations|Ask a friend|Ask a relative of theirs|Ask the host of the event if there is one|Look for a name tag|Look on their drink if they have one to see if their name was written on it|If they open their phone, look at it to see if their background picture jogs your memory|Look at a list of names in your phone contact list|Google \"how to remember someone\\'s name\"|Google a list of common names|Ask a waiter/waitress |Look through your list of face book friends|Look through your list of twiiter followers|Look through your list of people you follow on twiiter|Look through your list of people you follow on instagram|Look through your list of people you follow on vine|Look through your list of instagram followers|Look through your list of vine followers|Look through your list of tumblr followers|Look through your list of people you follow on tumblr|See if their name is embroidered anywhere on their clothes|See if their name is embroidered anywhere on their accessories|Ask to borrow their phone and then call yourself, reverse search the phone number|Ask to borrow their phone and then call yourself, see if their name is in your contacts|Ask them what their middle name is and hope they repeat their full name|Talk to the person they arrived with, and ask that person who they came with, knowing they will say the name you of the person you can\\'t remember|Ask them, \"Were you named after any of your relatives?\"|Ask to borrow their phone and open their facebook app|Ask to borrow their phone and open their twitter app|Ask to borrow their phone and open their vine app|Ask to borrow their phone and open their mail app|Ask to borrow their phone and open their instagram app|Ask to borrow their phone and open their contacts and view personal contact|Ask if anyone has ever named their child after them|Ask if anyone has ever named their dog after them|Ask if anyone has ever named their cat after them|Ask what their sibilings\\' names are|Ask if they are a junior to one of their parents|Ask why their parents picked their name|Ask if they were named after anone famous|Say \"You know, my cousin has the same name as you!\" and hope they will say, \"Oh, really? Their name is ______?\"|Compliment their name|Say \"You really have a unique name\"|Ask \"What is the meaning behind your name?\"|Ask \"What is your name translated to in Spanish?\"|Ask \"What is your name translated to in French?\"|Ask \"What is your name translated to in German?\"|Offer to look up their name translation|Say your own name in a British accent. Ask \"How would your name sound in a British accent?\"|Say your own name in an Australian accent. Ask \"How would your name sound in an Australian accent?\"|Ask if their name is hard to find on keychains|Ask if their name is hard to find on pens|Ask how to spell their name|Ask what alternate spellings there are to their name|Ask if in high school there were a lot of people with the same name as them. Hope they say something like \"Not really, there were only two or three ________s in my class.\"||||||||||||||||||||', 'consentAccept', 'Definitely a tricky task, but very creative also. Cool HIT', '']\n",
        "['2IG7QEOZFYQU0TZ9W16XZDS42NTJG0', 'Brainstorm 75 ideas for a classic brainstorming             problem.', 'brainstorm', '2CZ4J79KQW6374BM4A6CL45XANNKI0', 'A3O81LHBBI8NPK', 'Approved', 'Wed Aug 14 14:15:57 PDT 2013', 'Wed Aug 14 14:50:00 PDT 2013', '1376515039708|1376515041782|1376515049174|1376515056588|1376515066692|1376515074265|1376515079900|1376515089246|1376515094057|1376515114025|1376515124496|1376515134421|1376515140395|1376515151679|1376515166001|1376515187544|1376515223727|1376515239156|1376515243075|1376515247525|1376515257571|1376515354361|1376515357541|1376515362231|1376515367521|1376515378700|1376515525687|1376515529174|1376515539754|1376515545505|1376515550278|1376515557543|1376515565247|1376515567491|1376515570356|1376515576948|1376515583399|1376515586599|1376515597251|1376515606006|1376515611795|1376515616592|1376515623204|1376515678844|1376515691902|1376515701637|1376515706860|1376515711252|1376515752192|1376515754802|1376515758322|1376515763612|1376515773617|1376515783717|1376515799604|1376515806660|1376515814232|1376515818450|1376515824022|1376515840633|1376515851342|1376515855591|1376515861779|1376515865588|1376515878422|1376515892200|1376515897375|1376515934600|1376515941808|1376515949149|1376515955913|1376516037702|1376516060832|1376516072742|1376516111499', 'THANKS!', '14', '', 'paper weight|door stop|still use it to play music|throw it at people|it is a talking stick, if you have it you can talk|stress device|toss it on the ground|open it up for science|use parts for something else|toss it like a ball|throw it and run to it as exercise|kick it|piss on it|use the back of it for paint samples|hold it to take nail polish selfies with|wrap cords around it|use it as a spacer|prop a chair up with it|level a table|level a chair|stand on it and become 1/2 in taller|use it as something that |beer coaster|drink coaster|toy roller coaster|keep kids entertained|label things|write in it|sit it in a garden with a flower seed wrote in it|mark food at a party|spin the bottle|spin the mp3 player|pranks with it|sell it|give it away|give it to a homeless person|donate it|give it to goodwill|toss it in the trash|tie ribbons around it|give it as a gift (prank)|give it as a gift (for real)|give it as an IOU|propse with it|use it as a mock wallet|hang it form the car mirror as decor|use it only in the car|run over it with the car |use it as a microphone in the shower|use it as a microphone in the bedroom|use it as a microphone in the livingroom|use it as a microphoe anywhere|leave it outside|use it as a place holder for keys|craft idea use it for sizing cozies|wrap yarn around it|wrap twine aorund it|wrap string around it|wrap bubble wrap around it|see if it will skip on a lake|yell at it like it is your ex boyfriend|take your anger out on it|take you happiness out on it|do nothing with it|toss it in a time capsule |it\\'s for memories and only bring it out to show off|cover it in glitter|use it as a mark for spots on stages|mark places for kids to stand|mark buried treasure|leave it out to see if anyone steals it|bribe a friend with \"what is on this ipod\"|wrap it up for christmas white elephant parties|keep money in the case|use it as a sample for different naim painting patterns', '1376515025514|1376515039716|1376515041790|1376515049181|1376515056596|1376515066699|1376515074272|1376515079907|1376515089254|1376515094065|1376515114034|1376515124512|1376515134429|1376515140403|1376515151691|1376515166009|1376515187552|1376515223734|1376515239164|1376515243086|1376515247537|1376515257578|1376515354368|1376515357549|1376515362238|1376515367529|1376515378708|1376515525694|1376515529182|1376515539762|1376515545513|1376515550285|1376515557552|1376515565255|1376515567513|1376515570364|1376515576956|1376515583406|1376515586606|1376515594178|1376515606014|1376515611803|1376515616600|1376515623212|1376515678852|1376515688674|1376515701645|1376515707288|1376515711261|1376515752198|1376515754815|1376515758330|1376515763619|1376515773626|1376515783725|1376515799613|1376515806695|1376515814240|1376515818458|1376515824030|1376515840644|1376515851349|1376515855633|1376515861787|1376515865595|1376515878429|1376515884147|1376515897383|1376515934608|1376515941816|1376515949156|1376515955921|1376515965609|1376516060840|1376516072750', 'consentAccept', \"<p>Many people have old iPods or MP3 players that they no longer use. Please brainstorm 75 uses for old iPods/MP3 players. Assume that the devices' batteries no longer work, though they can be powered via external power sources. Also be aware that devices may <em>not</em> have displays. Be as specific as possible in your descriptions.</p>\", '']\n"
       ]
      }
     ],
     "prompt_number": 3
    },
    {
     "cell_type": "markdown",
     "metadata": {},
     "source": [
      "### Check Data makes sense"
     ]
    },
    {
     "cell_type": "code",
     "collapsed": false,
     "input": [
      "import string\n",
      "\n",
      "def all_caps_numbers(st):\n",
      "    for c in st:\n",
      "        if not (c.isdigit() or c in string.uppercase):\n",
      "            return False\n",
      "    return True\n",
      "\n",
      "def is_question(st):\n",
      "    return 'EFF' in st or 'smartphones' in st or 'social' in st or 'iPod' in st\n",
      "\n",
      "def worker_results_from_row(row):\n",
      "    hit_title = None\n",
      "    hashed_id = None\n",
      "    question = None\n",
      "    answers = None # check\n",
      "    num_answers = None # check\n",
      "    end_time = None # check\n",
      "    start_time = None # check\n",
      "    \n",
      "    temp_answers = None\n",
      "    temp_times = None\n",
      "    temp_times2 = None\n",
      "    \n",
      "    for i, field in enumerate(row):\n",
      "        if i == 1:\n",
      "            hit_title = field\n",
      "        elif '|' in field:\n",
      "            sp = field.split('|')\n",
      "            num_answers = len(sp)\n",
      "            \n",
      "            bad_digit_test = float(sum(i.isdigit() for i in sp)) / len(sp)\n",
      "            \n",
      "            #sp = [x for x in sp if len(x) > 0]\n",
      "            if len(sp) == 0:\n",
      "                # user didn't respond to anything, skip them\n",
      "                return None\n",
      "            elif bad_digit_test >= 0.10:\n",
      "                if temp_times is None:\n",
      "                    temp_times = sp\n",
      "                else:\n",
      "                    temp_times2 = sp \n",
      "            else: #in this case, these are their answers\n",
      "                temp_answers = sp\n",
      "        elif i == 4 and all_caps_numbers(field):\n",
      "            hashed_id = hashlib.sha224(field).hexdigest()\n",
      "        elif is_question(field):\n",
      "            question = field\n",
      "            \n",
      "    if 'as many ideas as you can' in hit_title:\n",
      "        num_answers = 0\n",
      "    \n",
      "    answers = []\n",
      "    start_time = []\n",
      "    end_time = []\n",
      "    for i, a in enumerate(temp_answers):\n",
      "        if len(a) == 0:\n",
      "            continue;\n",
      "        t1 = int(temp_times[i]) if temp_times[i].isdigit() else -1\n",
      "        t2 = int(temp_times2[i]) if temp_times2[i].isdigit() else -1\n",
      "        \n",
      "        answers.append(a)\n",
      "        start_time.append(min(t1, t2))\n",
      "        end_time.append(max(t1, t2))\n",
      "    \n",
      "    return hashed_id, question, num_answers, answers, start_time, end_time"
     ],
     "language": "python",
     "metadata": {},
     "outputs": [],
     "prompt_number": 78
    },
    {
     "cell_type": "code",
     "collapsed": false,
     "input": [
      "for f in files:\n",
      "    with open(f, 'r') as csvfile:\n",
      "        reader = csv.reader(csvfile, delimiter=\",\")\n",
      "        rm = None\n",
      "        for (i, row) in enumerate(reader):\n",
      "            if i == 0:\n",
      "                continue\n",
      "            \n",
      "            res = worker_results_from_row(row)\n",
      "            \n",
      "            if res is None:\n",
      "                continue\n",
      "            \n",
      "            hashed_id, question, num, answers, start_time, end_time = res\n",
      "            \n",
      "            assert(len(start_time) >= len(answers))\n",
      "            assert(len(start_time) == len(end_time))\n",
      "            \n",
      "            for i, t in enumerate(start_time):\n",
      "                assert(start_time[i] is None or end_time[i] is None or end_time[i] - t >= 0)\n",
      "            "
     ],
     "language": "python",
     "metadata": {},
     "outputs": [],
     "prompt_number": 79
    },
    {
     "cell_type": "markdown",
     "metadata": {},
     "source": [
      "### Output formatted data\n",
      "\n",
      "We want data to look like this when outputted:\n",
      "\n",
      "Hashed worker ID | Question | Post Date | Screenshot| Number of Answers Requested | Answer number | Answer | Answer word count | Answer Start Time | Answer End Time | Coded Answer"
     ]
    },
    {
     "cell_type": "code",
     "collapsed": false,
     "input": [
      "output_file = '/processed_data/pilot14/answers.csv'\n",
      "\n",
      "half_file = '/processed_data/pilot14/answers_half.csv'"
     ],
     "language": "python",
     "metadata": {},
     "outputs": [],
     "prompt_number": 80
    },
    {
     "cell_type": "code",
     "collapsed": false,
     "input": [
      "import md5\n",
      "import random\n",
      "\n",
      "with open(output_file, 'w') as outfile:\n",
      "    with open(half_file, 'w') as halffile:\n",
      "        writer = csv.writer(outfile, delimiter=\"|\")\n",
      "        writer.writerow([\"hashed_worker_id\", \"question\", \"question_code\", \"post_date\", \"screenshot\", \"num_answers_requested\", \"answer_num\", \"answer\", \"answer_word_count\", \"answer_start_time\", \"answer_end_time\", \"answer_code\"])\n",
      "        w2 = csv.writer(halffile, delimiter=\"|\")\n",
      "        w2.writerow([\"hashed_worker_id\", \"question\", \"question_code\", \"post_date\", \"screenshot\", \"num_answers_requested\", \"answer_num\", \"answer\", \"answer_word_count\", \"answer_start_time\", \"answer_end_time\", \"answer_code\"])\n",
      "        \n",
      "        def truncate_question(q):\n",
      "            if \"EFF\" in q:\n",
      "                return \"charity\"\n",
      "            if \"smartphones\" in q:\n",
      "                return \"turk\"\n",
      "            if \"iPod\" in q:\n",
      "                return \"iPod\"\n",
      "            if \"social\" in q:\n",
      "                return \"forgot_name\"\n",
      "            return \"error\"\n",
      "        \n",
      "        for f in files:\n",
      "            with open(f, 'r') as csvfile:\n",
      "                reader = csv.reader(csvfile, delimiter=\",\")\n",
      "                rm = None\n",
      "                for i, row in enumerate(reader):\n",
      "                    if i == 0:\n",
      "                        continue\n",
      "                        \n",
      "                    half = random.random() > 0.5\n",
      "                        \n",
      "                    res = worker_results_from_row(row)\n",
      "                    \n",
      "                    if res is None:\n",
      "                        continue\n",
      "                        \n",
      "                    hashed_id, question, num, answers, start_time, end_time = res\n",
      "                    question_code = 'error' if question is None else truncate_question(question)\n",
      "                    \n",
      "                    assert(len(start_time) == len(end_time))\n",
      "                    \n",
      "                    post_date = \"2013-08-14\"\n",
      "                    screenshot = \"%s_%d.png\" % (question_code, num)\n",
      "                        \n",
      "                    for i, answer in enumerate(answers):\n",
      "                        answer_word_count = len(answer.split()) if not answer is None else 0\n",
      "                        writer.writerow([hashed_id, question, question_code, post_date, screenshot, num, i, answer, answer_word_count, start_time[i], end_time[i], \"\"])\n",
      "                        if half:\n",
      "                            w2.writerow([hashed_id, question, question_code, post_date, screenshot, num, i, answer, answer_word_count, start_time[i], end_time[i], \"\"])\n",
      "                            \n",
      "                            \n",
      "                            "
     ],
     "language": "python",
     "metadata": {},
     "outputs": [],
     "prompt_number": 81
    },
    {
     "cell_type": "markdown",
     "metadata": {},
     "source": [
      "### Test output"
     ]
    },
    {
     "cell_type": "code",
     "collapsed": false,
     "input": [
      "csv_top(output_file)"
     ],
     "language": "python",
     "metadata": {},
     "outputs": [
      {
       "output_type": "stream",
       "stream": "stdout",
       "text": [
        "['hashed_worker_id|question|question_code|post_date|screenshot|num_answers_requested|answer_num|answer|answer_word_count|answer_start_time|answer_end_time|answer_code']\n",
        "['ea4fb414c50acac687c9de3f39fbbad4cb949d6edce4aaa0f665af13|<p>Imagine you are in a social setting and you have forgotten the name of somebody you know. Brainstorm 75 ways you could learn their name without directly asking them. Be as specific as possible in your descriptions.</p>|forgot_name|2013-08-14|forgot_name_75.png|75|0|Listen to their conversations|4|1376515337930|1376515348465|']\n",
        "['ea4fb414c50acac687c9de3f39fbbad4cb949d6edce4aaa0f665af13|<p>Imagine you are in a social setting and you have forgotten the name of somebody you know. Brainstorm 75 ways you could learn their name without directly asking them. Be as specific as possible in your descriptions.</p>|forgot_name|2013-08-14|forgot_name_75.png|75|1|Ask a friend|3|1376515348466|1376515351502|']\n"
       ]
      }
     ],
     "prompt_number": 82
    },
    {
     "cell_type": "markdown",
     "metadata": {},
     "source": [
      "## Coding\n",
      "\n",
      "The data is coded such that two items are assigned the same label if and only if they refer to the exact same phenomena despite being worded differently. Thus, *mayonaise* and *miracle whip* are different, but *ketchup* and *catsup* are the same."
     ]
    },
    {
     "cell_type": "code",
     "collapsed": false,
     "input": [],
     "language": "python",
     "metadata": {},
     "outputs": []
    }
   ],
   "metadata": {}
  }
 ]
}