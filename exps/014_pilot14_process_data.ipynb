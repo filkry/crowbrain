{
 "metadata": {
  "name": ""
 },
 "nbformat": 3,
 "nbformat_minor": 0,
 "worksheets": [
  {
   "cells": [
    {
     "cell_type": "markdown",
     "metadata": {},
     "source": [
      "# HITs to CSV"
     ]
    },
    {
     "cell_type": "code",
     "collapsed": false,
     "input": [
      "import csv\n",
      "import glob\n",
      "import hashlib\n",
      "\n",
      "files = glob.glob(\"/raw_data/pilot14/*.csv\")\n",
      "print(files)\n"
     ],
     "language": "python",
     "metadata": {},
     "outputs": [
      {
       "output_type": "stream",
       "stream": "stdout",
       "text": [
        "['/raw_data/pilot14/HITResultsFor2YDKCJ011K2930EPU3N698N4Q5P9BE.csv', '/raw_data/pilot14/HITResultsFor2IG7QEOZFYQU0TZ9W16XZDS42NTJG0.csv']\n"
       ]
      }
     ],
     "prompt_number": 1
    },
    {
     "cell_type": "markdown",
     "metadata": {},
     "source": [
      "### Input Data\n",
      "\n",
      "Example of how our CSV files look:"
     ]
    },
    {
     "cell_type": "code",
     "collapsed": false,
     "input": [
      "def csv_top(file_name):\n",
      "    with open(file_name, 'r') as csvfile:\n",
      "        reader = csv.reader(csvfile, delimiter=\",\")\n",
      "        for (i, row) in enumerate(reader):\n",
      "            print row\n",
      "            if i > 1:\n",
      "                break"
     ],
     "language": "python",
     "metadata": {},
     "outputs": [],
     "prompt_number": 2
    },
    {
     "cell_type": "code",
     "collapsed": false,
     "input": [
      "csv_top(files[0])\n",
      "    "
     ],
     "language": "python",
     "metadata": {},
     "outputs": [
      {
       "output_type": "stream",
       "stream": "stdout",
       "text": [
        "['HitId', 'HitTitle', 'Annotation', 'AssignmentId', 'WorkerId', 'Status', 'AcceptTime', 'SubmitTime', 'Answer 1', 'Answer 2', 'Answer 3', 'Answer 4', 'Answer 5', 'Answer 6', 'Answer 7', 'Answer 8']\n",
        "['2YDKCJ011K2930EPU3N698N4Q5P9BE', 'Brainstorm 100 ideas for a classic brainstorming             problem.', 'brainstorm', '28349F9SSSHZ0IQ4X5K5P5F8HDIXTJ', 'A1YN5KV2LSTUC7', 'Approved', 'Wed Aug 14 14:11:53 PDT 2013', 'Wed Aug 14 14:23:11 PDT 2013', '', 'ask their phone number |wait around the perosn till some one address that perosn by name |ask some one else of the name |When you and that person have a conversation bring up a topic about names and just blurt out random names you like and hopefully that person will be like 2YDKCJ011K2930EPU3N698N4Q5P9BE', 'Brainstorm 100 ideas for a classic brainstorming             problem.', 'brainstorm', '2JUHECWA6X30NTJVAPG5SXPTGWCMLL', 'AY9086LI8Y1LY', 'Approved', 'Wed Aug 14 14:09:35 PDT 2013', 'Wed Aug 14 14:45:15 PDT 2013', '1376514705287|1376514818835|1376514832961|1376514851391|1376514883512|1376514926103|1376514977776|1376515024106|1376515026910|1376515042638|1376515051910|1376515126035|1376515153518|1376515163031|1376515298261|1376515307865|1376515337780|1376515381325|1376515388046|1376515402638|1376515427563|1376515433882|1376515488070|1376515500356|1376515511227|1376515544019|1376515550379|1376515566654|1376515580574|1376515597406|1376515603259|1376515607471|1376515625951|1376515766398|1376515639143|1376515668450|1376515687019|1376515690603|1376515702331|1376515718738|1376515759869|1376515790581|1376515820536|1376515840968|1376515857298|1376515872794|1376515914707|1376515930085|1376515943893|1376515971204|1376515981167|1376515999479|1376516007278|1376516029150|1376516052797|1376516059634|1376516083715|1376516096984|1376516110696|1376516127855|1376516135896|1376516157703|1376516180988|1376516184771|1376516191508|1376516197499|1376516205435|1376516217992|1376516230657|1376516251008|1376516265049|1376516267416|1376516296813|1376516325028|1376516331565|1376516334341|1376516345258|1376516386879|1376516395209|1376516412029|1376516427917|1376516433262|1376516446670|1376516463178|1376516490611|1376516505355|1376516522096|1376516529391|1376516554816|1376516566798|1376516571870|1376516584707|1376516611972|1376516614924|1376516624283|1376516633124|1376516646082|1376516655952|1376516680000|1376516695437', '', '25', '', 'Hold events|Iron Man Contest|Memorize-a-thon|Movie Night|Sell Seasonal Items|door-to-door car wash|Chili cook off|Bake Sale|Face Painting|Organize a Carnival|Sponsor Large Events|Speak on public radio and ask for donations|Date-Auction|Blind Auction|Gift Wrapping Fund Raiser|Branch out to gain different corporate support|Marathon Pledge |Softball tournament|bowling tournament|ping-pong tournament|golf tournament|Pizza Party|Membership Fees|Pyramid Scheme|Kidnap someone for ransom|Casino Night|Boat Trip sell tickets|Guest Speaker evening|quiz trivia night|goal-a-thon|walk-a-thon|swim-a-thon|hit-a-thon|sing-a-thon|karaoke night|weekly lottery|hold a gala|hold a fair|photography|sell chocolates|Facility sharing|Game of Thrones marathon|Disco Night|world record attempts|garage sales|babysitting service|Christmas cards|Collection Buckets|Collect Aluminum Cans|Painting Contest|Drawing Contest|Dance-Off|Pool Day|a quarter a day for a month from pledgers|Shave/Haircut|Provide Tech Support|Retail Shop|Novelty Shows|Mystery Dinner|Virtual Sports|Virtual Reality Demonstration|Go fishing and sell fish|Fruit Picking|Vegetable Picking|Make a Garden|Treasure Hunt|Metal Scrapping|Easter Egg Hunt|Swear Box|Gift Basket Auction|Bottle Wine|Brew Beer|Christmas Caroling with a message and except donations|Sled-a-thon|Basketball Tournament|BlackJack|Texas Hold-em tournament|Pre-Kindergarten walk-a-thon|Dinner Fund-raiser sell plates|Temporary Tattoos|Plant Sale|Flower Sale|Rummage or Clothing Sale|Sell Seat Cushions at sporting events|Talent Show|Go on NPR|Poetry Write-Off|Freestyle Rap-Off|Private Skype Meetings|FlashMob on Youtube|Post Youtube videos|Make Pornography|Walk Dogs|Pet Sitter|Lemonade Stand|Wash Windows|Do something degrading/humiliating for money|Shovel Snow|Test Ecstasy at Raves|Rake Leaves', '1376514635768|1376514642000|1376514818836|1376514832961|1376514851392|1376514883512|1376514926103|1376514977777|1376515024106|1376515026910|1376515042638|1376515051911|1376515126035|1376515153519|1376515163031|1376515298262|1376515307866|1376515337780|1376515381325|1376515388046|1376515402639|1376515427564|1376515433883|1376515488071|1376515500357|1376515511227|1376515544019|1376515550379|1376515566654|1376515580574|1376515597406|1376515603259|1376515607472|1376515625952|1376515629745|1376515639144|1376515668452|1376515687019|1376515690603|1376515702332|1376515718739|1376515759869|1376515790582|1376515820537|1376515840968|1376515857298|1376515872795|1376515920143|1376515930086|1376515943894|1376515971205|1376515981167|1376515999480|1376516007279|1376516029151|1376516052797|1376516059635|1376516083715|1376516096984|1376516110696|1376516127856|1376516131200|1376516157703|1376516180988|1376516184772|1376516191508|1376516197500|1376516205436|1376516217993|1376516230657|1376516251009|1376516265049|1376516267417|1376516296813|1376516325028|1376516331565|1376516334341|1376516345258|1376516386880|1376516395210|1376516412030|1376516427918|1376516433262|1376516446670|1376516463179|1376516490611|1376516505358|1376516522096|1376516529391|1376516554816|1376516566799|1376516571870|1376516584708|1376516611972|1376516614924|1376516624283|1376516633124|1376516646610|1376516655952|1376516680001', 'consentAccept', '<p>The Electronic Frontier Foundation (EFF) is a nonprofit whose goal is to protect individual rights with respect to digital and online technologies. For example, the EFF has initiated a lawsuit against the US government to limit the degree to which the US surveils its citizens via secret NSA programs. If you are unfamiliar with the EFF and its goals, read about it on its website (<a href=\"https://www.eff.org\" target=\"_new\">https://www.eff.org</a>) or via other online sources (such as Wikipedia).</p>\\r\\n      <p>Brainstorm 100 <em>new</em> ways the EFF can raise funds and simultaneously increase awareness. Your ideas <em>must be different from their current methods</em>, which include donation pages, merchandise, web badges and banners, affiliate programs with Amazon and eBay, and donating things such as airmiles, cars, or stocks. See the full list of their current methods here: <a href=\"https://www.eff.org/helpout\" target=\"_new\">https://www.eff.org/helpout</a>. Be as specific as possible in your responses.</p>', '']\n",
        "['2YDKCJ011K2930EPU3N698N4Q5P9BE', 'Brainstorm 100 ideas for a classic brainstorming             problem.', 'brainstorm', '2A85R98D8J3XDO3826EYKG3MAT2VF6', 'AI5W4AW7AXERL', 'Approved', 'Wed Aug 14 14:12:07 PDT 2013', 'Wed Aug 14 14:55:39 PDT 2013', '1376514843696|1376514854730|1376514875283|1376514920684|1376514934385|1376514974161|1376515019854|1376515025457|1376515057387|1376515063966|1376515089139|1376515100841|1376515154137|1376515160279|1376515195449|1376515210191|1376515220795|1376515230089|1376515283717|1376515291569|1376515302919|1376515309702|1376515401364|1376515414447|1376515447395|1376515465472|1376515478311|1376515560304|1376515571182|1376515658587|1376515651195|1376515689864|1376515702254|1376515718596|1376515742518|1376515759655|1376515777868|1376515798053|1376515836169|1376515871350|1376515881306|1376515895386|1376515915133|1376515928714|1376515949111|1376515991556|1376516007901|1376516029273|1376516062144|1376516094758|1376516102853|1376516168729|1376516225850|1376516246752|1376516269886|1376516299778|1376516395977|1376516414467|1376516430049|1376516454805|1376516471910|1376516484234|1376516493373|1376516520738|1376516537632|1376516545993|1376516674421|1376516683872|1376516718896|1376516730077|1376516747932|1376516772126|1376516786530|1376516828790|1376516850524|1376516865068|1376516924127|1376516943347|1376517054273|1376517063284|1376517080924|1376517096383|1376517102983|1376517118702|1376517138939|1376517156143|1376517165960|1376517174013|1376517181231|1376517188317|1376517197739|1376517216953|1376517225514|1376517234504|1376517258988|1376517273397|1376517282955|1376517291582|1376517311021|1376517327833', '', '31', '', \"use as device to monitor hallwaya|add speakers and use as stero|flash card player|load it with games|store articles|bootable xp desktop|car jutebox|give it away|paperweight|holder for paperclips|make a wallet|use as a gift box for money|external drive|sell it|load with audio books for a senior citizen|audio books for the blind|music for your dog when home alone|music for your cat while home alone|audio books for special ed kids|donate to a hospital|use in a children's ward at a hospital|donate to a prison|display it as an decoration|create a tech visual library|hang it on your dog's collar with return to owner info|give it to a kid to take apart and learn about the parts|get a bunch of them an use them like Legos|dedicated dictophone|store class lectures|store photos|dress it up like a doll|turn it into a flashlight|use as a night lite for a kid|use as a light for your front door if you have none|use it as a light/beacon for a party in your room at school|use it as a light during a tornado power outage|turn it into a laser pointer|use it as a mirror for  makeup|install a text to speech app and use it |use it as a self defense weapon if attacked|use it to crack nuts open|use it to pound a jar that needs the lid opened|use it to knock off rust |use it to knock office around the car door handle|use it to scrape ice off of the window|use as a remote control|make it a control for flying a toy |use as a control for a kid's remote control car|use it to make a solar powered device|make it an alarm clock|use it as a calandar|use it for Powerpoint presentations|make it a toolbox for fixing other tech stuff|get a bunch of them, label them and play Go Fish|Make some music with them like mini drums|use it as a personal trainer|take it to the local animal shelter for the workers to use|conduct a science experiemnt to see what happens when put in salt water|science experiement to see what happens when covered in jello|paint them and make a makeshift aquarium|whittle away and make a 'nesting' set|use to stabilize a rocky table|level out your bed if uneven|stack and use like bricks to support wood for bookshelves|bundle a bunch and use as weights for cooking|make into frisbees|turn it into a webcam|make into a baby monitor|make into a key ring|make into a doorbell|use as a security system|make into a high frequency pest controller|play fetch with your dog with it|store bird food in it and leave outside|plant it with seeds and grow herbs|make a terrarium|load your recipes on it and take them with you |store trip itinerary sites for travel abroad|download travel guides|make it into a transmitter|keep kleenex from flying away on your desk|use as a place to store earrings|use as a ring holder|make into a jewlry box for a child|put mouse poison in it to catch mice|coin storage|holder for push pins|holder for paper clips|mini sewing box|place to keep buttons|turn into a pin cushion|daily vitamin dispenser|toothpick holder|M&M dispenser|dental floss dispenser|keeper for a lottery ticket|sell for scrap|recycle|make into an abacus|make into a coaster\", '1376514783165|1376514843697|1376514854731|1376514859476|1376514920684|1376514934385|1376514974162|1376515019855|1376515025458|1376515057388|1376515063966|1376515089139|1376515100841|1376515154138|1376515160279|1376515195450|1376515210191|1376515220795|1376515230089|1376515283718|1376515291569|1376515302920|1376515309702|1376515401364|1376515414448|1376515447395|1376515465472|1376515478311|1376515560305|1376515571183|1376515644527|1376515651195|1376515689864|1376515702254|1376515718596|1376515742518|1376515759655|1376515777869|1376515798054|1376515836169|1376515871350|1376515881306|1376515895386|1376515915134|1376515928714|1376515949111|1376515991557|1376516007901|1376516029273|1376516062145|1376516094759|1376516102853|1376516168730|1376516225851|1376516246752|1376516269887|1376516299778|1376516395977|1376516414468|1376516430049|1376516454806|1376516471910|1376516484234|1376516493374|1376516520739|1376516537632|1376516545994|1376516674422|1376516683873|1376516718896|1376516730078|1376516747933|1376516772126|1376516786530|1376516828790|1376516850525|1376516865068|1376516924128|1376516943348|1376517054274|1376517063284|1376517080925|1376517096384|1376517102983|1376517118702|1376517138940|1376517156143|1376517165960|1376517174014|1376517181231|1376517188318|1376517197739|1376517216954|1376517225514|1376517234505|1376517258988|1376517273397|1376517282956|1376517291582|1376517311022', 'consentAccept', \"<p>Many people have old iPods or MP3 players that they no longer use. Please brainstorm 100 uses for old iPods/MP3 players. Assume that the devices' batteries no longer work, though they can be powered via external power sources. Also be aware that devices may <em>not</em> have displays. Be as specific as possible in your descriptions.</p>\", '']\n"
       ]
      }
     ],
     "prompt_number": 3
    },
    {
     "cell_type": "markdown",
     "metadata": {},
     "source": [
      "### Check Data makes sense"
     ]
    },
    {
     "cell_type": "code",
     "collapsed": false,
     "input": [
      "import string\n",
      "\n",
      "def all_caps_numbers(st):\n",
      "    for c in st:\n",
      "        if not (c.isdigit() or c in string.uppercase):\n",
      "            return False\n",
      "    return True\n",
      "\n",
      "def is_question(st):\n",
      "    return 'EFF' in st or 'smartphones' in st or 'social' in st or 'iPod' in st\n",
      "\n",
      "def worker_results_from_row(row):\n",
      "    hit_title = None\n",
      "    hashed_id = None\n",
      "    question = None\n",
      "    answers = None # check\n",
      "    num_answers = None # check\n",
      "    end_time = None # check\n",
      "    start_time = None # check\n",
      "    \n",
      "    temp_answers = None\n",
      "    temp_times = None\n",
      "    temp_times2 = None\n",
      "    \n",
      "    for i, field in enumerate(row):\n",
      "        if i == 1:\n",
      "            hit_title = field\n",
      "        elif '|' in field:\n",
      "            sp = field.split('|')\n",
      "            num_answers = len(sp)\n",
      "            \n",
      "            bad_digit_test = float(sum(i.isdigit() for i in sp)) / len(sp)\n",
      "            \n",
      "            #sp = [x for x in sp if len(x) > 0]\n",
      "            if len(sp) == 0:\n",
      "                # user didn't respond to anything, skip them\n",
      "                return None\n",
      "            elif bad_digit_test >= 0.10:\n",
      "                if temp_times is None:\n",
      "                    temp_times = sp\n",
      "                else:\n",
      "                    temp_times2 = sp \n",
      "            else: #in this case, these are their answers\n",
      "                temp_answers = sp\n",
      "        elif i == 4 and all_caps_numbers(field):\n",
      "            hashed_id = hashlib.sha224(field).hexdigest()\n",
      "        elif is_question(field):\n",
      "            question = field\n",
      "            \n",
      "    if 'as many ideas as you can' in hit_title:\n",
      "        num_answers = 0\n",
      "    \n",
      "    answers = []\n",
      "    start_time = []\n",
      "    end_time = []\n",
      "    for i, a in enumerate(temp_answers):\n",
      "        if len(a) == 0:\n",
      "            continue;\n",
      "        t1 = int(temp_times[i]) if temp_times[i].isdigit() else -1\n",
      "        t2 = int(temp_times2[i]) if temp_times2[i].isdigit() else -1\n",
      "        \n",
      "        answers.append(a)\n",
      "        start_time.append(min(t1, t2))\n",
      "        end_time.append(max(t1, t2))\n",
      "    \n",
      "    return hashed_id, question, num_answers, answers, start_time, end_time"
     ],
     "language": "python",
     "metadata": {},
     "outputs": [],
     "prompt_number": 4
    },
    {
     "cell_type": "code",
     "collapsed": false,
     "input": [
      "for f in files:\n",
      "    with open(f, 'r') as csvfile:\n",
      "        reader = csv.reader(csvfile, delimiter=\",\")\n",
      "        rm = None\n",
      "        for (i, row) in enumerate(reader):\n",
      "            if i == 0:\n",
      "                continue\n",
      "            \n",
      "            res = worker_results_from_row(row)\n",
      "            \n",
      "            if res is None:\n",
      "                continue\n",
      "            \n",
      "            hashed_id, question, num, answers, start_time, end_time = res\n",
      "            \n",
      "            assert(len(start_time) >= len(answers))\n",
      "            assert(len(start_time) == len(end_time))\n",
      "            \n",
      "            for i, t in enumerate(start_time):\n",
      "                assert(start_time[i] is None or end_time[i] is None or end_time[i] - t >= 0)\n",
      "            "
     ],
     "language": "python",
     "metadata": {},
     "outputs": [],
     "prompt_number": 5
    },
    {
     "cell_type": "markdown",
     "metadata": {},
     "source": [
      "### Output formatted data\n",
      "\n",
      "We want data to look like this when outputted:\n",
      "\n",
      "Hashed worker ID | Question | Post Date | Screenshot| Number of Answers Requested | Answer number | Answer | Answer word count | Answer Start Time | Answer End Time | Coded Answer"
     ]
    },
    {
     "cell_type": "code",
     "collapsed": false,
     "input": [
      "output_file = '/processed_data/pilot14/answers.csv'\n",
      "\n",
      "half_file = '/processed_data/pilot14/answers_half.csv'"
     ],
     "language": "python",
     "metadata": {},
     "outputs": [],
     "prompt_number": 6
    },
    {
     "cell_type": "code",
     "collapsed": false,
     "input": [
      "import md5\n",
      "import random\n",
      "\n",
      "with open(output_file, 'w') as outfile:\n",
      "    with open(half_file, 'w') as halffile:\n",
      "        writer = csv.writer(outfile, delimiter=\"|\")\n",
      "        writer.writerow([\"hashed_worker_id\", \"question\", \"question_code\", \"post_date\", \"screenshot\", \"num_answers_requested\", \"answer_num\", \"answer\", \"answer_word_count\", \"answer_start_time\", \"answer_end_time\", \"answer_code\"])\n",
      "        w2 = csv.writer(halffile, delimiter=\"|\")\n",
      "        w2.writerow([\"hashed_worker_id\", \"question\", \"question_code\", \"post_date\", \"screenshot\", \"num_answers_requested\", \"answer_num\", \"answer\", \"answer_word_count\", \"answer_start_time\", \"answer_end_time\", \"answer_code\"])\n",
      "        \n",
      "        def truncate_question(q):\n",
      "            if \"EFF\" in q:\n",
      "                return \"charity\"\n",
      "            if \"smartphones\" in q:\n",
      "                return \"turk\"\n",
      "            if \"iPod\" in q:\n",
      "                return \"iPod\"\n",
      "            if \"social\" in q:\n",
      "                return \"forgot_name\"\n",
      "            return \"error\"\n",
      "        \n",
      "        for f in files:\n",
      "            with open(f, 'r') as csvfile:\n",
      "                reader = csv.reader(csvfile, delimiter=\",\")\n",
      "                rm = None\n",
      "                for i, row in enumerate(reader):\n",
      "                    if i == 0:\n",
      "                        continue\n",
      "                        \n",
      "                    half = random.random() > 0.5\n",
      "                        \n",
      "                    res = worker_results_from_row(row)\n",
      "                    \n",
      "                    if res is None:\n",
      "                        continue\n",
      "                        \n",
      "                    hashed_id, question, num, answers, start_time, end_time = res\n",
      "                    question_code = 'error' if question is None else truncate_question(question)\n",
      "                    \n",
      "                    assert(len(start_time) == len(end_time))\n",
      "                    \n",
      "                    post_date = \"2013-08-14\"\n",
      "                    screenshot = \"%s_%d.png\" % (question_code, num)\n",
      "                        \n",
      "                    for i, answer in enumerate(answers):\n",
      "                        answer_word_count = len(answer.split()) if not answer is None else 0\n",
      "                        writer.writerow([hashed_id, question, question_code, post_date, screenshot, num, i, answer, answer_word_count, start_time[i], end_time[i], \"\"])\n",
      "                        if half:\n",
      "                            w2.writerow([hashed_id, question, question_code, post_date, screenshot, num, i, answer, answer_word_count, start_time[i], end_time[i], \"\"])\n",
      "                            \n",
      "                            \n",
      "                            "
     ],
     "language": "python",
     "metadata": {},
     "outputs": [],
     "prompt_number": 7
    },
    {
     "cell_type": "markdown",
     "metadata": {},
     "source": [
      "### Test output"
     ]
    },
    {
     "cell_type": "code",
     "collapsed": false,
     "input": [
      "csv_top(output_file)"
     ],
     "language": "python",
     "metadata": {},
     "outputs": [
      {
       "output_type": "stream",
       "stream": "stdout",
       "text": [
        "['hashed_worker_id|question|question_code|post_date|screenshot|num_answers_requested|answer_num|answer|answer_word_count|answer_start_time|answer_end_time|answer_code']\n",
        "['c59445c005bd5d04c2610a5c6221a9e0c4dacb8f7fc990b495b35f68|\"<p>The Electronic Frontier Foundation (EFF) is a nonprofit whose goal is to protect individual rights with respect to digital and online technologies. For example', ' the EFF has initiated a lawsuit against the US government to limit the degree to which the US surveils its citizens via secret NSA programs. If you are unfamiliar with the EFF and its goals', ' read about it on its website (<a href=\"\"https://www.eff.org\"\" target=\"\"_new\"\">https://www.eff.org</a>) or via other online sources (such as Wikipedia).</p>']\n",
        "['      <p>Brainstorm 100 <em>new</em> ways the EFF can raise funds and simultaneously increase awareness. Your ideas <em>must be different from their current methods</em>', ' which include donation pages', ' merchandise', ' web badges and banners', ' affiliate programs with Amazon and eBay', ' and donating things such as airmiles', ' cars', ' or stocks. See the full list of their current methods here: <a href=\"\"https://www.eff.org/helpout\"\" target=\"\"_new\"\">https://www.eff.org/helpout</a>. Be as specific as possible in your responses.</p>\"|charity|2013-08-14|charity_100.png|100|0|Hold events|2|1376514635768|1376514705287|']\n"
       ]
      }
     ],
     "prompt_number": 8
    },
    {
     "cell_type": "markdown",
     "metadata": {},
     "source": [
      "## Coding\n",
      "\n",
      "The data is coded such that two items are assigned the same label if and only if they refer to the exact same phenomena despite being worded differently. Thus, *mayonaise* and *miracle whip* are different, but *ketchup* and *catsup* are the same."
     ]
    },
    {
     "cell_type": "code",
     "collapsed": false,
     "input": [],
     "language": "python",
     "metadata": {},
     "outputs": []
    }
   ],
   "metadata": {}
  }
 ]
}