{
 "metadata": {
  "name": "007_pilot7_process_data"
 },
 "nbformat": 3,
 "nbformat_minor": 0,
 "worksheets": [
  {
   "cells": [
    {
     "cell_type": "markdown",
     "metadata": {},
     "source": [
      "# HITs to CSV"
     ]
    },
    {
     "cell_type": "code",
     "collapsed": false,
     "input": [
      "import csv\n",
      "import glob\n",
      "import hashlib\n",
      "\n",
      "files = glob.glob(\"/raw_data/pilot7/*.csv\")\n",
      "print(files)\n"
     ],
     "language": "python",
     "metadata": {},
     "outputs": [
      {
       "output_type": "stream",
       "stream": "stdout",
       "text": [
        "['/raw_data/pilot7/HITResultsFor26OAUC26DG69CI4J5D6K8COKJKD5CA.csv', '/raw_data/pilot7/HITResultsFor21NUFJ51Y7QGNGME05SC0TMOWYQDAO.csv', '/raw_data/pilot7/HITResultsFor28K4SMEZZ2MKJ3UP4LG9638TDXWL41.csv', '/raw_data/pilot7/HITResultsFor25LW5XH0JPPUHJREO2CSX75K2N5FLJ.csv', '/raw_data/pilot7/HITResultsFor20CNU8LZ6R72FMYPIQZJBVE7DTRL56.csv']\n"
       ]
      }
     ],
     "prompt_number": 1
    },
    {
     "cell_type": "markdown",
     "metadata": {},
     "source": [
      "### Input Data\n",
      "\n",
      "Example of how our CSV files look:"
     ]
    },
    {
     "cell_type": "code",
     "collapsed": false,
     "input": [
      "def csv_top(file_name):\n",
      "    with open(file_name, 'r') as csvfile:\n",
      "        reader = csv.reader(csvfile, delimiter=\"\\t\")\n",
      "        for (i, row) in enumerate(reader):\n",
      "            print row\n",
      "            if i > 1:\n",
      "                break"
     ],
     "language": "python",
     "metadata": {},
     "outputs": [],
     "prompt_number": 33
    },
    {
     "cell_type": "code",
     "collapsed": false,
     "input": [
      "csv_top(files[0])\n",
      "    "
     ],
     "language": "python",
     "metadata": {},
     "outputs": [
      {
       "output_type": "stream",
       "stream": "stdout",
       "text": [
        "['HitId', 'HitTitle', 'Annotation', 'AssignmentId', 'WorkerId', 'Status', 'AcceptTime', 'SubmitTime', 'Question', 'Feedback', 'Start time', 'End time', 'Job ID', 'Answers', 'Consent']\n",
        "['26OAUC26DG69CI4J5D6K8COKJKD5CA', 'Brainstorm 20 ideas for a classic brainstorming             problem.', 'brainstorm', '2I6R9Y8TNKIOY9TLUS8SAOM0IB9V8C', 'AMSD0JV1W7V9F', 'Approved', 'Sun Jul 07 18:35:43 PDT 2013', 'Sun Jul 07 18:44:14 PDT 2013', 'Imagine you are in a social setting and you have forgotten the name of somebody you know. Brainstorm 20 ways you could learn their name without directly asking them. Be as specific as possible in your descriptions.', '', '1373247379972|1373247410842|1373247430552|1373247453696|1373247472990|1373247496038|1373247515506|1373247529171|1373247538298|1373247548325|1373247567202|1373247578952|1373247599824|1373247648541|1373247660974|1373247681044|1373247708991|1373247738253|1373247751770|1373247760919', '1373247410840|1373247430545|1373247453691|1373247472983|1373247496030|1373247515504|1373247529156|1373247538297|1373247548309|1373247843958|1373247578943|1373247599820|1373247648531|1373247660972|1373247681042|1373247821624|1373247801373|1373247788628|1373247766976|1373247787717', '258', 'what their mothers name is|if they have any siblings|where they work|what school they went to|names childhood friends|what street they grew up on|where they live |spouses name |if they have children|what is their email address|their fathers name|what town they live in|what year they graduated high school|if they attended college|if they had vacationed recently|are they on linkedin|are they on twitter|what are their hobbies|if they like sports|do  they have a facebook page', 'consentAccept']\n",
        "['26OAUC26DG69CI4J5D6K8COKJKD5CA', 'Brainstorm 20 ideas for a classic brainstorming             problem.', 'brainstorm', '2BG3W5XH0JPRRZ908RGL0P75DG1EK9', 'A2D8BKOVHPFT9M', 'Approved', 'Sun Jul 07 18:44:01 PDT 2013', 'Sun Jul 07 18:45:20 PDT 2013', \"Many people have old iPods or MP3 players that they no longer use. Please brainstorm 20 uses for old iPods/MP3 players. Assume that the devices' batteries no longer work, though they can be powered via external power sources. Also be aware that devices may *not* have displays. Be as specific as possible in your descriptions.\", '', '1373247848076|1373247861184|1373247865751|1373247868304|1373247901255|||||||||||||||', '1373247861183|1373247865751|1373247868304|1373247901255|1373247908074|||||||||||||||', '253', 'recycle|use as paperweight|use as doorstop|collect|wear as jewelry|||||||||||||||', 'consentAccept']\n"
       ]
      }
     ],
     "prompt_number": 34
    },
    {
     "cell_type": "markdown",
     "metadata": {},
     "source": [
      "### Check Data makes sense"
     ]
    },
    {
     "cell_type": "code",
     "collapsed": false,
     "input": [
      "import string\n",
      "\n",
      "def all_caps_numbers(st):\n",
      "    for c in st:\n",
      "        if not (c.isdigit() or c in string.uppercase):\n",
      "            return False\n",
      "    return True\n",
      "\n",
      "def is_question(st):\n",
      "    return 'Imagine' in st or 'brainstorm' in st or 'iPods' in st\n",
      "\n",
      "def worker_results_from_row(row):\n",
      "    hashed_id = None\n",
      "    question = None\n",
      "    answers = None # check\n",
      "    num_answers = None # check\n",
      "    end_time = None # check\n",
      "    start_time = None # check\n",
      "    \n",
      "    temp_times = None\n",
      "    \n",
      "    for field in row:\n",
      "        if '|' in field:\n",
      "            sp = field.split('|')\n",
      "            num_answers = len(sp)\n",
      "            \n",
      "            sp = [x for x in sp if len(x) > 0]\n",
      "            if len(sp) == 0:\n",
      "                # user didn't respond to anything, skip them\n",
      "                return None\n",
      "            elif sp[0].isdigit():\n",
      "                if temp_times is None:\n",
      "                    temp_times = [int(i) for i in sp]\n",
      "                else:\n",
      "                    sp = [int(i) for i in sp]\n",
      "                    if sp[0] > temp_times[0]:\n",
      "                        end_time = sp\n",
      "                        start_time = temp_times\n",
      "                    else:\n",
      "                        end_time = temp_times\n",
      "                        start_time = sp\n",
      "            else: #in this case, these are their answers\n",
      "                answers = sp\n",
      "        elif all_caps_numbers(field):\n",
      "            hashed_id = hashlib.sha224(field).hexdigest()\n",
      "        elif is_question(field):\n",
      "            question = field\n",
      "            \n",
      "    if 'as many as possible' in question:\n",
      "        num_answers = 0\n",
      "    \n",
      "    return hashed_id, question, num_answers, answers, start_time, end_time"
     ],
     "language": "python",
     "metadata": {},
     "outputs": [],
     "prompt_number": 74
    },
    {
     "cell_type": "code",
     "collapsed": false,
     "input": [
      "for f in files:\n",
      "    with open(f, 'r') as csvfile:\n",
      "        reader = csv.reader(csvfile, delimiter=\"\\t\")\n",
      "        rm = None\n",
      "        for (i, row) in enumerate(reader):\n",
      "            if i == 0:\n",
      "                continue\n",
      "            \n",
      "            res = worker_results_from_row(row)\n",
      "            \n",
      "            if res is None:\n",
      "                continue\n",
      "            \n",
      "            hashed_id, question, num, answers, start_time, end_time = res\n",
      "            \n",
      "            for i, t in enumerate(start_time):\n",
      "                assert(start_time[i] is None or end_time[i] is None or end_time[i] - t > 0)\n",
      "            "
     ],
     "language": "python",
     "metadata": {},
     "outputs": [],
     "prompt_number": 75
    },
    {
     "cell_type": "markdown",
     "metadata": {},
     "source": [
      "### Output formatted data\n",
      "\n",
      "We want data to look like this when outputted:\n",
      "\n",
      "Hashed worker ID | Question | Post Date | Screenshot| Number of Answers Requested | Answer number | Answer | Answer word count | Answer Start Time | Answer End Time | Coded Answer"
     ]
    },
    {
     "cell_type": "code",
     "collapsed": false,
     "input": [
      "output_file = '/processed_data/pilot7/answers.csv'"
     ],
     "language": "python",
     "metadata": {},
     "outputs": [],
     "prompt_number": 81
    },
    {
     "cell_type": "code",
     "collapsed": false,
     "input": [
      "import md5\n",
      "\n",
      "with open(output_file, 'w') as outfile:\n",
      "    writer = csv.writer(outfile, delimiter=\",\")\n",
      "    writer.writerow([\"hashed_worker_id\", \"question\", \"question_code\", \"post_date\", \"screenshot\", \"num_answers_requested\", \"answer_num\", \"answer\", \"answer_word_count\", \"answer_start_time\", \"answer_end_time\", \"answer_code\"])\n",
      "    \n",
      "    def truncate_question(q):\n",
      "        if \"iPod\" in q:\n",
      "            return \"iPod\"\n",
      "        if \"Alzheimer\" in q:\n",
      "            return \"charity\"\n",
      "        if \"forgotten\" in q:\n",
      "            return \"forgot_name\"\n",
      "        if \"Turk\" in q:\n",
      "            return \"turk\"\n",
      "        return \"error\"\n",
      "    \n",
      "    for f in files:\n",
      "        with open(f, 'r') as csvfile:\n",
      "            reader = csv.reader(csvfile, delimiter=\"\\t\")\n",
      "            rm = None\n",
      "            for i, row in enumerate(reader):\n",
      "                if i == 0:\n",
      "                    continue\n",
      "                    \n",
      "                res = worker_results_from_row(row)\n",
      "                \n",
      "                if res is None:\n",
      "                    continue\n",
      "                    \n",
      "                hashed_id, question, num, answers, start_time, end_time = res\n",
      "                question_code = truncate_question(question)\n",
      "                \n",
      "                post_date = \"2013-07-08\"\n",
      "                screenshot = \"%s_%d.png\" % (question_code, num)\n",
      "                    \n",
      "                for i, answer in enumerate(answers):\n",
      "                    answer_word_count = len(answer.split()) if not answer is None else 0\n",
      "                    writer.writerow([hashed_id, question, question_code, post_date, screenshot, num, i, answer, answer_word_count, start_time[i], end_time[i], \"\"])"
     ],
     "language": "python",
     "metadata": {},
     "outputs": [],
     "prompt_number": 84
    },
    {
     "cell_type": "markdown",
     "metadata": {},
     "source": [
      "### Test output"
     ]
    },
    {
     "cell_type": "code",
     "collapsed": false,
     "input": [
      "csv_top(output_file)"
     ],
     "language": "python",
     "metadata": {},
     "outputs": [
      {
       "output_type": "stream",
       "stream": "stdout",
       "text": [
        "['hashed_worker_id,question,question_code,post_date,screenshot,num_answers_requested,answer_num,answer,answer_word_count,answer_start_time,answer_end_time,answer_code']\n",
        "['a678fd9cee0991a1214d757166fb0565543ef9485ab17243d82a1d37,Imagine you are in a social setting and you have forgotten the name of somebody you know. Brainstorm 20 ways you could learn their name without directly asking them. Be as specific as possible in your descriptions.,forgot_name,2013-07-08,forgot_name_20.png,20,0,what their mothers name is,5,1373247379972,1373247410840,']\n",
        "['a678fd9cee0991a1214d757166fb0565543ef9485ab17243d82a1d37,Imagine you are in a social setting and you have forgotten the name of somebody you know. Brainstorm 20 ways you could learn their name without directly asking them. Be as specific as possible in your descriptions.,forgot_name,2013-07-08,forgot_name_20.png,20,1,if they have any siblings,5,1373247410842,1373247430545,']\n"
       ]
      }
     ],
     "prompt_number": 85
    },
    {
     "cell_type": "markdown",
     "metadata": {},
     "source": [
      "## Coding\n",
      "\n",
      "The data is coded such that two items are assigned the same label if and only if they refer to the exact same phenomena despite being worded differently. Thus, *mayonaise* and *miracle whip* are different, but *ketchup* and *catsup* are the same."
     ]
    },
    {
     "cell_type": "code",
     "collapsed": false,
     "input": [],
     "language": "python",
     "metadata": {},
     "outputs": []
    }
   ],
   "metadata": {}
  }
 ]
}