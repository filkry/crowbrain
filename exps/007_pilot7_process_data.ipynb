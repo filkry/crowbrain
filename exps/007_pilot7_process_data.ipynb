{
 "metadata": {
  "name": "007_pilot7_process_data"
 },
 "nbformat": 3,
 "nbformat_minor": 0,
 "worksheets": [
  {
   "cells": [
    {
     "cell_type": "markdown",
     "metadata": {},
     "source": [
      "# HITs to CSV"
     ]
    },
    {
     "cell_type": "code",
     "collapsed": false,
     "input": [
      "import csv\n",
      "import glob\n",
      "import hashlib\n",
      "\n",
      "files = glob.glob(\"/raw_data/pilot7/*.csv\")\n",
      "print(files)\n"
     ],
     "language": "python",
     "metadata": {},
     "outputs": [
      {
       "output_type": "stream",
       "stream": "stdout",
       "text": [
        "['/raw_data/pilot7/HITResultsFor28K4SMEZZ2MKJ3UP4LG9638TDXWL41.csv', '/raw_data/pilot7/HITResultsFor25LW5XH0JPPUHJREO2CSX75K2N5FLJ.csv', '/raw_data/pilot7/HITResultsFor20WNLVWJ5OPDZF2W9LPM4B7E6AT2UG.csv', '/raw_data/pilot7/HITResultsFor20CNU8LZ6R72FMYPIQZJBVE7DTRL56.csv', '/raw_data/pilot7/HITResultsFor24C8LZ6R70G7QQFTIWUVM7WS9UMN7P.csv', '/raw_data/pilot7/HITResultsFor2ALDHJHP4BDFJXBEI4JXHX3GK664X6.csv', '/raw_data/pilot7/HITResultsFor21NUFJ51Y7QGNGME05SC0TMOWYQDAO.csv', '/raw_data/pilot7/HITResultsFor26OAUC26DG69CI4J5D6K8COKJKD5CA.csv', '/raw_data/pilot7/HITResultsFor2QAKMT6YTWX6GKOIZOVDH9GINJIV0E.csv']\n"
       ]
      }
     ],
     "prompt_number": 1
    },
    {
     "cell_type": "markdown",
     "metadata": {},
     "source": [
      "### Input Data\n",
      "\n",
      "Example of how our CSV files look:"
     ]
    },
    {
     "cell_type": "code",
     "collapsed": false,
     "input": [
      "def csv_top(file_name):\n",
      "    with open(file_name, 'r') as csvfile:\n",
      "        reader = csv.reader(csvfile, delimiter=\",\")\n",
      "        for (i, row) in enumerate(reader):\n",
      "            print row\n",
      "            if i > 1:\n",
      "                break"
     ],
     "language": "python",
     "metadata": {},
     "outputs": [],
     "prompt_number": 12
    },
    {
     "cell_type": "code",
     "collapsed": false,
     "input": [
      "csv_top(files[0])\n",
      "    "
     ],
     "language": "python",
     "metadata": {},
     "outputs": [
      {
       "output_type": "stream",
       "stream": "stdout",
       "text": [
        "['HitId', 'HitTitle', 'Annotation', 'AssignmentId', 'WorkerId', 'Status', 'AcceptTime', 'SubmitTime', 'Answer 1', 'Answer 2', 'Answer 3', 'Answer 4', 'Answer 5', 'Answer 6', 'Answer 7']\n",
        "['28K4SMEZZ2MKJ3UP4LG9638TDXWL41', 'Brainstorm 5 ideas for a classic brainstorming             problem.', 'brainstorm', '2T0EBDPGFL6XB63FJ4ED4IOVUNLI3A', 'AUAB02BPEDRR4', 'Approved', 'Sun Jul 07 18:36:42 PDT 2013', 'Sun Jul 07 18:39:16 PDT 2013', \"Please brainstorm 5 different public events that could be used to raise money for Alzheimer's research. Be as specific as possible in your descriptions.\", '', '1373247404739|1373247417300|1373247462604|1373247492103|1373247500117', '1373247417300|1373247462603|1373247492103|1373247500116|1373247542394', '207', \"a run - a fun run or walk|a giant memory challenge - a big memory game - a challenge of sorts|a scavenger hunt based on memories|ribbon campaigns|a book of stories from Alzheimer's patients - a way to capture memories that will lost forever.\", 'consentAccept', '']\n",
        "['28K4SMEZZ2MKJ3UP4LG9638TDXWL41', 'Brainstorm 5 ideas for a classic brainstorming             problem.', 'brainstorm', '2VQ58B727M0KFWRXNEXYNSVFXQXWBN', 'ANTBIVEMQ1D2F', 'Approved', 'Sun Jul 07 18:40:59 PDT 2013', 'Sun Jul 07 18:44:02 PDT 2013', '1373247710825|1373247748051|1373247779523|1373247799057|1373247837114', '202', \"Have a way to exclude certain requesters from searchers, almost like an advanced search feature|prevent survey's you have already taken from appearing on the hit list|have an hourly rate for each hit listed, take an average amount from all the workers|block and get rid of requesters who pay unfairly and like slave labor|have a way for Amazon to override unfair rejections, like when an requester rejects work and never replies and it was done correctly.\", 'consentAccept', 'Please brainstorm 5 ways that Mechanical Turk could be improved for workers. Be as specific as possible in your descriptions.', '', '1373247674345|1373247710826|1373247748051|1373247779524|1373247799058', '']\n"
       ]
      }
     ],
     "prompt_number": 13
    },
    {
     "cell_type": "markdown",
     "metadata": {},
     "source": [
      "### Check Data makes sense"
     ]
    },
    {
     "cell_type": "code",
     "collapsed": false,
     "input": [
      "import string\n",
      "\n",
      "def all_caps_numbers(st):\n",
      "    for c in st:\n",
      "        if not (c.isdigit() or c in string.uppercase):\n",
      "            return False\n",
      "    return True\n",
      "\n",
      "def is_question(st):\n",
      "    return 'Imagine' in st or 'brainstorm' in st or 'iPods' in st\n",
      "\n",
      "def worker_results_from_row(row):\n",
      "    hashed_id = None\n",
      "    question = None\n",
      "    answers = None # check\n",
      "    num_answers = None # check\n",
      "    end_time = None # check\n",
      "    start_time = None # check\n",
      "    \n",
      "    temp_times = None\n",
      "    \n",
      "    for i, field in enumerate(row):\n",
      "        if '|' in field:\n",
      "            sp = field.split('|')\n",
      "            num_answers = len(sp)\n",
      "            \n",
      "            sp = [x for x in sp if len(x) > 0]\n",
      "            if len(sp) == 0:\n",
      "                # user didn't respond to anything, skip them\n",
      "                return None\n",
      "            elif sp[0].isdigit():\n",
      "                if temp_times is None:\n",
      "                    temp_times = [int(i) for i in sp]\n",
      "                else:\n",
      "                    sp = [int(i) for i in sp]\n",
      "                    if sp[0] > temp_times[0]:\n",
      "                        end_time = sp\n",
      "                        start_time = temp_times\n",
      "                    else:\n",
      "                        end_time = temp_times\n",
      "                        start_time = sp\n",
      "            else: #in this case, these are their answers\n",
      "                answers = sp\n",
      "        elif i == 4 and all_caps_numbers(field):\n",
      "            hashed_id = hashlib.sha224(field).hexdigest()\n",
      "        elif is_question(field):\n",
      "            question = field\n",
      "            \n",
      "    if 'as many as possible' in question:\n",
      "        num_answers = 0\n",
      "    \n",
      "    return hashed_id, question, num_answers, answers, start_time, end_time"
     ],
     "language": "python",
     "metadata": {},
     "outputs": [],
     "prompt_number": 14
    },
    {
     "cell_type": "code",
     "collapsed": false,
     "input": [
      "for f in files:\n",
      "    with open(f, 'r') as csvfile:\n",
      "        reader = csv.reader(csvfile, delimiter=\",\")\n",
      "        rm = None\n",
      "        for (i, row) in enumerate(reader):\n",
      "            if i == 0:\n",
      "                continue\n",
      "            \n",
      "            res = worker_results_from_row(row)\n",
      "            \n",
      "            if res is None:\n",
      "                continue\n",
      "            \n",
      "            hashed_id, question, num, answers, start_time, end_time = res\n",
      "            \n",
      "            for i, t in enumerate(start_time):\n",
      "                assert(start_time[i] is None or end_time[i] is None or end_time[i] - t > 0)\n",
      "            "
     ],
     "language": "python",
     "metadata": {},
     "outputs": [],
     "prompt_number": 15
    },
    {
     "cell_type": "markdown",
     "metadata": {},
     "source": [
      "### Output formatted data\n",
      "\n",
      "We want data to look like this when outputted:\n",
      "\n",
      "Hashed worker ID | Question | Post Date | Screenshot| Number of Answers Requested | Answer number | Answer | Answer word count | Answer Start Time | Answer End Time | Coded Answer"
     ]
    },
    {
     "cell_type": "code",
     "collapsed": false,
     "input": [
      "output_file = '/processed_data/pilot7/answers.csv'\n",
      "\n",
      "half_file = '/processed_data/pilot7/answers_half.csv'"
     ],
     "language": "python",
     "metadata": {},
     "outputs": [],
     "prompt_number": 24
    },
    {
     "cell_type": "code",
     "collapsed": false,
     "input": [
      "import md5\n",
      "import random\n",
      "\n",
      "with open(output_file, 'w') as outfile:\n",
      "    with open(half_file, 'w') as halffile:\n",
      "        writer = csv.writer(outfile, delimiter=\"|\")\n",
      "        writer.writerow([\"hashed_worker_id\", \"question\", \"question_code\", \"post_date\", \"screenshot\", \"num_answers_requested\", \"answer_num\", \"answer\", \"answer_word_count\", \"answer_start_time\", \"answer_end_time\", \"answer_code\"])\n",
      "        w2 = csv.writer(halffile, delimiter=\"|\")\n",
      "        w2.writerow([\"hashed_worker_id\", \"question\", \"question_code\", \"post_date\", \"screenshot\", \"num_answers_requested\", \"answer_num\", \"answer\", \"answer_word_count\", \"answer_start_time\", \"answer_end_time\", \"answer_code\"])\n",
      "        \n",
      "        def truncate_question(q):\n",
      "            if \"iPod\" in q:\n",
      "                return \"iPod\"\n",
      "            if \"Alzheimer\" in q:\n",
      "                return \"charity\"\n",
      "            if \"forgotten\" in q:\n",
      "                return \"forgot_name\"\n",
      "            if \"Turk\" in q:\n",
      "                return \"turk\"\n",
      "            return \"error\"\n",
      "        \n",
      "        for f in files:\n",
      "            with open(f, 'r') as csvfile:\n",
      "                reader = csv.reader(csvfile, delimiter=\",\")\n",
      "                rm = None\n",
      "                for i, row in enumerate(reader):\n",
      "                    if i == 0:\n",
      "                        continue\n",
      "                        \n",
      "                    res = worker_results_from_row(row)\n",
      "                    \n",
      "                    if res is None:\n",
      "                        continue\n",
      "                        \n",
      "                    hashed_id, question, num, answers, start_time, end_time = res\n",
      "                    question_code = truncate_question(question)\n",
      "                    \n",
      "                    post_date = \"2013-07-08\"\n",
      "                    screenshot = \"%s_%d.png\" % (question_code, num)\n",
      "                        \n",
      "                    for i, answer in enumerate(answers):\n",
      "                        answer_word_count = len(answer.split()) if not answer is None else 0\n",
      "                        writer.writerow([hashed_id, question, question_code, post_date, screenshot, num, i, answer, answer_word_count, start_time[i], end_time[i], \"\"])\n",
      "                        if random.random() > 0.5:\n",
      "                            w2.writerow([hashed_id, question, question_code, post_date, screenshot, num, i, answer, answer_word_count, start_time[i], end_time[i], \"\"])"
     ],
     "language": "python",
     "metadata": {},
     "outputs": [],
     "prompt_number": 25
    },
    {
     "cell_type": "markdown",
     "metadata": {},
     "source": [
      "### Test output"
     ]
    },
    {
     "cell_type": "code",
     "collapsed": false,
     "input": [
      "csv_top(output_file)"
     ],
     "language": "python",
     "metadata": {},
     "outputs": [
      {
       "output_type": "stream",
       "stream": "stdout",
       "text": [
        "['hashed_worker_id', 'question', 'question_code', 'post_date', 'screenshot', 'num_answers_requested', 'answer_num', 'answer', 'answer_word_count', 'answer_start_time', 'answer_end_time', 'answer_code']\n",
        "['2375a4d59e3ec64327c9d34b0d45279a2728f5bb6505b50a07971ee4', \"Please brainstorm 5 different public events that could be used to raise money for Alzheimer's research. Be as specific as possible in your descriptions.\", 'charity', '2013-07-08', 'charity_5.png', '5', '0', 'a run - a fun run or walk', '8', '1373247404739', '1373247417300', '']\n",
        "['2375a4d59e3ec64327c9d34b0d45279a2728f5bb6505b50a07971ee4', \"Please brainstorm 5 different public events that could be used to raise money for Alzheimer's research. Be as specific as possible in your descriptions.\", 'charity', '2013-07-08', 'charity_5.png', '5', '1', 'a giant memory challenge - a big memory game - a challenge of sorts', '14', '1373247417300', '1373247462603', '']\n"
       ]
      }
     ],
     "prompt_number": 19
    },
    {
     "cell_type": "markdown",
     "metadata": {},
     "source": [
      "## Coding\n",
      "\n",
      "The data is coded such that two items are assigned the same label if and only if they refer to the exact same phenomena despite being worded differently. Thus, *mayonaise* and *miracle whip* are different, but *ketchup* and *catsup* are the same."
     ]
    },
    {
     "cell_type": "code",
     "collapsed": false,
     "input": [],
     "language": "python",
     "metadata": {},
     "outputs": []
    }
   ],
   "metadata": {}
  }
 ]
}