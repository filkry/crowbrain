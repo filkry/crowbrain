{
 "metadata": {
  "name": "007_pilot7_process_data"
 },
 "nbformat": 3,
 "nbformat_minor": 0,
 "worksheets": [
  {
   "cells": [
    {
     "cell_type": "markdown",
     "metadata": {},
     "source": [
      "# HITs to CSV"
     ]
    },
    {
     "cell_type": "code",
     "collapsed": false,
     "input": [
      "import csv\n",
      "import glob\n",
      "import hashlib\n",
      "\n",
      "files = glob.glob(\"/raw_data/pilot7/*.csv\")\n",
      "print(files)\n"
     ],
     "language": "python",
     "metadata": {},
     "outputs": [
      {
       "output_type": "stream",
       "stream": "stdout",
       "text": [
        "['/raw_data/pilot7/HITResultsFor26OAUC26DG69CI4J5D6K8COKJKD5CA.csv', '/raw_data/pilot7/HITResultsFor21NUFJ51Y7QGNGME05SC0TMOWYQDAO.csv', '/raw_data/pilot7/HITResultsFor28K4SMEZZ2MKJ3UP4LG9638TDXWL41.csv', '/raw_data/pilot7/HITResultsFor25LW5XH0JPPUHJREO2CSX75K2N5FLJ.csv', '/raw_data/pilot7/HITResultsFor20CNU8LZ6R72FMYPIQZJBVE7DTRL56.csv']\n"
       ]
      }
     ],
     "prompt_number": 1
    },
    {
     "cell_type": "markdown",
     "metadata": {},
     "source": [
      "### Input Data\n",
      "\n",
      "Example of how our CSV files look:"
     ]
    },
    {
     "cell_type": "code",
     "collapsed": false,
     "input": [
      "def csv_top(file_name):\n",
      "    with open(file_name, 'r') as csvfile:\n",
      "        reader = csv.reader(csvfile, delimiter=\"\\t\")\n",
      "        for (i, row) in enumerate(reader):\n",
      "            print row\n",
      "            if i > 1:\n",
      "                break"
     ],
     "language": "python",
     "metadata": {},
     "outputs": [],
     "prompt_number": 16
    },
    {
     "cell_type": "code",
     "collapsed": false,
     "input": [
      "csv_top(files[0])\n",
      "    "
     ],
     "language": "python",
     "metadata": {},
     "outputs": [
      {
       "output_type": "stream",
       "stream": "stdout",
       "text": [
        "['HitId', 'HitTitle', 'Annotation', 'AssignmentId', 'WorkerId', 'Status', 'AcceptTime', 'SubmitTime', 'Question', 'Feedback', 'Start time', 'End time', 'Job ID', 'Answers', 'Consent']\n",
        "['26OAUC26DG69CI4J5D6K8COKJKD5CA', 'Brainstorm 20 ideas for a classic brainstorming             problem.', 'brainstorm', '2I6R9Y8TNKIOY9TLUS8SAOM0IB9V8C', 'AMSD0JV1W7V9F', 'Approved', 'Sun Jul 07 18:35:43 PDT 2013', 'Sun Jul 07 18:44:14 PDT 2013', 'Imagine you are in a social setting and you have forgotten the name of somebody you know. Brainstorm 20 ways you could learn their name without directly asking them. Be as specific as possible in your descriptions.', '', '1373247379972|1373247410842|1373247430552|1373247453696|1373247472990|1373247496038|1373247515506|1373247529171|1373247538298|1373247548325|1373247567202|1373247578952|1373247599824|1373247648541|1373247660974|1373247681044|1373247708991|1373247738253|1373247751770|1373247760919', '1373247410840|1373247430545|1373247453691|1373247472983|1373247496030|1373247515504|1373247529156|1373247538297|1373247548309|1373247843958|1373247578943|1373247599820|1373247648531|1373247660972|1373247681042|1373247821624|1373247801373|1373247788628|1373247766976|1373247787717', '258', 'what their mothers name is|if they have any siblings|where they work|what school they went to|names childhood friends|what street they grew up on|where they live |spouses name |if they have children|what is their email address|their fathers name|what town they live in|what year they graduated high school|if they attended college|if they had vacationed recently|are they on linkedin|are they on twitter|what are their hobbies|if they like sports|do  they have a facebook page', 'consentAccept']\n",
        "['26OAUC26DG69CI4J5D6K8COKJKD5CA', 'Brainstorm 20 ideas for a classic brainstorming             problem.', 'brainstorm', '2BG3W5XH0JPRRZ908RGL0P75DG1EK9', 'A2D8BKOVHPFT9M', 'Approved', 'Sun Jul 07 18:44:01 PDT 2013', 'Sun Jul 07 18:45:20 PDT 2013', \"Many people have old iPods or MP3 players that they no longer use. Please brainstorm 20 uses for old iPods/MP3 players. Assume that the devices' batteries no longer work, though they can be powered via external power sources. Also be aware that devices may *not* have displays. Be as specific as possible in your descriptions.\", '', '1373247848076|1373247861184|1373247865751|1373247868304|1373247901255|||||||||||||||', '1373247861183|1373247865751|1373247868304|1373247901255|1373247908074|||||||||||||||', '253', 'recycle|use as paperweight|use as doorstop|collect|wear as jewelry|||||||||||||||', 'consentAccept']\n"
       ]
      }
     ],
     "prompt_number": 17
    },
    {
     "cell_type": "markdown",
     "metadata": {},
     "source": [
      "### Check Data makes sense"
     ]
    },
    {
     "cell_type": "code",
     "collapsed": false,
     "input": [
      "def worker_results_from_row(row, rm):\n",
      "    hashed_id = hashlib.sha224(row[rm['WorkerId']]).hexdigest()\n",
      "    question = row[rm['Question']]\n",
      "    answers = [(None if t=='' else t) for t in row[rm['Answers']].split('|')]\n",
      "    num_answers = len(answers)\n",
      "    end_time = [(None if t == '' else int(t)) for t in row[rm['End time']].split('|')]\n",
      "    start_time = [(None if t == '' else int(t)) for t in row[rm['Start time']].split('|')]\n",
      "    \n",
      "    return hashed_id, question, num_answers, answers, start_time, end_time\n",
      "\n",
      "def row_mapping_from_row(row):\n",
      "    rm = {}\n",
      "    for i, field in enumerate(row):\n",
      "        rm[field] = i\n",
      "        \n",
      "    return rm"
     ],
     "language": "python",
     "metadata": {},
     "outputs": [],
     "prompt_number": 26
    },
    {
     "cell_type": "code",
     "collapsed": false,
     "input": [
      "for f in files:\n",
      "    with open(f, 'r') as csvfile:\n",
      "        reader = csv.reader(csvfile, delimiter=\"\\t\")\n",
      "        rm = None\n",
      "        for (i, row) in enumerate(reader):\n",
      "            if i == 0:\n",
      "                rm = row_mapping_from_row(row)\n",
      "                continue\n",
      "            \n",
      "            hashed_id, question, num, answers, start_time, end_time = worker_results_from_row(row, rm)\n",
      "            \n",
      "            for i, t in enumerate(start_time):\n",
      "                assert(start_time[i] is None or end_time[i] is None or end_time[i] - t > 0)\n",
      "            "
     ],
     "language": "python",
     "metadata": {},
     "outputs": [],
     "prompt_number": 27
    },
    {
     "cell_type": "markdown",
     "metadata": {},
     "source": [
      "### Output formatted data\n",
      "\n",
      "We want data to look like this when outputted:\n",
      "\n",
      "Hashed worker ID | Question | Post Date | Screenshot| Number of Answers Requested | Answer number | Answer | Answer word count | Answer Start Time | Answer End Time | Coded Answer"
     ]
    },
    {
     "cell_type": "code",
     "collapsed": false,
     "input": [
      "output_file = '/processed_data/pilot7/answers.csv'"
     ],
     "language": "python",
     "metadata": {},
     "outputs": [],
     "prompt_number": 28
    },
    {
     "cell_type": "code",
     "collapsed": false,
     "input": [
      "import md5\n",
      "\n",
      "with open(output_file, 'w') as outfile:\n",
      "    writer = csv.writer(outfile, delimiter=\",\")\n",
      "    writer.writerow([\"hashed_worker_id\", \"question\", \"question_code\", \"post_date\", \"screenshot\", \"num_answers_requested\", \"answer_num\", \"answer\", \"answer_word_count\", \"answer_start_time\", \"answer_end_time\", \"answer_code\"])\n",
      "    \n",
      "    def truncate_question(q):\n",
      "        if \"thumb\" in q:\n",
      "            return \"thumb\"\n",
      "        if \"mop\" in q:\n",
      "            return \"mop\"\n",
      "        if \"weight\" in q:\n",
      "            return \"weight\"\n",
      "        return \"error\"\n",
      "    \n",
      "    for f in files:\n",
      "        with open(f, 'r') as csvfile:\n",
      "            reader = csv.reader(csvfile, delimiter=\"\\t\")\n",
      "            rm = None\n",
      "            for i, row in enumerate(reader):\n",
      "                if i == 0:\n",
      "                    rm = row_mapping_from_row(row)\n",
      "                    continue\n",
      "                    \n",
      "                hashed_id, question, num, answers, start_time, end_time = worker_results_from_row(row, rm)\n",
      "                question_code = truncate_question(question)\n",
      "                \n",
      "                post_date = \"2013-07-08\"\n",
      "                screenshot = \"%s_%d.png\" % (question_code, num)\n",
      "                    \n",
      "                for i, answer in enumerate(answers):\n",
      "                    answer_word_count = len(answer.split()) if not answer is None else 0\n",
      "                    writer.writerow([hashed_id, question, question_code, post_date, screenshot, num, i, answer, answer_word_count, start_time[i], end_time[i], \"\"])"
     ],
     "language": "python",
     "metadata": {},
     "outputs": [
      {
       "ename": "KeyError",
       "evalue": "'WorkerId'",
       "output_type": "pyerr",
       "traceback": [
        "\u001b[1;31m---------------------------------------------------------------------------\u001b[0m\n\u001b[1;31mKeyError\u001b[0m                                  Traceback (most recent call last)",
        "\u001b[1;32m<ipython-input-30-de321c9e9a66>\u001b[0m in \u001b[0;36m<module>\u001b[1;34m()\u001b[0m\n\u001b[0;32m     23\u001b[0m                     \u001b[1;32mcontinue\u001b[0m\u001b[1;33m\u001b[0m\u001b[0m\n\u001b[0;32m     24\u001b[0m \u001b[1;33m\u001b[0m\u001b[0m\n\u001b[1;32m---> 25\u001b[1;33m                 \u001b[0mhashed_id\u001b[0m\u001b[1;33m,\u001b[0m \u001b[0mquestion\u001b[0m\u001b[1;33m,\u001b[0m \u001b[0mnum\u001b[0m\u001b[1;33m,\u001b[0m \u001b[0manswers\u001b[0m\u001b[1;33m,\u001b[0m \u001b[0mstart_time\u001b[0m\u001b[1;33m,\u001b[0m \u001b[0mend_time\u001b[0m \u001b[1;33m=\u001b[0m \u001b[0mworker_results_from_row\u001b[0m\u001b[1;33m(\u001b[0m\u001b[0mrow\u001b[0m\u001b[1;33m,\u001b[0m \u001b[0mrm\u001b[0m\u001b[1;33m)\u001b[0m\u001b[1;33m\u001b[0m\u001b[0m\n\u001b[0m\u001b[0;32m     26\u001b[0m                 \u001b[0mquestion_code\u001b[0m \u001b[1;33m=\u001b[0m \u001b[0mtruncate_question\u001b[0m\u001b[1;33m(\u001b[0m\u001b[0mquestion\u001b[0m\u001b[1;33m)\u001b[0m\u001b[1;33m\u001b[0m\u001b[0m\n\u001b[0;32m     27\u001b[0m \u001b[1;33m\u001b[0m\u001b[0m\n",
        "\u001b[1;32m<ipython-input-26-efe8b4e5ebe8>\u001b[0m in \u001b[0;36mworker_results_from_row\u001b[1;34m(row, rm)\u001b[0m\n\u001b[0;32m      1\u001b[0m \u001b[1;32mdef\u001b[0m \u001b[0mworker_results_from_row\u001b[0m\u001b[1;33m(\u001b[0m\u001b[0mrow\u001b[0m\u001b[1;33m,\u001b[0m \u001b[0mrm\u001b[0m\u001b[1;33m)\u001b[0m\u001b[1;33m:\u001b[0m\u001b[1;33m\u001b[0m\u001b[0m\n\u001b[1;32m----> 2\u001b[1;33m     \u001b[0mhashed_id\u001b[0m \u001b[1;33m=\u001b[0m \u001b[0mhashlib\u001b[0m\u001b[1;33m.\u001b[0m\u001b[0msha224\u001b[0m\u001b[1;33m(\u001b[0m\u001b[0mrow\u001b[0m\u001b[1;33m[\u001b[0m\u001b[0mrm\u001b[0m\u001b[1;33m[\u001b[0m\u001b[1;34m'WorkerId'\u001b[0m\u001b[1;33m]\u001b[0m\u001b[1;33m]\u001b[0m\u001b[1;33m)\u001b[0m\u001b[1;33m.\u001b[0m\u001b[0mhexdigest\u001b[0m\u001b[1;33m(\u001b[0m\u001b[1;33m)\u001b[0m\u001b[1;33m\u001b[0m\u001b[0m\n\u001b[0m\u001b[0;32m      3\u001b[0m     \u001b[0mquestion\u001b[0m \u001b[1;33m=\u001b[0m \u001b[0mrow\u001b[0m\u001b[1;33m[\u001b[0m\u001b[0mrm\u001b[0m\u001b[1;33m[\u001b[0m\u001b[1;34m'Question'\u001b[0m\u001b[1;33m]\u001b[0m\u001b[1;33m]\u001b[0m\u001b[1;33m\u001b[0m\u001b[0m\n\u001b[0;32m      4\u001b[0m     \u001b[0manswers\u001b[0m \u001b[1;33m=\u001b[0m \u001b[1;33m[\u001b[0m\u001b[1;33m(\u001b[0m\u001b[0mNone\u001b[0m \u001b[1;32mif\u001b[0m \u001b[0mt\u001b[0m\u001b[1;33m==\u001b[0m\u001b[1;34m''\u001b[0m \u001b[1;32melse\u001b[0m \u001b[0mt\u001b[0m\u001b[1;33m)\u001b[0m \u001b[1;32mfor\u001b[0m \u001b[0mt\u001b[0m \u001b[1;32min\u001b[0m \u001b[0mrow\u001b[0m\u001b[1;33m[\u001b[0m\u001b[0mrm\u001b[0m\u001b[1;33m[\u001b[0m\u001b[1;34m'Answers'\u001b[0m\u001b[1;33m]\u001b[0m\u001b[1;33m]\u001b[0m\u001b[1;33m.\u001b[0m\u001b[0msplit\u001b[0m\u001b[1;33m(\u001b[0m\u001b[1;34m'|'\u001b[0m\u001b[1;33m)\u001b[0m\u001b[1;33m]\u001b[0m\u001b[1;33m\u001b[0m\u001b[0m\n\u001b[0;32m      5\u001b[0m     \u001b[0mnum_answers\u001b[0m \u001b[1;33m=\u001b[0m \u001b[0mlen\u001b[0m\u001b[1;33m(\u001b[0m\u001b[0manswers\u001b[0m\u001b[1;33m)\u001b[0m\u001b[1;33m\u001b[0m\u001b[0m\n",
        "\u001b[1;31mKeyError\u001b[0m: 'WorkerId'"
       ]
      }
     ],
     "prompt_number": 30
    },
    {
     "cell_type": "markdown",
     "metadata": {},
     "source": [
      "### Test output"
     ]
    },
    {
     "cell_type": "code",
     "collapsed": false,
     "input": [
      "csv_top(output_file)"
     ],
     "language": "python",
     "metadata": {},
     "outputs": [
      {
       "output_type": "stream",
       "stream": "stdout",
       "text": [
        "['hashed_worker_id', 'question', 'question_code', 'post_date', 'screenshot', 'num_answers_requested', 'answer_num', 'answer', 'answer_word_count', 'answer_start_time', 'answer_end_time', 'answer_code']\n",
        "['ad77998dec8f66f653184185e0953c8e5273de39c99170d30abddb49', 'Imagine you woke up with an extra opposable thumb on each hand. List benefits and drawbacks.', 'thumb', '2013-06-06', 'thumb_50.png', '50', '0', 'Unique', '1', '1370563275414', '1370563288800', '']\n",
        "['ad77998dec8f66f653184185e0953c8e5273de39c99170d30abddb49', 'Imagine you woke up with an extra opposable thumb on each hand. List benefits and drawbacks.', 'thumb', '2013-06-06', 'thumb_50.png', '50', '1', 'Different from everyone else', '4', '1370563288800', '1370563296007', '']\n"
       ]
      }
     ],
     "prompt_number": 13
    },
    {
     "cell_type": "markdown",
     "metadata": {},
     "source": [
      "## Coding\n",
      "\n",
      "The data is coded such that two items are assigned the same label if and only if they refer to the exact same phenomena despite being worded differently. Thus, *mayonaise* and *miracle whip* are different, but *ketchup* and *catsup* are the same."
     ]
    },
    {
     "cell_type": "code",
     "collapsed": false,
     "input": [],
     "language": "python",
     "metadata": {},
     "outputs": []
    }
   ],
   "metadata": {}
  }
 ]
}