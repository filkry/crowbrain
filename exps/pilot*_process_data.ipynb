{
 "metadata": {
  "name": ""
 },
 "nbformat": 3,
 "nbformat_minor": 0,
 "worksheets": [
  {
   "cells": [
    {
     "cell_type": "markdown",
     "metadata": {},
     "source": [
      "# HITs to CSV"
     ]
    },
    {
     "cell_type": "code",
     "collapsed": false,
     "input": [
      "import csv\n",
      "import glob\n",
      "import hashlib\n",
      "import dateutil as du\n",
      "\n",
      "folders = [\"pilot11\", \"pilot12\", \"pilot13\", \"pilot14\"]\n",
      "\n",
      "files = [glob.glob(\"/raw_data/%s/*.csv\" % f) for f in folders]\n",
      "print(files)\n"
     ],
     "language": "python",
     "metadata": {},
     "outputs": [
      {
       "output_type": "stream",
       "stream": "stdout",
       "text": [
        "[['/raw_data/pilot11/HITResultsFor25L3FDEY5COYZ2N79GZCZFLCNR8T2S.csv'], ['/raw_data/pilot12/HITResultsFor2JVIPDOBDDPAO0304Q485MB389QC1S.csv', '/raw_data/pilot12/HITResultsFor20WNLVWJ5OPDZF2W9LPM4B7E7FBU21.csv', '/raw_data/pilot12/HITResultsFor24NF3Q0JG5T0L4JC8OV9N9SSANEEIF.csv', '/raw_data/pilot12/HITResultsFor27WOZFYQS1CUS3VV744SCIC1W4UJML.csv', '/raw_data/pilot12/HITResultsFor2YWCWA6X3YOEBW7SZIBXXTIN0OEON9.csv'], ['/raw_data/pilot13/HITResultsFor2A3B3L0FBJ9KNSQUT45VM5RP9C7YM6.csv'], ['/raw_data/pilot14/HITResultsFor2IG7QEOZFYQU0TZ9W16XZDS42NTJG0.csv', '/raw_data/pilot14/HITResultsFor2YDKCJ011K2930EPU3N698N4Q5P9BE.csv']]\n"
       ]
      }
     ],
     "prompt_number": 1
    },
    {
     "cell_type": "markdown",
     "metadata": {},
     "source": [
      "### Input Data\n",
      "\n",
      "Example of how our CSV files look:"
     ]
    },
    {
     "cell_type": "code",
     "collapsed": false,
     "input": [
      "def csv_top(file_name):\n",
      "    with open(file_name, 'r') as csvfile:\n",
      "        reader = csv.reader(csvfile, delimiter=\",\")\n",
      "        for (i, row) in enumerate(reader):\n",
      "            print row\n",
      "            if i > 1:\n",
      "                break"
     ],
     "language": "python",
     "metadata": {},
     "outputs": [],
     "prompt_number": 3
    },
    {
     "cell_type": "code",
     "collapsed": false,
     "input": [
      "csv_top(files[0][0])\n",
      "    "
     ],
     "language": "python",
     "metadata": {},
     "outputs": [
      {
       "output_type": "stream",
       "stream": "stdout",
       "text": [
        "['HitId', 'HitTitle', 'Annotation', 'AssignmentId', 'WorkerId', 'Status', 'AcceptTime', 'SubmitTime', 'Answer 1', 'Answer 2', 'Answer 3', 'Answer 4', 'Answer 5', 'Answer 6', 'Answer 7', 'Answer 8']\n",
        "['25L3FDEY5COYZ2N79GZCZFLCNR8T2S', 'Brainstorm 20 ideas for a classic brainstorming             problem.', 'brainstorm', '2V7Q0ONNVRH3JYVPOTIBF6NV34MVM1', 'A2FXVZN4PBYO2E', 'Approved', 'Mon Jul 15 13:57:26 PDT 2013', 'Mon Jul 15 14:01:41 PDT 2013', '1373921887582|1373921893853|1373921907942|1373921914350|1373921921269|1373921951726|1373921954910|1373921963605|1373921973878|1373921979653|1373921994998|1373921999310|1373922005126|1373922014414|1373922023038|1373922051671|1373922066261|1373922073590|1373922081997|1373922096392', '', '70', '', 'removed completed HITs|remove dead HITs|allow transfer of money to bank account|allow transfer of money to app store|invite friends feature|link to facebook|like to twitter|post HITs you want done|request certification|see certifications|alert when new HITs available|alert when payment made|alert when HIT declined|put money towards cell bill|see old HITs|filter HITs|pause hits|decline all hits by poster|sign up for mturk|auto accept hits.', '1373921877932|1373921887583|1373921893854|1373921907942|1373921914351|1373921921270|1373921951726|1373921954910|1373921963606|1373921973878|1373921979654|1373921994999|1373921999312|1373922005126|1373922014415|1373922023038|1373922051671|1373922066262|1373922073591|1373922081998', 'consentAccept', \"<p>Mechanical Turk currently lacks a dedicated mobile app for performing HITs on smartphones (iPhone, Androids, etc.) or tablets (e.g., the iPad).</p>\\r\\n      <p>Brainstorm 20 features for a mobile app to Mechanical Turk that would improve the worker's experience when performing HITs on mobile devices. Be as specific as possible in your responses.</p>\", '']\n",
        "['25L3FDEY5COYZ2N79GZCZFLCNR8T2S', 'Brainstorm 20 ideas for a classic brainstorming             problem.', 'brainstorm', '2DLVOK5UFJ53XOXUYC6YYS1CMCP96Q', 'A340XVPOIAW5SB', 'Approved', 'Mon Jul 15 13:58:20 PDT 2013', 'Mon Jul 15 14:02:44 PDT 2013', '1373921917779|1373921925987|1373921954062|1373921956123|1373921961688|1373921973768|1373921995983|1373922000352|1373922012649|1373922020807|1373922029382|1373922041630|1373922054623|1373922067075|1373922072725|1373922084656|1373922089585|1373922116693|1373922122038|1373922141750', '', '76', '', 'ask someone they know|introduce them to a friend|make everyone wear name tags|ask for their email|ask them to friend you on fb|ask them to find you on linkedin|ask them to |ask everyone they talk to what their name is|ask if they have a nickname|ask them how their parents chose their name|ask if they ever got teased about their name|ask what their middle name is|stand by them as they introduce theirselves to others|talk about facts about their own name|ask if they like their name|talk about a song that includes your name|talk about a celebrity with your name|look to see if there\\'s a sign up sheet|look to see if you ever received an email from this person|say \"i love your name\"', '1373921914641|1373921917782|1373921925989|1373921954065|1373921956126|1373921961690|1373921973771|1373921995986|1373922000357|1373922012652|1373922020810|1373922029385|1373922041633|1373922054627|1373922067078|1373922073813|1373922084659|1373922089588|1373922116696|1373922122042', 'consentAccept', '<p>Imagine you are in a social setting and you have forgotten the name of somebody you know. Brainstorm 20 ways you could learn their name without directly asking them. Be as specific as possible in your descriptions.</p>', '']\n"
       ]
      }
     ],
     "prompt_number": 4
    },
    {
     "cell_type": "markdown",
     "metadata": {},
     "source": [
      "### Check Data makes sense"
     ]
    },
    {
     "cell_type": "code",
     "collapsed": false,
     "input": [
      "import string\n",
      "\n",
      "def all_caps_numbers(st):\n",
      "    for c in st:\n",
      "        if not (c.isdigit() or c in string.uppercase):\n",
      "            return False\n",
      "    return True\n",
      "\n",
      "def is_question(st):\n",
      "    return 'EFF' in st or 'smartphones' in st or 'social' in st or 'iPod' in st\n",
      "\n",
      "def is_datetime(st):\n",
      "    try:\n",
      "        t = du.parser.parse(st)\n",
      "        return True\n",
      "    except:\n",
      "        return False\n",
      "\n",
      "def worker_results_from_row(row):\n",
      "    hit_title = None\n",
      "    hashed_id = None\n",
      "    question = None\n",
      "    submit_time = None\n",
      "    answers = None # check\n",
      "    num_answers = None # check\n",
      "    end_time = None # check\n",
      "    start_time = None # check\n",
      "    \n",
      "    temp_answers = None\n",
      "    temp_times = None\n",
      "    temp_times2 = None\n",
      "    \n",
      "    for i, field in enumerate(row):\n",
      "        if i == 1:\n",
      "            hit_title = field\n",
      "        elif i == 7:\n",
      "            t = du.parser.parse(field)\n",
      "            submit_time = t\n",
      "        elif '|' in field:\n",
      "            sp = field.split('|')\n",
      "            num_answers = len(sp)\n",
      "            \n",
      "            bad_digit_test = float(sum(i.isdigit() for i in sp)) / len(sp)\n",
      "            \n",
      "            #sp = [x for x in sp if len(x) > 0]\n",
      "            if len(sp) == 0:\n",
      "                # user didn't respond to anything, skip them\n",
      "                return None\n",
      "            elif bad_digit_test >= 0.10:\n",
      "                if temp_times is None:\n",
      "                    temp_times = sp\n",
      "                else:\n",
      "                    temp_times2 = sp \n",
      "            else: #in this case, these are their answers\n",
      "                temp_answers = sp\n",
      "        elif i == 4 and all_caps_numbers(field):\n",
      "            hashed_id = hashlib.sha224(field).hexdigest()\n",
      "        elif is_question(field):\n",
      "            question = field\n",
      "            \n",
      "            \n",
      "    if 'as many ideas as you can' in hit_title:\n",
      "        num_answers = 0\n",
      "    \n",
      "    answers = []\n",
      "    start_time = []\n",
      "    end_time = []\n",
      "    for i, a in enumerate(temp_answers):\n",
      "        if len(a) == 0:\n",
      "            continue;\n",
      "        t1 = int(temp_times[i]) if temp_times[i].isdigit() else -1\n",
      "        t2 = int(temp_times2[i]) if temp_times2[i].isdigit() else -1\n",
      "        \n",
      "        answers.append(a)\n",
      "        start_time.append(min(t1, t2))\n",
      "        end_time.append(max(t1, t2))\n",
      "    \n",
      "    return hashed_id, question, num_answers, answers, start_time, end_time, submit_time"
     ],
     "language": "python",
     "metadata": {},
     "outputs": [],
     "prompt_number": 6
    },
    {
     "cell_type": "code",
     "collapsed": false,
     "input": [
      "for folder in files:\n",
      "    for f in folder:\n",
      "        with open(f, 'r') as csvfile:\n",
      "            reader = csv.reader(csvfile, delimiter=\",\")\n",
      "            rm = None\n",
      "            for (i, row) in enumerate(reader):\n",
      "                if i == 0:\n",
      "                    continue\n",
      "                \n",
      "                res = worker_results_from_row(row)\n",
      "                \n",
      "                if res is None:\n",
      "                    continue\n",
      "                \n",
      "                hashed_id, question, num, answers, start_time, end_time, submit_time = res\n",
      "                \n",
      "                assert(len(start_time) >= len(answers))\n",
      "                assert(len(start_time) == len(end_time))\n",
      "                \n",
      "                for i, t in enumerate(start_time):\n",
      "                    assert(start_time[i] is None or end_time[i] is None or end_time[i] - t >= 0)\n",
      "            "
     ],
     "language": "python",
     "metadata": {},
     "outputs": [],
     "prompt_number": 7
    },
    {
     "cell_type": "markdown",
     "metadata": {},
     "source": [
      "### Output formatted data\n",
      "\n",
      "We want data to look like this when outputted:\n",
      "\n",
      "Hashed worker ID | Question | Post Date | Screenshot| Number of Answers Requested | Answer number | Answer | Answer word count | Answer Start Time | Answer End Time | Coded Answer"
     ]
    },
    {
     "cell_type": "code",
     "collapsed": false,
     "input": [
      "output_files =  ['/processed_data/%s/answers.csv' %f for f in folders]\n",
      "print output_files"
     ],
     "language": "python",
     "metadata": {},
     "outputs": [
      {
       "output_type": "stream",
       "stream": "stdout",
       "text": [
        "['/processed_data/pilot11/answers.csv', '/processed_data/pilot12/answers.csv', '/processed_data/pilot13/answers.csv', '/processed_data/pilot14/answers.csv']\n"
       ]
      }
     ],
     "prompt_number": 9
    },
    {
     "cell_type": "code",
     "collapsed": false,
     "input": [
      "import md5\n",
      "import random\n",
      "\n",
      "for i, folder in enumerate(folders):\n",
      "    with open(output_files[i], 'w') as outfile:\n",
      "        writer = csv.writer(outfile, delimiter=\"|\")\n",
      "        writer.writerow([\"hashed_worker_id\", \"question\", \"question_code\", \"post_date\", \"screenshot\", \"num_answers_requested\", \"answer_num\", \"answer\", \"answer_word_count\", \"answer_start_time\", \"answer_end_time\", \"answer_code\", \"submit_datetime\"])\n",
      "        \n",
      "        def truncate_question(q):\n",
      "            if \"EFF\" in q:\n",
      "                return \"charity\"\n",
      "            if \"smartphones\" in q:\n",
      "                return \"turk\"\n",
      "            if \"iPod\" in q:\n",
      "                return \"iPod\"\n",
      "            if \"social\" in q:\n",
      "                return \"forgot_name\"\n",
      "            return \"error\"\n",
      "        \n",
      "        for f in files[i]:\n",
      "            with open(f, 'r') as csvfile:\n",
      "                reader = csv.reader(csvfile, delimiter=\",\")\n",
      "                rm = None\n",
      "                for i, row in enumerate(reader):\n",
      "                    if i == 0:\n",
      "                        continue\n",
      "                                                \n",
      "                    res = worker_results_from_row(row)\n",
      "                    \n",
      "                    if res is None:\n",
      "                        continue\n",
      "                        \n",
      "                    hashed_id, question, num, answers, start_time, end_time, submit_time = res\n",
      "                    question_code = 'error' if question is None else truncate_question(question)\n",
      "                    \n",
      "                    assert(len(start_time) == len(end_time))\n",
      "                    \n",
      "                    post_date = \"2013-08-14\"\n",
      "                    screenshot = \"%s_%d.png\" % (question_code, num)\n",
      "                        \n",
      "                    for i, answer in enumerate(answers):\n",
      "                        answer_word_count = len(answer.split()) if not answer is None else 0\n",
      "                        writer.writerow([hashed_id, question, question_code, post_date, screenshot, num, i, answer, answer_word_count, start_time[i], end_time[i], \"\", submit_time])   \n",
      "                            "
     ],
     "language": "python",
     "metadata": {},
     "outputs": [],
     "prompt_number": 10
    },
    {
     "cell_type": "markdown",
     "metadata": {},
     "source": [
      "### Test output"
     ]
    },
    {
     "cell_type": "code",
     "collapsed": false,
     "input": [
      "csv_top(output_files[0])"
     ],
     "language": "python",
     "metadata": {},
     "outputs": [
      {
       "output_type": "stream",
       "stream": "stdout",
       "text": [
        "['hashed_worker_id|question|question_code|post_date|screenshot|num_answers_requested|answer_num|answer|answer_word_count|answer_start_time|answer_end_time|answer_code|submit_datetime']\n",
        "['8e50e8389e2bcacc49adfd66bee14d26c00964bdb0cf5a7ad341c4d1|\"<p>Mechanical Turk currently lacks a dedicated mobile app for performing HITs on smartphones (iPhone', ' Androids', ' etc.) or tablets (e.g.', ' the iPad).</p>']\n",
        "['      <p>Brainstorm 20 features for a mobile app to Mechanical Turk that would improve the worker\\'s experience when performing HITs on mobile devices. Be as specific as possible in your responses.</p>\"|turk|2013-08-14|turk_20.png|20|0|removed completed HITs|3|1373921877932|1373921887582||2013-07-15 14:01:41']\n"
       ]
      }
     ],
     "prompt_number": 13
    },
    {
     "cell_type": "markdown",
     "metadata": {},
     "source": [
      "## Coding\n",
      "\n",
      "The data is coded such that two items are assigned the same label if and only if they refer to the exact same phenomena despite being worded differently. Thus, *mayonaise* and *miracle whip* are different, but *ketchup* and *catsup* are the same."
     ]
    },
    {
     "cell_type": "code",
     "collapsed": false,
     "input": [],
     "language": "python",
     "metadata": {},
     "outputs": [],
     "prompt_number": 28
    }
   ],
   "metadata": {}
  }
 ]
}