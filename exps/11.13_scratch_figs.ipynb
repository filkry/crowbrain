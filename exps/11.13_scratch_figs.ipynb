{
 "metadata": {
  "name": ""
 },
 "nbformat": 3,
 "nbformat_minor": 0,
 "worksheets": [
  {
   "cells": [
    {
     "cell_type": "code",
     "collapsed": false,
     "input": [
      "## All of this is GPL (https://www.gnu.org/licenses/gpl.html)"
     ],
     "language": "python",
     "metadata": {},
     "outputs": [],
     "prompt_number": 3
    },
    {
     "cell_type": "code",
     "collapsed": false,
     "input": [
      "import pandas as pd\n",
      "import scipy as sp\n",
      "import numpy as np\n",
      "import csv, os\n",
      "import re\n",
      "import scipy.stats as stats\n",
      "import networkx as nx\n",
      "#import cPickle as pickle\n",
      "import itertools\n",
      "from imp import reload\n",
      "import random\n",
      "import math\n",
      "\n",
      "from collections import defaultdict, OrderedDict"
     ],
     "language": "python",
     "metadata": {},
     "outputs": [],
     "prompt_number": 4
    },
    {
     "cell_type": "markdown",
     "metadata": {},
     "source": [
      "# Introduction\n",
      "\n",
      "The plan is to read in a bunch of fields from our various data sources and then do some stats on them.\n",
      "\n",
      "Note that the first four fields together provide a unique way of identifying the answer (this could be better).\n",
      "\n",
      "## Transform data\n",
      "\n",
      "For analysis, we may want to throw out some of it or manipulate things in some way. The following code block does this.\n"
     ]
    },
    {
     "cell_type": "code",
     "collapsed": false,
     "input": [
      "pystan_test_mode = False # When this variable is on, we do single chains and few iterations, to go fast\n",
      "pystan_fit_cache = dict()"
     ],
     "language": "python",
     "metadata": {},
     "outputs": [],
     "prompt_number": 5
    },
    {
     "cell_type": "code",
     "collapsed": false,
     "input": [
      "def all_pairings(s):\n",
      "    return ((s1, s2) for i, s1 in enumerate(s[:-1])\n",
      "                     for s2 in s[i+1:])"
     ],
     "language": "python",
     "metadata": {},
     "outputs": [],
     "prompt_number": 6
    },
    {
     "cell_type": "code",
     "collapsed": false,
     "input": [
      "def filter_match_data_size(df):\n",
      "    nr_conds = set(df['num_requested'])\n",
      "    \n",
      "    keep_indices = []\n",
      "    \n",
      "    for nr in nr_conds:\n",
      "        sub_df = df[df['num_requested'] == nr]\n",
      "        \n",
      "        questions = sub_df.groupby('question_code')\n",
      "        least_runs = min(len(qdf.groupby(['worker_id', 'accept_datetime', 'submit_datetime']))\n",
      "                            for name, qdf in questions)\n",
      "        \n",
      "        for qc in set(sub_df['question_code']):\n",
      "            ssub_df = sub_df[sub_df['question_code'] == qc]\n",
      "            runs = list(ssub_df.groupby(['worker_id', 'accept_datetime', 'submit_datetime']))\n",
      "            runs = random.sample(runs, least_runs)\n",
      "            \n",
      "            for ix, (name, run) in enumerate(runs):\n",
      "                keep_indices.extend(run.index)\n",
      "                \n",
      "    new_df = df.select(lambda x: x in keep_indices)\n",
      "    \n",
      "    return new_df\n",
      "\n",
      "def filter_repeats(df):\n",
      "    new_df = df[df['is_repeat_worker'] == 0]\n",
      "    return new_df\n",
      "\n",
      "# A stupid function to just combine some filters. Oh, for haskell operators...\n",
      "def filter_today(df):\n",
      "    df = df[df['question_code'] == 'iPod']\n",
      "    #df = df[df['question_code'] == 'turk']\n",
      "    df = filter_repeats(df)\n",
      "    #df = filter_match_data_size(df)\n",
      "    return df\n",
      "    "
     ],
     "language": "python",
     "metadata": {},
     "outputs": [],
     "prompt_number": 7
    },
    {
     "cell_type": "code",
     "collapsed": false,
     "input": [
      "# Import data\n",
      "\n",
      "import format_data\n",
      "reload(format_data)\n",
      "\n",
      "processed_data_folder = '/home/fil/enc_projects/crowbrain/processed_data'\n",
      "idf, cfs = format_data.do_format_data(processed_data_folder, filter_today)\n",
      "df, rmdf, clusters_df, cluster_forests = format_data.mk_redundant(idf, cfs)\n",
      "\n",
      "print(len(idf), len(rmdf))"
     ],
     "language": "python",
     "metadata": {},
     "outputs": [
      {
       "output_type": "stream",
       "stream": "stdout",
       "text": [
        "mk_redundant_cluster_df_helper: 1/1333 for 3017 instances\r",
        "mk_redundant_cluster_df_helper: 2/1333 for 3017 instances\r",
        "mk_redundant_cluster_df_helper: 3/1333 for 3017 instances\r",
        "mk_redundant_cluster_df_helper: 4/1333 for 3017 instances\r",
        "mk_redundant_cluster_df_helper: 5/1333 for 3017 instances\r",
        "mk_redundant_cluster_df_helper: 6/1333 for 3017 instances\r",
        "mk_redundant_cluster_df_helper: 7/1333 for 3017 instances\r",
        "mk_redundant_cluster_df_helper: 8/1333 for 3017 instances\r",
        "mk_redundant_cluster_df_helper: 9/1333 for 3017 instances\r",
        "mk_redundant_cluster_df_helper: 10/1333 for 3017 instances\r",
        "mk_redundant_cluster_df_helper: 11/1333 for 3017 instances\r",
        "mk_redundant_cluster_df_helper: 12/1333 for 3017 instances"
       ]
      },
      {
       "output_type": "stream",
       "stream": "stdout",
       "text": [
        "\r",
        "mk_redundant_cluster_df_helper: 13/1333 for 3017 instances\r",
        "mk_redundant_cluster_df_helper: 14/1333 for 3017 instances\r",
        "mk_redundant_cluster_df_helper: 15/1333 for 3017 instances\r",
        "mk_redundant_cluster_df_helper: 16/1333 for 3017 instances\r",
        "mk_redundant_cluster_df_helper: 17/1333 for 3017 instances\r",
        "mk_redundant_cluster_df_helper: 18/1333 for 3017 instances\r",
        "mk_redundant_cluster_df_helper: 19/1333 for 3017 instances\r",
        "mk_redundant_cluster_df_helper: 20/1333 for 3017 instances\r",
        "mk_redundant_cluster_df_helper: 21/1333 for 3017 instances\r",
        "mk_redundant_cluster_df_helper: 22/1333 for 3017 instances\r",
        "mk_redundant_cluster_df_helper: 23/1333 for 3017 instances\r",
        "mk_redundant_cluster_df_helper: 24/1333 for 3017 instances\r",
        "mk_redundant_cluster_df_helper: 25/1333 for 3017 instances\r",
        "mk_redundant_cluster_df_helper: 26/1333 for 3017 instances\r",
        "mk_redundant_cluster_df_helper: 27/1333 for 3017 instances\r",
        "mk_redundant_cluster_df_helper: 28/1333 for 3017 instances\r",
        "mk_redundant_cluster_df_helper: 29/1333 for 3017 instances\r",
        "mk_redundant_cluster_df_helper: 30/1333 for 3017 instances\r",
        "mk_redundant_cluster_df_helper: 31/1333 for 3017 instances\r",
        "mk_redundant_cluster_df_helper: 32/1333 for 3017 instances\r",
        "mk_redundant_cluster_df_helper: 33/1333 for 3017 instances"
       ]
      },
      {
       "output_type": "stream",
       "stream": "stdout",
       "text": [
        "\r",
        "mk_redundant_cluster_df_helper: 34/1333 for 3017 instances\r",
        "mk_redundant_cluster_df_helper: 35/1333 for 3017 instances\r",
        "mk_redundant_cluster_df_helper: 36/1333 for 3017 instances\r",
        "mk_redundant_cluster_df_helper: 37/1333 for 3017 instances\r",
        "mk_redundant_cluster_df_helper: 38/1333 for 3017 instances\r",
        "mk_redundant_cluster_df_helper: 39/1333 for 3017 instances\r",
        "mk_redundant_cluster_df_helper: 40/1333 for 3017 instances\r",
        "mk_redundant_cluster_df_helper: 41/1333 for 3017 instances\r",
        "mk_redundant_cluster_df_helper: 42/1333 for 3017 instances\r",
        "mk_redundant_cluster_df_helper: 43/1333 for 3017 instances\r",
        "mk_redundant_cluster_df_helper: 44/1333 for 3017 instances\r",
        "mk_redundant_cluster_df_helper: 45/1333 for 3017 instances\r",
        "mk_redundant_cluster_df_helper: 46/1333 for 3017 instances"
       ]
      },
      {
       "output_type": "stream",
       "stream": "stdout",
       "text": [
        "\r",
        "mk_redundant_cluster_df_helper: 47/1333 for 3017 instances\r",
        "mk_redundant_cluster_df_helper: 48/1333 for 3017 instances\r",
        "mk_redundant_cluster_df_helper: 49/1333 for 3017 instances\r",
        "mk_redundant_cluster_df_helper: 50/1333 for 3017 instances\r",
        "mk_redundant_cluster_df_helper: 51/1333 for 3017 instances\r",
        "mk_redundant_cluster_df_helper: 52/1333 for 3017 instances\r",
        "mk_redundant_cluster_df_helper: 53/1333 for 3017 instances"
       ]
      },
      {
       "output_type": "stream",
       "stream": "stdout",
       "text": [
        "\r",
        "mk_redundant_cluster_df_helper: 54/1333 for 3017 instances\r",
        "mk_redundant_cluster_df_helper: 55/1333 for 3017 instances\r",
        "mk_redundant_cluster_df_helper: 56/1333 for 3017 instances\r",
        "mk_redundant_cluster_df_helper: 57/1333 for 3017 instances\r",
        "mk_redundant_cluster_df_helper: 58/1333 for 3017 instances\r",
        "mk_redundant_cluster_df_helper: 59/1333 for 3017 instances\r",
        "mk_redundant_cluster_df_helper: 60/1333 for 3017 instances"
       ]
      },
      {
       "output_type": "stream",
       "stream": "stdout",
       "text": [
        "\r",
        "mk_redundant_cluster_df_helper: 61/1333 for 3017 instances\r",
        "mk_redundant_cluster_df_helper: 62/1333 for 3017 instances\r",
        "mk_redundant_cluster_df_helper: 63/1333 for 3017 instances\r",
        "mk_redundant_cluster_df_helper: 64/1333 for 3017 instances\r",
        "mk_redundant_cluster_df_helper: 65/1333 for 3017 instances\r",
        "mk_redundant_cluster_df_helper: 66/1333 for 3017 instances\r",
        "mk_redundant_cluster_df_helper: 67/1333 for 3017 instances\r",
        "mk_redundant_cluster_df_helper: 68/1333 for 3017 instances\r",
        "mk_redundant_cluster_df_helper: 69/1333 for 3017 instances\r",
        "mk_redundant_cluster_df_helper: 70/1333 for 3017 instances\r",
        "mk_redundant_cluster_df_helper: 71/1333 for 3017 instances"
       ]
      },
      {
       "output_type": "stream",
       "stream": "stdout",
       "text": [
        "\r",
        "mk_redundant_cluster_df_helper: 72/1333 for 3017 instances\r",
        "mk_redundant_cluster_df_helper: 73/1333 for 3017 instances\r",
        "mk_redundant_cluster_df_helper: 74/1333 for 3017 instances\r",
        "mk_redundant_cluster_df_helper: 75/1333 for 3017 instances\r",
        "mk_redundant_cluster_df_helper: 76/1333 for 3017 instances\r",
        "mk_redundant_cluster_df_helper: 77/1333 for 3017 instances\r",
        "mk_redundant_cluster_df_helper: 78/1333 for 3017 instances\r",
        "mk_redundant_cluster_df_helper: 79/1333 for 3017 instances\r",
        "mk_redundant_cluster_df_helper: 80/1333 for 3017 instances\r",
        "mk_redundant_cluster_df_helper: 81/1333 for 3017 instances\r",
        "mk_redundant_cluster_df_helper: 82/1333 for 3017 instances\r",
        "mk_redundant_cluster_df_helper: 83/1333 for 3017 instances\r",
        "mk_redundant_cluster_df_helper: 84/1333 for 3017 instances\r",
        "mk_redundant_cluster_df_helper: 85/1333 for 3017 instances\r",
        "mk_redundant_cluster_df_helper: 86/1333 for 3017 instances\r",
        "mk_redundant_cluster_df_helper: 87/1333 for 3017 instances\r",
        "mk_redundant_cluster_df_helper: 88/1333 for 3017 instances\r",
        "mk_redundant_cluster_df_helper: 89/1333 for 3017 instances\r",
        "mk_redundant_cluster_df_helper: 90/1333 for 3017 instances\r",
        "mk_redundant_cluster_df_helper: 91/1333 for 3017 instances\r",
        "mk_redundant_cluster_df_helper: 92/1333 for 3017 instances\r",
        "mk_redundant_cluster_df_helper: 93/1333 for 3017 instances\r",
        "mk_redundant_cluster_df_helper: 94/1333 for 3017 instances\r",
        "mk_redundant_cluster_df_helper: 95/1333 for 3017 instances\r",
        "mk_redundant_cluster_df_helper: 96/1333 for 3017 instances"
       ]
      },
      {
       "output_type": "stream",
       "stream": "stdout",
       "text": [
        "\r",
        "mk_redundant_cluster_df_helper: 97/1333 for 3017 instances\r",
        "mk_redundant_cluster_df_helper: 98/1333 for 3017 instances\r",
        "mk_redundant_cluster_df_helper: 99/1333 for 3017 instances\r",
        "mk_redundant_cluster_df_helper: 100/1333 for 3017 instances\r",
        "mk_redundant_cluster_df_helper: 101/1333 for 3017 instances\r",
        "mk_redundant_cluster_df_helper: 102/1333 for 3017 instances\r",
        "mk_redundant_cluster_df_helper: 103/1333 for 3017 instances\r",
        "mk_redundant_cluster_df_helper: 104/1333 for 3017 instances\r",
        "mk_redundant_cluster_df_helper: 105/1333 for 3017 instances\r",
        "mk_redundant_cluster_df_helper: 106/1333 for 3017 instances\r",
        "mk_redundant_cluster_df_helper: 107/1333 for 3017 instances\r",
        "mk_redundant_cluster_df_helper: 108/1333 for 3017 instances\r",
        "mk_redundant_cluster_df_helper: 109/1333 for 3017 instances\r",
        "mk_redundant_cluster_df_helper: 110/1333 for 3017 instances\r",
        "mk_redundant_cluster_df_helper: 111/1333 for 3017 instances\r",
        "mk_redundant_cluster_df_helper: 112/1333 for 3017 instances"
       ]
      },
      {
       "output_type": "stream",
       "stream": "stdout",
       "text": [
        "\r",
        "mk_redundant_cluster_df_helper: 113/1333 for 3017 instances\r",
        "mk_redundant_cluster_df_helper: 114/1333 for 3017 instances\r",
        "mk_redundant_cluster_df_helper: 115/1333 for 3017 instances\r",
        "mk_redundant_cluster_df_helper: 116/1333 for 3017 instances\r",
        "mk_redundant_cluster_df_helper: 117/1333 for 3017 instances\r",
        "mk_redundant_cluster_df_helper: 118/1333 for 3017 instances\r",
        "mk_redundant_cluster_df_helper: 119/1333 for 3017 instances"
       ]
      },
      {
       "output_type": "stream",
       "stream": "stdout",
       "text": [
        "\r",
        "mk_redundant_cluster_df_helper: 120/1333 for 3017 instances\r",
        "mk_redundant_cluster_df_helper: 121/1333 for 3017 instances\r",
        "mk_redundant_cluster_df_helper: 122/1333 for 3017 instances\r",
        "mk_redundant_cluster_df_helper: 123/1333 for 3017 instances\r",
        "mk_redundant_cluster_df_helper: 124/1333 for 3017 instances\r",
        "mk_redundant_cluster_df_helper: 125/1333 for 3017 instances\r",
        "mk_redundant_cluster_df_helper: 126/1333 for 3017 instances"
       ]
      },
      {
       "output_type": "stream",
       "stream": "stdout",
       "text": [
        "\r",
        "mk_redundant_cluster_df_helper: 127/1333 for 3017 instances\r",
        "mk_redundant_cluster_df_helper: 128/1333 for 3017 instances\r",
        "mk_redundant_cluster_df_helper: 129/1333 for 3017 instances\r",
        "mk_redundant_cluster_df_helper: 130/1333 for 3017 instances\r",
        "mk_redundant_cluster_df_helper: 131/1333 for 3017 instances\r",
        "mk_redundant_cluster_df_helper: 132/1333 for 3017 instances\r",
        "mk_redundant_cluster_df_helper: 133/1333 for 3017 instances\r",
        "mk_redundant_cluster_df_helper: 134/1333 for 3017 instances\r",
        "mk_redundant_cluster_df_helper: 135/1333 for 3017 instances\r",
        "mk_redundant_cluster_df_helper: 136/1333 for 3017 instances\r",
        "mk_redundant_cluster_df_helper: 137/1333 for 3017 instances\r",
        "mk_redundant_cluster_df_helper: 138/1333 for 3017 instances\r",
        "mk_redundant_cluster_df_helper: 139/1333 for 3017 instances"
       ]
      },
      {
       "output_type": "stream",
       "stream": "stdout",
       "text": [
        "\r",
        "mk_redundant_cluster_df_helper: 140/1333 for 3017 instances\r",
        "mk_redundant_cluster_df_helper: 141/1333 for 3017 instances\r",
        "mk_redundant_cluster_df_helper: 142/1333 for 3017 instances\r",
        "mk_redundant_cluster_df_helper: 143/1333 for 3017 instances\r",
        "mk_redundant_cluster_df_helper: 144/1333 for 3017 instances\r",
        "mk_redundant_cluster_df_helper: 145/1333 for 3017 instances\r",
        "mk_redundant_cluster_df_helper: 146/1333 for 3017 instances\r",
        "mk_redundant_cluster_df_helper: 147/1333 for 3017 instances\r",
        "mk_redundant_cluster_df_helper: 148/1333 for 3017 instances\r",
        "mk_redundant_cluster_df_helper: 149/1333 for 3017 instances"
       ]
      },
      {
       "output_type": "stream",
       "stream": "stdout",
       "text": [
        "\r",
        "mk_redundant_cluster_df_helper: 150/1333 for 3017 instances\r",
        "mk_redundant_cluster_df_helper: 151/1333 for 3017 instances\r",
        "mk_redundant_cluster_df_helper: 152/1333 for 3017 instances\r",
        "mk_redundant_cluster_df_helper: 153/1333 for 3017 instances\r",
        "mk_redundant_cluster_df_helper: 154/1333 for 3017 instances\r",
        "mk_redundant_cluster_df_helper: 155/1333 for 3017 instances\r",
        "mk_redundant_cluster_df_helper: 156/1333 for 3017 instances"
       ]
      },
      {
       "output_type": "stream",
       "stream": "stdout",
       "text": [
        "\r",
        "mk_redundant_cluster_df_helper: 157/1333 for 3017 instances\r",
        "mk_redundant_cluster_df_helper: 158/1333 for 3017 instances\r",
        "mk_redundant_cluster_df_helper: 159/1333 for 3017 instances\r",
        "mk_redundant_cluster_df_helper: 160/1333 for 3017 instances\r",
        "mk_redundant_cluster_df_helper: 161/1333 for 3017 instances\r",
        "mk_redundant_cluster_df_helper: 162/1333 for 3017 instances\r",
        "mk_redundant_cluster_df_helper: 163/1333 for 3017 instances"
       ]
      },
      {
       "output_type": "stream",
       "stream": "stdout",
       "text": [
        "\r",
        "mk_redundant_cluster_df_helper: 164/1333 for 3017 instances\r",
        "mk_redundant_cluster_df_helper: 165/1333 for 3017 instances\r",
        "mk_redundant_cluster_df_helper: 166/1333 for 3017 instances\r",
        "mk_redundant_cluster_df_helper: 167/1333 for 3017 instances\r",
        "mk_redundant_cluster_df_helper: 168/1333 for 3017 instances\r",
        "mk_redundant_cluster_df_helper: 169/1333 for 3017 instances\r",
        "mk_redundant_cluster_df_helper: 170/1333 for 3017 instances\r",
        "mk_redundant_cluster_df_helper: 171/1333 for 3017 instances\r",
        "mk_redundant_cluster_df_helper: 172/1333 for 3017 instances\r",
        "mk_redundant_cluster_df_helper: 173/1333 for 3017 instances\r",
        "mk_redundant_cluster_df_helper: 174/1333 for 3017 instances"
       ]
      },
      {
       "output_type": "stream",
       "stream": "stdout",
       "text": [
        "\r",
        "mk_redundant_cluster_df_helper: 175/1333 for 3017 instances\r",
        "mk_redundant_cluster_df_helper: 176/1333 for 3017 instances\r",
        "mk_redundant_cluster_df_helper: 177/1333 for 3017 instances\r",
        "mk_redundant_cluster_df_helper: 178/1333 for 3017 instances\r",
        "mk_redundant_cluster_df_helper: 179/1333 for 3017 instances"
       ]
      },
      {
       "output_type": "stream",
       "stream": "stdout",
       "text": [
        "\r",
        "mk_redundant_cluster_df_helper: 180/1333 for 3017 instances\r",
        "mk_redundant_cluster_df_helper: 181/1333 for 3017 instances\r",
        "mk_redundant_cluster_df_helper: 182/1333 for 3017 instances\r",
        "mk_redundant_cluster_df_helper: 183/1333 for 3017 instances"
       ]
      },
      {
       "output_type": "stream",
       "stream": "stdout",
       "text": [
        "\r",
        "mk_redundant_cluster_df_helper: 184/1333 for 3017 instances\r",
        "mk_redundant_cluster_df_helper: 185/1333 for 3017 instances\r",
        "mk_redundant_cluster_df_helper: 186/1333 for 3017 instances\r",
        "mk_redundant_cluster_df_helper: 187/1333 for 3017 instances"
       ]
      },
      {
       "output_type": "stream",
       "stream": "stdout",
       "text": [
        "\r",
        "mk_redundant_cluster_df_helper: 188/1333 for 3017 instances\r",
        "mk_redundant_cluster_df_helper: 189/1333 for 3017 instances\r",
        "mk_redundant_cluster_df_helper: 190/1333 for 3017 instances\r",
        "mk_redundant_cluster_df_helper: 191/1333 for 3017 instances"
       ]
      },
      {
       "output_type": "stream",
       "stream": "stdout",
       "text": [
        "\r",
        "mk_redundant_cluster_df_helper: 192/1333 for 3017 instances\r",
        "mk_redundant_cluster_df_helper: 193/1333 for 3017 instances\r",
        "mk_redundant_cluster_df_helper: 194/1333 for 3017 instances\r",
        "mk_redundant_cluster_df_helper: 195/1333 for 3017 instances"
       ]
      },
      {
       "output_type": "stream",
       "stream": "stdout",
       "text": [
        "\r",
        "mk_redundant_cluster_df_helper: 196/1333 for 3017 instances\r",
        "mk_redundant_cluster_df_helper: 197/1333 for 3017 instances\r",
        "mk_redundant_cluster_df_helper: 198/1333 for 3017 instances\r",
        "mk_redundant_cluster_df_helper: 199/1333 for 3017 instances"
       ]
      },
      {
       "output_type": "stream",
       "stream": "stdout",
       "text": [
        "\r",
        "mk_redundant_cluster_df_helper: 200/1333 for 3017 instances\r",
        "mk_redundant_cluster_df_helper: 201/1333 for 3017 instances\r",
        "mk_redundant_cluster_df_helper: 202/1333 for 3017 instances\r",
        "mk_redundant_cluster_df_helper: 203/1333 for 3017 instances"
       ]
      },
      {
       "output_type": "stream",
       "stream": "stdout",
       "text": [
        "\r",
        "mk_redundant_cluster_df_helper: 204/1333 for 3017 instances\r",
        "mk_redundant_cluster_df_helper: 205/1333 for 3017 instances\r",
        "mk_redundant_cluster_df_helper: 206/1333 for 3017 instances\r",
        "mk_redundant_cluster_df_helper: 207/1333 for 3017 instances"
       ]
      },
      {
       "output_type": "stream",
       "stream": "stdout",
       "text": [
        "\r",
        "mk_redundant_cluster_df_helper: 208/1333 for 3017 instances\r",
        "mk_redundant_cluster_df_helper: 209/1333 for 3017 instances\r",
        "mk_redundant_cluster_df_helper: 210/1333 for 3017 instances\r",
        "mk_redundant_cluster_df_helper: 211/1333 for 3017 instances"
       ]
      },
      {
       "output_type": "stream",
       "stream": "stdout",
       "text": [
        "\r",
        "mk_redundant_cluster_df_helper: 212/1333 for 3017 instances\r",
        "mk_redundant_cluster_df_helper: 213/1333 for 3017 instances\r",
        "mk_redundant_cluster_df_helper: 214/1333 for 3017 instances\r",
        "mk_redundant_cluster_df_helper: 215/1333 for 3017 instances"
       ]
      },
      {
       "output_type": "stream",
       "stream": "stdout",
       "text": [
        "\r",
        "mk_redundant_cluster_df_helper: 216/1333 for 3017 instances\r",
        "mk_redundant_cluster_df_helper: 217/1333 for 3017 instances\r",
        "mk_redundant_cluster_df_helper: 218/1333 for 3017 instances\r",
        "mk_redundant_cluster_df_helper: 219/1333 for 3017 instances\r",
        "mk_redundant_cluster_df_helper: 220/1333 for 3017 instances"
       ]
      },
      {
       "output_type": "stream",
       "stream": "stdout",
       "text": [
        "\r",
        "mk_redundant_cluster_df_helper: 221/1333 for 3017 instances\r",
        "mk_redundant_cluster_df_helper: 222/1333 for 3017 instances\r",
        "mk_redundant_cluster_df_helper: 223/1333 for 3017 instances\r",
        "mk_redundant_cluster_df_helper: 224/1333 for 3017 instances\r",
        "mk_redundant_cluster_df_helper: 225/1333 for 3017 instances\r",
        "mk_redundant_cluster_df_helper: 226/1333 for 3017 instances\r",
        "mk_redundant_cluster_df_helper: 227/1333 for 3017 instances\r",
        "mk_redundant_cluster_df_helper: 228/1333 for 3017 instances\r",
        "mk_redundant_cluster_df_helper: 229/1333 for 3017 instances\r",
        "mk_redundant_cluster_df_helper: 230/1333 for 3017 instances\r",
        "mk_redundant_cluster_df_helper: 231/1333 for 3017 instances\r",
        "mk_redundant_cluster_df_helper: 232/1333 for 3017 instances\r",
        "mk_redundant_cluster_df_helper: 233/1333 for 3017 instances\r",
        "mk_redundant_cluster_df_helper: 234/1333 for 3017 instances\r",
        "mk_redundant_cluster_df_helper: 235/1333 for 3017 instances\r",
        "mk_redundant_cluster_df_helper: 236/1333 for 3017 instances\r",
        "mk_redundant_cluster_df_helper: 237/1333 for 3017 instances"
       ]
      },
      {
       "output_type": "stream",
       "stream": "stdout",
       "text": [
        "\r",
        "mk_redundant_cluster_df_helper: 238/1333 for 3017 instances\r",
        "mk_redundant_cluster_df_helper: 239/1333 for 3017 instances\r",
        "mk_redundant_cluster_df_helper: 240/1333 for 3017 instances\r",
        "mk_redundant_cluster_df_helper: 241/1333 for 3017 instances\r",
        "mk_redundant_cluster_df_helper: 242/1333 for 3017 instances\r",
        "mk_redundant_cluster_df_helper: 243/1333 for 3017 instances\r",
        "mk_redundant_cluster_df_helper: 244/1333 for 3017 instances\r",
        "mk_redundant_cluster_df_helper: 245/1333 for 3017 instances\r",
        "mk_redundant_cluster_df_helper: 246/1333 for 3017 instances\r",
        "mk_redundant_cluster_df_helper: 247/1333 for 3017 instances\r",
        "mk_redundant_cluster_df_helper: 248/1333 for 3017 instances\r",
        "mk_redundant_cluster_df_helper: 249/1333 for 3017 instances\r",
        "mk_redundant_cluster_df_helper: 250/1333 for 3017 instances\r",
        "mk_redundant_cluster_df_helper: 251/1333 for 3017 instances"
       ]
      },
      {
       "output_type": "stream",
       "stream": "stdout",
       "text": [
        "\r",
        "mk_redundant_cluster_df_helper: 252/1333 for 3017 instances\r",
        "mk_redundant_cluster_df_helper: 253/1333 for 3017 instances\r",
        "mk_redundant_cluster_df_helper: 254/1333 for 3017 instances\r",
        "mk_redundant_cluster_df_helper: 255/1333 for 3017 instances\r",
        "mk_redundant_cluster_df_helper: 256/1333 for 3017 instances\r",
        "mk_redundant_cluster_df_helper: 257/1333 for 3017 instances\r",
        "mk_redundant_cluster_df_helper: 258/1333 for 3017 instances\r",
        "mk_redundant_cluster_df_helper: 259/1333 for 3017 instances\r",
        "mk_redundant_cluster_df_helper: 260/1333 for 3017 instances\r",
        "mk_redundant_cluster_df_helper: 261/1333 for 3017 instances\r",
        "mk_redundant_cluster_df_helper: 262/1333 for 3017 instances\r",
        "mk_redundant_cluster_df_helper: 263/1333 for 3017 instances\r",
        "mk_redundant_cluster_df_helper: 264/1333 for 3017 instances\r",
        "mk_redundant_cluster_df_helper: 265/1333 for 3017 instances\r",
        "mk_redundant_cluster_df_helper: 266/1333 for 3017 instances\r",
        "mk_redundant_cluster_df_helper: 267/1333 for 3017 instances\r",
        "mk_redundant_cluster_df_helper: 268/1333 for 3017 instances\r",
        "mk_redundant_cluster_df_helper: 269/1333 for 3017 instances\r",
        "mk_redundant_cluster_df_helper: 270/1333 for 3017 instances"
       ]
      },
      {
       "output_type": "stream",
       "stream": "stdout",
       "text": [
        "\r",
        "mk_redundant_cluster_df_helper: 271/1333 for 3017 instances\r",
        "mk_redundant_cluster_df_helper: 272/1333 for 3017 instances\r",
        "mk_redundant_cluster_df_helper: 273/1333 for 3017 instances\r",
        "mk_redundant_cluster_df_helper: 274/1333 for 3017 instances\r",
        "mk_redundant_cluster_df_helper: 275/1333 for 3017 instances\r",
        "mk_redundant_cluster_df_helper: 276/1333 for 3017 instances"
       ]
      },
      {
       "output_type": "stream",
       "stream": "stdout",
       "text": [
        "\r",
        "mk_redundant_cluster_df_helper: 277/1333 for 3017 instances\r",
        "mk_redundant_cluster_df_helper: 278/1333 for 3017 instances\r",
        "mk_redundant_cluster_df_helper: 279/1333 for 3017 instances"
       ]
      },
      {
       "output_type": "stream",
       "stream": "stdout",
       "text": [
        "\r",
        "mk_redundant_cluster_df_helper: 280/1333 for 3017 instances\r",
        "mk_redundant_cluster_df_helper: 281/1333 for 3017 instances\r",
        "mk_redundant_cluster_df_helper: 282/1333 for 3017 instances"
       ]
      },
      {
       "output_type": "stream",
       "stream": "stdout",
       "text": [
        "\r",
        "mk_redundant_cluster_df_helper: 283/1333 for 3017 instances\r",
        "mk_redundant_cluster_df_helper: 284/1333 for 3017 instances\r",
        "mk_redundant_cluster_df_helper: 285/1333 for 3017 instances"
       ]
      },
      {
       "output_type": "stream",
       "stream": "stdout",
       "text": [
        "\r",
        "mk_redundant_cluster_df_helper: 286/1333 for 3017 instances\r",
        "mk_redundant_cluster_df_helper: 287/1333 for 3017 instances\r",
        "mk_redundant_cluster_df_helper: 288/1333 for 3017 instances"
       ]
      },
      {
       "output_type": "stream",
       "stream": "stdout",
       "text": [
        "\r",
        "mk_redundant_cluster_df_helper: 289/1333 for 3017 instances\r",
        "mk_redundant_cluster_df_helper: 290/1333 for 3017 instances\r",
        "mk_redundant_cluster_df_helper: 291/1333 for 3017 instances"
       ]
      },
      {
       "output_type": "stream",
       "stream": "stdout",
       "text": [
        "\r",
        "mk_redundant_cluster_df_helper: 292/1333 for 3017 instances\r",
        "mk_redundant_cluster_df_helper: 293/1333 for 3017 instances\r",
        "mk_redundant_cluster_df_helper: 294/1333 for 3017 instances"
       ]
      },
      {
       "output_type": "stream",
       "stream": "stdout",
       "text": [
        "\r",
        "mk_redundant_cluster_df_helper: 295/1333 for 3017 instances\r",
        "mk_redundant_cluster_df_helper: 296/1333 for 3017 instances\r",
        "mk_redundant_cluster_df_helper: 297/1333 for 3017 instances"
       ]
      },
      {
       "output_type": "stream",
       "stream": "stdout",
       "text": [
        "\r",
        "mk_redundant_cluster_df_helper: 298/1333 for 3017 instances\r",
        "mk_redundant_cluster_df_helper: 299/1333 for 3017 instances\r",
        "mk_redundant_cluster_df_helper: 300/1333 for 3017 instances"
       ]
      },
      {
       "output_type": "stream",
       "stream": "stdout",
       "text": [
        "\r",
        "mk_redundant_cluster_df_helper: 301/1333 for 3017 instances\r",
        "mk_redundant_cluster_df_helper: 302/1333 for 3017 instances"
       ]
      },
      {
       "output_type": "stream",
       "stream": "stdout",
       "text": [
        "\r",
        "mk_redundant_cluster_df_helper: 303/1333 for 3017 instances\r",
        "mk_redundant_cluster_df_helper: 304/1333 for 3017 instances\r",
        "mk_redundant_cluster_df_helper: 305/1333 for 3017 instances"
       ]
      },
      {
       "output_type": "stream",
       "stream": "stdout",
       "text": [
        "\r",
        "mk_redundant_cluster_df_helper: 306/1333 for 3017 instances\r",
        "mk_redundant_cluster_df_helper: 307/1333 for 3017 instances\r",
        "mk_redundant_cluster_df_helper: 308/1333 for 3017 instances"
       ]
      },
      {
       "output_type": "stream",
       "stream": "stdout",
       "text": [
        "\r",
        "mk_redundant_cluster_df_helper: 309/1333 for 3017 instances\r",
        "mk_redundant_cluster_df_helper: 310/1333 for 3017 instances\r",
        "mk_redundant_cluster_df_helper: 311/1333 for 3017 instances"
       ]
      },
      {
       "output_type": "stream",
       "stream": "stdout",
       "text": [
        "\r",
        "mk_redundant_cluster_df_helper: 312/1333 for 3017 instances\r",
        "mk_redundant_cluster_df_helper: 313/1333 for 3017 instances\r",
        "mk_redundant_cluster_df_helper: 314/1333 for 3017 instances"
       ]
      },
      {
       "output_type": "stream",
       "stream": "stdout",
       "text": [
        "\r",
        "mk_redundant_cluster_df_helper: 315/1333 for 3017 instances\r",
        "mk_redundant_cluster_df_helper: 316/1333 for 3017 instances\r",
        "mk_redundant_cluster_df_helper: 317/1333 for 3017 instances"
       ]
      },
      {
       "output_type": "stream",
       "stream": "stdout",
       "text": [
        "\r",
        "mk_redundant_cluster_df_helper: 318/1333 for 3017 instances\r",
        "mk_redundant_cluster_df_helper: 319/1333 for 3017 instances\r",
        "mk_redundant_cluster_df_helper: 320/1333 for 3017 instances"
       ]
      },
      {
       "output_type": "stream",
       "stream": "stdout",
       "text": [
        "\r",
        "mk_redundant_cluster_df_helper: 321/1333 for 3017 instances\r",
        "mk_redundant_cluster_df_helper: 322/1333 for 3017 instances\r",
        "mk_redundant_cluster_df_helper: 323/1333 for 3017 instances"
       ]
      },
      {
       "output_type": "stream",
       "stream": "stdout",
       "text": [
        "\r",
        "mk_redundant_cluster_df_helper: 324/1333 for 3017 instances\r",
        "mk_redundant_cluster_df_helper: 325/1333 for 3017 instances\r",
        "mk_redundant_cluster_df_helper: 326/1333 for 3017 instances"
       ]
      },
      {
       "output_type": "stream",
       "stream": "stdout",
       "text": [
        "\r",
        "mk_redundant_cluster_df_helper: 327/1333 for 3017 instances\r",
        "mk_redundant_cluster_df_helper: 328/1333 for 3017 instances\r",
        "mk_redundant_cluster_df_helper: 329/1333 for 3017 instances"
       ]
      },
      {
       "output_type": "stream",
       "stream": "stdout",
       "text": [
        "\r",
        "mk_redundant_cluster_df_helper: 330/1333 for 3017 instances\r",
        "mk_redundant_cluster_df_helper: 331/1333 for 3017 instances\r",
        "mk_redundant_cluster_df_helper: 332/1333 for 3017 instances"
       ]
      },
      {
       "output_type": "stream",
       "stream": "stdout",
       "text": [
        "\r",
        "mk_redundant_cluster_df_helper: 333/1333 for 3017 instances\r",
        "mk_redundant_cluster_df_helper: 334/1333 for 3017 instances\r",
        "mk_redundant_cluster_df_helper: 335/1333 for 3017 instances"
       ]
      },
      {
       "output_type": "stream",
       "stream": "stdout",
       "text": [
        "\r",
        "mk_redundant_cluster_df_helper: 336/1333 for 3017 instances\r",
        "mk_redundant_cluster_df_helper: 337/1333 for 3017 instances\r",
        "mk_redundant_cluster_df_helper: 338/1333 for 3017 instances"
       ]
      },
      {
       "output_type": "stream",
       "stream": "stdout",
       "text": [
        "\r",
        "mk_redundant_cluster_df_helper: 339/1333 for 3017 instances\r",
        "mk_redundant_cluster_df_helper: 340/1333 for 3017 instances\r",
        "mk_redundant_cluster_df_helper: 341/1333 for 3017 instances"
       ]
      },
      {
       "output_type": "stream",
       "stream": "stdout",
       "text": [
        "\r",
        "mk_redundant_cluster_df_helper: 342/1333 for 3017 instances\r",
        "mk_redundant_cluster_df_helper: 343/1333 for 3017 instances\r",
        "mk_redundant_cluster_df_helper: 344/1333 for 3017 instances\r",
        "mk_redundant_cluster_df_helper: 345/1333 for 3017 instances\r",
        "mk_redundant_cluster_df_helper: 346/1333 for 3017 instances\r",
        "mk_redundant_cluster_df_helper: 347/1333 for 3017 instances\r",
        "mk_redundant_cluster_df_helper: 348/1333 for 3017 instances\r",
        "mk_redundant_cluster_df_helper: 349/1333 for 3017 instances\r",
        "mk_redundant_cluster_df_helper: 350/1333 for 3017 instances\r",
        "mk_redundant_cluster_df_helper: 351/1333 for 3017 instances"
       ]
      },
      {
       "output_type": "stream",
       "stream": "stdout",
       "text": [
        "\r",
        "mk_redundant_cluster_df_helper: 352/1333 for 3017 instances\r",
        "mk_redundant_cluster_df_helper: 353/1333 for 3017 instances\r",
        "mk_redundant_cluster_df_helper: 354/1333 for 3017 instances\r",
        "mk_redundant_cluster_df_helper: 355/1333 for 3017 instances\r",
        "mk_redundant_cluster_df_helper: 356/1333 for 3017 instances\r",
        "mk_redundant_cluster_df_helper: 357/1333 for 3017 instances\r",
        "mk_redundant_cluster_df_helper: 358/1333 for 3017 instances\r",
        "mk_redundant_cluster_df_helper: 359/1333 for 3017 instances\r",
        "mk_redundant_cluster_df_helper: 360/1333 for 3017 instances\r",
        "mk_redundant_cluster_df_helper: 361/1333 for 3017 instances\r",
        "mk_redundant_cluster_df_helper: 362/1333 for 3017 instances\r",
        "mk_redundant_cluster_df_helper: 363/1333 for 3017 instances\r",
        "mk_redundant_cluster_df_helper: 364/1333 for 3017 instances\r",
        "mk_redundant_cluster_df_helper: 365/1333 for 3017 instances\r",
        "mk_redundant_cluster_df_helper: 366/1333 for 3017 instances\r",
        "mk_redundant_cluster_df_helper: 367/1333 for 3017 instances"
       ]
      },
      {
       "output_type": "stream",
       "stream": "stdout",
       "text": [
        "\r",
        "mk_redundant_cluster_df_helper: 368/1333 for 3017 instances\r",
        "mk_redundant_cluster_df_helper: 369/1333 for 3017 instances\r",
        "mk_redundant_cluster_df_helper: 370/1333 for 3017 instances"
       ]
      },
      {
       "output_type": "stream",
       "stream": "stdout",
       "text": [
        "\r",
        "mk_redundant_cluster_df_helper: 371/1333 for 3017 instances\r",
        "mk_redundant_cluster_df_helper: 372/1333 for 3017 instances\r",
        "mk_redundant_cluster_df_helper: 373/1333 for 3017 instances"
       ]
      },
      {
       "output_type": "stream",
       "stream": "stdout",
       "text": [
        "\r",
        "mk_redundant_cluster_df_helper: 374/1333 for 3017 instances\r",
        "mk_redundant_cluster_df_helper: 375/1333 for 3017 instances\r",
        "mk_redundant_cluster_df_helper: 376/1333 for 3017 instances"
       ]
      },
      {
       "output_type": "stream",
       "stream": "stdout",
       "text": [
        "\r",
        "mk_redundant_cluster_df_helper: 377/1333 for 3017 instances\r",
        "mk_redundant_cluster_df_helper: 378/1333 for 3017 instances\r",
        "mk_redundant_cluster_df_helper: 379/1333 for 3017 instances"
       ]
      },
      {
       "output_type": "stream",
       "stream": "stdout",
       "text": [
        "\r",
        "mk_redundant_cluster_df_helper: 380/1333 for 3017 instances\r",
        "mk_redundant_cluster_df_helper: 381/1333 for 3017 instances\r",
        "mk_redundant_cluster_df_helper: 382/1333 for 3017 instances"
       ]
      },
      {
       "output_type": "stream",
       "stream": "stdout",
       "text": [
        "\r",
        "mk_redundant_cluster_df_helper: 383/1333 for 3017 instances\r",
        "mk_redundant_cluster_df_helper: 384/1333 for 3017 instances\r",
        "mk_redundant_cluster_df_helper: 385/1333 for 3017 instances"
       ]
      },
      {
       "output_type": "stream",
       "stream": "stdout",
       "text": [
        "\r",
        "mk_redundant_cluster_df_helper: 386/1333 for 3017 instances\r",
        "mk_redundant_cluster_df_helper: 387/1333 for 3017 instances\r",
        "mk_redundant_cluster_df_helper: 388/1333 for 3017 instances"
       ]
      },
      {
       "output_type": "stream",
       "stream": "stdout",
       "text": [
        "\r",
        "mk_redundant_cluster_df_helper: 389/1333 for 3017 instances\r",
        "mk_redundant_cluster_df_helper: 390/1333 for 3017 instances\r",
        "mk_redundant_cluster_df_helper: 391/1333 for 3017 instances"
       ]
      },
      {
       "output_type": "stream",
       "stream": "stdout",
       "text": [
        "\r",
        "mk_redundant_cluster_df_helper: 392/1333 for 3017 instances\r",
        "mk_redundant_cluster_df_helper: 393/1333 for 3017 instances\r",
        "mk_redundant_cluster_df_helper: 394/1333 for 3017 instances"
       ]
      },
      {
       "output_type": "stream",
       "stream": "stdout",
       "text": [
        "\r",
        "mk_redundant_cluster_df_helper: 395/1333 for 3017 instances\r",
        "mk_redundant_cluster_df_helper: 396/1333 for 3017 instances\r",
        "mk_redundant_cluster_df_helper: 397/1333 for 3017 instances"
       ]
      },
      {
       "output_type": "stream",
       "stream": "stdout",
       "text": [
        "\r",
        "mk_redundant_cluster_df_helper: 398/1333 for 3017 instances\r",
        "mk_redundant_cluster_df_helper: 399/1333 for 3017 instances\r",
        "mk_redundant_cluster_df_helper: 400/1333 for 3017 instances"
       ]
      },
      {
       "output_type": "stream",
       "stream": "stdout",
       "text": [
        "\r",
        "mk_redundant_cluster_df_helper: 401/1333 for 3017 instances\r",
        "mk_redundant_cluster_df_helper: 402/1333 for 3017 instances\r",
        "mk_redundant_cluster_df_helper: 403/1333 for 3017 instances"
       ]
      },
      {
       "output_type": "stream",
       "stream": "stdout",
       "text": [
        "\r",
        "mk_redundant_cluster_df_helper: 404/1333 for 3017 instances\r",
        "mk_redundant_cluster_df_helper: 405/1333 for 3017 instances\r",
        "mk_redundant_cluster_df_helper: 406/1333 for 3017 instances"
       ]
      },
      {
       "output_type": "stream",
       "stream": "stdout",
       "text": [
        "\r",
        "mk_redundant_cluster_df_helper: 407/1333 for 3017 instances\r",
        "mk_redundant_cluster_df_helper: 408/1333 for 3017 instances\r",
        "mk_redundant_cluster_df_helper: 409/1333 for 3017 instances"
       ]
      },
      {
       "output_type": "stream",
       "stream": "stdout",
       "text": [
        "\r",
        "mk_redundant_cluster_df_helper: 410/1333 for 3017 instances\r",
        "mk_redundant_cluster_df_helper: 411/1333 for 3017 instances\r",
        "mk_redundant_cluster_df_helper: 412/1333 for 3017 instances"
       ]
      },
      {
       "output_type": "stream",
       "stream": "stdout",
       "text": [
        "\r",
        "mk_redundant_cluster_df_helper: 413/1333 for 3017 instances\r",
        "mk_redundant_cluster_df_helper: 414/1333 for 3017 instances\r",
        "mk_redundant_cluster_df_helper: 415/1333 for 3017 instances"
       ]
      },
      {
       "output_type": "stream",
       "stream": "stdout",
       "text": [
        "\r",
        "mk_redundant_cluster_df_helper: 416/1333 for 3017 instances\r",
        "mk_redundant_cluster_df_helper: 417/1333 for 3017 instances\r",
        "mk_redundant_cluster_df_helper: 418/1333 for 3017 instances"
       ]
      },
      {
       "output_type": "stream",
       "stream": "stdout",
       "text": [
        "\r",
        "mk_redundant_cluster_df_helper: 419/1333 for 3017 instances\r",
        "mk_redundant_cluster_df_helper: 420/1333 for 3017 instances\r",
        "mk_redundant_cluster_df_helper: 421/1333 for 3017 instances\r",
        "mk_redundant_cluster_df_helper: 422/1333 for 3017 instances\r",
        "mk_redundant_cluster_df_helper: 423/1333 for 3017 instances\r",
        "mk_redundant_cluster_df_helper: 424/1333 for 3017 instances\r",
        "mk_redundant_cluster_df_helper: 425/1333 for 3017 instances\r",
        "mk_redundant_cluster_df_helper: 426/1333 for 3017 instances\r",
        "mk_redundant_cluster_df_helper: 427/1333 for 3017 instances\r",
        "mk_redundant_cluster_df_helper: 428/1333 for 3017 instances\r",
        "mk_redundant_cluster_df_helper: 429/1333 for 3017 instances\r",
        "mk_redundant_cluster_df_helper: 430/1333 for 3017 instances\r",
        "mk_redundant_cluster_df_helper: 431/1333 for 3017 instances\r",
        "mk_redundant_cluster_df_helper: 432/1333 for 3017 instances\r",
        "mk_redundant_cluster_df_helper: 433/1333 for 3017 instances\r",
        "mk_redundant_cluster_df_helper: 434/1333 for 3017 instances"
       ]
      },
      {
       "output_type": "stream",
       "stream": "stdout",
       "text": [
        "\r",
        "mk_redundant_cluster_df_helper: 435/1333 for 3017 instances\r",
        "mk_redundant_cluster_df_helper: 436/1333 for 3017 instances\r",
        "mk_redundant_cluster_df_helper: 437/1333 for 3017 instances\r",
        "mk_redundant_cluster_df_helper: 438/1333 for 3017 instances\r",
        "mk_redundant_cluster_df_helper: 439/1333 for 3017 instances"
       ]
      },
      {
       "output_type": "stream",
       "stream": "stdout",
       "text": [
        "\r",
        "mk_redundant_cluster_df_helper: 440/1333 for 3017 instances\r",
        "mk_redundant_cluster_df_helper: 441/1333 for 3017 instances\r",
        "mk_redundant_cluster_df_helper: 442/1333 for 3017 instances\r",
        "mk_redundant_cluster_df_helper: 443/1333 for 3017 instances\r",
        "mk_redundant_cluster_df_helper: 444/1333 for 3017 instances"
       ]
      },
      {
       "output_type": "stream",
       "stream": "stdout",
       "text": [
        "\r",
        "mk_redundant_cluster_df_helper: 445/1333 for 3017 instances\r",
        "mk_redundant_cluster_df_helper: 446/1333 for 3017 instances\r",
        "mk_redundant_cluster_df_helper: 447/1333 for 3017 instances\r",
        "mk_redundant_cluster_df_helper: 448/1333 for 3017 instances\r",
        "mk_redundant_cluster_df_helper: 449/1333 for 3017 instances"
       ]
      },
      {
       "output_type": "stream",
       "stream": "stdout",
       "text": [
        "\r",
        "mk_redundant_cluster_df_helper: 450/1333 for 3017 instances\r",
        "mk_redundant_cluster_df_helper: 451/1333 for 3017 instances\r",
        "mk_redundant_cluster_df_helper: 452/1333 for 3017 instances\r",
        "mk_redundant_cluster_df_helper: 453/1333 for 3017 instances\r",
        "mk_redundant_cluster_df_helper: 454/1333 for 3017 instances"
       ]
      },
      {
       "output_type": "stream",
       "stream": "stdout",
       "text": [
        "\r",
        "mk_redundant_cluster_df_helper: 455/1333 for 3017 instances\r",
        "mk_redundant_cluster_df_helper: 456/1333 for 3017 instances\r",
        "mk_redundant_cluster_df_helper: 457/1333 for 3017 instances\r",
        "mk_redundant_cluster_df_helper: 458/1333 for 3017 instances\r",
        "mk_redundant_cluster_df_helper: 459/1333 for 3017 instances"
       ]
      },
      {
       "output_type": "stream",
       "stream": "stdout",
       "text": [
        "\r",
        "mk_redundant_cluster_df_helper: 460/1333 for 3017 instances\r",
        "mk_redundant_cluster_df_helper: 461/1333 for 3017 instances\r",
        "mk_redundant_cluster_df_helper: 462/1333 for 3017 instances\r",
        "mk_redundant_cluster_df_helper: 463/1333 for 3017 instances\r",
        "mk_redundant_cluster_df_helper: 464/1333 for 3017 instances"
       ]
      },
      {
       "output_type": "stream",
       "stream": "stdout",
       "text": [
        "\r",
        "mk_redundant_cluster_df_helper: 465/1333 for 3017 instances\r",
        "mk_redundant_cluster_df_helper: 466/1333 for 3017 instances\r",
        "mk_redundant_cluster_df_helper: 467/1333 for 3017 instances\r",
        "mk_redundant_cluster_df_helper: 468/1333 for 3017 instances\r",
        "mk_redundant_cluster_df_helper: 469/1333 for 3017 instances\r",
        "mk_redundant_cluster_df_helper: 470/1333 for 3017 instances\r",
        "mk_redundant_cluster_df_helper: 471/1333 for 3017 instances\r",
        "mk_redundant_cluster_df_helper: 472/1333 for 3017 instances\r",
        "mk_redundant_cluster_df_helper: 473/1333 for 3017 instances\r",
        "mk_redundant_cluster_df_helper: 474/1333 for 3017 instances"
       ]
      },
      {
       "output_type": "stream",
       "stream": "stdout",
       "text": [
        "\r",
        "mk_redundant_cluster_df_helper: 475/1333 for 3017 instances\r",
        "mk_redundant_cluster_df_helper: 476/1333 for 3017 instances\r",
        "mk_redundant_cluster_df_helper: 477/1333 for 3017 instances\r",
        "mk_redundant_cluster_df_helper: 478/1333 for 3017 instances\r",
        "mk_redundant_cluster_df_helper: 479/1333 for 3017 instances\r",
        "mk_redundant_cluster_df_helper: 480/1333 for 3017 instances\r",
        "mk_redundant_cluster_df_helper: 481/1333 for 3017 instances\r",
        "mk_redundant_cluster_df_helper: 482/1333 for 3017 instances\r",
        "mk_redundant_cluster_df_helper: 483/1333 for 3017 instances\r",
        "mk_redundant_cluster_df_helper: 484/1333 for 3017 instances\r",
        "mk_redundant_cluster_df_helper: 485/1333 for 3017 instances\r",
        "mk_redundant_cluster_df_helper: 486/1333 for 3017 instances\r",
        "mk_redundant_cluster_df_helper: 487/1333 for 3017 instances\r",
        "mk_redundant_cluster_df_helper: 488/1333 for 3017 instances\r",
        "mk_redundant_cluster_df_helper: 489/1333 for 3017 instances\r",
        "mk_redundant_cluster_df_helper: 490/1333 for 3017 instances\r",
        "mk_redundant_cluster_df_helper: 491/1333 for 3017 instances\r",
        "mk_redundant_cluster_df_helper: 492/1333 for 3017 instances\r",
        "mk_redundant_cluster_df_helper: 493/1333 for 3017 instances\r",
        "mk_redundant_cluster_df_helper: 494/1333 for 3017 instances\r",
        "mk_redundant_cluster_df_helper: 495/1333 for 3017 instances\r",
        "mk_redundant_cluster_df_helper: 496/1333 for 3017 instances\r",
        "mk_redundant_cluster_df_helper: 497/1333 for 3017 instances\r",
        "mk_redundant_cluster_df_helper: 498/1333 for 3017 instances"
       ]
      },
      {
       "output_type": "stream",
       "stream": "stdout",
       "text": [
        "\r",
        "mk_redundant_cluster_df_helper: 499/1333 for 3017 instances\r",
        "mk_redundant_cluster_df_helper: 500/1333 for 3017 instances\r",
        "mk_redundant_cluster_df_helper: 501/1333 for 3017 instances\r",
        "mk_redundant_cluster_df_helper: 502/1333 for 3017 instances\r",
        "mk_redundant_cluster_df_helper: 503/1333 for 3017 instances\r",
        "mk_redundant_cluster_df_helper: 504/1333 for 3017 instances\r",
        "mk_redundant_cluster_df_helper: 505/1333 for 3017 instances\r",
        "mk_redundant_cluster_df_helper: 506/1333 for 3017 instances\r",
        "mk_redundant_cluster_df_helper: 507/1333 for 3017 instances\r",
        "mk_redundant_cluster_df_helper: 508/1333 for 3017 instances"
       ]
      },
      {
       "output_type": "stream",
       "stream": "stdout",
       "text": [
        "\r",
        "mk_redundant_cluster_df_helper: 509/1333 for 3017 instances\r",
        "mk_redundant_cluster_df_helper: 510/1333 for 3017 instances\r",
        "mk_redundant_cluster_df_helper: 511/1333 for 3017 instances\r",
        "mk_redundant_cluster_df_helper: 512/1333 for 3017 instances\r",
        "mk_redundant_cluster_df_helper: 513/1333 for 3017 instances\r",
        "mk_redundant_cluster_df_helper: 514/1333 for 3017 instances\r",
        "mk_redundant_cluster_df_helper: 515/1333 for 3017 instances\r",
        "mk_redundant_cluster_df_helper: 516/1333 for 3017 instances\r",
        "mk_redundant_cluster_df_helper: 517/1333 for 3017 instances\r",
        "mk_redundant_cluster_df_helper: 518/1333 for 3017 instances\r",
        "mk_redundant_cluster_df_helper: 519/1333 for 3017 instances\r",
        "mk_redundant_cluster_df_helper: 520/1333 for 3017 instances"
       ]
      },
      {
       "output_type": "stream",
       "stream": "stdout",
       "text": [
        "\r",
        "mk_redundant_cluster_df_helper: 521/1333 for 3017 instances\r",
        "mk_redundant_cluster_df_helper: 522/1333 for 3017 instances\r",
        "mk_redundant_cluster_df_helper: 523/1333 for 3017 instances\r",
        "mk_redundant_cluster_df_helper: 524/1333 for 3017 instances\r",
        "mk_redundant_cluster_df_helper: 525/1333 for 3017 instances\r",
        "mk_redundant_cluster_df_helper: 526/1333 for 3017 instances\r",
        "mk_redundant_cluster_df_helper: 527/1333 for 3017 instances\r",
        "mk_redundant_cluster_df_helper: 528/1333 for 3017 instances"
       ]
      },
      {
       "output_type": "stream",
       "stream": "stdout",
       "text": [
        "\r",
        "mk_redundant_cluster_df_helper: 529/1333 for 3017 instances\r",
        "mk_redundant_cluster_df_helper: 530/1333 for 3017 instances\r",
        "mk_redundant_cluster_df_helper: 531/1333 for 3017 instances\r",
        "mk_redundant_cluster_df_helper: 532/1333 for 3017 instances\r",
        "mk_redundant_cluster_df_helper: 533/1333 for 3017 instances\r",
        "mk_redundant_cluster_df_helper: 534/1333 for 3017 instances\r",
        "mk_redundant_cluster_df_helper: 535/1333 for 3017 instances\r",
        "mk_redundant_cluster_df_helper: 536/1333 for 3017 instances"
       ]
      },
      {
       "output_type": "stream",
       "stream": "stdout",
       "text": [
        "\r",
        "mk_redundant_cluster_df_helper: 537/1333 for 3017 instances\r",
        "mk_redundant_cluster_df_helper: 538/1333 for 3017 instances\r",
        "mk_redundant_cluster_df_helper: 539/1333 for 3017 instances\r",
        "mk_redundant_cluster_df_helper: 540/1333 for 3017 instances\r",
        "mk_redundant_cluster_df_helper: 541/1333 for 3017 instances\r",
        "mk_redundant_cluster_df_helper: 542/1333 for 3017 instances\r",
        "mk_redundant_cluster_df_helper: 543/1333 for 3017 instances\r",
        "mk_redundant_cluster_df_helper: 544/1333 for 3017 instances\r",
        "mk_redundant_cluster_df_helper: 545/1333 for 3017 instances\r",
        "mk_redundant_cluster_df_helper: 546/1333 for 3017 instances\r",
        "mk_redundant_cluster_df_helper: 547/1333 for 3017 instances\r",
        "mk_redundant_cluster_df_helper: 548/1333 for 3017 instances\r",
        "mk_redundant_cluster_df_helper: 549/1333 for 3017 instances\r",
        "mk_redundant_cluster_df_helper: 550/1333 for 3017 instances\r",
        "mk_redundant_cluster_df_helper: 551/1333 for 3017 instances\r",
        "mk_redundant_cluster_df_helper: 552/1333 for 3017 instances\r",
        "mk_redundant_cluster_df_helper: 553/1333 for 3017 instances\r",
        "mk_redundant_cluster_df_helper: 554/1333 for 3017 instances\r",
        "mk_redundant_cluster_df_helper: 555/1333 for 3017 instances\r",
        "mk_redundant_cluster_df_helper: 556/1333 for 3017 instances\r",
        "mk_redundant_cluster_df_helper: 557/1333 for 3017 instances"
       ]
      },
      {
       "output_type": "stream",
       "stream": "stdout",
       "text": [
        "\r",
        "mk_redundant_cluster_df_helper: 558/1333 for 3017 instances\r",
        "mk_redundant_cluster_df_helper: 559/1333 for 3017 instances\r",
        "mk_redundant_cluster_df_helper: 560/1333 for 3017 instances\r",
        "mk_redundant_cluster_df_helper: 561/1333 for 3017 instances\r",
        "mk_redundant_cluster_df_helper: 562/1333 for 3017 instances\r",
        "mk_redundant_cluster_df_helper: 563/1333 for 3017 instances\r",
        "mk_redundant_cluster_df_helper: 564/1333 for 3017 instances\r",
        "mk_redundant_cluster_df_helper: 565/1333 for 3017 instances\r",
        "mk_redundant_cluster_df_helper: 566/1333 for 3017 instances\r",
        "mk_redundant_cluster_df_helper: 567/1333 for 3017 instances\r",
        "mk_redundant_cluster_df_helper: 568/1333 for 3017 instances\r",
        "mk_redundant_cluster_df_helper: 569/1333 for 3017 instances"
       ]
      },
      {
       "output_type": "stream",
       "stream": "stdout",
       "text": [
        "\r",
        "mk_redundant_cluster_df_helper: 570/1333 for 3017 instances\r",
        "mk_redundant_cluster_df_helper: 571/1333 for 3017 instances\r",
        "mk_redundant_cluster_df_helper: 572/1333 for 3017 instances\r",
        "mk_redundant_cluster_df_helper: 573/1333 for 3017 instances\r",
        "mk_redundant_cluster_df_helper: 574/1333 for 3017 instances"
       ]
      },
      {
       "output_type": "stream",
       "stream": "stdout",
       "text": [
        "\r",
        "mk_redundant_cluster_df_helper: 575/1333 for 3017 instances\r",
        "mk_redundant_cluster_df_helper: 576/1333 for 3017 instances\r",
        "mk_redundant_cluster_df_helper: 577/1333 for 3017 instances\r",
        "mk_redundant_cluster_df_helper: 578/1333 for 3017 instances\r",
        "mk_redundant_cluster_df_helper: 579/1333 for 3017 instances"
       ]
      },
      {
       "output_type": "stream",
       "stream": "stdout",
       "text": [
        "\r",
        "mk_redundant_cluster_df_helper: 580/1333 for 3017 instances\r",
        "mk_redundant_cluster_df_helper: 581/1333 for 3017 instances\r",
        "mk_redundant_cluster_df_helper: 582/1333 for 3017 instances\r",
        "mk_redundant_cluster_df_helper: 583/1333 for 3017 instances\r",
        "mk_redundant_cluster_df_helper: 584/1333 for 3017 instances"
       ]
      },
      {
       "output_type": "stream",
       "stream": "stdout",
       "text": [
        "\r",
        "mk_redundant_cluster_df_helper: 585/1333 for 3017 instances\r",
        "mk_redundant_cluster_df_helper: 586/1333 for 3017 instances\r",
        "mk_redundant_cluster_df_helper: 587/1333 for 3017 instances\r",
        "mk_redundant_cluster_df_helper: 588/1333 for 3017 instances\r",
        "mk_redundant_cluster_df_helper: 589/1333 for 3017 instances"
       ]
      },
      {
       "output_type": "stream",
       "stream": "stdout",
       "text": [
        "\r",
        "mk_redundant_cluster_df_helper: 590/1333 for 3017 instances\r",
        "mk_redundant_cluster_df_helper: 591/1333 for 3017 instances\r",
        "mk_redundant_cluster_df_helper: 592/1333 for 3017 instances\r",
        "mk_redundant_cluster_df_helper: 593/1333 for 3017 instances\r",
        "mk_redundant_cluster_df_helper: 594/1333 for 3017 instances"
       ]
      },
      {
       "output_type": "stream",
       "stream": "stdout",
       "text": [
        "\r",
        "mk_redundant_cluster_df_helper: 595/1333 for 3017 instances\r",
        "mk_redundant_cluster_df_helper: 596/1333 for 3017 instances\r",
        "mk_redundant_cluster_df_helper: 597/1333 for 3017 instances\r",
        "mk_redundant_cluster_df_helper: 598/1333 for 3017 instances\r",
        "mk_redundant_cluster_df_helper: 599/1333 for 3017 instances"
       ]
      },
      {
       "output_type": "stream",
       "stream": "stdout",
       "text": [
        "\r",
        "mk_redundant_cluster_df_helper: 600/1333 for 3017 instances\r",
        "mk_redundant_cluster_df_helper: 601/1333 for 3017 instances\r",
        "mk_redundant_cluster_df_helper: 602/1333 for 3017 instances\r",
        "mk_redundant_cluster_df_helper: 603/1333 for 3017 instances\r",
        "mk_redundant_cluster_df_helper: 604/1333 for 3017 instances\r",
        "mk_redundant_cluster_df_helper: 605/1333 for 3017 instances\r",
        "mk_redundant_cluster_df_helper: 606/1333 for 3017 instances\r",
        "mk_redundant_cluster_df_helper: 607/1333 for 3017 instances\r",
        "mk_redundant_cluster_df_helper: 608/1333 for 3017 instances\r",
        "mk_redundant_cluster_df_helper: 609/1333 for 3017 instances\r",
        "mk_redundant_cluster_df_helper: 610/1333 for 3017 instances\r",
        "mk_redundant_cluster_df_helper: 611/1333 for 3017 instances\r",
        "mk_redundant_cluster_df_helper: 612/1333 for 3017 instances\r",
        "mk_redundant_cluster_df_helper: 613/1333 for 3017 instances\r",
        "mk_redundant_cluster_df_helper: 614/1333 for 3017 instances\r",
        "mk_redundant_cluster_df_helper: 615/1333 for 3017 instances"
       ]
      },
      {
       "output_type": "stream",
       "stream": "stdout",
       "text": [
        "\r",
        "mk_redundant_cluster_df_helper: 616/1333 for 3017 instances\r",
        "mk_redundant_cluster_df_helper: 617/1333 for 3017 instances\r",
        "mk_redundant_cluster_df_helper: 618/1333 for 3017 instances\r",
        "mk_redundant_cluster_df_helper: 619/1333 for 3017 instances\r",
        "mk_redundant_cluster_df_helper: 620/1333 for 3017 instances\r",
        "mk_redundant_cluster_df_helper: 621/1333 for 3017 instances\r",
        "mk_redundant_cluster_df_helper: 622/1333 for 3017 instances\r",
        "mk_redundant_cluster_df_helper: 623/1333 for 3017 instances\r",
        "mk_redundant_cluster_df_helper: 624/1333 for 3017 instances\r",
        "mk_redundant_cluster_df_helper: 625/1333 for 3017 instances"
       ]
      },
      {
       "output_type": "stream",
       "stream": "stdout",
       "text": [
        "\r",
        "mk_redundant_cluster_df_helper: 626/1333 for 3017 instances\r",
        "mk_redundant_cluster_df_helper: 627/1333 for 3017 instances\r",
        "mk_redundant_cluster_df_helper: 628/1333 for 3017 instances\r",
        "mk_redundant_cluster_df_helper: 629/1333 for 3017 instances\r",
        "mk_redundant_cluster_df_helper: 630/1333 for 3017 instances\r",
        "mk_redundant_cluster_df_helper: 631/1333 for 3017 instances"
       ]
      },
      {
       "output_type": "stream",
       "stream": "stdout",
       "text": [
        "\r",
        "mk_redundant_cluster_df_helper: 632/1333 for 3017 instances\r",
        "mk_redundant_cluster_df_helper: 633/1333 for 3017 instances\r",
        "mk_redundant_cluster_df_helper: 634/1333 for 3017 instances\r",
        "mk_redundant_cluster_df_helper: 635/1333 for 3017 instances\r",
        "mk_redundant_cluster_df_helper: 636/1333 for 3017 instances\r",
        "mk_redundant_cluster_df_helper: 637/1333 for 3017 instances"
       ]
      },
      {
       "output_type": "stream",
       "stream": "stdout",
       "text": [
        "\r",
        "mk_redundant_cluster_df_helper: 638/1333 for 3017 instances\r",
        "mk_redundant_cluster_df_helper: 639/1333 for 3017 instances\r",
        "mk_redundant_cluster_df_helper: 640/1333 for 3017 instances\r",
        "mk_redundant_cluster_df_helper: 641/1333 for 3017 instances\r",
        "mk_redundant_cluster_df_helper: 642/1333 for 3017 instances\r",
        "mk_redundant_cluster_df_helper: 643/1333 for 3017 instances"
       ]
      },
      {
       "output_type": "stream",
       "stream": "stdout",
       "text": [
        "\r",
        "mk_redundant_cluster_df_helper: 644/1333 for 3017 instances\r",
        "mk_redundant_cluster_df_helper: 645/1333 for 3017 instances\r",
        "mk_redundant_cluster_df_helper: 646/1333 for 3017 instances\r",
        "mk_redundant_cluster_df_helper: 647/1333 for 3017 instances\r",
        "mk_redundant_cluster_df_helper: 648/1333 for 3017 instances\r",
        "mk_redundant_cluster_df_helper: 649/1333 for 3017 instances\r",
        "mk_redundant_cluster_df_helper: 650/1333 for 3017 instances\r",
        "mk_redundant_cluster_df_helper: 651/1333 for 3017 instances\r",
        "mk_redundant_cluster_df_helper: 652/1333 for 3017 instances\r",
        "mk_redundant_cluster_df_helper: 653/1333 for 3017 instances\r",
        "mk_redundant_cluster_df_helper: 654/1333 for 3017 instances\r",
        "mk_redundant_cluster_df_helper: 655/1333 for 3017 instances\r",
        "mk_redundant_cluster_df_helper: 656/1333 for 3017 instances\r",
        "mk_redundant_cluster_df_helper: 657/1333 for 3017 instances\r",
        "mk_redundant_cluster_df_helper: 658/1333 for 3017 instances\r",
        "mk_redundant_cluster_df_helper: 659/1333 for 3017 instances"
       ]
      },
      {
       "output_type": "stream",
       "stream": "stdout",
       "text": [
        "\r",
        "mk_redundant_cluster_df_helper: 660/1333 for 3017 instances\r",
        "mk_redundant_cluster_df_helper: 661/1333 for 3017 instances\r",
        "mk_redundant_cluster_df_helper: 662/1333 for 3017 instances\r",
        "mk_redundant_cluster_df_helper: 663/1333 for 3017 instances\r",
        "mk_redundant_cluster_df_helper: 664/1333 for 3017 instances\r",
        "mk_redundant_cluster_df_helper: 665/1333 for 3017 instances\r",
        "mk_redundant_cluster_df_helper: 666/1333 for 3017 instances\r",
        "mk_redundant_cluster_df_helper: 667/1333 for 3017 instances\r",
        "mk_redundant_cluster_df_helper: 668/1333 for 3017 instances\r",
        "mk_redundant_cluster_df_helper: 669/1333 for 3017 instances\r",
        "mk_redundant_cluster_df_helper: 670/1333 for 3017 instances\r",
        "mk_redundant_cluster_df_helper: 671/1333 for 3017 instances\r",
        "mk_redundant_cluster_df_helper: 672/1333 for 3017 instances\r",
        "mk_redundant_cluster_df_helper: 673/1333 for 3017 instances\r",
        "mk_redundant_cluster_df_helper: 674/1333 for 3017 instances\r",
        "mk_redundant_cluster_df_helper: 675/1333 for 3017 instances\r",
        "mk_redundant_cluster_df_helper: 676/1333 for 3017 instances\r",
        "mk_redundant_cluster_df_helper: 677/1333 for 3017 instances\r",
        "mk_redundant_cluster_df_helper: 678/1333 for 3017 instances\r",
        "mk_redundant_cluster_df_helper: 679/1333 for 3017 instances\r",
        "mk_redundant_cluster_df_helper: 680/1333 for 3017 instances"
       ]
      },
      {
       "output_type": "stream",
       "stream": "stdout",
       "text": [
        "\r",
        "mk_redundant_cluster_df_helper: 681/1333 for 3017 instances\r",
        "mk_redundant_cluster_df_helper: 682/1333 for 3017 instances\r",
        "mk_redundant_cluster_df_helper: 683/1333 for 3017 instances\r",
        "mk_redundant_cluster_df_helper: 684/1333 for 3017 instances\r",
        "mk_redundant_cluster_df_helper: 685/1333 for 3017 instances\r",
        "mk_redundant_cluster_df_helper: 686/1333 for 3017 instances\r",
        "mk_redundant_cluster_df_helper: 687/1333 for 3017 instances\r",
        "mk_redundant_cluster_df_helper: 688/1333 for 3017 instances\r",
        "mk_redundant_cluster_df_helper: 689/1333 for 3017 instances\r",
        "mk_redundant_cluster_df_helper: 690/1333 for 3017 instances\r",
        "mk_redundant_cluster_df_helper: 691/1333 for 3017 instances\r",
        "mk_redundant_cluster_df_helper: 692/1333 for 3017 instances\r",
        "mk_redundant_cluster_df_helper: 693/1333 for 3017 instances\r",
        "mk_redundant_cluster_df_helper: 694/1333 for 3017 instances\r",
        "mk_redundant_cluster_df_helper: 695/1333 for 3017 instances"
       ]
      },
      {
       "output_type": "stream",
       "stream": "stdout",
       "text": [
        "\r",
        "mk_redundant_cluster_df_helper: 696/1333 for 3017 instances\r",
        "mk_redundant_cluster_df_helper: 697/1333 for 3017 instances\r",
        "mk_redundant_cluster_df_helper: 698/1333 for 3017 instances\r",
        "mk_redundant_cluster_df_helper: 699/1333 for 3017 instances\r",
        "mk_redundant_cluster_df_helper: 700/1333 for 3017 instances\r",
        "mk_redundant_cluster_df_helper: 701/1333 for 3017 instances\r",
        "mk_redundant_cluster_df_helper: 702/1333 for 3017 instances\r",
        "mk_redundant_cluster_df_helper: 703/1333 for 3017 instances\r",
        "mk_redundant_cluster_df_helper: 704/1333 for 3017 instances"
       ]
      },
      {
       "output_type": "stream",
       "stream": "stdout",
       "text": [
        "\r",
        "mk_redundant_cluster_df_helper: 705/1333 for 3017 instances\r",
        "mk_redundant_cluster_df_helper: 706/1333 for 3017 instances\r",
        "mk_redundant_cluster_df_helper: 707/1333 for 3017 instances\r",
        "mk_redundant_cluster_df_helper: 708/1333 for 3017 instances\r",
        "mk_redundant_cluster_df_helper: 709/1333 for 3017 instances\r",
        "mk_redundant_cluster_df_helper: 710/1333 for 3017 instances\r",
        "mk_redundant_cluster_df_helper: 711/1333 for 3017 instances\r",
        "mk_redundant_cluster_df_helper: 712/1333 for 3017 instances\r",
        "mk_redundant_cluster_df_helper: 713/1333 for 3017 instances\r",
        "mk_redundant_cluster_df_helper: 714/1333 for 3017 instances\r",
        "mk_redundant_cluster_df_helper: 715/1333 for 3017 instances\r",
        "mk_redundant_cluster_df_helper: 716/1333 for 3017 instances\r",
        "mk_redundant_cluster_df_helper: 717/1333 for 3017 instances\r",
        "mk_redundant_cluster_df_helper: 718/1333 for 3017 instances\r",
        "mk_redundant_cluster_df_helper: 719/1333 for 3017 instances\r",
        "mk_redundant_cluster_df_helper: 720/1333 for 3017 instances\r",
        "mk_redundant_cluster_df_helper: 721/1333 for 3017 instances\r",
        "mk_redundant_cluster_df_helper: 722/1333 for 3017 instances\r",
        "mk_redundant_cluster_df_helper: 723/1333 for 3017 instances\r",
        "mk_redundant_cluster_df_helper: 724/1333 for 3017 instances\r",
        "mk_redundant_cluster_df_helper: 725/1333 for 3017 instances\r",
        "mk_redundant_cluster_df_helper: 726/1333 for 3017 instances\r",
        "mk_redundant_cluster_df_helper: 727/1333 for 3017 instances\r",
        "mk_redundant_cluster_df_helper: 728/1333 for 3017 instances\r",
        "mk_redundant_cluster_df_helper: 729/1333 for 3017 instances"
       ]
      },
      {
       "output_type": "stream",
       "stream": "stdout",
       "text": [
        "\r",
        "mk_redundant_cluster_df_helper: 730/1333 for 3017 instances\r",
        "mk_redundant_cluster_df_helper: 731/1333 for 3017 instances\r",
        "mk_redundant_cluster_df_helper: 732/1333 for 3017 instances\r",
        "mk_redundant_cluster_df_helper: 733/1333 for 3017 instances\r",
        "mk_redundant_cluster_df_helper: 734/1333 for 3017 instances\r",
        "mk_redundant_cluster_df_helper: 735/1333 for 3017 instances\r",
        "mk_redundant_cluster_df_helper: 736/1333 for 3017 instances\r",
        "mk_redundant_cluster_df_helper: 737/1333 for 3017 instances\r",
        "mk_redundant_cluster_df_helper: 738/1333 for 3017 instances\r",
        "mk_redundant_cluster_df_helper: 739/1333 for 3017 instances\r",
        "mk_redundant_cluster_df_helper: 740/1333 for 3017 instances"
       ]
      },
      {
       "output_type": "stream",
       "stream": "stdout",
       "text": [
        "\r",
        "mk_redundant_cluster_df_helper: 741/1333 for 3017 instances\r",
        "mk_redundant_cluster_df_helper: 742/1333 for 3017 instances"
       ]
      },
      {
       "output_type": "stream",
       "stream": "stdout",
       "text": [
        "\r",
        "mk_redundant_cluster_df_helper: 743/1333 for 3017 instances\r",
        "mk_redundant_cluster_df_helper: 744/1333 for 3017 instances\r",
        "mk_redundant_cluster_df_helper: 745/1333 for 3017 instances"
       ]
      },
      {
       "output_type": "stream",
       "stream": "stdout",
       "text": [
        "\r",
        "mk_redundant_cluster_df_helper: 746/1333 for 3017 instances\r",
        "mk_redundant_cluster_df_helper: 747/1333 for 3017 instances\r",
        "mk_redundant_cluster_df_helper: 748/1333 for 3017 instances"
       ]
      },
      {
       "output_type": "stream",
       "stream": "stdout",
       "text": [
        "\r",
        "mk_redundant_cluster_df_helper: 749/1333 for 3017 instances\r",
        "mk_redundant_cluster_df_helper: 750/1333 for 3017 instances\r",
        "mk_redundant_cluster_df_helper: 751/1333 for 3017 instances"
       ]
      },
      {
       "output_type": "stream",
       "stream": "stdout",
       "text": [
        "\r",
        "mk_redundant_cluster_df_helper: 752/1333 for 3017 instances\r",
        "mk_redundant_cluster_df_helper: 753/1333 for 3017 instances\r",
        "mk_redundant_cluster_df_helper: 754/1333 for 3017 instances"
       ]
      },
      {
       "output_type": "stream",
       "stream": "stdout",
       "text": [
        "\r",
        "mk_redundant_cluster_df_helper: 755/1333 for 3017 instances\r",
        "mk_redundant_cluster_df_helper: 756/1333 for 3017 instances\r",
        "mk_redundant_cluster_df_helper: 757/1333 for 3017 instances"
       ]
      },
      {
       "output_type": "stream",
       "stream": "stdout",
       "text": [
        "\r",
        "mk_redundant_cluster_df_helper: 758/1333 for 3017 instances\r",
        "mk_redundant_cluster_df_helper: 759/1333 for 3017 instances\r",
        "mk_redundant_cluster_df_helper: 760/1333 for 3017 instances"
       ]
      },
      {
       "output_type": "stream",
       "stream": "stdout",
       "text": [
        "\r",
        "mk_redundant_cluster_df_helper: 761/1333 for 3017 instances\r",
        "mk_redundant_cluster_df_helper: 762/1333 for 3017 instances\r",
        "mk_redundant_cluster_df_helper: 763/1333 for 3017 instances"
       ]
      },
      {
       "output_type": "stream",
       "stream": "stdout",
       "text": [
        "\r",
        "mk_redundant_cluster_df_helper: 764/1333 for 3017 instances\r",
        "mk_redundant_cluster_df_helper: 765/1333 for 3017 instances\r",
        "mk_redundant_cluster_df_helper: 766/1333 for 3017 instances"
       ]
      },
      {
       "output_type": "stream",
       "stream": "stdout",
       "text": [
        "\r",
        "mk_redundant_cluster_df_helper: 767/1333 for 3017 instances\r",
        "mk_redundant_cluster_df_helper: 768/1333 for 3017 instances\r",
        "mk_redundant_cluster_df_helper: 769/1333 for 3017 instances"
       ]
      },
      {
       "output_type": "stream",
       "stream": "stdout",
       "text": [
        "\r",
        "mk_redundant_cluster_df_helper: 770/1333 for 3017 instances\r",
        "mk_redundant_cluster_df_helper: 771/1333 for 3017 instances\r",
        "mk_redundant_cluster_df_helper: 772/1333 for 3017 instances"
       ]
      },
      {
       "output_type": "stream",
       "stream": "stdout",
       "text": [
        "\r",
        "mk_redundant_cluster_df_helper: 773/1333 for 3017 instances\r",
        "mk_redundant_cluster_df_helper: 774/1333 for 3017 instances\r",
        "mk_redundant_cluster_df_helper: 775/1333 for 3017 instances"
       ]
      },
      {
       "output_type": "stream",
       "stream": "stdout",
       "text": [
        "\r",
        "mk_redundant_cluster_df_helper: 776/1333 for 3017 instances\r",
        "mk_redundant_cluster_df_helper: 777/1333 for 3017 instances\r",
        "mk_redundant_cluster_df_helper: 778/1333 for 3017 instances"
       ]
      },
      {
       "output_type": "stream",
       "stream": "stdout",
       "text": [
        "\r",
        "mk_redundant_cluster_df_helper: 779/1333 for 3017 instances\r",
        "mk_redundant_cluster_df_helper: 780/1333 for 3017 instances\r",
        "mk_redundant_cluster_df_helper: 781/1333 for 3017 instances"
       ]
      },
      {
       "output_type": "stream",
       "stream": "stdout",
       "text": [
        "\r",
        "mk_redundant_cluster_df_helper: 782/1333 for 3017 instances\r",
        "mk_redundant_cluster_df_helper: 783/1333 for 3017 instances\r",
        "mk_redundant_cluster_df_helper: 784/1333 for 3017 instances"
       ]
      },
      {
       "output_type": "stream",
       "stream": "stdout",
       "text": [
        "\r",
        "mk_redundant_cluster_df_helper: 785/1333 for 3017 instances\r",
        "mk_redundant_cluster_df_helper: 786/1333 for 3017 instances\r",
        "mk_redundant_cluster_df_helper: 787/1333 for 3017 instances"
       ]
      },
      {
       "output_type": "stream",
       "stream": "stdout",
       "text": [
        "\r",
        "mk_redundant_cluster_df_helper: 788/1333 for 3017 instances\r",
        "mk_redundant_cluster_df_helper: 789/1333 for 3017 instances\r",
        "mk_redundant_cluster_df_helper: 790/1333 for 3017 instances"
       ]
      },
      {
       "output_type": "stream",
       "stream": "stdout",
       "text": [
        "\r",
        "mk_redundant_cluster_df_helper: 791/1333 for 3017 instances\r",
        "mk_redundant_cluster_df_helper: 792/1333 for 3017 instances\r",
        "mk_redundant_cluster_df_helper: 793/1333 for 3017 instances"
       ]
      },
      {
       "output_type": "stream",
       "stream": "stdout",
       "text": [
        "\r",
        "mk_redundant_cluster_df_helper: 794/1333 for 3017 instances\r",
        "mk_redundant_cluster_df_helper: 795/1333 for 3017 instances\r",
        "mk_redundant_cluster_df_helper: 796/1333 for 3017 instances"
       ]
      },
      {
       "output_type": "stream",
       "stream": "stdout",
       "text": [
        "\r",
        "mk_redundant_cluster_df_helper: 797/1333 for 3017 instances\r",
        "mk_redundant_cluster_df_helper: 798/1333 for 3017 instances\r",
        "mk_redundant_cluster_df_helper: 799/1333 for 3017 instances"
       ]
      },
      {
       "output_type": "stream",
       "stream": "stdout",
       "text": [
        "\r",
        "mk_redundant_cluster_df_helper: 800/1333 for 3017 instances\r",
        "mk_redundant_cluster_df_helper: 801/1333 for 3017 instances\r",
        "mk_redundant_cluster_df_helper: 802/1333 for 3017 instances\r",
        "mk_redundant_cluster_df_helper: 803/1333 for 3017 instances\r",
        "mk_redundant_cluster_df_helper: 804/1333 for 3017 instances\r",
        "mk_redundant_cluster_df_helper: 805/1333 for 3017 instances\r",
        "mk_redundant_cluster_df_helper: 806/1333 for 3017 instances\r",
        "mk_redundant_cluster_df_helper: 807/1333 for 3017 instances\r",
        "mk_redundant_cluster_df_helper: 808/1333 for 3017 instances\r",
        "mk_redundant_cluster_df_helper: 809/1333 for 3017 instances"
       ]
      },
      {
       "output_type": "stream",
       "stream": "stdout",
       "text": [
        "\r",
        "mk_redundant_cluster_df_helper: 810/1333 for 3017 instances\r",
        "mk_redundant_cluster_df_helper: 811/1333 for 3017 instances\r",
        "mk_redundant_cluster_df_helper: 812/1333 for 3017 instances\r",
        "mk_redundant_cluster_df_helper: 813/1333 for 3017 instances\r",
        "mk_redundant_cluster_df_helper: 814/1333 for 3017 instances\r",
        "mk_redundant_cluster_df_helper: 815/1333 for 3017 instances\r",
        "mk_redundant_cluster_df_helper: 816/1333 for 3017 instances\r",
        "mk_redundant_cluster_df_helper: 817/1333 for 3017 instances\r",
        "mk_redundant_cluster_df_helper: 818/1333 for 3017 instances\r",
        "mk_redundant_cluster_df_helper: 819/1333 for 3017 instances\r",
        "mk_redundant_cluster_df_helper: 820/1333 for 3017 instances\r",
        "mk_redundant_cluster_df_helper: 821/1333 for 3017 instances\r",
        "mk_redundant_cluster_df_helper: 822/1333 for 3017 instances\r",
        "mk_redundant_cluster_df_helper: 823/1333 for 3017 instances\r",
        "mk_redundant_cluster_df_helper: 824/1333 for 3017 instances\r",
        "mk_redundant_cluster_df_helper: 825/1333 for 3017 instances\r",
        "mk_redundant_cluster_df_helper: 826/1333 for 3017 instances"
       ]
      },
      {
       "output_type": "stream",
       "stream": "stdout",
       "text": [
        "\r",
        "mk_redundant_cluster_df_helper: 827/1333 for 3017 instances\r",
        "mk_redundant_cluster_df_helper: 828/1333 for 3017 instances\r",
        "mk_redundant_cluster_df_helper: 829/1333 for 3017 instances\r",
        "mk_redundant_cluster_df_helper: 830/1333 for 3017 instances\r",
        "mk_redundant_cluster_df_helper: 831/1333 for 3017 instances\r",
        "mk_redundant_cluster_df_helper: 832/1333 for 3017 instances"
       ]
      },
      {
       "output_type": "stream",
       "stream": "stdout",
       "text": [
        "\r",
        "mk_redundant_cluster_df_helper: 833/1333 for 3017 instances\r",
        "mk_redundant_cluster_df_helper: 834/1333 for 3017 instances\r",
        "mk_redundant_cluster_df_helper: 835/1333 for 3017 instances\r",
        "mk_redundant_cluster_df_helper: 836/1333 for 3017 instances\r",
        "mk_redundant_cluster_df_helper: 837/1333 for 3017 instances"
       ]
      },
      {
       "output_type": "stream",
       "stream": "stdout",
       "text": [
        "\r",
        "mk_redundant_cluster_df_helper: 838/1333 for 3017 instances\r",
        "mk_redundant_cluster_df_helper: 839/1333 for 3017 instances\r",
        "mk_redundant_cluster_df_helper: 840/1333 for 3017 instances\r",
        "mk_redundant_cluster_df_helper: 841/1333 for 3017 instances\r",
        "mk_redundant_cluster_df_helper: 842/1333 for 3017 instances\r",
        "mk_redundant_cluster_df_helper: 843/1333 for 3017 instances"
       ]
      },
      {
       "output_type": "stream",
       "stream": "stdout",
       "text": [
        "\r",
        "mk_redundant_cluster_df_helper: 844/1333 for 3017 instances\r",
        "mk_redundant_cluster_df_helper: 845/1333 for 3017 instances\r",
        "mk_redundant_cluster_df_helper: 846/1333 for 3017 instances\r",
        "mk_redundant_cluster_df_helper: 847/1333 for 3017 instances\r",
        "mk_redundant_cluster_df_helper: 848/1333 for 3017 instances\r",
        "mk_redundant_cluster_df_helper: 849/1333 for 3017 instances"
       ]
      },
      {
       "output_type": "stream",
       "stream": "stdout",
       "text": [
        "\r",
        "mk_redundant_cluster_df_helper: 850/1333 for 3017 instances\r",
        "mk_redundant_cluster_df_helper: 851/1333 for 3017 instances\r",
        "mk_redundant_cluster_df_helper: 852/1333 for 3017 instances\r",
        "mk_redundant_cluster_df_helper: 853/1333 for 3017 instances\r",
        "mk_redundant_cluster_df_helper: 854/1333 for 3017 instances\r",
        "mk_redundant_cluster_df_helper: 855/1333 for 3017 instances\r",
        "mk_redundant_cluster_df_helper: 856/1333 for 3017 instances\r",
        "mk_redundant_cluster_df_helper: 857/1333 for 3017 instances\r",
        "mk_redundant_cluster_df_helper: 858/1333 for 3017 instances\r",
        "mk_redundant_cluster_df_helper: 859/1333 for 3017 instances\r",
        "mk_redundant_cluster_df_helper: 860/1333 for 3017 instances\r",
        "mk_redundant_cluster_df_helper: 861/1333 for 3017 instances\r",
        "mk_redundant_cluster_df_helper: 862/1333 for 3017 instances\r",
        "mk_redundant_cluster_df_helper: 863/1333 for 3017 instances\r",
        "mk_redundant_cluster_df_helper: 864/1333 for 3017 instances\r",
        "mk_redundant_cluster_df_helper: 865/1333 for 3017 instances\r",
        "mk_redundant_cluster_df_helper: 866/1333 for 3017 instances\r",
        "mk_redundant_cluster_df_helper: 867/1333 for 3017 instances\r",
        "mk_redundant_cluster_df_helper: 868/1333 for 3017 instances\r",
        "mk_redundant_cluster_df_helper: 869/1333 for 3017 instances\r",
        "mk_redundant_cluster_df_helper: 870/1333 for 3017 instances\r",
        "mk_redundant_cluster_df_helper: 871/1333 for 3017 instances\r",
        "mk_redundant_cluster_df_helper: 872/1333 for 3017 instances\r",
        "mk_redundant_cluster_df_helper: 873/1333 for 3017 instances\r",
        "mk_redundant_cluster_df_helper: 874/1333 for 3017 instances\r",
        "mk_redundant_cluster_df_helper: 875/1333 for 3017 instances\r",
        "mk_redundant_cluster_df_helper: 876/1333 for 3017 instances\r",
        "mk_redundant_cluster_df_helper: 877/1333 for 3017 instances\r",
        "mk_redundant_cluster_df_helper: 878/1333 for 3017 instances\r",
        "mk_redundant_cluster_df_helper: 879/1333 for 3017 instances\r",
        "mk_redundant_cluster_df_helper: 880/1333 for 3017 instances"
       ]
      },
      {
       "output_type": "stream",
       "stream": "stdout",
       "text": [
        "\r",
        "mk_redundant_cluster_df_helper: 881/1333 for 3017 instances\r",
        "mk_redundant_cluster_df_helper: 882/1333 for 3017 instances\r",
        "mk_redundant_cluster_df_helper: 883/1333 for 3017 instances\r",
        "mk_redundant_cluster_df_helper: 884/1333 for 3017 instances\r",
        "mk_redundant_cluster_df_helper: 885/1333 for 3017 instances\r",
        "mk_redundant_cluster_df_helper: 886/1333 for 3017 instances\r",
        "mk_redundant_cluster_df_helper: 887/1333 for 3017 instances\r",
        "mk_redundant_cluster_df_helper: 888/1333 for 3017 instances\r",
        "mk_redundant_cluster_df_helper: 889/1333 for 3017 instances\r",
        "mk_redundant_cluster_df_helper: 890/1333 for 3017 instances\r",
        "mk_redundant_cluster_df_helper: 891/1333 for 3017 instances\r",
        "mk_redundant_cluster_df_helper: 892/1333 for 3017 instances\r",
        "mk_redundant_cluster_df_helper: 893/1333 for 3017 instances\r",
        "mk_redundant_cluster_df_helper: 894/1333 for 3017 instances\r",
        "mk_redundant_cluster_df_helper: 895/1333 for 3017 instances\r",
        "mk_redundant_cluster_df_helper: 896/1333 for 3017 instances\r",
        "mk_redundant_cluster_df_helper: 897/1333 for 3017 instances\r",
        "mk_redundant_cluster_df_helper: 898/1333 for 3017 instances\r",
        "mk_redundant_cluster_df_helper: 899/1333 for 3017 instances\r",
        "mk_redundant_cluster_df_helper: 900/1333 for 3017 instances\r",
        "mk_redundant_cluster_df_helper: 901/1333 for 3017 instances\r",
        "mk_redundant_cluster_df_helper: 902/1333 for 3017 instances\r",
        "mk_redundant_cluster_df_helper: 903/1333 for 3017 instances\r",
        "mk_redundant_cluster_df_helper: 904/1333 for 3017 instances"
       ]
      },
      {
       "output_type": "stream",
       "stream": "stdout",
       "text": [
        "\r",
        "mk_redundant_cluster_df_helper: 905/1333 for 3017 instances\r",
        "mk_redundant_cluster_df_helper: 906/1333 for 3017 instances\r",
        "mk_redundant_cluster_df_helper: 907/1333 for 3017 instances\r",
        "mk_redundant_cluster_df_helper: 908/1333 for 3017 instances\r",
        "mk_redundant_cluster_df_helper: 909/1333 for 3017 instances\r",
        "mk_redundant_cluster_df_helper: 910/1333 for 3017 instances\r",
        "mk_redundant_cluster_df_helper: 911/1333 for 3017 instances\r",
        "mk_redundant_cluster_df_helper: 912/1333 for 3017 instances\r",
        "mk_redundant_cluster_df_helper: 913/1333 for 3017 instances\r",
        "mk_redundant_cluster_df_helper: 914/1333 for 3017 instances"
       ]
      },
      {
       "output_type": "stream",
       "stream": "stdout",
       "text": [
        "\r",
        "mk_redundant_cluster_df_helper: 915/1333 for 3017 instances\r",
        "mk_redundant_cluster_df_helper: 916/1333 for 3017 instances\r",
        "mk_redundant_cluster_df_helper: 917/1333 for 3017 instances\r",
        "mk_redundant_cluster_df_helper: 918/1333 for 3017 instances\r",
        "mk_redundant_cluster_df_helper: 919/1333 for 3017 instances"
       ]
      },
      {
       "output_type": "stream",
       "stream": "stdout",
       "text": [
        "\r",
        "mk_redundant_cluster_df_helper: 920/1333 for 3017 instances\r",
        "mk_redundant_cluster_df_helper: 921/1333 for 3017 instances\r",
        "mk_redundant_cluster_df_helper: 922/1333 for 3017 instances\r",
        "mk_redundant_cluster_df_helper: 923/1333 for 3017 instances\r",
        "mk_redundant_cluster_df_helper: 924/1333 for 3017 instances"
       ]
      },
      {
       "output_type": "stream",
       "stream": "stdout",
       "text": [
        "\r",
        "mk_redundant_cluster_df_helper: 925/1333 for 3017 instances\r",
        "mk_redundant_cluster_df_helper: 926/1333 for 3017 instances\r",
        "mk_redundant_cluster_df_helper: 927/1333 for 3017 instances\r",
        "mk_redundant_cluster_df_helper: 928/1333 for 3017 instances\r",
        "mk_redundant_cluster_df_helper: 929/1333 for 3017 instances"
       ]
      },
      {
       "output_type": "stream",
       "stream": "stdout",
       "text": [
        "\r",
        "mk_redundant_cluster_df_helper: 930/1333 for 3017 instances\r",
        "mk_redundant_cluster_df_helper: 931/1333 for 3017 instances\r",
        "mk_redundant_cluster_df_helper: 932/1333 for 3017 instances\r",
        "mk_redundant_cluster_df_helper: 933/1333 for 3017 instances\r",
        "mk_redundant_cluster_df_helper: 934/1333 for 3017 instances"
       ]
      },
      {
       "output_type": "stream",
       "stream": "stdout",
       "text": [
        "\r",
        "mk_redundant_cluster_df_helper: 935/1333 for 3017 instances\r",
        "mk_redundant_cluster_df_helper: 936/1333 for 3017 instances\r",
        "mk_redundant_cluster_df_helper: 937/1333 for 3017 instances\r",
        "mk_redundant_cluster_df_helper: 938/1333 for 3017 instances\r",
        "mk_redundant_cluster_df_helper: 939/1333 for 3017 instances"
       ]
      },
      {
       "output_type": "stream",
       "stream": "stdout",
       "text": [
        "\r",
        "mk_redundant_cluster_df_helper: 940/1333 for 3017 instances\r",
        "mk_redundant_cluster_df_helper: 941/1333 for 3017 instances\r",
        "mk_redundant_cluster_df_helper: 942/1333 for 3017 instances\r",
        "mk_redundant_cluster_df_helper: 943/1333 for 3017 instances\r",
        "mk_redundant_cluster_df_helper: 944/1333 for 3017 instances\r",
        "mk_redundant_cluster_df_helper: 945/1333 for 3017 instances\r",
        "mk_redundant_cluster_df_helper: 946/1333 for 3017 instances\r",
        "mk_redundant_cluster_df_helper: 947/1333 for 3017 instances"
       ]
      },
      {
       "output_type": "stream",
       "stream": "stdout",
       "text": [
        "\r",
        "mk_redundant_cluster_df_helper: 948/1333 for 3017 instances\r",
        "mk_redundant_cluster_df_helper: 949/1333 for 3017 instances\r",
        "mk_redundant_cluster_df_helper: 950/1333 for 3017 instances\r",
        "mk_redundant_cluster_df_helper: 951/1333 for 3017 instances\r",
        "mk_redundant_cluster_df_helper: 952/1333 for 3017 instances"
       ]
      },
      {
       "output_type": "stream",
       "stream": "stdout",
       "text": [
        "\r",
        "mk_redundant_cluster_df_helper: 953/1333 for 3017 instances\r",
        "mk_redundant_cluster_df_helper: 954/1333 for 3017 instances\r",
        "mk_redundant_cluster_df_helper: 955/1333 for 3017 instances\r",
        "mk_redundant_cluster_df_helper: 956/1333 for 3017 instances\r",
        "mk_redundant_cluster_df_helper: 957/1333 for 3017 instances"
       ]
      },
      {
       "output_type": "stream",
       "stream": "stdout",
       "text": [
        "\r",
        "mk_redundant_cluster_df_helper: 958/1333 for 3017 instances\r",
        "mk_redundant_cluster_df_helper: 959/1333 for 3017 instances\r",
        "mk_redundant_cluster_df_helper: 960/1333 for 3017 instances\r",
        "mk_redundant_cluster_df_helper: 961/1333 for 3017 instances\r",
        "mk_redundant_cluster_df_helper: 962/1333 for 3017 instances"
       ]
      },
      {
       "output_type": "stream",
       "stream": "stdout",
       "text": [
        "\r",
        "mk_redundant_cluster_df_helper: 963/1333 for 3017 instances\r",
        "mk_redundant_cluster_df_helper: 964/1333 for 3017 instances\r",
        "mk_redundant_cluster_df_helper: 965/1333 for 3017 instances\r",
        "mk_redundant_cluster_df_helper: 966/1333 for 3017 instances\r",
        "mk_redundant_cluster_df_helper: 967/1333 for 3017 instances\r",
        "mk_redundant_cluster_df_helper: 968/1333 for 3017 instances"
       ]
      },
      {
       "output_type": "stream",
       "stream": "stdout",
       "text": [
        "\r",
        "mk_redundant_cluster_df_helper: 969/1333 for 3017 instances\r",
        "mk_redundant_cluster_df_helper: 970/1333 for 3017 instances\r",
        "mk_redundant_cluster_df_helper: 971/1333 for 3017 instances\r",
        "mk_redundant_cluster_df_helper: 972/1333 for 3017 instances\r",
        "mk_redundant_cluster_df_helper: 973/1333 for 3017 instances"
       ]
      },
      {
       "output_type": "stream",
       "stream": "stdout",
       "text": [
        "\r",
        "mk_redundant_cluster_df_helper: 974/1333 for 3017 instances\r",
        "mk_redundant_cluster_df_helper: 975/1333 for 3017 instances\r",
        "mk_redundant_cluster_df_helper: 976/1333 for 3017 instances\r",
        "mk_redundant_cluster_df_helper: 977/1333 for 3017 instances\r",
        "mk_redundant_cluster_df_helper: 978/1333 for 3017 instances\r",
        "mk_redundant_cluster_df_helper: 979/1333 for 3017 instances\r",
        "mk_redundant_cluster_df_helper: 980/1333 for 3017 instances"
       ]
      },
      {
       "output_type": "stream",
       "stream": "stdout",
       "text": [
        "\r",
        "mk_redundant_cluster_df_helper: 981/1333 for 3017 instances\r",
        "mk_redundant_cluster_df_helper: 982/1333 for 3017 instances\r",
        "mk_redundant_cluster_df_helper: 983/1333 for 3017 instances\r",
        "mk_redundant_cluster_df_helper: 984/1333 for 3017 instances\r",
        "mk_redundant_cluster_df_helper: 985/1333 for 3017 instances\r",
        "mk_redundant_cluster_df_helper: 986/1333 for 3017 instances\r",
        "mk_redundant_cluster_df_helper: 987/1333 for 3017 instances\r",
        "mk_redundant_cluster_df_helper: 988/1333 for 3017 instances"
       ]
      },
      {
       "output_type": "stream",
       "stream": "stdout",
       "text": [
        "\r",
        "mk_redundant_cluster_df_helper: 989/1333 for 3017 instances\r",
        "mk_redundant_cluster_df_helper: 990/1333 for 3017 instances\r",
        "mk_redundant_cluster_df_helper: 991/1333 for 3017 instances\r",
        "mk_redundant_cluster_df_helper: 992/1333 for 3017 instances\r",
        "mk_redundant_cluster_df_helper: 993/1333 for 3017 instances\r",
        "mk_redundant_cluster_df_helper: 994/1333 for 3017 instances\r",
        "mk_redundant_cluster_df_helper: 995/1333 for 3017 instances\r",
        "mk_redundant_cluster_df_helper: 996/1333 for 3017 instances\r",
        "mk_redundant_cluster_df_helper: 997/1333 for 3017 instances\r",
        "mk_redundant_cluster_df_helper: 998/1333 for 3017 instances\r",
        "mk_redundant_cluster_df_helper: 999/1333 for 3017 instances\r",
        "mk_redundant_cluster_df_helper: 1000/1333 for 3017 instances\r",
        "mk_redundant_cluster_df_helper: 1001/1333 for 3017 instances"
       ]
      },
      {
       "output_type": "stream",
       "stream": "stdout",
       "text": [
        "\r",
        "mk_redundant_cluster_df_helper: 1002/1333 for 3017 instances\r",
        "mk_redundant_cluster_df_helper: 1003/1333 for 3017 instances\r",
        "mk_redundant_cluster_df_helper: 1004/1333 for 3017 instances\r",
        "mk_redundant_cluster_df_helper: 1005/1333 for 3017 instances\r",
        "mk_redundant_cluster_df_helper: 1006/1333 for 3017 instances\r",
        "mk_redundant_cluster_df_helper: 1007/1333 for 3017 instances\r",
        "mk_redundant_cluster_df_helper: 1008/1333 for 3017 instances\r",
        "mk_redundant_cluster_df_helper: 1009/1333 for 3017 instances\r",
        "mk_redundant_cluster_df_helper: 1010/1333 for 3017 instances\r",
        "mk_redundant_cluster_df_helper: 1011/1333 for 3017 instances\r",
        "mk_redundant_cluster_df_helper: 1012/1333 for 3017 instances\r",
        "mk_redundant_cluster_df_helper: 1013/1333 for 3017 instances\r",
        "mk_redundant_cluster_df_helper: 1014/1333 for 3017 instances\r",
        "mk_redundant_cluster_df_helper: 1015/1333 for 3017 instances\r",
        "mk_redundant_cluster_df_helper: 1016/1333 for 3017 instances\r",
        "mk_redundant_cluster_df_helper: 1017/1333 for 3017 instances\r",
        "mk_redundant_cluster_df_helper: 1018/1333 for 3017 instances\r",
        "mk_redundant_cluster_df_helper: 1019/1333 for 3017 instances\r",
        "mk_redundant_cluster_df_helper: 1020/1333 for 3017 instances\r",
        "mk_redundant_cluster_df_helper: 1021/1333 for 3017 instances\r",
        "mk_redundant_cluster_df_helper: 1022/1333 for 3017 instances\r",
        "mk_redundant_cluster_df_helper: 1023/1333 for 3017 instances\r",
        "mk_redundant_cluster_df_helper: 1024/1333 for 3017 instances\r",
        "mk_redundant_cluster_df_helper: 1025/1333 for 3017 instances\r",
        "mk_redundant_cluster_df_helper: 1026/1333 for 3017 instances\r",
        "mk_redundant_cluster_df_helper: 1027/1333 for 3017 instances"
       ]
      },
      {
       "output_type": "stream",
       "stream": "stdout",
       "text": [
        "\r",
        "mk_redundant_cluster_df_helper: 1028/1333 for 3017 instances\r",
        "mk_redundant_cluster_df_helper: 1029/1333 for 3017 instances\r",
        "mk_redundant_cluster_df_helper: 1030/1333 for 3017 instances\r",
        "mk_redundant_cluster_df_helper: 1031/1333 for 3017 instances\r",
        "mk_redundant_cluster_df_helper: 1032/1333 for 3017 instances\r",
        "mk_redundant_cluster_df_helper: 1033/1333 for 3017 instances\r",
        "mk_redundant_cluster_df_helper: 1034/1333 for 3017 instances\r",
        "mk_redundant_cluster_df_helper: 1035/1333 for 3017 instances\r",
        "mk_redundant_cluster_df_helper: 1036/1333 for 3017 instances\r",
        "mk_redundant_cluster_df_helper: 1037/1333 for 3017 instances\r",
        "mk_redundant_cluster_df_helper: 1038/1333 for 3017 instances\r",
        "mk_redundant_cluster_df_helper: 1039/1333 for 3017 instances"
       ]
      },
      {
       "output_type": "stream",
       "stream": "stdout",
       "text": [
        "\r",
        "mk_redundant_cluster_df_helper: 1040/1333 for 3017 instances\r",
        "mk_redundant_cluster_df_helper: 1041/1333 for 3017 instances\r",
        "mk_redundant_cluster_df_helper: 1042/1333 for 3017 instances\r",
        "mk_redundant_cluster_df_helper: 1043/1333 for 3017 instances\r",
        "mk_redundant_cluster_df_helper: 1044/1333 for 3017 instances\r",
        "mk_redundant_cluster_df_helper: 1045/1333 for 3017 instances\r",
        "mk_redundant_cluster_df_helper: 1046/1333 for 3017 instances\r",
        "mk_redundant_cluster_df_helper: 1047/1333 for 3017 instances"
       ]
      },
      {
       "output_type": "stream",
       "stream": "stdout",
       "text": [
        "\r",
        "mk_redundant_cluster_df_helper: 1048/1333 for 3017 instances\r",
        "mk_redundant_cluster_df_helper: 1049/1333 for 3017 instances\r",
        "mk_redundant_cluster_df_helper: 1050/1333 for 3017 instances\r",
        "mk_redundant_cluster_df_helper: 1051/1333 for 3017 instances\r",
        "mk_redundant_cluster_df_helper: 1052/1333 for 3017 instances\r",
        "mk_redundant_cluster_df_helper: 1053/1333 for 3017 instances\r",
        "mk_redundant_cluster_df_helper: 1054/1333 for 3017 instances\r",
        "mk_redundant_cluster_df_helper: 1055/1333 for 3017 instances\r",
        "mk_redundant_cluster_df_helper: 1056/1333 for 3017 instances\r",
        "mk_redundant_cluster_df_helper: 1057/1333 for 3017 instances\r",
        "mk_redundant_cluster_df_helper: 1058/1333 for 3017 instances"
       ]
      },
      {
       "output_type": "stream",
       "stream": "stdout",
       "text": [
        "\r",
        "mk_redundant_cluster_df_helper: 1059/1333 for 3017 instances\r",
        "mk_redundant_cluster_df_helper: 1060/1333 for 3017 instances\r",
        "mk_redundant_cluster_df_helper: 1061/1333 for 3017 instances\r",
        "mk_redundant_cluster_df_helper: 1062/1333 for 3017 instances\r",
        "mk_redundant_cluster_df_helper: 1063/1333 for 3017 instances\r",
        "mk_redundant_cluster_df_helper: 1064/1333 for 3017 instances\r",
        "mk_redundant_cluster_df_helper: 1065/1333 for 3017 instances\r",
        "mk_redundant_cluster_df_helper: 1066/1333 for 3017 instances\r",
        "mk_redundant_cluster_df_helper: 1067/1333 for 3017 instances\r",
        "mk_redundant_cluster_df_helper: 1068/1333 for 3017 instances\r",
        "mk_redundant_cluster_df_helper: 1069/1333 for 3017 instances\r",
        "mk_redundant_cluster_df_helper: 1070/1333 for 3017 instances\r",
        "mk_redundant_cluster_df_helper: 1071/1333 for 3017 instances\r",
        "mk_redundant_cluster_df_helper: 1072/1333 for 3017 instances\r",
        "mk_redundant_cluster_df_helper: 1073/1333 for 3017 instances\r",
        "mk_redundant_cluster_df_helper: 1074/1333 for 3017 instances\r",
        "mk_redundant_cluster_df_helper: 1075/1333 for 3017 instances\r",
        "mk_redundant_cluster_df_helper: 1076/1333 for 3017 instances\r",
        "mk_redundant_cluster_df_helper: 1077/1333 for 3017 instances\r",
        "mk_redundant_cluster_df_helper: 1078/1333 for 3017 instances\r",
        "mk_redundant_cluster_df_helper: 1079/1333 for 3017 instances\r",
        "mk_redundant_cluster_df_helper: 1080/1333 for 3017 instances\r",
        "mk_redundant_cluster_df_helper: 1081/1333 for 3017 instances\r",
        "mk_redundant_cluster_df_helper: 1082/1333 for 3017 instances"
       ]
      },
      {
       "output_type": "stream",
       "stream": "stdout",
       "text": [
        "\r",
        "mk_redundant_cluster_df_helper: 1083/1333 for 3017 instances\r",
        "mk_redundant_cluster_df_helper: 1084/1333 for 3017 instances\r",
        "mk_redundant_cluster_df_helper: 1085/1333 for 3017 instances\r",
        "mk_redundant_cluster_df_helper: 1086/1333 for 3017 instances\r",
        "mk_redundant_cluster_df_helper: 1087/1333 for 3017 instances\r",
        "mk_redundant_cluster_df_helper: 1088/1333 for 3017 instances\r",
        "mk_redundant_cluster_df_helper: 1089/1333 for 3017 instances\r",
        "mk_redundant_cluster_df_helper: 1090/1333 for 3017 instances\r",
        "mk_redundant_cluster_df_helper: 1091/1333 for 3017 instances\r",
        "mk_redundant_cluster_df_helper: 1092/1333 for 3017 instances\r",
        "mk_redundant_cluster_df_helper: 1093/1333 for 3017 instances\r",
        "mk_redundant_cluster_df_helper: 1094/1333 for 3017 instances\r",
        "mk_redundant_cluster_df_helper: 1095/1333 for 3017 instances\r",
        "mk_redundant_cluster_df_helper: 1096/1333 for 3017 instances\r",
        "mk_redundant_cluster_df_helper: 1097/1333 for 3017 instances\r",
        "mk_redundant_cluster_df_helper: 1098/1333 for 3017 instances"
       ]
      },
      {
       "output_type": "stream",
       "stream": "stdout",
       "text": [
        "\r",
        "mk_redundant_cluster_df_helper: 1099/1333 for 3017 instances\r",
        "mk_redundant_cluster_df_helper: 1100/1333 for 3017 instances\r",
        "mk_redundant_cluster_df_helper: 1101/1333 for 3017 instances\r",
        "mk_redundant_cluster_df_helper: 1102/1333 for 3017 instances\r",
        "mk_redundant_cluster_df_helper: 1103/1333 for 3017 instances\r",
        "mk_redundant_cluster_df_helper: 1104/1333 for 3017 instances\r",
        "mk_redundant_cluster_df_helper: 1105/1333 for 3017 instances\r",
        "mk_redundant_cluster_df_helper: 1106/1333 for 3017 instances\r",
        "mk_redundant_cluster_df_helper: 1107/1333 for 3017 instances"
       ]
      },
      {
       "output_type": "stream",
       "stream": "stdout",
       "text": [
        "\r",
        "mk_redundant_cluster_df_helper: 1108/1333 for 3017 instances\r",
        "mk_redundant_cluster_df_helper: 1109/1333 for 3017 instances\r",
        "mk_redundant_cluster_df_helper: 1110/1333 for 3017 instances\r",
        "mk_redundant_cluster_df_helper: 1111/1333 for 3017 instances\r",
        "mk_redundant_cluster_df_helper: 1112/1333 for 3017 instances\r",
        "mk_redundant_cluster_df_helper: 1113/1333 for 3017 instances\r",
        "mk_redundant_cluster_df_helper: 1114/1333 for 3017 instances\r",
        "mk_redundant_cluster_df_helper: 1115/1333 for 3017 instances\r",
        "mk_redundant_cluster_df_helper: 1116/1333 for 3017 instances"
       ]
      },
      {
       "output_type": "stream",
       "stream": "stdout",
       "text": [
        "\r",
        "mk_redundant_cluster_df_helper: 1117/1333 for 3017 instances\r",
        "mk_redundant_cluster_df_helper: 1118/1333 for 3017 instances\r",
        "mk_redundant_cluster_df_helper: 1119/1333 for 3017 instances\r",
        "mk_redundant_cluster_df_helper: 1120/1333 for 3017 instances\r",
        "mk_redundant_cluster_df_helper: 1121/1333 for 3017 instances\r",
        "mk_redundant_cluster_df_helper: 1122/1333 for 3017 instances"
       ]
      },
      {
       "output_type": "stream",
       "stream": "stdout",
       "text": [
        "\r",
        "mk_redundant_cluster_df_helper: 1123/1333 for 3017 instances\r",
        "mk_redundant_cluster_df_helper: 1124/1333 for 3017 instances\r",
        "mk_redundant_cluster_df_helper: 1125/1333 for 3017 instances\r",
        "mk_redundant_cluster_df_helper: 1126/1333 for 3017 instances\r",
        "mk_redundant_cluster_df_helper: 1127/1333 for 3017 instances\r",
        "mk_redundant_cluster_df_helper: 1128/1333 for 3017 instances"
       ]
      },
      {
       "output_type": "stream",
       "stream": "stdout",
       "text": [
        "\r",
        "mk_redundant_cluster_df_helper: 1129/1333 for 3017 instances\r",
        "mk_redundant_cluster_df_helper: 1130/1333 for 3017 instances\r",
        "mk_redundant_cluster_df_helper: 1131/1333 for 3017 instances\r",
        "mk_redundant_cluster_df_helper: 1132/1333 for 3017 instances\r",
        "mk_redundant_cluster_df_helper: 1133/1333 for 3017 instances\r",
        "mk_redundant_cluster_df_helper: 1134/1333 for 3017 instances"
       ]
      },
      {
       "output_type": "stream",
       "stream": "stdout",
       "text": [
        "\r",
        "mk_redundant_cluster_df_helper: 1135/1333 for 3017 instances\r",
        "mk_redundant_cluster_df_helper: 1136/1333 for 3017 instances\r",
        "mk_redundant_cluster_df_helper: 1137/1333 for 3017 instances\r",
        "mk_redundant_cluster_df_helper: 1138/1333 for 3017 instances\r",
        "mk_redundant_cluster_df_helper: 1139/1333 for 3017 instances\r",
        "mk_redundant_cluster_df_helper: 1140/1333 for 3017 instances\r",
        "mk_redundant_cluster_df_helper: 1141/1333 for 3017 instances\r",
        "mk_redundant_cluster_df_helper: 1142/1333 for 3017 instances\r",
        "mk_redundant_cluster_df_helper: 1143/1333 for 3017 instances"
       ]
      },
      {
       "output_type": "stream",
       "stream": "stdout",
       "text": [
        "\r",
        "mk_redundant_cluster_df_helper: 1144/1333 for 3017 instances\r",
        "mk_redundant_cluster_df_helper: 1145/1333 for 3017 instances\r",
        "mk_redundant_cluster_df_helper: 1146/1333 for 3017 instances\r",
        "mk_redundant_cluster_df_helper: 1147/1333 for 3017 instances\r",
        "mk_redundant_cluster_df_helper: 1148/1333 for 3017 instances\r",
        "mk_redundant_cluster_df_helper: 1149/1333 for 3017 instances\r",
        "mk_redundant_cluster_df_helper: 1150/1333 for 3017 instances\r",
        "mk_redundant_cluster_df_helper: 1151/1333 for 3017 instances\r",
        "mk_redundant_cluster_df_helper: 1152/1333 for 3017 instances\r",
        "mk_redundant_cluster_df_helper: 1153/1333 for 3017 instances\r",
        "mk_redundant_cluster_df_helper: 1154/1333 for 3017 instances\r",
        "mk_redundant_cluster_df_helper: 1155/1333 for 3017 instances\r",
        "mk_redundant_cluster_df_helper: 1156/1333 for 3017 instances\r",
        "mk_redundant_cluster_df_helper: 1157/1333 for 3017 instances\r",
        "mk_redundant_cluster_df_helper: 1158/1333 for 3017 instances\r",
        "mk_redundant_cluster_df_helper: 1159/1333 for 3017 instances\r",
        "mk_redundant_cluster_df_helper: 1160/1333 for 3017 instances\r",
        "mk_redundant_cluster_df_helper: 1161/1333 for 3017 instances\r",
        "mk_redundant_cluster_df_helper: 1162/1333 for 3017 instances\r",
        "mk_redundant_cluster_df_helper: 1163/1333 for 3017 instances\r",
        "mk_redundant_cluster_df_helper: 1164/1333 for 3017 instances\r",
        "mk_redundant_cluster_df_helper: 1165/1333 for 3017 instances"
       ]
      },
      {
       "output_type": "stream",
       "stream": "stdout",
       "text": [
        "\r",
        "mk_redundant_cluster_df_helper: 1166/1333 for 3017 instances\r",
        "mk_redundant_cluster_df_helper: 1167/1333 for 3017 instances\r",
        "mk_redundant_cluster_df_helper: 1168/1333 for 3017 instances\r",
        "mk_redundant_cluster_df_helper: 1169/1333 for 3017 instances\r",
        "mk_redundant_cluster_df_helper: 1170/1333 for 3017 instances"
       ]
      },
      {
       "output_type": "stream",
       "stream": "stdout",
       "text": [
        "\r",
        "mk_redundant_cluster_df_helper: 1171/1333 for 3017 instances\r",
        "mk_redundant_cluster_df_helper: 1172/1333 for 3017 instances\r",
        "mk_redundant_cluster_df_helper: 1173/1333 for 3017 instances\r",
        "mk_redundant_cluster_df_helper: 1174/1333 for 3017 instances\r",
        "mk_redundant_cluster_df_helper: 1175/1333 for 3017 instances"
       ]
      },
      {
       "output_type": "stream",
       "stream": "stdout",
       "text": [
        "\r",
        "mk_redundant_cluster_df_helper: 1176/1333 for 3017 instances\r",
        "mk_redundant_cluster_df_helper: 1177/1333 for 3017 instances\r",
        "mk_redundant_cluster_df_helper: 1178/1333 for 3017 instances\r",
        "mk_redundant_cluster_df_helper: 1179/1333 for 3017 instances\r",
        "mk_redundant_cluster_df_helper: 1180/1333 for 3017 instances"
       ]
      },
      {
       "output_type": "stream",
       "stream": "stdout",
       "text": [
        "\r",
        "mk_redundant_cluster_df_helper: 1181/1333 for 3017 instances\r",
        "mk_redundant_cluster_df_helper: 1182/1333 for 3017 instances\r",
        "mk_redundant_cluster_df_helper: 1183/1333 for 3017 instances\r",
        "mk_redundant_cluster_df_helper: 1184/1333 for 3017 instances\r",
        "mk_redundant_cluster_df_helper: 1185/1333 for 3017 instances"
       ]
      },
      {
       "output_type": "stream",
       "stream": "stdout",
       "text": [
        "\r",
        "mk_redundant_cluster_df_helper: 1186/1333 for 3017 instances\r",
        "mk_redundant_cluster_df_helper: 1187/1333 for 3017 instances\r",
        "mk_redundant_cluster_df_helper: 1188/1333 for 3017 instances\r",
        "mk_redundant_cluster_df_helper: 1189/1333 for 3017 instances\r",
        "mk_redundant_cluster_df_helper: 1190/1333 for 3017 instances"
       ]
      },
      {
       "output_type": "stream",
       "stream": "stdout",
       "text": [
        "\r",
        "mk_redundant_cluster_df_helper: 1191/1333 for 3017 instances\r",
        "mk_redundant_cluster_df_helper: 1192/1333 for 3017 instances\r",
        "mk_redundant_cluster_df_helper: 1193/1333 for 3017 instances\r",
        "mk_redundant_cluster_df_helper: 1194/1333 for 3017 instances\r",
        "mk_redundant_cluster_df_helper: 1195/1333 for 3017 instances"
       ]
      },
      {
       "output_type": "stream",
       "stream": "stdout",
       "text": [
        "\r",
        "mk_redundant_cluster_df_helper: 1196/1333 for 3017 instances\r",
        "mk_redundant_cluster_df_helper: 1197/1333 for 3017 instances\r",
        "mk_redundant_cluster_df_helper: 1198/1333 for 3017 instances\r",
        "mk_redundant_cluster_df_helper: 1199/1333 for 3017 instances\r",
        "mk_redundant_cluster_df_helper: 1200/1333 for 3017 instances\r",
        "mk_redundant_cluster_df_helper: 1201/1333 for 3017 instances\r",
        "mk_redundant_cluster_df_helper: 1202/1333 for 3017 instances\r",
        "mk_redundant_cluster_df_helper: 1203/1333 for 3017 instances\r",
        "mk_redundant_cluster_df_helper: 1204/1333 for 3017 instances\r",
        "mk_redundant_cluster_df_helper: 1205/1333 for 3017 instances\r",
        "mk_redundant_cluster_df_helper: 1206/1333 for 3017 instances"
       ]
      },
      {
       "output_type": "stream",
       "stream": "stdout",
       "text": [
        "\r",
        "mk_redundant_cluster_df_helper: 1207/1333 for 3017 instances\r",
        "mk_redundant_cluster_df_helper: 1208/1333 for 3017 instances\r",
        "mk_redundant_cluster_df_helper: 1209/1333 for 3017 instances"
       ]
      },
      {
       "output_type": "stream",
       "stream": "stdout",
       "text": [
        "\r",
        "mk_redundant_cluster_df_helper: 1210/1333 for 3017 instances\r",
        "mk_redundant_cluster_df_helper: 1211/1333 for 3017 instances\r",
        "mk_redundant_cluster_df_helper: 1212/1333 for 3017 instances"
       ]
      },
      {
       "output_type": "stream",
       "stream": "stdout",
       "text": [
        "\r",
        "mk_redundant_cluster_df_helper: 1213/1333 for 3017 instances\r",
        "mk_redundant_cluster_df_helper: 1214/1333 for 3017 instances\r",
        "mk_redundant_cluster_df_helper: 1215/1333 for 3017 instances"
       ]
      },
      {
       "output_type": "stream",
       "stream": "stdout",
       "text": [
        "\r",
        "mk_redundant_cluster_df_helper: 1216/1333 for 3017 instances\r",
        "mk_redundant_cluster_df_helper: 1217/1333 for 3017 instances\r",
        "mk_redundant_cluster_df_helper: 1218/1333 for 3017 instances"
       ]
      },
      {
       "output_type": "stream",
       "stream": "stdout",
       "text": [
        "\r",
        "mk_redundant_cluster_df_helper: 1219/1333 for 3017 instances\r",
        "mk_redundant_cluster_df_helper: 1220/1333 for 3017 instances\r",
        "mk_redundant_cluster_df_helper: 1221/1333 for 3017 instances"
       ]
      },
      {
       "output_type": "stream",
       "stream": "stdout",
       "text": [
        "\r",
        "mk_redundant_cluster_df_helper: 1222/1333 for 3017 instances\r",
        "mk_redundant_cluster_df_helper: 1223/1333 for 3017 instances\r",
        "mk_redundant_cluster_df_helper: 1224/1333 for 3017 instances"
       ]
      },
      {
       "output_type": "stream",
       "stream": "stdout",
       "text": [
        "\r",
        "mk_redundant_cluster_df_helper: 1225/1333 for 3017 instances\r",
        "mk_redundant_cluster_df_helper: 1226/1333 for 3017 instances\r",
        "mk_redundant_cluster_df_helper: 1227/1333 for 3017 instances"
       ]
      },
      {
       "output_type": "stream",
       "stream": "stdout",
       "text": [
        "\r",
        "mk_redundant_cluster_df_helper: 1228/1333 for 3017 instances\r",
        "mk_redundant_cluster_df_helper: 1229/1333 for 3017 instances\r",
        "mk_redundant_cluster_df_helper: 1230/1333 for 3017 instances"
       ]
      },
      {
       "output_type": "stream",
       "stream": "stdout",
       "text": [
        "\r",
        "mk_redundant_cluster_df_helper: 1231/1333 for 3017 instances\r",
        "mk_redundant_cluster_df_helper: 1232/1333 for 3017 instances\r",
        "mk_redundant_cluster_df_helper: 1233/1333 for 3017 instances"
       ]
      },
      {
       "output_type": "stream",
       "stream": "stdout",
       "text": [
        "\r",
        "mk_redundant_cluster_df_helper: 1234/1333 for 3017 instances\r",
        "mk_redundant_cluster_df_helper: 1235/1333 for 3017 instances\r",
        "mk_redundant_cluster_df_helper: 1236/1333 for 3017 instances"
       ]
      },
      {
       "output_type": "stream",
       "stream": "stdout",
       "text": [
        "\r",
        "mk_redundant_cluster_df_helper: 1237/1333 for 3017 instances\r",
        "mk_redundant_cluster_df_helper: 1238/1333 for 3017 instances\r",
        "mk_redundant_cluster_df_helper: 1239/1333 for 3017 instances"
       ]
      },
      {
       "output_type": "stream",
       "stream": "stdout",
       "text": [
        "\r",
        "mk_redundant_cluster_df_helper: 1240/1333 for 3017 instances\r",
        "mk_redundant_cluster_df_helper: 1241/1333 for 3017 instances\r",
        "mk_redundant_cluster_df_helper: 1242/1333 for 3017 instances"
       ]
      },
      {
       "output_type": "stream",
       "stream": "stdout",
       "text": [
        "\r",
        "mk_redundant_cluster_df_helper: 1243/1333 for 3017 instances\r",
        "mk_redundant_cluster_df_helper: 1244/1333 for 3017 instances\r",
        "mk_redundant_cluster_df_helper: 1245/1333 for 3017 instances"
       ]
      },
      {
       "output_type": "stream",
       "stream": "stdout",
       "text": [
        "\r",
        "mk_redundant_cluster_df_helper: 1246/1333 for 3017 instances\r",
        "mk_redundant_cluster_df_helper: 1247/1333 for 3017 instances\r",
        "mk_redundant_cluster_df_helper: 1248/1333 for 3017 instances"
       ]
      },
      {
       "output_type": "stream",
       "stream": "stdout",
       "text": [
        "\r",
        "mk_redundant_cluster_df_helper: 1249/1333 for 3017 instances\r",
        "mk_redundant_cluster_df_helper: 1250/1333 for 3017 instances\r",
        "mk_redundant_cluster_df_helper: 1251/1333 for 3017 instances"
       ]
      },
      {
       "output_type": "stream",
       "stream": "stdout",
       "text": [
        "\r",
        "mk_redundant_cluster_df_helper: 1252/1333 for 3017 instances\r",
        "mk_redundant_cluster_df_helper: 1253/1333 for 3017 instances\r",
        "mk_redundant_cluster_df_helper: 1254/1333 for 3017 instances"
       ]
      },
      {
       "output_type": "stream",
       "stream": "stdout",
       "text": [
        "\r",
        "mk_redundant_cluster_df_helper: 1255/1333 for 3017 instances\r",
        "mk_redundant_cluster_df_helper: 1256/1333 for 3017 instances\r",
        "mk_redundant_cluster_df_helper: 1257/1333 for 3017 instances"
       ]
      },
      {
       "output_type": "stream",
       "stream": "stdout",
       "text": [
        "\r",
        "mk_redundant_cluster_df_helper: 1258/1333 for 3017 instances\r",
        "mk_redundant_cluster_df_helper: 1259/1333 for 3017 instances\r",
        "mk_redundant_cluster_df_helper: 1260/1333 for 3017 instances"
       ]
      },
      {
       "output_type": "stream",
       "stream": "stdout",
       "text": [
        "\r",
        "mk_redundant_cluster_df_helper: 1261/1333 for 3017 instances\r",
        "mk_redundant_cluster_df_helper: 1262/1333 for 3017 instances\r",
        "mk_redundant_cluster_df_helper: 1263/1333 for 3017 instances"
       ]
      },
      {
       "output_type": "stream",
       "stream": "stdout",
       "text": [
        "\r",
        "mk_redundant_cluster_df_helper: 1264/1333 for 3017 instances\r",
        "mk_redundant_cluster_df_helper: 1265/1333 for 3017 instances\r",
        "mk_redundant_cluster_df_helper: 1266/1333 for 3017 instances"
       ]
      },
      {
       "output_type": "stream",
       "stream": "stdout",
       "text": [
        "\r",
        "mk_redundant_cluster_df_helper: 1267/1333 for 3017 instances\r",
        "mk_redundant_cluster_df_helper: 1268/1333 for 3017 instances\r",
        "mk_redundant_cluster_df_helper: 1269/1333 for 3017 instances\r",
        "mk_redundant_cluster_df_helper: 1270/1333 for 3017 instances\r",
        "mk_redundant_cluster_df_helper: 1271/1333 for 3017 instances\r",
        "mk_redundant_cluster_df_helper: 1272/1333 for 3017 instances\r",
        "mk_redundant_cluster_df_helper: 1273/1333 for 3017 instances\r",
        "mk_redundant_cluster_df_helper: 1274/1333 for 3017 instances\r",
        "mk_redundant_cluster_df_helper: 1275/1333 for 3017 instances\r",
        "mk_redundant_cluster_df_helper: 1276/1333 for 3017 instances\r",
        "mk_redundant_cluster_df_helper: 1277/1333 for 3017 instances\r",
        "mk_redundant_cluster_df_helper: 1278/1333 for 3017 instances\r",
        "mk_redundant_cluster_df_helper: 1279/1333 for 3017 instances\r",
        "mk_redundant_cluster_df_helper: 1280/1333 for 3017 instances\r",
        "mk_redundant_cluster_df_helper: 1281/1333 for 3017 instances\r",
        "mk_redundant_cluster_df_helper: 1282/1333 for 3017 instances\r",
        "mk_redundant_cluster_df_helper: 1283/1333 for 3017 instances\r",
        "mk_redundant_cluster_df_helper: 1284/1333 for 3017 instances\r",
        "mk_redundant_cluster_df_helper: 1285/1333 for 3017 instances\r",
        "mk_redundant_cluster_df_helper: 1286/1333 for 3017 instances"
       ]
      },
      {
       "output_type": "stream",
       "stream": "stdout",
       "text": [
        "\r",
        "mk_redundant_cluster_df_helper: 1287/1333 for 3017 instances\r",
        "mk_redundant_cluster_df_helper: 1288/1333 for 3017 instances\r",
        "mk_redundant_cluster_df_helper: 1289/1333 for 3017 instances\r",
        "mk_redundant_cluster_df_helper: 1290/1333 for 3017 instances\r",
        "mk_redundant_cluster_df_helper: 1291/1333 for 3017 instances\r",
        "mk_redundant_cluster_df_helper: 1292/1333 for 3017 instances"
       ]
      },
      {
       "output_type": "stream",
       "stream": "stdout",
       "text": [
        "\r",
        "mk_redundant_cluster_df_helper: 1293/1333 for 3017 instances\r",
        "mk_redundant_cluster_df_helper: 1294/1333 for 3017 instances\r",
        "mk_redundant_cluster_df_helper: 1295/1333 for 3017 instances\r",
        "mk_redundant_cluster_df_helper: 1296/1333 for 3017 instances\r",
        "mk_redundant_cluster_df_helper: 1297/1333 for 3017 instances\r",
        "mk_redundant_cluster_df_helper: 1298/1333 for 3017 instances"
       ]
      },
      {
       "output_type": "stream",
       "stream": "stdout",
       "text": [
        "\r",
        "mk_redundant_cluster_df_helper: 1299/1333 for 3017 instances\r",
        "mk_redundant_cluster_df_helper: 1300/1333 for 3017 instances\r",
        "mk_redundant_cluster_df_helper: 1301/1333 for 3017 instances\r",
        "mk_redundant_cluster_df_helper: 1302/1333 for 3017 instances\r",
        "mk_redundant_cluster_df_helper: 1303/1333 for 3017 instances\r",
        "mk_redundant_cluster_df_helper: 1304/1333 for 3017 instances"
       ]
      },
      {
       "output_type": "stream",
       "stream": "stdout",
       "text": [
        "\r",
        "mk_redundant_cluster_df_helper: 1305/1333 for 3017 instances\r",
        "mk_redundant_cluster_df_helper: 1306/1333 for 3017 instances\r",
        "mk_redundant_cluster_df_helper: 1307/1333 for 3017 instances\r",
        "mk_redundant_cluster_df_helper: 1308/1333 for 3017 instances\r",
        "mk_redundant_cluster_df_helper: 1309/1333 for 3017 instances\r",
        "mk_redundant_cluster_df_helper: 1310/1333 for 3017 instances"
       ]
      },
      {
       "output_type": "stream",
       "stream": "stdout",
       "text": [
        "\r",
        "mk_redundant_cluster_df_helper: 1311/1333 for 3017 instances\r",
        "mk_redundant_cluster_df_helper: 1312/1333 for 3017 instances\r",
        "mk_redundant_cluster_df_helper: 1313/1333 for 3017 instances\r",
        "mk_redundant_cluster_df_helper: 1314/1333 for 3017 instances\r",
        "mk_redundant_cluster_df_helper: 1315/1333 for 3017 instances\r",
        "mk_redundant_cluster_df_helper: 1316/1333 for 3017 instances\r",
        "mk_redundant_cluster_df_helper: 1317/1333 for 3017 instances\r",
        "mk_redundant_cluster_df_helper: 1318/1333 for 3017 instances\r",
        "mk_redundant_cluster_df_helper: 1319/1333 for 3017 instances\r",
        "mk_redundant_cluster_df_helper: 1320/1333 for 3017 instances\r",
        "mk_redundant_cluster_df_helper: 1321/1333 for 3017 instances\r",
        "mk_redundant_cluster_df_helper: 1322/1333 for 3017 instances\r",
        "mk_redundant_cluster_df_helper: 1323/1333 for 3017 instances\r",
        "mk_redundant_cluster_df_helper: 1324/1333 for 3017 instances"
       ]
      },
      {
       "output_type": "stream",
       "stream": "stdout",
       "text": [
        "\r",
        "mk_redundant_cluster_df_helper: 1325/1333 for 3017 instances\r",
        "mk_redundant_cluster_df_helper: 1326/1333 for 3017 instances\r",
        "mk_redundant_cluster_df_helper: 1327/1333 for 3017 instances\r",
        "mk_redundant_cluster_df_helper: 1328/1333 for 3017 instances\r",
        "mk_redundant_cluster_df_helper: 1329/1333 for 3017 instances\r",
        "mk_redundant_cluster_df_helper: 1330/1333 for 3017 instances\r",
        "mk_redundant_cluster_df_helper: 1331/1333 for 3017 instances\r",
        "mk_redundant_cluster_df_helper: 1332/1333 for 3017 instances\r",
        "mk_redundant_cluster_df_helper: 1333/1333 for 3017 instances\r",
        "3017"
       ]
      },
      {
       "output_type": "stream",
       "stream": "stdout",
       "text": [
        " 146\n"
       ]
      }
     ],
     "prompt_number": 8
    },
    {
     "cell_type": "code",
     "collapsed": false,
     "input": [
      "  \n",
      "# Have to filter these after, because they rely on tree structure\n",
      "# TODO: add a post-tree structure filter section to the import data call\n",
      "\n",
      "example = df[(df['answer'] == 'part out') | (df['answer'] == 'writing')]\n",
      "st_roots = set(example['subtree_root'])\n",
      "\n",
      "print(\"Number of random or underdefined responses:\", len(df[df['subtree_root'].isin(st_roots)]))\n",
      "\n",
      "df = df[~df['subtree_root'].isin(st_roots)]\n",
      "clusters_df = clusters_df[~clusters_df['subtree_root'].isin(st_roots)]\n",
      "\n",
      "print(len(df))"
     ],
     "language": "python",
     "metadata": {},
     "outputs": [
      {
       "output_type": "stream",
       "stream": "stdout",
       "text": [
        "Number of random or underdefined responses: 12\n",
        "3005\n"
       ]
      }
     ],
     "prompt_number": 9
    },
    {
     "cell_type": "code",
     "collapsed": false,
     "input": [
      "# match with runs\n",
      "iPod_df = df[df['question_code'] == 'iPod']\n",
      "print(len(iPod_df))\n",
      "print(len(rmdf)) # TODO: getting fewer runs now. That's a problem"
     ],
     "language": "python",
     "metadata": {},
     "outputs": [
      {
       "output_type": "stream",
       "stream": "stdout",
       "text": [
        "3005\n",
        "146\n"
       ]
      }
     ],
     "prompt_number": 10
    },
    {
     "cell_type": "code",
     "collapsed": false,
     "input": [
      "nr_conds = list(set(df['num_requested']))\n",
      "nr_conds = sorted(nr_conds)\n",
      "print(nr_conds)\n",
      "\n",
      "qc_conds = list(set(df['question_code']))\n",
      "print(qc_conds)\n",
      "\n",
      "matplotlib_colors = ['b', 'g', 'r', 'c', 'm', 'y', 'k']\n",
      "\n",
      "qc_colors = {None: matplotlib_colors[0]}\n",
      "for i, code in enumerate(qc_conds):\n",
      "    qc_colors[code] = matplotlib_colors[i+1]\n",
      "print(qc_colors)\n",
      "\n",
      "nr_colors = {None: matplotlib_colors[0]}\n",
      "for i, nr in enumerate(nr_conds):\n",
      "    nr_colors[nr] = matplotlib_colors[i+1]\n",
      "print(nr_colors)\n",
      "\n",
      "cond_colors = {'question_code': qc_colors,\n",
      "                'num_requested': nr_colors }"
     ],
     "language": "python",
     "metadata": {},
     "outputs": [
      {
       "output_type": "stream",
       "stream": "stdout",
       "text": [
        "[5, 10, 20, 50, 75, 100]\n",
        "['iPod']\n",
        "{'iPod': 'g', None: 'b'}\n",
        "{50: 'm', 20: 'c', None: 'b', 100: 'k', 10: 'r', 75: 'y', 5: 'g'}\n"
       ]
      }
     ],
     "prompt_number": 11
    },
    {
     "cell_type": "code",
     "collapsed": false,
     "input": [
      "print(df)\n",
      "print(clusters_df)\n",
      "\n",
      "df.to_csv('ipython_output/instances.csv')\n",
      "clusters_df.to_csv('ipython_output/trees.csv')"
     ],
     "language": "python",
     "metadata": {},
     "outputs": [
      {
       "output_type": "stream",
       "stream": "stdout",
       "text": [
        "<class 'pandas.core.frame.DataFrame'>\n",
        "Int64Index: 3005 entries, 0 to 3016\n",
        "Data columns (total 45 columns):\n",
        "worker_id                 3005  non-null values\n",
        "question                  3005  non-null values\n",
        "question_code             3005  non-null values\n",
        "post_date                 3005  non-null values\n",
        "screenshot                3005  non-null values\n",
        "num_requested             3005  non-null values\n",
        "answer_num                3005  non-null values\n",
        "answer                    3005  non-null values\n",
        "word_count                3005  non-null values\n",
        "start_time                2983  non-null values\n",
        "end_time                  2983  non-null values\n",
        "answer_code               0  non-null values\n",
        "submit_datetime           3005  non-null values\n",
        "accept_datetime           3005  non-null values\n",
        "is_repeat_worker          3005  non-null values\n",
        "answer_id                 3005  non-null values\n",
        "idea                      3005  non-null values\n",
        "answer_clus               3005  non-null values\n",
        "post_date_clus            3005  non-null values\n",
        "depth_in_subtree          3005  non-null values\n",
        "height_in_subtree         3005  non-null values\n",
        "idea_label                2757  non-null values\n",
        "idea_probability          3005  non-null values\n",
        "is_leaf                   3005  non-null values\n",
        "is_root                   3005  non-null values\n",
        "num_children              3005  non-null values\n",
        "num_ideas_under           3005  non-null values\n",
        "num_instances             3005  non-null values\n",
        "num_instances_under       3005  non-null values\n",
        "num_nodes_under           3005  non-null values\n",
        "num_workers               3005  non-null values\n",
        "parent                    3005  non-null values\n",
        "subtree_probability       3005  non-null values\n",
        "subtree_root              3005  non-null values\n",
        "subtree_oscore            3005  non-null values\n",
        "idea_oscore               3005  non-null values\n",
        "time_spent                2983  non-null values\n",
        "distance_from_similar     966  non-null values\n",
        "is_inmix                  3005  non-null values\n",
        "is_midmix                 3005  non-null values\n",
        "is_outmix                 3005  non-null values\n",
        "distance_from_inmix       966  non-null values\n",
        "previous_similar_inmix    966  non-null values\n",
        "inmix_index               966  non-null values\n",
        "num_received              3005  non-null values\n",
        "dtypes: bool(2), datetime64[ns](2), float64(10), int64(18), object(13)\n",
        "<class 'pandas.core.frame.DataFrame'>\n",
        "Int64Index: 1332 entries, 0 to 1332\n",
        "Data columns (total 19 columns):\n",
        "depth_in_subtree       1332  non-null values\n",
        "height_in_subtree      1332  non-null values\n",
        "idea                   1332  non-null values\n",
        "idea_label             1102  non-null values\n",
        "idea_probability       1332  non-null values\n",
        "is_leaf                1332  non-null values\n",
        "is_root                1332  non-null values\n",
        "num_children           1332  non-null values\n",
        "num_ideas_under        1332  non-null values\n",
        "num_instances          1332  non-null values\n",
        "num_instances_under    1332  non-null values\n",
        "num_nodes_under        1332  non-null values\n",
        "num_workers            1332  non-null values\n",
        "parent                 1332  non-null values\n",
        "question_code          1332  non-null values\n",
        "subtree_probability    1332  non-null values\n",
        "subtree_root           1332  non-null values\n",
        "subtree_oscore         1332  non-null values\n",
        "idea_oscore            1332  non-null values\n",
        "dtypes: bool(2), float64(4), int64(11), object(2)\n"
       ]
      }
     ],
     "prompt_number": 12
    },
    {
     "cell_type": "markdown",
     "metadata": {},
     "source": [
      "# Random figures"
     ]
    },
    {
     "cell_type": "code",
     "collapsed": false,
     "input": [
      "fig = plt.figure(figsize=(20,50))\n",
      "for i in range(100):\n",
      "    ax = fig.add_subplot(20, 5, i + 1)\n",
      "    answers = df[df['answer_num'] == i]\n",
      "    ax.hist(answers['idea_oscore'], log=True)\n",
      "    ax.set_title(i)\n",
      "    ax.set_xlim(0.9, 1)"
     ],
     "language": "python",
     "metadata": {},
     "outputs": [
      {
       "metadata": {},
       "output_type": "display_data",
       "png": "[encoded data removed]",
       "text": [
        "<matplotlib.figure.Figure at 0x7f08237a1ed0>"
       ]
      }
     ],
     "prompt_number": 19
    },
    {
     "cell_type": "code",
     "collapsed": false,
     "input": [],
     "language": "python",
     "metadata": {},
     "outputs": [],
     "prompt_number": 28
    }
   ],
   "metadata": {}
  }
 ]
}