{
 "metadata": {
  "name": ""
 },
 "nbformat": 3,
 "nbformat_minor": 0,
 "worksheets": [
  {
   "cells": [
    {
     "cell_type": "code",
     "collapsed": false,
     "input": [
      "import pandas as pd\n",
      "import scipy as sp\n",
      "import numpy as np\n",
      "import csv, os\n",
      "import re\n",
      "import scipy.stats as stats\n",
      "import networkx as nx\n",
      "import cPickle as pickle\n",
      "\n",
      "from collections import defaultdict, OrderedDict"
     ],
     "language": "python",
     "metadata": {},
     "outputs": [],
     "prompt_number": 132
    },
    {
     "cell_type": "markdown",
     "metadata": {},
     "source": [
      "# Introduction\n",
      "\n",
      "The plan is to read in a bunch of fields from our various data sources and then do some stats on them.\n",
      "\n",
      "Note that the first four fields together provide a unique way of identifying the answer (this could be better).\n"
     ]
    },
    {
     "cell_type": "code",
     "collapsed": false,
     "input": [
      "base_data_dirs = [\n",
      "                  '/processed_data/pilot18',\n",
      "                  '/processed_data/pilot17',\n",
      "                  '/processed_data/pilot16',\n",
      "                  '/processed_data/pilot14',\n",
      "                  '/processed_data/pilot13',\n",
      "                  '/processed_data/pilot12',\n",
      "                  '/processed_data/pilot11',]\n",
      "\n",
      "manual_csvs = map(lambda x: '/processed_data/pilot18_metrics/' + x + '-scores.csv',\n",
      "                         ['fil', 'mike'])\n",
      "\n",
      "def metrics_folder(x):\n",
      "    return '/processed_data/pilot18_metrics/' + x\n",
      "\n",
      "idea_cluster_csvs = {qc: metrics_folder(\"_%s.csv\" % qc) for qc in \\\n",
      "                     ['iPod']}\n",
      "                     #['charity', 'iPod', 'forgot_name', 'turk']}\n",
      "cluster_tree_csvs = {qc: metrics_folder(\"_%s_clusters.csv\" % qc) for qc in \\\n",
      "                     ['iPod']}\n",
      "                     #['charity', 'iPod', 'forgot_name', 'turk']}\n",
      "    \n",
      "output_csv = '/processed_data/pilot18_metrics/complete.csv'\n",
      "\n",
      "# Read in a bunch of base data\n",
      "\n",
      "def read_files(fils):\n",
      "    rows = []\n",
      "    for f in fils:\n",
      "        rows = rows + read_file(f)\n",
      "    return rows\n",
      "\n",
      "def read_base_data(dirs):\n",
      "    rows = []\n",
      "    for d in dirs:\n",
      "      for f in os.listdir(d):\n",
      "        full_name = os.path.join(d,f)\n",
      "        if os.path.isdir(full_name):\n",
      "            print \"I deleted the code here\"\n",
      "        else:\n",
      "          if f == 'answers.csv':\n",
      "            rows = rows + read_file(full_name)\n",
      "    return rows\n",
      "\n",
      "def read_file(f):\n",
      "    with open(f) as fin:\n",
      "        l = fin.readline()\n",
      "        # If we see the follow, it's an early run we can ignore\n",
      "        if 'Number of Answers' in l:\n",
      "            return\n",
      "        fin.seek(0)\n",
      "        sep = '|'\n",
      "        # Guess separator character\n",
      "        if l.count(',') > l.count('|'):\n",
      "            sep = ','\n",
      "            \n",
      "        # Just cache for now\n",
      "        rows = []\n",
      "        for row in csv.reader(fin, delimiter=sep):\n",
      "            if 'hashed_worker_id' in row or 'worker_id' in row or 'cluster_parent' in row:\n",
      "                continue\n",
      "            rows.append(row + [f])\n",
      "            \n",
      "        return rows\n",
      "\n",
      "def clean_missing(v):\n",
      "    return 0 if v == '' or v == 'missing' else v\n",
      "\n",
      "def series_from_row(rows, index, t):      \n",
      "    if t == object:\n",
      "        return pd.Series([row[index] for row in rows], dtype=t)\n",
      "    elif t == datetime64:\n",
      "        return pd.Series([np.datetime64(row[index]) for row in rows], dtype=t)\n",
      "    else:\n",
      "        s = pd.Series([clean_missing(row[index]) for row in rows], dtype=t)\n",
      "        return s\n",
      "\n",
      "merge_column_names = ['worker_id', 'question_code', 'answer_num', 'num_requested']\n",
      "    \n",
      "# Read in the main processed data files\n",
      "all_rows = read_base_data(base_data_dirs)\n",
      "num_responses = len(all_rows)\n",
      "\n",
      "bad_times = [(0 if (r[9] == 'missing' or r[10] == 'missing' or \\\n",
      "                    int(r[9]) <=0 or int(r[10]) <= 0) else 1) for r in all_rows]\n",
      "\n",
      "df_base = pd.DataFrame({'worker_id': pd.Series([row[0] for row in all_rows], dtype=object),\n",
      "            'question_code': pd.Series([row[2] for row in all_rows], dtype=object),\n",
      "            'num_requested': pd.Series([row[5] for row in all_rows], dtype=uint8),\n",
      "            'answer_num': pd.Series([row[6] for row in all_rows], dtype=uint8),\n",
      "            'answer': pd.Series([row[7] for row in all_rows], dtype=object),\n",
      "            'word_count': pd.Series([row[8] for row in all_rows], dtype=uint32),\n",
      "            'submit_datetime': pd.Series(pd.to_datetime([row[12] for row in all_rows])),\n",
      "            'accept_datetime': pd.Series(pd.to_datetime([row[13] for row in all_rows])),\n",
      "            'start_time': series_from_row(all_rows, 9, uint64),\n",
      "            'end_time': series_from_row(all_rows, 10, uint64),\n",
      "            'valid_time': pd.Series(bad_times, dtype=uint8),\n",
      "            'batch_file': series_from_row(all_rows, 14, object),\n",
      "})\n",
      "\n",
      "print len(df_base)\n",
      "\n",
      "## Dropping unlimited condition\n",
      "print \"With unlimited\", len(df_base)\n",
      "\n",
      "print \"iPod unlimited\"\n",
      "ipodf = df_base[df_base['question_code']=='iPod']\n",
      "print \"num instances\", len(ipodf)\n",
      "\n",
      "groups = ipodf.groupby(['worker_id', 'submit_datetime'])\n",
      "print \"num hits\", len(groups)\n",
      "\n",
      "print \"num workers\", len(set(ipodf['worker_id']))\n",
      "\n",
      "\n",
      "df_base = df_base[~(df_base['num_requested'] == 0)]\n",
      "print \"Without unlimited\", len(df_base)\n",
      "\n",
      "# Check for repeat workers\n",
      "is_repeat = pd.Series([0 for i in df_base.index], index=df_base.index)\n",
      "df_base = df_base.sort(['submit_datetime'])\n",
      "runs = df_base.groupby(['worker_id', 'question_code', 'num_requested', 'submit_datetime'])\n",
      "\n",
      "last_sdt = None\n",
      "seen_keys = set()\n",
      "\n",
      "for (wid, qc, nr, sdt), run in runs:\n",
      "    assert (last_sdt is None or sdt >= last_sdt)\n",
      "    assert (nr >= len(run))\n",
      "    if (wid, qc) in seen_keys:\n",
      "        for i in run.index:\n",
      "            is_repeat[i] = 1\n",
      "    else:\n",
      "        seen_keys.add((wid, qc))\n",
      "            \n",
      "df_base['is_repeat_worker'] = is_repeat\n",
      "\n",
      "\n",
      "# Read in heirarchical clusters\n",
      "for key in idea_cluster_csvs:\n",
      "    rows = read_file(idea_cluster_csvs[key])\n",
      "    if len(rows) == 0:\n",
      "        continue\n",
      "\n",
      "    df = pd.merge(df_base,\n",
      "                  pd.DataFrame({'worker_id': series_from_row(rows, 5, object),\n",
      "                      'question_code': series_from_row(rows, 0, object),\n",
      "                      'num_requested': series_from_row(rows, 7, uint8),\n",
      "                      'answer_num': series_from_row(rows, 4, uint8),\n",
      "                      'idea': series_from_row(rows, 2, uint64),\n",
      "                      'answer': series_from_row(rows, 3, object),\n",
      "                      'valid_cluster': pd.Series([1 for row in rows], dtype=uint8),}),\n",
      "                  'left', merge_column_names + ['answer'])\n",
      "\n",
      "print \"After clusters:\", len(df)\n",
      "\n",
      "# Read in manual codes\n",
      "\n",
      "def read_manual_csv(name):\n",
      "    index = 0 if name == 'fil' else 1\n",
      "    rows = read_file(manual_csvs[index])\n",
      "    \n",
      "    df = pd.DataFrame({'worker_id': series_from_row(rows, 0, object),\n",
      "            'question_code': series_from_row(rows, 2, object),\n",
      "            'num_requested': series_from_row(rows, 5, uint8),\n",
      "            'answer_num': series_from_row(rows, 6, uint8),\n",
      "            ('utility_%s' % name): series_from_row(rows, 13, uint8),\n",
      "            ('realistic_%s' % name): series_from_row(rows, 14, uint8),\n",
      "            ('distance_%s' % name): series_from_row(rows, 16, uint8),\n",
      "            ('valid_%s' % name): pd.Series([1 for row in rows], dtype=uint8),\n",
      "    })\n",
      "    return df\n",
      "\n",
      "df = pd.merge(df, read_manual_csv('mike'), 'left', merge_column_names)\n",
      "df = pd.merge(df, read_manual_csv('fil'), 'left', merge_column_names)\n",
      "\n",
      "print len(df)\n",
      "\n",
      "df_repeat = df.copy()\n",
      "\n",
      "df = df[df['is_repeat_worker'] == 0]\n",
      "print len(df)"
     ],
     "language": "python",
     "metadata": {},
     "outputs": [
      {
       "output_type": "stream",
       "stream": "stdout",
       "text": [
        "10322\n",
        "With unlimited 10322\n",
        "iPod unlimited\n",
        "num instances 3292\n",
        "num hits 170\n",
        "num workers 154\n",
        "Without unlimited 10028\n",
        "After clusters:"
       ]
      },
      {
       "output_type": "stream",
       "stream": "stdout",
       "text": [
        " 10028\n",
        "10028"
       ]
      },
      {
       "output_type": "stream",
       "stream": "stdout",
       "text": [
        "\n",
        "9286\n"
       ]
      }
     ],
     "prompt_number": 133
    },
    {
     "cell_type": "code",
     "collapsed": false,
     "input": [
      "nr_conds = list(set(df['num_requested']))\n",
      "nr_conds = sorted(nr_conds)\n",
      "print nr_conds\n",
      "\n",
      "qc_conds = list(set(df['question_code']))\n",
      "print qc_conds\n",
      "\n",
      "matplotlib_colors = ['b', 'g', 'r', 'c', 'm', 'y', 'k']\n",
      "\n",
      "qc_colors = {None: matplotlib_colors[0]}\n",
      "for i, code in enumerate(qc_conds):\n",
      "    qc_colors[code] = matplotlib_colors[i+1]\n",
      "print qc_colors\n",
      "\n",
      "nr_colors = {None: matplotlib_colors[0]}\n",
      "for i, nr in enumerate(nr_conds):\n",
      "    nr_colors[nr] = matplotlib_colors[i+1]\n",
      "print nr_colors\n",
      "\n",
      "cond_colors = {'question_code': qc_colors,\n",
      "                'num_requested': nr_colors }"
     ],
     "language": "python",
     "metadata": {},
     "outputs": [
      {
       "output_type": "stream",
       "stream": "stdout",
       "text": [
        "[5, 10, 20, 50, 75, 100]\n",
        "['iPod', 'turk', 'forgot_name', 'charity']\n",
        "{None: 'b', 'turk': 'r', 'iPod': 'g', 'forgot_name': 'c', 'charity': 'm'}\n",
        "{100: 'k', 5: 'g', 10: 'r', 75: 'y', 50: 'm', 20: 'c', None: 'b'}\n"
       ]
      }
     ],
     "prompt_number": 134
    },
    {
     "cell_type": "markdown",
     "metadata": {},
     "source": [
      "# Generate cluster trees and tree metrics\n",
      "\n",
      "Note: all of this is being cached for convenience, and assumes the tree structure is static!\n",
      "\n",
      "+ cluster o_score"
     ]
    },
    {
     "cell_type": "code",
     "collapsed": false,
     "input": [
      "def dumb_strip(s):\n",
      "    return ''.join([c for c in s if c in \"ABCDEFGHIJKLMNOPQRSTUVWXYZ\\\n",
      "    abcdefghijklmnopqrstuvwxyz1234567890 \"])"
     ],
     "language": "python",
     "metadata": {},
     "outputs": [],
     "prompt_number": 135
    },
    {
     "cell_type": "code",
     "collapsed": false,
     "input": [
      "def gen_depth(forest, node):\n",
      "    parents = forest.predecessors(node)\n",
      "    if parents:\n",
      "        p = parents[0]\n",
      "        if 'depth' not in forest.node[p]:\n",
      "            gen_depth(forest, p)\n",
      "        forest.node[node]['depth'] = forest.node[p]['depth'] + 1\n",
      "    else:\n",
      "        forest.node[node]['depth'] = 0\n",
      "    \n",
      "    smd = forest.graph['subtree_max_depth']\n",
      "    root = forest.node[node]['subtree_root']\n",
      "    smd[root] = max(smd[root], forest.node[node]['depth'])\n",
      "\n",
      "def all_nodes_under(forest, node):\n",
      "    ret = [node]\n",
      "    for s in forest.successors(node):\n",
      "        ret += all_nodes_under(forest, s)\n",
      "    return ret\n",
      "\n",
      "def cluster_forest(structure_csv):\n",
      "    f = nx.DiGraph()\n",
      "    f.graph['subtree_roots'] = set()\n",
      "    f.graph['subtree_max_depth'] = defaultdict(int)\n",
      "    \n",
      "    rows = read_file(structure_csv)\n",
      "        \n",
      "    if len(rows) == 0:\n",
      "        return f\n",
      "    \n",
      "    for qc, child, parent, label, fn in rows:\n",
      "        c = int(child)\n",
      "        p = int(parent)\n",
      "        if parent != '':\n",
      "            f.add_edge(p, c)\n",
      "        else:\n",
      "            f.add_node(c)\n",
      "        f.node[c]['label'] = dumb_strip(label) if len(label) > 0 else None\n",
      "            \n",
      "    # delete the single root node\n",
      "    root = nx.topological_sort(f)[0]\n",
      "    f.remove_nodes_from([root])\n",
      "    \n",
      "    for node in f.nodes():        \n",
      "        # Subtree root\n",
      "        cur = node\n",
      "        while(len(f.predecessors(cur)) > 0):\n",
      "            cur = f.predecessors(cur)[0]\n",
      "        f.node[node]['subtree_root'] = cur\n",
      "        f.graph['subtree_roots'].add(cur)\n",
      "        \n",
      "        # descendents\n",
      "        f.node[node]['all_nodes_under'] = all_nodes_under(f, node)\n",
      "        \n",
      "    # depth\n",
      "    for node in f.nodes():\n",
      "        if 'depth' not in f.node[node]:\n",
      "            gen_depth(f, node)\n",
      "            \n",
      "    # height\n",
      "    for n in f.nodes():\n",
      "        smd = f.graph['subtree_max_depth']\n",
      "        root = f.node[n]['subtree_root']\n",
      "        f.node[n]['height'] = smd[root] - f.node[n]['depth']\n",
      "        \n",
      "    # remix_targets\n",
      "    for n in f.nodes():\n",
      "        targets = set([n])\n",
      "        \n",
      "        # all parents\n",
      "        cur = n\n",
      "        while len(f.predecessors(cur)) > 0:\n",
      "            cur = f.predecessors(cur)[0]\n",
      "            targets.add(cur)\n",
      "        \n",
      "        # all siblings\n",
      "        for p in f.predecessors(n):\n",
      "            for s in f.successors(p):\n",
      "                targets.add(s)\n",
      "        \n",
      "        # all children\n",
      "        targets = targets.union(set(f.node[n][\"all_nodes_under\"]))\n",
      "        \n",
      "        f.node[n]['remix_of'] = targets\n",
      "        \n",
      "    return f\n",
      "\n",
      "cluster_forests = {qc: cluster_forest(cluster_tree_csvs[qc]) for qc in cluster_tree_csvs.keys()}"
     ],
     "language": "python",
     "metadata": {},
     "outputs": [],
     "prompt_number": 136
    },
    {
     "cell_type": "markdown",
     "metadata": {},
     "source": [
      "## Put cluster metrics in their own dataframe\n",
      "\n",
      "TODO: I can't remember why this is so verbose"
     ]
    },
    {
     "cell_type": "code",
     "collapsed": false,
     "input": [
      "def num_instances_in(df, clusters):\n",
      "    return sum(len(df[df['idea'] == c]) for c in clusters)\n",
      "\n",
      "ids = []\n",
      "labels = []\n",
      "is_roots = []\n",
      "is_leafs = []\n",
      "roots = []\n",
      "num_nodes_under = []\n",
      "subtree_probabilitys = []\n",
      "depths = []\n",
      "heights = []\n",
      "qcs = []\n",
      "num_childrens = []\n",
      "num_instances_under = []\n",
      "subtree_probability = []\n",
      "idea_probability = []\n",
      "num_instances = []\n",
      "num_workers = []\n",
      "num_ideas = []\n",
      "\n",
      "print qc_conds\n",
      "\n",
      "for qc in qc_conds:\n",
      "    sub_df = df[df['question_code'] == qc]\n",
      "    print sum(sub_df['is_repeat_worker'])\n",
      "    \n",
      "    if qc not in cluster_forests:\n",
      "        continue\n",
      "    \n",
      "    f = cluster_forests[qc]\n",
      "    for n in f.nodes():\n",
      "        nd = f.node[n]\n",
      "        \n",
      "        idea = n\n",
      "        \n",
      "        ids.append(n)\n",
      "        labels.append(nd['label'])\n",
      "        is_roots.append(n == nd['subtree_root'])\n",
      "        is_leafs.append(len(f.successors(n)) == 0)\n",
      "        num_childrens.append(len(f.successors(n)))\n",
      "        roots.append(nd['subtree_root'])\n",
      "        depths.append(nd['depth'])\n",
      "        heights.append(nd['height'])\n",
      "        qcs.append(qc)\n",
      "        num_nodes_under.append(len(nd['all_nodes_under']))\n",
      "        \n",
      "        # Metrics for entire dataset; see time-based below\n",
      "        num_instances_under.append(num_instances_in(sub_df, all_nodes_under(f, idea)))\n",
      "        \n",
      "        root_idea = f.node[idea]['subtree_root']\n",
      "        nus = num_instances_in(sub_df, all_nodes_under(f, root_idea))\n",
      "        subtree_probability.append(float(nus) / len(sub_df))\n",
      "        \n",
      "        nii = num_instances_in(sub_df,[idea])\n",
      "        idea_probability.append(float(nii) / len(sub_df))\n",
      "        num_ideas.append(nii)\n",
      "        \n",
      "        instance_df = sub_df[sub_df['idea'] == idea]\n",
      "        num_instances.append(len(instance_df))\n",
      "        num_workers.append(len(set(instance_df['worker_id'])))\n",
      "\n",
      "clusters_df = pd.DataFrame({\n",
      "        'idea': pd.Series(ids, dtype=uint64),\n",
      "        'idea_label': pd.Series(labels, dtype=object),\n",
      "        'is_root': pd.Series(is_roots, dtype=uint8),\n",
      "        'is_leaf': pd.Series(is_leafs, dtype=uint8),\n",
      "        'subtree_root': pd.Series(roots, dtype=uint64),\n",
      "        'depth_in_subtree': pd.Series(depths, dtype=uint32),\n",
      "        'height_in_subtree': pd.Series(heights, dtype=uint32),\n",
      "        'question_code': pd.Series(qcs, dtype=object),\n",
      "        'num_nodes_under': pd.Series(num_nodes_under, dtype=uint64),\n",
      "        'num_children': pd.Series(num_childrens, dtype=uint64),\n",
      "        'num_instances_under': pd.Series(num_instances_under, dtype=uint64),\n",
      "        'subtree_probability': pd.Series(subtree_probability, dtype=float64),\n",
      "        'idea_probability': pd.Series(idea_probability, dtype=float64),\n",
      "        'num_instances': pd.Series(num_instances, dtype=uint64),\n",
      "        'num_workers': pd.Series(num_workers, dtype=uint64),\n",
      "        'num_ideas_under': pd.Series(num_ideas, dtype=uint64),\n",
      "    })\n",
      "\n",
      "clusters_df['subtree_oscore'] = 1 - clusters_df['subtree_probability']\n",
      "clusters_df['idea_oscore'] = 1 - clusters_df['idea_probability']"
     ],
     "language": "python",
     "metadata": {},
     "outputs": [
      {
       "output_type": "stream",
       "stream": "stdout",
       "text": [
        "['iPod', 'turk', 'forgot_name', 'charity']\n",
        "0\n",
        "0"
       ]
      },
      {
       "output_type": "stream",
       "stream": "stdout",
       "text": [
        "\n",
        "0\n",
        "0\n"
       ]
      }
     ],
     "prompt_number": 137
    },
    {
     "cell_type": "markdown",
     "metadata": {},
     "source": [
      "## Merge idea dataframe with cluster dataframe"
     ]
    },
    {
     "cell_type": "code",
     "collapsed": false,
     "input": [
      "print \"Pre cluster merge data size:\", len(df)\n",
      "df = pd.merge(df, clusters_df, 'left', ['idea', 'question_code'])\n",
      "print \"Post cluster merge data size:\", len(df)"
     ],
     "language": "python",
     "metadata": {},
     "outputs": [
      {
       "output_type": "stream",
       "stream": "stdout",
       "text": [
        "Pre cluster merge data size: 9286\n",
        "Post cluster merge data size: 9286\n"
       ]
      }
     ],
     "prompt_number": 138
    },
    {
     "cell_type": "markdown",
     "metadata": {},
     "source": [
      "# Generate some extra columns of metrics\n",
      "\n",
      "+ time_spent\n",
      "+ accept_to_submit_timedelta"
     ]
    },
    {
     "cell_type": "code",
     "collapsed": false,
     "input": [
      "df['time_spent'] = df['end_time'] - df['start_time']\n",
      "\n",
      "sub_df = df[(df['valid_time'] > 0)]\n",
      "assert(min(sub_df['time_spent']) > 0)"
     ],
     "language": "python",
     "metadata": {},
     "outputs": [],
     "prompt_number": 139
    },
    {
     "cell_type": "markdown",
     "metadata": {},
     "source": [
      "### Outmix/inmix"
     ]
    },
    {
     "cell_type": "code",
     "collapsed": false,
     "input": [
      "def compute_mixing(clustered_df):\n",
      "    dist = pd.Series([None for i in df.index], index=df.index)\n",
      "    dist_im = pd.Series([None for i in df.index], index=df.index)\n",
      "    im = pd.Series([0 for i in df.index], index=df.index)\n",
      "    mm = pd.Series([0 for i in df.index], index=df.index)\n",
      "    om = pd.Series([0 for i in df.index], index=df.index)\n",
      "    last_sim = pd.Series([None for i in df.index], index=df.index)\n",
      "    related_inmix = pd.Series([None for i in df.index], index=df.index)\n",
      "    \n",
      "    for (nr, wid, qc), run in clustered_df.groupby(['num_requested', 'worker_id', 'question_code']):\n",
      "        for ii, i in enumerate(run.index):\n",
      "            if ii == 0:\n",
      "                continue\n",
      "            for jj, j in reversed(list(enumerate(run.index[0:ii]))):\n",
      "                j_clus = run['idea'][j]\n",
      "                hcm_nc = cluster_forests[qc].node[j_clus]['remix_of']\n",
      "                if run['idea'][i] in hcm_nc:\n",
      "                    last_sim[i] = j\n",
      "                    dist[i] = ii - jj\n",
      "                    mm[j] = 1\n",
      "                    \n",
      "                    if om[j] > 0:\n",
      "                        dist_im[i] = dist[i] + dist_im[j]\n",
      "                        related_inmix[i] = related_inmix[j]\n",
      "                    else:\n",
      "                        im[j] = 1\n",
      "                        dist_im[i] = dist[i]\n",
      "                        related_inmix[i] = j\n",
      "                    \n",
      "                    om[i] = 1\n",
      "                    assert dist[i] > 0\n",
      "                    break\n",
      "    return dist, im, om, mm, dist_im, last_sim, related_inmix\n",
      "\n",
      "clustered_df = df[df['valid_cluster'] == 1]\n",
      "dist, im, om, mm, dist_im, last_sim, related_inmix = compute_mixing(clustered_df)\n",
      "\n",
      "df['distance_from_similar'] = dist\n",
      "df['is_inmix'] = im\n",
      "df['is_midmix'] = mm\n",
      "df['is_outmix'] = om\n",
      "df['distance_from_inmix'] = dist_im\n",
      "df['previous_similar_index'] = last_sim\n",
      "df['inmix_index'] = related_inmix"
     ],
     "language": "python",
     "metadata": {},
     "outputs": [],
     "prompt_number": 140
    },
    {
     "cell_type": "markdown",
     "metadata": {},
     "source": [
      "# Generate run-level metrics\n",
      "\n",
      "+ worker_idea\n",
      "+ question_code\n",
      "\n",
      "\n",
      "+ is_repeat_worker\n",
      "\n",
      "\n",
      "+ num_requested\n",
      "+ num_received\n",
      "\n",
      "+ num_unique_ideas\n",
      "\n",
      "+ accept_datetime\n",
      "+ submit_datetime\n",
      "\n",
      "\n",
      "+ mean_word_count"
     ]
    },
    {
     "cell_type": "code",
     "collapsed": false,
     "input": [
      "def run_count(run, pass_func):\n",
      "    count = 0\n",
      "    for i in run.iterrows():\n",
      "        row = i[1]\n",
      "        if pass_func(row):\n",
      "            count += 1\n",
      "    return count\n",
      "\n",
      "def run_mean(run, value_func):\n",
      "    t = 0.0\n",
      "    for i in run.iterrows():\n",
      "        row = i[1]\n",
      "        t += value_func(row)\n",
      "    return t / len(run)\n",
      "\n",
      "runs = df.groupby(['num_requested', 'worker_id', 'question_code', 'submit_datetime', 'accept_datetime'])\n",
      "\n",
      "wids = pd.Series([wid for ((nr, wid, qc, sdt, adt), run) in runs], dtype=object)\n",
      "qcs = pd.Series([qc for ((nr, wid, qc, sdt, adt), run) in runs], dtype=object)\n",
      "nrs = pd.Series([nr for ((nr, wid, qc, sdt, adt), run) in runs], dtype=float64) # make float for normalization purposes\n",
      "nrc = pd.Series([len(run) for (name, run) in runs], dtype=float64) # make float for normalization purposes\n",
      "\n",
      "# Assign run IDs to df\n",
      "rids = pd.Series([None for i in df.index], index=df.index)\n",
      "for i, (name, run) in enumerate(runs):\n",
      "    for j in run.index:\n",
      "        rids[j] = i\n",
      "df['run_id'] = rids\n",
      "\n",
      "# Test worked\n",
      "for i in nrc.index:\n",
      "    run_df = df[df['run_id'] == i]\n",
      "    assert(nrc[i] == len(run_df))\n",
      "        \n",
      "for i in nrs.index:\n",
      "    assert(nrs[i] >= nrc[i])\n",
      "\n",
      "adts = pd.Series(pd.to_datetime([adt for (nr, wid, qc, sdt, adt), run in runs]))\n",
      "sdts = pd.Series(pd.to_datetime([sdt for (nr, wid, qc, sdt, adt), run in runs]))\n",
      "\n",
      "mwc_val = lambda x: x['word_count']\n",
      "mwc = pd.Series([run_mean(run, mwc_val) for (name, run) in runs],\n",
      "                dtype=float64)\n",
      "\n",
      "nu = pd.Series([len(set(run['idea'])) for name, run in runs],\n",
      "                dtype=uint16)"
     ],
     "language": "python",
     "metadata": {},
     "outputs": [],
     "prompt_number": 141
    },
    {
     "cell_type": "code",
     "collapsed": false,
     "input": [
      "irw_l = []\n",
      "seen = set()\n",
      "for (nr, wid, qc, sdt, adt), run in runs:\n",
      "    if run['is_repeat_worker'].iloc[0] == 1:\n",
      "        irw_l.append(1)\n",
      "    else:\n",
      "        irw_l.append(0)\n",
      "            \n",
      "irw = pd.Series(irw_l, dtype=uint8)\n",
      "\n",
      "print sum(irw)"
     ],
     "language": "python",
     "metadata": {},
     "outputs": [
      {
       "output_type": "stream",
       "stream": "stdout",
       "text": [
        "0\n"
       ]
      }
     ],
     "prompt_number": 142
    },
    {
     "cell_type": "markdown",
     "metadata": {},
     "source": [
      "+ num_unique_subtrees\n",
      "+ mean_subtree_oscore\n"
     ]
    },
    {
     "cell_type": "code",
     "collapsed": false,
     "input": [
      "nus = pd.Series([len(set(run['subtree_root'])) for (name, run) in runs], dtype=uint16)\n",
      "\n",
      "mso_val = lambda x: x['subtree_oscore']\n",
      "mso = pd.Series([run_mean(run, mso_val) for (name, run) in runs], dtype=float64)"
     ],
     "language": "python",
     "metadata": {},
     "outputs": [],
     "prompt_number": 143
    },
    {
     "cell_type": "markdown",
     "metadata": {},
     "source": [
      "+ num_inmix\n",
      "+ num_outmix"
     ]
    },
    {
     "cell_type": "code",
     "collapsed": false,
     "input": [
      "ni = pd.Series([sum(run['is_inmix']) for name, run in runs], dtype=float64)\n",
      "\n",
      "no = pd.Series([sum(run['is_outmix']) for name, run in runs], dtype=float64)"
     ],
     "language": "python",
     "metadata": {},
     "outputs": [],
     "prompt_number": 144
    },
    {
     "cell_type": "markdown",
     "metadata": {},
     "source": [
      "+ valid_cluster\n",
      "+ valid_time"
     ]
    },
    {
     "cell_type": "code",
     "collapsed": false,
     "input": [
      "cv_test = lambda run: len(run) == len(run[(run['valid_cluster'] > 0)])\n",
      "cv = pd.Series([cv_test(run) for name, run in runs], dtype=uint8)\n",
      "\n",
      "tv_test = lambda run: len(run) == len(run[(run['valid_time'] > 0)])\n",
      "tv = pd.Series([tv_test(run) for name, run in runs], dtype=uint8)"
     ],
     "language": "python",
     "metadata": {},
     "outputs": [],
     "prompt_number": 145
    },
    {
     "cell_type": "code",
     "collapsed": false,
     "input": [
      "# Drop redundant data from original dataframe\n",
      "df = df.drop('accept_datetime', 1)\n",
      "df = df.drop('submit_datetime', 1)\n",
      "df = df.drop('worker_id', 1)\n",
      "df = df.drop('num_requested', 1)\n",
      "df = df.drop('question_code', 1)\n",
      "\n",
      "rmdf = pd.DataFrame({'worker_id': wids,\n",
      "                            'question_code': qcs,\n",
      "                            'num_requested': nrs,\n",
      "                            'num_received': nrc,\n",
      "                            'accept_datetime': adts,\n",
      "                            'submit_datetime': sdts,\n",
      "                            #'is_repeat_worker': irw,\n",
      "                            'r_mean_word_count': mwc,\n",
      "                            'r_num_unique_ideas': nu,\n",
      "                            'r_num_unique_subtrees': nus,\n",
      "                            #'mean_subtree_oscore': mhclo,# Think about where I use this; is it better to just take from all ideas?\n",
      "                            'num_inmix': ni, # same as above\n",
      "                            'num_outmix': no, # same as above\n",
      "                            'r_valid_cluster': cv,\n",
      "                            'r_valid_time': tv,\n",
      "                            })\n",
      "\n",
      "# assert(len(runs) == len(run_metrics_df)) # weird memory error"
     ],
     "language": "python",
     "metadata": {},
     "outputs": [],
     "prompt_number": 146
    },
    {
     "cell_type": "markdown",
     "metadata": {},
     "source": [
      "# Final DF"
     ]
    },
    {
     "cell_type": "code",
     "collapsed": false,
     "input": [
      "df = df.merge(rmdf, right_index=True, left_on=['run_id'])\n",
      "print df\n",
      "df.to_csv(output_csv)"
     ],
     "language": "python",
     "metadata": {},
     "outputs": [
      {
       "output_type": "stream",
       "stream": "stdout",
       "text": [
        "<class 'pandas.core.frame.DataFrame'>\n",
        "Int64Index: 9286 entries, 0 to 9125\n",
        "Data columns (total 56 columns):\n",
        "answer                    9286  non-null values\n",
        "answer_num                9286  non-null values\n",
        "batch_file                9286  non-null values\n",
        "end_time                  9286  non-null values\n",
        "start_time                9286  non-null values\n",
        "valid_time                9286  non-null values\n",
        "word_count                9286  non-null values\n",
        "is_repeat_worker          9286  non-null values\n",
        "idea                      3007  non-null values\n",
        "valid_cluster             3007  non-null values\n",
        "distance_mike             1103  non-null values\n",
        "realistic_mike            1103  non-null values\n",
        "utility_mike              1103  non-null values\n",
        "valid_mike                1103  non-null values\n",
        "distance_fil              1103  non-null values\n",
        "realistic_fil             1103  non-null values\n",
        "utility_fil               1103  non-null values\n",
        "valid_fil                 1103  non-null values\n",
        "depth_in_subtree          3007  non-null values\n",
        "height_in_subtree         3007  non-null values\n",
        "idea_label                2767  non-null values\n",
        "idea_probability          3007  non-null values\n",
        "is_leaf                   3007  non-null values\n",
        "is_root                   3007  non-null values\n",
        "num_children              3007  non-null values\n",
        "num_ideas_under           3007  non-null values\n",
        "num_instances             3007  non-null values\n",
        "num_instances_under       3007  non-null values\n",
        "num_nodes_under           3007  non-null values\n",
        "num_workers               3007  non-null values\n",
        "subtree_probability       3007  non-null values\n",
        "subtree_root              3007  non-null values\n",
        "subtree_oscore            3007  non-null values\n",
        "idea_oscore               3007  non-null values\n",
        "time_spent                9286  non-null values\n",
        "distance_from_similar     961  non-null values\n",
        "is_inmix                  9286  non-null values\n",
        "is_midmix                 9286  non-null values\n",
        "is_outmix                 9286  non-null values\n",
        "distance_from_inmix       961  non-null values\n",
        "previous_similar_index    961  non-null values\n",
        "inmix_index               961  non-null values\n",
        "run_id                    9286  non-null values\n",
        "accept_datetime           9286  non-null values\n",
        "num_inmix                 9286  non-null values\n",
        "num_outmix                9286  non-null values\n",
        "num_received              9286  non-null values\n",
        "num_requested             9286  non-null values\n",
        "question_code             9286  non-null values\n",
        "r_mean_word_count         9286  non-null values\n",
        "r_num_unique_ideas        9286  non-null values\n",
        "r_num_unique_subtrees     9286  non-null values\n",
        "r_valid_cluster           9286  non-null values\n",
        "r_valid_time              9286  non-null values\n",
        "submit_datetime           9286  non-null values\n",
        "worker_id                 9286  non-null values\n",
        "dtypes: datetime64[ns](2), float64(30), int64(4), object(13), uint16(2), uint32(1), uint8(4)\n"
       ]
      }
     ],
     "prompt_number": 147
    },
    {
     "cell_type": "code",
     "collapsed": false,
     "input": [
      "print len(df_repeat[df_repeat['question_code'] == 'iPod'])"
     ],
     "language": "python",
     "metadata": {},
     "outputs": [
      {
       "output_type": "stream",
       "stream": "stdout",
       "text": [
        "3207\n"
       ]
      }
     ],
     "prompt_number": 148
    },
    {
     "cell_type": "markdown",
     "metadata": {},
     "source": [
      "# Graphing Functions\n",
      "\n",
      "These were getting long and generic, so put them where they can be safely ignored"
     ]
    },
    {
     "cell_type": "code",
     "collapsed": false,
     "input": [
      "def init_multifig(num_conditions, fignum = 1, subplot_size = (5.5, 5.5)):\n",
      "    rows = None\n",
      "    cols = None\n",
      "    if subplot_size[0] <= 7:\n",
      "        rows = math.ceil(num_conditions / float(2))\n",
      "        cols = 2\n",
      "    else:\n",
      "        rows = num_conditions\n",
      "        cols = 1\n",
      "    return rows, cols, figure(fignum, figsize=(cols * subplot_size[0], rows * subplot_size[1]))\n",
      "\n",
      "def hists(conditions, plot_title, x_title, y_title, fignum = 1, thin_bins = False):\n",
      "    rc, cc, fig = init_multifig(len(conditions), fignum, subplot_size = (5, 4))\n",
      "    \n",
      "    all_hist_counts = []\n",
      "    max_x = 0\n",
      "    for (con, color, data) in conditions:\n",
      "        max_x = max(max_x, max(data))\n",
      "        if type(data) is pd.Series:\n",
      "            for d in data.value_counts():\n",
      "                if d != 0:\n",
      "                    all_hist_counts.append(d)\n",
      "        else:\n",
      "            for d in np.bincount(data):\n",
      "                all_hist_counts.append(d)\n",
      "    ymax = max(all_hist_counts)\n",
      "    \n",
      "    for i, (con, color, data) in enumerate(conditions):\n",
      "        subplot(rc, cc, i)\n",
      "        \n",
      "        if thin_bins:\n",
      "            hist(data, alpha=0.4, color=color, bins=max_x)\n",
      "        else:\n",
      "            hist(data, alpha=0.4, color=color)\n",
      "        title(plot_title + ' (' + str(con) + ')')\n",
      "        xlabel(x_title)\n",
      "        ylabel(y_title)\n",
      "        ylim(0, ymax)\n",
      "\n",
      "def hists_cross_nr(base_df, field, plot_title, x_title, y_title, fignum = 1):\n",
      "    conditions = []\n",
      "    \n",
      "    for nr in nr_conds:\n",
      "        nr_df = base_df[(base_df['num_requested']) == nr]\n",
      "        \n",
      "        if len(nr_df) == 0:\n",
      "            continue\n",
      "        \n",
      "        conditions.append((nr, qc_colors[None], nr_df[field]))\n",
      "        \n",
      "    hists(conditions, plot_title, x_title, y_title, fignum)\n",
      "\n",
      "def bar_mean_err(conditions, plot_title, x_title, x_labels, y_title, fignum = 1, ymin = 0, ymax = 1):\n",
      "    rc, cc, fig = init_multifig(len(conditions), fignum)\n",
      "    \n",
      "    firstax = None\n",
      "    \n",
      "    for i, (con, color, bar_datas) in enumerate(conditions):\n",
      "        assert(len(x_labels) == len(bar_datas))\n",
      "        \n",
      "        means = [np.mean(bd) for bd in bar_datas]\n",
      "        stes = [stats.sem(bd, ddof=1) for bd in bar_datas]\n",
      "\n",
      "        if firstax:\n",
      "            ax = subplot(rc, cc, i, sharey=firstax)\n",
      "        else:\n",
      "            firstax = subplot(rc, cc, i)\n",
      "            \n",
      "        bar(range(len(means)), means, yerr=stes, alpha=0.4, color=color)\n",
      "        xticks(range(len(means)), x_labels)\n",
      "        \n",
      "        title(plot_title + ' (' + str(con) + ')')\n",
      "        xlabel(x_title)\n",
      "        ylabel(y_title)\n",
      "        \n",
      "        ylim(ymin, ymax)\n",
      "        \n",
      "def bar_mean_err_cross_qc(base_df, field, plot_title, y_title, fignum = 1, ymin = 0, ymax = 1):\n",
      "    conditions = []\n",
      "    \n",
      "    bar_datas = []\n",
      "    qcs = set(base_df['question_code'])\n",
      "    \n",
      "    for nr in nr_conds:\n",
      "        nr_df = base_df[(base_df['num_requested']) == nr]\n",
      "        bar_datas.append(nr_df[field])\n",
      "    \n",
      "    #conditions.append((\"all\", qc_colors[None], bar_datas))\n",
      "    \n",
      "    for qc in qcs:\n",
      "        qc_df = base_df[(base_df['question_code'] == qc)]\n",
      "        bar_datas = []\n",
      "        for nr in nr_conds:\n",
      "            qc_nr_df = qc_df[(qc_df['num_requested']) == nr]\n",
      "            bar_datas.append(qc_nr_df[field])\n",
      "        conditions.append((qc, qc_colors[qc], bar_datas))\n",
      "        \n",
      "    bar_mean_err(conditions, plot_title, '# responses requested',\n",
      "                 nr_conds, y_title, fignum, ymin, ymax)\n",
      "    \n",
      "def bar_mean_err_cross_nr(base_df, field, plot_title, y_title, fignum = 1, ymin = 0, ymax = 1):\n",
      "    conditions = []\n",
      "    \n",
      "    bar_datas = []\n",
      "    for qc in qc_conds:\n",
      "        qc_df = base_df[(base_df['question_code']) == qc]\n",
      "        bar_datas.append(qc_df[field])\n",
      "    conditions.append((\"all\", [qc_colors[qc] for qc in qc_conds], bar_datas))\n",
      "    \n",
      "    for nr in nr_conds:\n",
      "        nr_df = base_df[(base_df['num_requested'] == nr)]\n",
      "        if len(nr_df) == 0:\n",
      "            continue\n",
      "        bar_datas = []\n",
      "        for qc in qc_conds:\n",
      "            qc_nr_df = nr_df[(nr_df['question_code']) == qc]\n",
      "            bar_datas.append(qc_nr_df[field])\n",
      "        conditions.append((nr, [qc_colors[qc] for qc in qc_conds], bar_datas))\n",
      "        \n",
      "    bar_mean_err(conditions, plot_title, '# responses requested',\n",
      "                 qc_conds, y_title, fignum, ymin, ymax)\n",
      "\n",
      "\n",
      "def count_over_responses_cross_qc(base_df, count_func, xlab, ylab, t):\n",
      "    rows, cols, fig = init_multifig(len(qc_conds))\n",
      "\n",
      "    for i, qc in enumerate(qc_conds):\n",
      "        sub_df = base_df[(base_df['question_code'] == qc)]\n",
      "        subplot(rows, cols, i + 1)\n",
      "        xlabel(xlab)\n",
      "        ylabel(ylab)\n",
      "        title('%s (%s)' % (t, qc))\n",
      "        \n",
      "        min_cond_size = min(len(sub_df[(sub_df['num_requested'] == nr)]) for nr in nr_conds)\n",
      "        \n",
      "        for nr in nr_conds:\n",
      "            ssub_df = sub_df[(sub_df['num_requested'] == nr)]\n",
      "            ssub_df = ssub_df.sort('submit_datetime')\n",
      "            ssub_df = ssub_df.iloc[:min_cond_size]\n",
      "            \n",
      "            xs, ys = zip(*count_func(ssub_df))\n",
      "            \n",
      "            plot(xs, ys, label=str(nr))\n",
      "        \n",
      "        legend(loc='upper left')\n",
      "\n",
      "# plot_func should take a clusters dataframe and a label\n",
      "def plot_idea_metric_cross_nr(a_df, a_cdf, plot_func):\n",
      "    nrs = sorted(set(a_df['num_requested']))\n",
      "    rows, cols, fig = init_multifig(len(nrs) + 1)\n",
      "\n",
      "    ax = fig.add_subplot(rows, 2, 1)\n",
      "    plot_func(a_cdf, ax, 'all')\n",
      "    \n",
      "    for j, nr in enumerate(nrs):\n",
      "        sub_df = df[a_df['num_requested'] == nr]\n",
      "        cs = set(sub_df['idea'])\n",
      "        \n",
      "        keep_indexes = [i for i in a_cdf.index if a_cdf['idea'][i] in cs]\n",
      "        sub_cdf = a_cdf.loc[keep_indexes]\n",
      "        \n",
      "        ax = fig.add_subplot(rows, cols, 2 + j)\n",
      "        plot_func(sub_cdf, ax, nr)\n",
      "\n",
      "## Assumes the dataframe is sorted\n",
      "def dec_plot_func_window(plot_func, window_size, field):\n",
      "    def new_plot_func(a_df, ax, label=None, color = 'b'):\n",
      "        new_order = []\n",
      "        rolling_mean = []\n",
      "        \n",
      "        s = a_df[field]\n",
      "        \n",
      "        for i in range(0, len(s) - window_size + 1):\n",
      "            new_order.append(i + window_size/2)\n",
      "            rolling_mean.append(np.mean(s.iloc[i : i +window_size]))\n",
      "            \n",
      "        new_df = pd.DataFrame({\n",
      "                               'answer_num': pd.Series(new_order, dtype='uint32'),\n",
      "                               field: pd.Series(rolling_mean),\n",
      "                               })\n",
      "        plot_func(new_df, ax, label, color)\n",
      "        \n",
      "    return new_plot_func\n",
      "\n",
      "# I have no idea anymore what the difference between this function and the above is any more\n",
      "def dec_plot_func_window_by_order(plot_func, window_size, field):\n",
      "    def new_plot_func(a_df, ax, label=None, color = 'b'):\n",
      "        new_order = []\n",
      "        rolling_mean = []\n",
      "        \n",
      "        max_answer_num = max(a_df['answer_num'])\n",
      "        if max_answer_num < window_size:\n",
      "            return\n",
      "        \n",
      "        groups = a_df.groupby(['worker_id', 'num_requested', 'question_code'])\n",
      "        for name, group in groups:\n",
      "            sortg = group.sort(['answer_num'])\n",
      "            s = sortg[field]\n",
      "            for i in range(0, len(s) - window_size + 1):\n",
      "                rolling_mean.append(np.mean(s.iloc[i : i+window_size]))\n",
      "                new_order.append(i + window_size/2)\n",
      "        \n",
      "        new_df = pd.DataFrame({\n",
      "                               'answer_num': pd.Series(new_order, dtype='uint32'),\n",
      "                               field: pd.Series(rolling_mean),\n",
      "                               })\n",
      "        \n",
      "        plot_func(new_df, ax, label, color)\n",
      "    \n",
      "    return new_plot_func\n",
      "\n",
      "def dec_plot_func_cross_cond(plot_func, condition, legend_loc='lower right',all_cond=False):\n",
      "    def new_plot_func(a_df, ax, label = None, color='b'):\n",
      "        cs = sorted(set(a_df[condition]))\n",
      "        \n",
      "        lsuffix = '-%s' % label if label else ''\n",
      "        \n",
      "        #overrides the color\n",
      "        c_dict = cond_colors[condition]\n",
      "        \n",
      "        if all_cond:\n",
      "            plot_func(a_df, ax, label='all' + lsuffix, color=c_dict[None])\n",
      "        \n",
      "        for c in cs:\n",
      "            sub_df = a_df[a_df[condition] == c]\n",
      "            plot_func(sub_df, ax, label=str(c) + lsuffix, color=c_dict[c])\n",
      "        \n",
      "        ax.legend(loc=legend_loc)\n",
      "            \n",
      "    return new_plot_func\n",
      "\n",
      "def plot_pf(a_df, plot_func, xlab, ylab, color = 'b',\n",
      "            plot_size = (5.5, 5.5), ylimits = None, xlimits = None):\n",
      "    rows, cols, fig = init_multifig(1, subplot_size = plot_size)\n",
      "    \n",
      "    ax = fig.add_subplot(rows, cols, 1)\n",
      "    xlabel(xlab)\n",
      "    ylabel(ylab)\n",
      "    plot_func(a_df, ax, color = color)\n",
      "              \n",
      "    if ylimits is not None:\n",
      "        ylim(ylimits[0], ylimits[1])\n",
      "    if xlimits is not None:\n",
      "        xlim(xlimits[0], xlimits[1])\n",
      "    \n",
      "    return ax\n",
      "\n",
      "# plot_func should take a dataframe and some axes\n",
      "def subplots_cross_cond(a_df, condition, xlab, ylab, plot_func,\n",
      "                        subplot_size = (5.5, 5.5), ylimits = None, xlimits = None, all_cond = False):\n",
      "    cs = sorted(set(a_df[condition]))\n",
      "    rows, cols, fig = init_multifig(len(cs) + (1 if all_cond else 0),\n",
      "                                    subplot_size = subplot_size)\n",
      "    \n",
      "    c_dict = cond_colors[condition]\n",
      "    \n",
      "    if all_cond:\n",
      "        ax = fig.add_subplot(rows, cols, 1)\n",
      "        xlabel(xlab)\n",
      "        ylabel(ylab)\n",
      "        title('(all)')\n",
      "        plot_func(a_df, ax, color=c_dict[None])\n",
      "    \n",
      "        if ylimits is not None:\n",
      "            ylim(ylimits[0], ylimits[1])\n",
      "            \n",
      "        if xlimits is not None:\n",
      "            xlim(xlimits[0], xlimits[1])\n",
      "    \n",
      "    for i, c in enumerate(sorted(cs)):\n",
      "        sub_df = a_df[(a_df[condition] == c)]\n",
      "        \n",
      "        ax = fig.add_subplot(rows, cols, i + (2 if all_cond else 1))\n",
      "        \n",
      "        xlabel(xlab)\n",
      "        ylabel(ylab)\n",
      "        title('(%s)' % str(c))\n",
      "        \n",
      "        plot_func(sub_df, ax, color=c_dict[c])\n",
      "        \n",
      "        if ylimits is not None:\n",
      "            ylim(ylimits[0], ylimits[1])\n",
      "            \n",
      "        if xlimits is not None:\n",
      "            xlim(xlimits[0], xlimits[1])\n",
      "        \n",
      "    return fig\n",
      "\n",
      "def dec_plot_func_cum_unique_shuffle(plot_func, unique_field, pass_field = None, shuffles=100):\n",
      "    def new_plot_func(a_df, ax, label = None, color='b'):\n",
      "        \n",
      "        all_ys = np.zeros((len(a_df), shuffles))\n",
      "        deep_copy = np.array([i for i in a_df.index])\n",
      "        \n",
      "        for i in range(shuffles):\n",
      "            np.random.shuffle(deep_copy)\n",
      "            uniques = set()\n",
      "            \n",
      "            for j, ix in enumerate(deep_copy):\n",
      "                u = a_df[unique_field][ix]\n",
      "                if pass_field is None or a_df[pass_field][ix] > 0:\n",
      "                    uniques.add(u)\n",
      "                \n",
      "                all_ys[j][i] = len(uniques)\n",
      "\n",
      "        new_df = pd.DataFrame({\n",
      "                               'answer_num': pd.Series(range(len(a_df)), dtype='uint32'),\n",
      "                               unique_field: np.mean(all_ys, axis=1),\n",
      "                               })\n",
      "\n",
      "        plot_func(new_df, ax, label + '(rate)', color)\n",
      "        \n",
      "    return new_plot_func\n",
      "\n",
      "def gen_plot_func_cumulative_count_no_repeat(uniqueness_field, pass_field = None):\n",
      "    def plot_func(a_df, ax, label = None, color='b'):\n",
      "        runs = a_df.groupby('worker_id')\n",
      "        \n",
      "        clusters = set()\n",
      "        num_clusters = [0,]\n",
      "        num_total = [0,]\n",
      "        \n",
      "        for name, run in runs:\n",
      "            for i in run.index:\n",
      "                c = run[uniqueness_field][i]\n",
      "                if pass_field is None or run[pass_field][i] > 0:\n",
      "                    clusters.add(c)\n",
      "                    \n",
      "            num_clusters.append(len(clusters))\n",
      "            num_total.append(num_total[-1] + len(run))\n",
      "\n",
      "        ax.plot(num_total, num_clusters, label=label)\n",
      "        ax.plot(num_total, num_total)\n",
      "        \n",
      "    return plot_func\n",
      "\n",
      "def gen_plot_func_cum_unique_shuffle(uniqueness_field, shuffles, pass_field = None):\n",
      "    def plot_func(a_df, ax, label = None, color='b'):\n",
      "        \n",
      "        all_ys = np.zeros((len(a_df), shuffles))\n",
      "        \n",
      "        deep_copy = np.array([i for i in a_df.index])\n",
      "        \n",
      "        for i in range(shuffles):\n",
      "            np.random.shuffle(deep_copy)\n",
      "        \n",
      "            uniques = set()\n",
      "            \n",
      "            for j, ix in enumerate(deep_copy):\n",
      "                u = a_df[uniqueness_field][ix]\n",
      "                if pass_field is None or a_df[pass_field][ix] > 0:\n",
      "                    uniques.add(u)\n",
      "                \n",
      "                all_ys[j][i] = len(uniques)\n",
      "\n",
      "        xs = range(len(a_df))\n",
      "        ax.plot(xs, np.mean(all_ys, axis=1), label=label)\n",
      "        ax.plot(xs, xs)\n",
      "        \n",
      "    return plot_func\n",
      "\n",
      "def dec_plot_func_diff(plot_func, field):\n",
      "    def new_plot_func(a_df, ax, label=None, color = 'b'):\n",
      "        diffs = []\n",
      "        new_order = []\n",
      "        \n",
      "        for i in range(1, len(a_df.index)):\n",
      "            new_order.append(i)\n",
      "            cur_index = a_df.index[i]\n",
      "            last_index = a_df.index[i-1]\n",
      "            \n",
      "            f = a_df[field]\n",
      "            diffs.append(f[cur_index] - f[last_index])\n",
      "        \n",
      "        new_df = pd.DataFrame({\n",
      "                               'answer_num': pd.Series(new_order, dtype='uint32'),\n",
      "                               field: pd.Series(diffs),\n",
      "                               })\n",
      "        \n",
      "        plot_func(new_df, ax, label, color)\n",
      "    \n",
      "    return new_plot_func\n",
      "\n",
      "def gen_basic_plot_func(field):\n",
      "    def pf(a_df, ax, label, color):\n",
      "        ax.plot(a_df['answer_num'], a_df[field], label=label, color=color)\n",
      "        \n",
      "    return pf\n",
      "\n",
      "def cum_unique_shuffle_rate_windowed_split_qc(df, unique_field, window_size = 10, shuffles=100,\n",
      "        pass_field=None, ylimits = None, xlimits = None):\n",
      "    pf = gen_basic_plot_func(unique_field)\n",
      "    pf = dec_plot_func_window(pf, window_size, unique_field)\n",
      "    pf = dec_plot_func_diff(pf, unique_field)\n",
      "    pf = dec_plot_func_cum_unique_shuffle(pf, unique_field, pass_field, shuffles=shuffles)\n",
      "    pf = dec_plot_func_cross_cond(pf, 'num_requested', legend_loc='upper left')\n",
      "    \n",
      "    fig = subplots_cross_cond(df, 'question_code',\n",
      "                        xlab = 'number of instances received',\n",
      "                        ylab = 'rate of new %s (if %s)' % (unique_field, pass_field),\n",
      "                        plot_func = pf,\n",
      "                        subplot_size = (12,12),\n",
      "                        ylimits = ylimits)\n",
      "\n",
      "def cum_unique_shuffle_split_qc(df, unique_field, shuffles=100,\n",
      "        pass_field=None, ylimits = None, xlimits = None):\n",
      "    pf = gen_plot_func_cum_unique_shuffle(unique_field, shuffles, pass_field)\n",
      "    pf = dec_plot_func_cross_cond(pf, 'num_requested', legend_loc='upper left')\n",
      "    \n",
      "    fig = subplots_cross_cond(df, 'question_code',\n",
      "                        xlab = 'number of instances received',\n",
      "                        ylab = 'unique %s if %s' % (unique_field, pass_field),\n",
      "                        plot_func = pf,\n",
      "                        subplot_size = (12,12),\n",
      "                        ylimits = ylimits)\n",
      "    \n",
      "def field_by_order_split_qc(df, unique_field, pass_field=None, ylimits = None, xlimits = None):\n",
      "    pf = gen_plot_func_cumulative_count_no_repeat(unique_field, pass_field)\n",
      "    pf = dec_plot_func_cross_cond(pf, 'num_requested', legend_loc='upper left')\n",
      "    \n",
      "    fig = subplots_cross_cond(df, 'question_code',\n",
      "                        xlab = 'number of instances received',\n",
      "                        ylab = 'unique %s if %s' % (unique_field, pass_field),\n",
      "                        plot_func = pf,\n",
      "                        subplot_size = (8,8),\n",
      "                        ylimits = ylimits)\n",
      "\n",
      "def field_by_order_split_nr(df, unique_field, pass_field=None, ylimits = None, xlimits = None):\n",
      "    pf = gen_plot_func_cumulative_count_no_repeat(unique_field, pass_field)\n",
      "    pf = dec_plot_func_cross_cond(pf, 'question_code', legend_loc='upper left')\n",
      "    \n",
      "    fig = subplots_cross_cond(df, 'num_requested',\n",
      "                        xlab = 'number of instances received',\n",
      "                        ylab = 'unique %s if %s' % (unique_field, pass_field),\n",
      "                        plot_func = pf,\n",
      "                        subplot_size = (4,4),\n",
      "                        ylimits = ylimits,\n",
      "                        all_cond = True)\n",
      "    \n"
     ],
     "language": "python",
     "metadata": {},
     "outputs": [],
     "prompt_number": 149
    },
    {
     "cell_type": "markdown",
     "metadata": {},
     "source": [
      "# Analysis functions"
     ]
    },
    {
     "cell_type": "code",
     "collapsed": false,
     "input": [
      "import subprocess\n",
      "\n",
      "_hdi_stats_cache = {}\n",
      "# Use this one instead\n",
      "def get_hdi(a, b, confidence_interval):\n",
      "  if (a,b,confidence_interval) in _hdi_stats_cache:\n",
      "    return _hdi_stats_cache[(a,b,confidence_interval)]\n",
      "  #print \"get_hdi:\", a, b, confidence_interval\n",
      "  if a == 1 or b == 1:\n",
      "    if a == 1 and b == 1:\n",
      "      lower_bound = (1.0-confidence_interval) / 2\n",
      "      upper_bound = 1.0 - lower_bound\n",
      "    else:\n",
      "      #print \"special qbeta:\", a, b, confidence_interval\n",
      "      results = subprocess.check_output([\"R\", \"-q\", \"-e\", 'qbeta(%f, 1, %d)' % (confidence_interval, max(a,b))])\n",
      "      results = results.split('\\n')[1]\n",
      "      upper_bound = float(results[results.index(' ')+1:])\n",
      "      if a < b:\n",
      "        lower_bound = 0\n",
      "      else:\n",
      "        lower_bound = 1.0 - upper_bound\n",
      "        upper_bound = 1.0\n",
      "  else:\n",
      "    results = subprocess.check_output([\"R\", \"-q\", \"-e\", 'get_hdi = function(a, b, level=0.95) { density_diff = function(lower, a, b) { p_lower = pbeta(lower, a, b); p_upper = min(1.0, p_lower + level); upper = qbeta(p_upper, a, b); return(dbeta(lower, a, b) - dbeta(upper, a, b)); }; lower = uniroot(density_diff, c(0, qbeta(1.0-level, a, b)), a=a, b=b)$root; upper = qbeta(pbeta(lower, a, b) + level, a, b); return(c(lower, upper)); }; get_hdi(%d, %d, %f)' % (a, b, confidence_interval)])\n",
      "    results = results.split('\\n')[1]\n",
      "    results = results[results.index(' ')+1:]\n",
      "    lower_bound, upper_bound = [float(x) for x in results.split(' ')]\n",
      "  _hdi_stats_cache[(a,b,confidence_interval)] = (lower_bound, upper_bound)\n",
      "  return lower_bound, upper_bound\n",
      "\n",
      "def calculate_posterior(num_successes, total_num):\n",
      "  a_prior = 1\n",
      "  b_prior = 1\n",
      "  a_post = a_prior + num_successes\n",
      "  b_post = b_prior + (total_num - num_successes)\n",
      "  posterior_mean = a_post / float(total_num + a_prior + b_prior)\n",
      "  posterior_variance = posterior_mean * (1.0-posterior_mean) / (1.0 + a_prior + b_prior + total_num)\n",
      "#  old_lower_bound, old_upper_bound = run_qbeta(a_post, b_post, 0.95)\n",
      "  lower_bound, upper_bound = get_hdi(a_post, b_post, 0.95)\n",
      "  return posterior_mean, lower_bound, upper_bound#, old_lower_bound, old_upper_bound\n"
     ],
     "language": "python",
     "metadata": {},
     "outputs": [],
     "prompt_number": 150
    },
    {
     "cell_type": "markdown",
     "metadata": {},
     "source": [
      "# Data management functions"
     ]
    },
    {
     "cell_type": "code",
     "collapsed": false,
     "input": [
      "def bool_df_measure(orig_df, pass_selection):\n",
      "    ns = pd.Series([0 for i in orig_df.index], index=orig_df.index)\n",
      "    for i in pass_selection.index:\n",
      "        ns[i] = 1\n",
      "    return ns"
     ],
     "language": "python",
     "metadata": {},
     "outputs": [],
     "prompt_number": 151
    },
    {
     "cell_type": "markdown",
     "metadata": {},
     "source": [
      "## Worker analyis\n",
      "\n",
      "How many workers did we have? How many HITs did each complete? Did any repeat the same questions?"
     ]
    },
    {
     "cell_type": "code",
     "collapsed": false,
     "input": [
      "groups = df_repeat.groupby(['worker_id', 'question_code', 'num_requested', 'submit_datetime'])\n",
      "\n",
      "n_runs = 0\n",
      "n_repeats = 0\n",
      "\n",
      "for name, run in groups:\n",
      "    n_runs += 1\n",
      "    if run['is_repeat_worker'].iloc[0] == 1:\n",
      "        n_repeats +=1\n",
      "    \n",
      "\n",
      "print \"Number of runs:\", n_runs\n",
      "print \"Number of turkers:\", len(set(df['worker_id']))\n",
      "\n",
      "print \"Total number of repeats:\", n_repeats\n",
      "\n",
      "for qc in ['iPod']:\n",
      "    for nr in nr_conds:\n",
      "        sub_df = df_repeat[(df_repeat['question_code'] == qc) & (df_repeat['num_requested'] == nr)]\n",
      "        sub_nrdf = df[(df['question_code'] == qc) & (df['num_requested'] == nr)]\n",
      "        groups = sub_df.groupby(['worker_id', 'question_code', 'num_requested', 'submit_datetime'])\n",
      "        \n",
      "        n_runs = 0\n",
      "        n_repeats = 0\n",
      "        \n",
      "        for name, run in groups:\n",
      "            n_runs += 1\n",
      "            if run['is_repeat_worker'].iloc[0] == 1:\n",
      "                n_repeats +=1\n",
      "    \n",
      "        print qc, nr, \"runs:\", n_runs\n",
      "        print qc, nr, \"unique:\", len(set(sub_nrdf['worker_id']))"
     ],
     "language": "python",
     "metadata": {},
     "outputs": [
      {
       "output_type": "stream",
       "stream": "stdout",
       "text": [
        "Number of runs: 341\n",
        "Number of turkers: 280\n",
        "Total number of repeats: 27\n",
        "iPod 5 runs: 59\n",
        "iPod 5 unique: 57\n",
        "iPod"
       ]
      },
      {
       "output_type": "stream",
       "stream": "stdout",
       "text": [
        " 10 runs: 49\n",
        "iPod 10 unique: 39\n",
        "iPod 20 runs: 23\n",
        "iPod 20 unique: 21\n",
        "iPod 50 runs: 10\n",
        "iPod 50 unique: 9\n",
        "iPod 75 runs: 10\n",
        "iPod 75 unique: 10\n",
        "iPod"
       ]
      },
      {
       "output_type": "stream",
       "stream": "stdout",
       "text": [
        " 100 runs: 10\n",
        "iPod 100 unique: 10\n"
       ]
      }
     ],
     "prompt_number": 152
    },
    {
     "cell_type": "markdown",
     "metadata": {},
     "source": [
      "### Response/instance stats"
     ]
    },
    {
     "cell_type": "code",
     "collapsed": false,
     "input": [
      "def response_stats(df, title):\n",
      "    print title, \"total:\", len(df)\n",
      "    print title, \"non-repeat:\", len(df[df['is_repeat_worker'] == 0])\n",
      "    \n",
      "response_stats(df, 'all')\n",
      "for qc in qc_conds:\n",
      "    response_stats(df_repeat[df_repeat['question_code'] == qc], qc)"
     ],
     "language": "python",
     "metadata": {},
     "outputs": [
      {
       "output_type": "stream",
       "stream": "stdout",
       "text": [
        "all total: 9286\n",
        "all non-repeat: 9286\n",
        "iPod total: 3207\n",
        "iPod non-repeat: 3007\n",
        "turk total: 2335\n",
        "turk non-repeat: 2075\n",
        "forgot_name total: 2414\n",
        "forgot_name non-repeat: 2267\n",
        "charity total: 2072\n",
        "charity non-repeat: 1937\n"
       ]
      }
     ],
     "prompt_number": 153
    },
    {
     "cell_type": "markdown",
     "metadata": {},
     "source": [
      "## Conditions\n",
      "\n",
      "How many responses in each condition?"
     ]
    },
    {
     "cell_type": "code",
     "collapsed": false,
     "input": [
      "for (nr, qc), runs in rmdf.groupby(['num_requested', 'question_code']):\n",
      "    if qc != 'iPod':\n",
      "        continue\n",
      "    \n",
      "    print len(runs), \"runs in condition\", qc, \"/\", nr\n",
      "    total_received = sum(runs['num_received'])\n",
      "    print total_received, \"responses total\""
     ],
     "language": "python",
     "metadata": {},
     "outputs": [
      {
       "output_type": "stream",
       "stream": "stdout",
       "text": [
        "57 runs in condition iPod / 5.0\n",
        "283.0 responses total\n",
        "39 runs in condition iPod / 10.0\n",
        "372.0 responses total\n",
        "21 runs in condition iPod / 20.0\n",
        "413.0 responses total\n",
        "9 runs in condition iPod / 50.0\n",
        "450.0 responses total\n",
        "10 runs in condition iPod / 75.0\n",
        "634.0 responses total\n",
        "10 runs in condition iPod / 100.0\n",
        "855.0 responses total\n"
       ]
      }
     ],
     "prompt_number": 154
    },
    {
     "cell_type": "markdown",
     "metadata": {},
     "source": [
      "# Tree summary stats\n",
      "\n",
      "+ number of subtrees"
     ]
    },
    {
     "cell_type": "markdown",
     "metadata": {},
     "source": [
      "## Forest visualization"
     ]
    },
    {
     "cell_type": "code",
     "collapsed": false,
     "input": [
      "try:\n",
      "    from networkx import graphviz_layout\n",
      "except ImportError:\n",
      "    raise ImportError(\"This example needs Graphviz and either PyGraphviz or Pydot\")\n",
      "    \n",
      "plt.figure(1,figsize=(8,8))\n",
      "\n",
      "G = cluster_forests['iPod']\n",
      "\n",
      "# layout graphs with positions using graphviz neato\n",
      "pos=nx.graphviz_layout(G,prog=\"neato\")\n",
      "#twopi, circo, neato,dot, sfdp.\n",
      "# color nodes the same in each connected subgraph\n",
      "G = nx.Graph(G)\n",
      "C=nx.connected_component_subgraphs(G)\n",
      "for g in C:\n",
      "    c=[random.random()]*nx.number_of_nodes(g) # random color...\n",
      "    nx.draw(g,\n",
      "         pos,\n",
      "         node_size=30,\n",
      "         node_color=c,\n",
      "         vmin=0.0,\n",
      "         vmax=1.0,\n",
      "         with_labels=False\n",
      "         )"
     ],
     "language": "python",
     "metadata": {},
     "outputs": [
      {
       "metadata": {},
       "output_type": "display_data",
       "png": "[encoded data removed]",
       "text": [
        "<matplotlib.figure.Figure at 0xbf0172c>"
       ]
      }
     ],
     "prompt_number": 155
    },
    {
     "cell_type": "code",
     "collapsed": false,
     "input": [
      "for qc in qc_conds:\n",
      "    df_qc = df[df['question_code'] == qc]\n",
      "    cdf_qc = clusters_df[clusters_df['question_code'] == qc]\n",
      "    \n",
      "    print qc, 'has', len(df_qc), 'instances'\n",
      "    print qc, 'has', len(set(df_qc['idea'])), 'ideas'\n",
      "    print qc, \"has\", len(set(cdf_qc['subtree_root'])), \" subtrees\"\n",
      "    print qc, \"has\", len(cdf_qc[(cdf_qc['is_root'] == 1) & (cdf_qc['num_children'] > 0)]), \"non-singleton subtrees\""
     ],
     "language": "python",
     "metadata": {},
     "outputs": [
      {
       "output_type": "stream",
       "stream": "stdout",
       "text": [
        "iPod has 3007 instances\n",
        "iPod has 1213 ideas\n",
        "iPod has 336  subtrees\n",
        "iPod has 120 non-singleton subtrees\n",
        "turk has 2075 instances\n",
        "turk has "
       ]
      },
      {
       "output_type": "stream",
       "stream": "stdout",
       "text": [
        "2075 ideas\n",
        "turk has 0  subtrees\n",
        "turk has 0 non-singleton subtrees\n",
        "forgot_name has 2267 instances\n",
        "forgot_name has "
       ]
      },
      {
       "output_type": "stream",
       "stream": "stdout",
       "text": [
        "2267 ideas\n",
        "forgot_name has 0  subtrees\n",
        "forgot_name has 0 non-singleton subtrees\n",
        "charity has 1937 instances\n",
        "charity has "
       ]
      },
      {
       "output_type": "stream",
       "stream": "stdout",
       "text": [
        "1937 ideas\n",
        "charity has 0  subtrees\n",
        "charity has 0 non-singleton subtrees\n"
       ]
      }
     ],
     "prompt_number": 156
    },
    {
     "cell_type": "code",
     "collapsed": false,
     "input": [
      "sub_df = df[df['question_code'] == 'iPod']\n",
      "cdf_qc = clusters_df[clusters_df['question_code'] == 'iPod']\n",
      "\n",
      "def quartiles(sorte):\n",
      "    l = len(sorte)\n",
      "    return (sorte[l/4], sorte[2*l/4], sorte[3*l/4])\n",
      "\n",
      "ssub_df = sub_df\n",
      "nr = \"all\"\n",
      "print nr, 'has', len(set(ssub_df['worker_id'])), 'HITs'\n",
      "print nr, 'has', len(ssub_df), 'instances'\n",
      "print nr, 'has', len(set(ssub_df['idea'])), 'ideas'\n",
      "print nr, \"has\", len(set(ssub_df['subtree_root'])), \" subtrees\"\n",
      "print nr, \"has\", len(set(ssub_df[(ssub_df['is_root'] == 1) & (ssub_df['num_children'] > 0)]['subtree_root'])), \"non-singleton subtrees\"\n",
      "\n",
      "# get all tree heights\n",
      "tree_heights = sorted([clusters_df[clusters_df['idea'] == idea].iloc[0]['height_in_subtree'] for idea in trees])\n",
      "tree_nodes = sorted([clusters_df[clusters_df['idea'] == idea].iloc[0]['num_nodes_under'] for idea in trees])\n",
      "tree_instances = sorted([clusters_df[clusters_df['idea'] == idea].iloc[0]['num_instances_under'] for idea in trees])\n",
      "print nr, \"max tree height\", max(tree_heights) + 1\n",
      "print nr, \"t height quartiles\", quartiles(tree_heights)\n",
      "print nr, \"t node quartiles\", quartiles(tree_nodes)\n",
      "print nr, \"t instance quartiles\", quartiles(tree_instances)\n",
      "print \"\"\n",
      "\n",
      "for nr in nr_conds:\n",
      "    ssub_df = sub_df[sub_df['num_requested']==nr]\n",
      "    trees = set(ssub_df['subtree_root'])\n",
      "    \n",
      "    print nr, 'has', len(set(ssub_df['worker_id'])), 'HITs'\n",
      "    print nr, 'has', len(ssub_df), 'instances'\n",
      "    print nr, 'has', len(set(ssub_df['idea'])), 'ideas'\n",
      "    print nr, \"has\", len(set(ssub_df['subtree_root'])), \" subtrees\"\n",
      "    print nr, \"has\", len(set(ssub_df[(ssub_df['is_root'] == 1) & (ssub_df['num_children'] > 0)]['subtree_root'])), \"non-singleton subtrees\"\n",
      "    \n",
      "    # get all tree heights\n",
      "    tree_heights = sorted([clusters_df[clusters_df['idea'] == idea].iloc[0]['height_in_subtree'] for idea in trees])\n",
      "    tree_nodes = sorted([clusters_df[clusters_df['idea'] == idea].iloc[0]['num_nodes_under'] for idea in trees])\n",
      "    tree_instances = sorted([clusters_df[clusters_df['idea'] == idea].iloc[0]['num_instances_under'] for idea in trees])\n",
      "    print nr, \"max tree height\", max(tree_heights) + 1\n",
      "    print nr, \"t height quartiles\", quartiles(tree_heights)\n",
      "    print nr, \"t node quartiles\", quartiles(tree_nodes)\n",
      "    print nr, \"t instance quartiles\", quartiles(tree_instances)\n",
      "    print \"\""
     ],
     "language": "python",
     "metadata": {},
     "outputs": [
      {
       "ename": "NameError",
       "evalue": "name 'trees' is not defined",
       "output_type": "pyerr",
       "traceback": [
        "\u001b[1;31m---------------------------------------------------------------------------\u001b[0m\n\u001b[1;31mNameError\u001b[0m                                 Traceback (most recent call last)",
        "\u001b[1;32m<ipython-input-157-c61925dd5963>\u001b[0m in \u001b[0;36m<module>\u001b[1;34m()\u001b[0m\n\u001b[0;32m     15\u001b[0m \u001b[1;33m\u001b[0m\u001b[0m\n\u001b[0;32m     16\u001b[0m \u001b[1;31m# get all tree heights\u001b[0m\u001b[1;33m\u001b[0m\u001b[1;33m\u001b[0m\u001b[0m\n\u001b[1;32m---> 17\u001b[1;33m \u001b[0mtree_heights\u001b[0m \u001b[1;33m=\u001b[0m \u001b[0msorted\u001b[0m\u001b[1;33m(\u001b[0m\u001b[1;33m[\u001b[0m\u001b[0mclusters_df\u001b[0m\u001b[1;33m[\u001b[0m\u001b[0mclusters_df\u001b[0m\u001b[1;33m[\u001b[0m\u001b[1;34m'idea'\u001b[0m\u001b[1;33m]\u001b[0m \u001b[1;33m==\u001b[0m \u001b[0midea\u001b[0m\u001b[1;33m]\u001b[0m\u001b[1;33m.\u001b[0m\u001b[0miloc\u001b[0m\u001b[1;33m[\u001b[0m\u001b[1;36m0\u001b[0m\u001b[1;33m]\u001b[0m\u001b[1;33m[\u001b[0m\u001b[1;34m'height_in_subtree'\u001b[0m\u001b[1;33m]\u001b[0m \u001b[1;32mfor\u001b[0m \u001b[0midea\u001b[0m \u001b[1;32min\u001b[0m \u001b[0mtrees\u001b[0m\u001b[1;33m]\u001b[0m\u001b[1;33m)\u001b[0m\u001b[1;33m\u001b[0m\u001b[0m\n\u001b[0m\u001b[0;32m     18\u001b[0m \u001b[0mtree_nodes\u001b[0m \u001b[1;33m=\u001b[0m \u001b[0msorted\u001b[0m\u001b[1;33m(\u001b[0m\u001b[1;33m[\u001b[0m\u001b[0mclusters_df\u001b[0m\u001b[1;33m[\u001b[0m\u001b[0mclusters_df\u001b[0m\u001b[1;33m[\u001b[0m\u001b[1;34m'idea'\u001b[0m\u001b[1;33m]\u001b[0m \u001b[1;33m==\u001b[0m \u001b[0midea\u001b[0m\u001b[1;33m]\u001b[0m\u001b[1;33m.\u001b[0m\u001b[0miloc\u001b[0m\u001b[1;33m[\u001b[0m\u001b[1;36m0\u001b[0m\u001b[1;33m]\u001b[0m\u001b[1;33m[\u001b[0m\u001b[1;34m'num_nodes_under'\u001b[0m\u001b[1;33m]\u001b[0m \u001b[1;32mfor\u001b[0m \u001b[0midea\u001b[0m \u001b[1;32min\u001b[0m \u001b[0mtrees\u001b[0m\u001b[1;33m]\u001b[0m\u001b[1;33m)\u001b[0m\u001b[1;33m\u001b[0m\u001b[0m\n\u001b[0;32m     19\u001b[0m \u001b[0mtree_instances\u001b[0m \u001b[1;33m=\u001b[0m \u001b[0msorted\u001b[0m\u001b[1;33m(\u001b[0m\u001b[1;33m[\u001b[0m\u001b[0mclusters_df\u001b[0m\u001b[1;33m[\u001b[0m\u001b[0mclusters_df\u001b[0m\u001b[1;33m[\u001b[0m\u001b[1;34m'idea'\u001b[0m\u001b[1;33m]\u001b[0m \u001b[1;33m==\u001b[0m \u001b[0midea\u001b[0m\u001b[1;33m]\u001b[0m\u001b[1;33m.\u001b[0m\u001b[0miloc\u001b[0m\u001b[1;33m[\u001b[0m\u001b[1;36m0\u001b[0m\u001b[1;33m]\u001b[0m\u001b[1;33m[\u001b[0m\u001b[1;34m'num_instances_under'\u001b[0m\u001b[1;33m]\u001b[0m \u001b[1;32mfor\u001b[0m \u001b[0midea\u001b[0m \u001b[1;32min\u001b[0m \u001b[0mtrees\u001b[0m\u001b[1;33m]\u001b[0m\u001b[1;33m)\u001b[0m\u001b[1;33m\u001b[0m\u001b[0m\n",
        "\u001b[1;31mNameError\u001b[0m: name 'trees' is not defined"
       ]
      },
      {
       "output_type": "stream",
       "stream": "stdout",
       "text": [
        "all has 146 HITs\n",
        "all has 3007 instances\n",
        "all has 1213 ideas\n",
        "all has 321  subtrees\n",
        "all has 92 non-singleton subtrees\n"
       ]
      }
     ],
     "prompt_number": 157
    },
    {
     "cell_type": "markdown",
     "metadata": {},
     "source": [
      "+ number of instances in each subtree"
     ]
    },
    {
     "cell_type": "code",
     "collapsed": false,
     "input": [
      "conditions = []\n",
      "\n",
      "for qc in qc_conds:\n",
      "    \n",
      "    sub_df = clusters_df[(clusters_df['question_code'] == qc) & (clusters_df['is_root'] == 1) & (clusters_df['num_instances_under'] > 1)]\n",
      "    if len(sub_df) > 0:\n",
      "        print len(df[df['question_code'] == qc])\n",
      "        sub_df2 = sub_df[sub_df['num_instances_under'] < 70]\n",
      "        print sum(sub_df2['num_instances_under'])\n",
      "        conditions.append((qc, qc_colors[qc], sub_df['num_instances_under']))\n",
      "        conditions.append((qc, qc_colors[qc], sub_df['num_ideas_under']))\n",
      "        \n",
      "\n",
      "\n",
      "hists(conditions, 'number of instances in subtree', 'number of instances', 'number of subtrees')"
     ],
     "language": "python",
     "metadata": {},
     "outputs": []
    },
    {
     "cell_type": "markdown",
     "metadata": {},
     "source": [
      "+ number of nodes in each subtree"
     ]
    },
    {
     "cell_type": "code",
     "collapsed": false,
     "input": [
      "conditions = []\n",
      "\n",
      "for qc in qc_conds:\n",
      "    sub_df = clusters_df[(clusters_df['question_code'] == qc) & (clusters_df['is_root'] == 1)]\n",
      "    if len(sub_df) > 0:\n",
      "        conditions.append((qc, qc_colors[qc], sub_df['num_nodes_under']))\n",
      "\n",
      "hists(conditions, 'number of nodes in subtree', 'number of nodes', 'number of subtrees', thin_bins=True)"
     ],
     "language": "python",
     "metadata": {},
     "outputs": []
    },
    {
     "cell_type": "markdown",
     "metadata": {},
     "source": [
      "+ depth of subtree distribution"
     ]
    },
    {
     "cell_type": "code",
     "collapsed": false,
     "input": [
      "conditions = []\n",
      "\n",
      "for qc in qc_conds:\n",
      "    sub_df = clusters_df[(clusters_df['question_code'] == qc) & (clusters_df['is_root'] == 1)]\n",
      "    if len(sub_df) > 0:\n",
      "        conditions.append((qc, qc_colors[qc], sub_df['height_in_subtree']))\n",
      "\n",
      "hists(conditions, 'subtree depth', 'subtree depth', 'number of subtrees', thin_bins=True)"
     ],
     "language": "python",
     "metadata": {},
     "outputs": []
    },
    {
     "cell_type": "code",
     "collapsed": false,
     "input": [
      "def plot_func(a_cdf, ax, label, color = 'b'):\n",
      "    ax.hist(a_cdf['height_in_subtree'], color=color)\n",
      "    ylabel(\"number of subtrees\")\n",
      "    xlabel(\"subtree depth\")\n",
      "    title(\"(%s)\" % str(label))\n",
      "\n",
      "roots_df = clusters_df[clusters_df['is_root'] == 1]\n",
      "plot_idea_metric_cross_nr(df, roots_df, plot_func)"
     ],
     "language": "python",
     "metadata": {},
     "outputs": []
    },
    {
     "cell_type": "markdown",
     "metadata": {},
     "source": [
      "+ parent-child relationships (degree)"
     ]
    },
    {
     "cell_type": "code",
     "collapsed": false,
     "input": [
      "conditions = []\n",
      "\n",
      "for qc in qc_conds:\n",
      "    sub_df = clusters_df[(clusters_df['question_code'] == qc) & (clusters_df['num_children'] > 0)]\n",
      "    if len(sub_df) > 0:\n",
      "        conditions.append((qc, qc_colors[qc], sub_df['num_children']))\n",
      "\n",
      "hists(conditions, 'number of child nodes per parent node', 'degree of parent node', 'count', thin_bins=True)"
     ],
     "language": "python",
     "metadata": {},
     "outputs": []
    },
    {
     "cell_type": "markdown",
     "metadata": {},
     "source": [
      "+ mass of tree\n",
      "\n",
      "+ parents - community-created vs manual"
     ]
    },
    {
     "cell_type": "code",
     "collapsed": false,
     "input": [
      "conditions = []\n",
      "\n",
      "for qc in qc_conds:\n",
      "    sub_df = clusters_df[(clusters_df['question_code'] == qc)]\n",
      "    if len(sub_df) > 0:\n",
      "        conditions.append((qc, qc_colors[qc], sub_df['num_instances_under']))\n",
      "\n",
      "hists(conditions, 'number of instances under node', 'number of instances under node', 'number of subtrees')"
     ],
     "language": "python",
     "metadata": {},
     "outputs": []
    },
    {
     "cell_type": "code",
     "collapsed": false,
     "input": [
      "# TODO: replace with histograms?\n",
      "\n",
      "figure(1, figsize=(14, 6))\n",
      "\n",
      "number_trees_w_mass = []\n",
      "number_trees_w_unique_mass = []\n",
      "sizes = []\n",
      "\n",
      "roots_df = clusters_df[clusters_df['is_root'] == 1]\n",
      "\n",
      "sizes = range(max(roots_df['num_instances_under']))\n",
      "\n",
      "for i in sizes:\n",
      "    sub_df = roots_df[roots_df['num_instances_under'] == i]\n",
      "    number_trees_w_mass.append(len(sub_df))\n",
      "    \n",
      "    sub_df = roots_df[roots_df['num_nodes_under'] == i]\n",
      "    number_trees_w_unique_mass.append(len(sub_df))\n",
      "    \n",
      "plot(sizes, number_trees_w_mass, label='number of ideas')\n",
      "plot(sizes, number_trees_w_unique_mass, label='number of unique ideas')\n",
      "\n",
      "xlabel('number of ideas')\n",
      "ylabel('number of trees')\n",
      "\n",
      "legend(loc='upper right')"
     ],
     "language": "python",
     "metadata": {},
     "outputs": []
    },
    {
     "cell_type": "markdown",
     "metadata": {},
     "source": [
      "Nodes created by us vs nodes created by the community"
     ]
    },
    {
     "cell_type": "code",
     "collapsed": false,
     "input": [
      "def parent_stats(df, label):\n",
      "    p_df = df[df['num_children'] > 0]\n",
      "    print \"number of parent (\", label, \") nodes:\", len(p_df)\n",
      "    \n",
      "    c_p_df = p_df[p_df['num_instances'] > 0]\n",
      "    print \"number of community parent nodes:\", len(c_p_df)\n",
      "    \n",
      "    a_p_df = p_df[p_df['num_instances'] == 0]\n",
      "    print \"number of artificial parent nodes:\", len(a_p_df)\n",
      "    \n",
      "    print \"% artificial:\", float(len(a_p_df)) / len(c_p_df)\n",
      "    \n",
      "parent_stats(clusters_df, \"all\")\n",
      "\n",
      "roots_w_height_g_one = clusters_df[(clusters_df['is_root'] == 1) & (clusters_df['height_in_subtree'] > 0)]\n",
      "parent_stats(roots_w_height_g_one, \"root parents with height > 0\")"
     ],
     "language": "python",
     "metadata": {},
     "outputs": []
    },
    {
     "cell_type": "markdown",
     "metadata": {},
     "source": [
      "## Number of Clusters\n",
      "\n",
      "TODO: rewrite this code"
     ]
    },
    {
     "cell_type": "code",
     "collapsed": false,
     "input": [
      "def num_ideas(question_code):\n",
      "    return len(clusters_df[clusters_df['question_code'] == qc])\n",
      "\n",
      "vcdf = df[df['valid_cluster'] > 0]\n",
      "\n",
      "for qc in qc_conds:\n",
      "    sub_df = vcdf[vcdf['question_code'] == qc]\n",
      "    if len(sub_df) == 0:\n",
      "        continue\n",
      "    \n",
      "    print \"Question code %s\" % qc\n",
      "    print \"\\tNumber of instances:\", len(sub_df)\n",
      "    print \"\\tNumber of ideas given by turkers:\", len(set(sub_df['idea']))\n",
      "    print '\\tNumber of ideas including artificial:', num_ideas(qc)\n",
      "    \n",
      "    print \"\\tinstances per cluster\", float(len(sub_df)) / num_ideas(qc)\n",
      "    \n",
      "    for nr in nr_conds:\n",
      "        print \"\\t\", nr\n",
      "        sub_df = vcdf[(vcdf['question_code'] == qc) & (vcdf['num_requested'] == nr)]\n",
      "        print \"\\t\\tNumber of instances:\", len(sub_df)\n",
      "        n_ideas = len(set(sub_df['idea']))\n",
      "        \n",
      "        uniques = 0\n",
      "        for i in sub_df.index:\n",
      "            idea = sub_df['idea'][i]\n",
      "            if len(sub_df[sub_df['idea'] == idea]) == 1:\n",
      "                uniques += 1\n",
      "        \n",
      "        print \"\\t\\tNumber of ideas given by turkers:\", n_ideas\n",
      "        print \"\\t\\tNumber of unique (in-condition) ideas:\", uniques\n",
      "        print \"\\t\\t% unique:\",float(uniques)/len(sub_df)\n",
      "\n",
      "        \n",
      "#bar_mean_err_cross_qc(rm_h_cluster_valid_df, 'percent_unique',\n",
      "#                      '# unique ideas (low) (normalized)', '# unique (low) (normalized)')"
     ],
     "language": "python",
     "metadata": {},
     "outputs": []
    },
    {
     "cell_type": "markdown",
     "metadata": {},
     "source": [
      "### Kinds of clusters"
     ]
    },
    {
     "cell_type": "code",
     "collapsed": false,
     "input": [
      "def plot_func(a_cdf, ax, label, color='b'):\n",
      "    singleton = a_cdf[a_cdf['num_children'] == 0]\n",
      "    non_singleton = a_cdf[a_cdf['num_children'] > 0]\n",
      "    num_non_s_ideas = sum(non_singleton['num_instances_under'])\n",
      "    \n",
      "    ax.bar([0, 1, 2], [len(singleton), len(non_singleton), num_non_s_ideas], color='b')\n",
      "    xticks([0, 1, 2], ['singleton', 'non-singleton', '# in non-singletons'])\n",
      "    ylabel(\"number of\")\n",
      "    title(\"(%s)\" % str(label))\n",
      "\n",
      "roots_df = clusters_df[clusters_df['is_root'] == 1]\n",
      "plot_idea_metric_cross_nr(df, roots_df, plot_func)"
     ],
     "language": "python",
     "metadata": {},
     "outputs": []
    },
    {
     "cell_type": "markdown",
     "metadata": {},
     "source": [
      "### Number of unique subtrees"
     ]
    },
    {
     "cell_type": "code",
     "collapsed": false,
     "input": [
      "vc_rmdf = rmdf[rmdf['r_valid_cluster'] == 1]\n",
      "vc_rmdf['pc_unique_subtrees'] = vc_rmdf['r_num_unique_subtrees'] / vc_rmdf['num_received']\n",
      "\n",
      "bar_mean_err_cross_qc(vc_rmdf, 'pc_unique_subtrees',\n",
      "                      '% unique subtrees', '% unique subtrees')"
     ],
     "language": "python",
     "metadata": {},
     "outputs": []
    },
    {
     "cell_type": "code",
     "collapsed": false,
     "input": [
      "hist(vc_rmdf['pc_unique_subtrees'], bins = 10)\n",
      "xlabel('number of category trees identified (normalized)')\n",
      "ylabel('number of runs')\n",
      "xlim(0, 1)"
     ],
     "language": "python",
     "metadata": {},
     "outputs": []
    },
    {
     "cell_type": "markdown",
     "metadata": {},
     "source": [
      "### Number of unique ideas"
     ]
    },
    {
     "cell_type": "code",
     "collapsed": false,
     "input": [
      "vc_rmdf['pc_unique_ideas'] = vc_rmdf['r_num_unique_ideas'] / vc_rmdf['num_received']\n",
      "bar_mean_err_cross_qc(vc_rmdf, 'pc_unique_ideas',\n",
      "                      '% unique ideas', '% unique ideas', ymin=0.6)"
     ],
     "language": "python",
     "metadata": {},
     "outputs": []
    },
    {
     "cell_type": "code",
     "collapsed": false,
     "input": [
      "hist(vc_rmdf['pc_unique_ideas'], bins = 10)\n",
      "xlabel('number of ideas identified (normalized)')\n",
      "ylabel('number of runs')\n",
      "xlim(0, 1)"
     ],
     "language": "python",
     "metadata": {},
     "outputs": []
    },
    {
     "cell_type": "markdown",
     "metadata": {},
     "source": [
      "# Zoomed-out stats"
     ]
    },
    {
     "cell_type": "markdown",
     "metadata": {},
     "source": [
      "## Originality"
     ]
    },
    {
     "cell_type": "code",
     "collapsed": false,
     "input": [
      "adf = df[df['valid_cluster'] > 0]\n",
      "\n",
      "rows, cols, fig = init_multifig(2, subplot_size = (5.5, 5))\n",
      "ax = fig.add_subplot(rows, cols, 1)\n",
      "a2 = fig.add_subplot(rows, cols, 2)\n",
      "\n",
      "series = []\n",
      "series2 = []\n",
      "\n",
      "for nr in nr_conds:\n",
      "    nrdf = adf[adf['num_requested'] == nr]\n",
      "    series.append(nrdf['idea_oscore'])\n",
      "    series2.append(nrdf['subtree_oscore'])\n",
      "    \n",
      "ax.boxplot(series)\n",
      "ax.set_xticklabels(nr_conds)\n",
      "ax.set_xlabel(\"number requested condition\")\n",
      "ax.set_ylabel(\"idea o-score\")\n",
      "ax.set_title(\"idea o-score\")\n",
      "\n",
      "a2.boxplot(series2)\n",
      "a2.set_xticklabels(nr_conds)\n",
      "a2.set_xlabel(\"number requested condition\")\n",
      "a2.set_ylabel(\"category o-score\")\n",
      "a2.set_title(\"category o-score\")\n",
      "    "
     ],
     "language": "python",
     "metadata": {},
     "outputs": []
    },
    {
     "cell_type": "markdown",
     "metadata": {},
     "source": [
      "# Metrics over time\n",
      "\n",
      "## Number of trees"
     ]
    },
    {
     "cell_type": "code",
     "collapsed": false,
     "input": [
      "vcdf = df[df['valid_cluster'] > 0]\n",
      "field_by_order_split_nr(vcdf, 'subtree_root')"
     ],
     "language": "python",
     "metadata": {},
     "outputs": []
    },
    {
     "cell_type": "code",
     "collapsed": false,
     "input": [
      "vcdf = df[df['valid_cluster'] > 0]\n",
      "field_by_order_split_qc(vcdf, 'subtree_root')"
     ],
     "language": "python",
     "metadata": {},
     "outputs": []
    },
    {
     "cell_type": "markdown",
     "metadata": {},
     "source": [
      "## Non-singleton Trees\n",
      "\n",
      "A non-singleton tree is a tree with at least one child node"
     ]
    },
    {
     "cell_type": "code",
     "collapsed": false,
     "input": [
      "vcdf = df[df['valid_cluster'] > 0]\n",
      "\n",
      "passing = vcdf[(vcdf['is_root'] == 1) & (vcdf['num_children'] > 0)]\n",
      "vcdf['non_singleton'] = bool_df_measure(vcdf, passing)\n",
      "field_by_order_split_nr(vcdf, 'subtree_root', 'non_singleton')"
     ],
     "language": "python",
     "metadata": {},
     "outputs": []
    },
    {
     "cell_type": "code",
     "collapsed": false,
     "input": [
      "field_by_order_split_qc(vcdf, 'subtree_root', 'non_singleton', ylimits=(0, 100))"
     ],
     "language": "python",
     "metadata": {},
     "outputs": []
    },
    {
     "cell_type": "markdown",
     "metadata": {},
     "source": [
      "## Singleton trees"
     ]
    },
    {
     "cell_type": "code",
     "collapsed": false,
     "input": [
      "vcdf = df[df['valid_cluster'] > 0]\n",
      "passing = vcdf[(vcdf['is_root'] == 1) & (vcdf['num_children'] == 0)]\n",
      "vcdf['singleton'] = bool_df_measure(vcdf, passing)\n",
      "field_by_order_split_nr(vcdf, 'subtree_root', 'singleton')"
     ],
     "language": "python",
     "metadata": {},
     "outputs": []
    },
    {
     "cell_type": "markdown",
     "metadata": {},
     "source": [
      "### Singleton trees zoom"
     ]
    },
    {
     "cell_type": "code",
     "collapsed": false,
     "input": [
      "field_by_order_split_qc(vcdf, 'subtree_root', 'singleton', ylimits=(0, 60))"
     ],
     "language": "python",
     "metadata": {},
     "outputs": []
    },
    {
     "cell_type": "markdown",
     "metadata": {},
     "source": [
      "## Number of ideas"
     ]
    },
    {
     "cell_type": "code",
     "collapsed": false,
     "input": [
      "vcdf = df[df['valid_cluster'] > 0]\n",
      "field_by_order_split_qc(vcdf, 'idea')"
     ],
     "language": "python",
     "metadata": {},
     "outputs": []
    },
    {
     "cell_type": "markdown",
     "metadata": {},
     "source": [
      "# Randomly reordered plots\n",
      "\n",
      "Randomly perturb the order of responses many times and take the mean of each point along the X\n",
      "\n",
      "### # Trees"
     ]
    },
    {
     "cell_type": "code",
     "collapsed": false,
     "input": [
      "vcdf = df[df['valid_cluster'] > 0]\n",
      "cum_unique_shuffle_split_qc(vcdf, 'subtree_root', ylimits=(0,900), shuffles=500)"
     ],
     "language": "python",
     "metadata": {},
     "outputs": []
    },
    {
     "cell_type": "code",
     "collapsed": false,
     "input": [
      "#cum_unique_shuffle_rate_windowed_split_qc(vcdf, 'subtree_root', ylimits=(0,1), shuffles=10000, window_size=10)"
     ],
     "language": "python",
     "metadata": {},
     "outputs": []
    },
    {
     "cell_type": "markdown",
     "metadata": {},
     "source": [
      "### Non-singleton subtrees"
     ]
    },
    {
     "cell_type": "code",
     "collapsed": false,
     "input": [
      "vcdf = df[df['valid_cluster'] > 0]\n",
      "passing = vcdf[(vcdf['is_root'] == 1) & (vcdf['num_children'] > 0)]\n",
      "vcdf['non_singleton'] = bool_df_measure(vcdf, passing)\n",
      "#cum_unique_shuffle_split_qc(vcdf, 'subtree_root', pass_field='non_singleton', shuffles=500)"
     ],
     "language": "python",
     "metadata": {},
     "outputs": []
    },
    {
     "cell_type": "code",
     "collapsed": false,
     "input": [
      "#cum_unique_shuffle_rate_windowed_split_qc(vcdf, 'subtree_root',\n",
      "#                ylimits=(0,1), shuffles=10000, window_size=1, pass_field ='non_singleton')"
     ],
     "language": "python",
     "metadata": {},
     "outputs": []
    },
    {
     "cell_type": "markdown",
     "metadata": {},
     "source": [
      "### Trees with > 1 worker finding"
     ]
    },
    {
     "cell_type": "code",
     "collapsed": false,
     "input": [
      "vcdf = df[df['valid_cluster'] > 0]\n",
      "passing = vcdf[(vcdf['is_root'] == 1) & (vcdf['num_workers'] > 1)]\n",
      "vcdf['multi_worker'] = bool_df_measure(vcdf, passing)\n",
      "#cum_unique_shuffle_split_qc(vcdf, 'subtree_root', pass_field='multi_worker')"
     ],
     "language": "python",
     "metadata": {},
     "outputs": []
    },
    {
     "cell_type": "markdown",
     "metadata": {},
     "source": [
      "### Number of ideas"
     ]
    },
    {
     "cell_type": "code",
     "collapsed": false,
     "input": [
      "vcdf = df[df['valid_cluster'] > 0]\n",
      "#cum_unique_shuffle_split_qc(vcdf, 'idea')"
     ],
     "language": "python",
     "metadata": {},
     "outputs": []
    },
    {
     "cell_type": "code",
     "collapsed": false,
     "input": [
      "#cum_unique_shuffle_rate_windowed_split_qc(vcdf, 'idea',\n",
      "#                ylimits=(0,1), shuffles=10000, window_size=1)"
     ],
     "language": "python",
     "metadata": {},
     "outputs": []
    },
    {
     "cell_type": "markdown",
     "metadata": {},
     "source": [
      "# \"Zoomed in\" analysis\n",
      "\n",
      "Examining variables w.r.t. order in the response.\n",
      "\n",
      "## Toolbox"
     ]
    },
    {
     "cell_type": "code",
     "collapsed": false,
     "input": [
      "def gen_plot_func_order(field, ylimits=None):\n",
      "    def plot_func(a_df, ax, label = None, color = 'b'):\n",
      "        sub_df = a_df.sort(columns=['answer_num'])\n",
      "        \n",
      "        groups = sub_df.groupby('answer_num')\n",
      "        xs = [an for an, g in groups]\n",
      "        means = [np.mean(g[field]) for an, g in groups]\n",
      "        stes = [stats.sem(g[field], ddof=1) for an, g in groups]\n",
      "\n",
      "        ax.errorbar(xs, means, yerr=stes, alpha=0.4, color=color, label=label)\n",
      "        \n",
      "        if ylimits is not None:\n",
      "            ylim(ylimits[0], ylimits[1])\n",
      "        \n",
      "    return plot_func\n",
      "\n",
      "def dec_plot_func_summarize(pf, summary_field, fields, funcs):\n",
      "    assert (len(fields) == len(funcs))\n",
      "    \n",
      "    def new_pf(a_df, ax, label = None, color='b'):\n",
      "        groups = a_df.groupby(summary_field)\n",
      "        \n",
      "        sfs = []\n",
      "        summaries = defaultdict(list)\n",
      "        \n",
      "        for sf, group in groups:\n",
      "            for i, field in enumerate(fields):\n",
      "                s = group[field]\n",
      "                summary_func = funcs[i]\n",
      "                summaries[field].append(summary_func(s))\n",
      "            sfs.append(sf)\n",
      "            \n",
      "        new_df = pd.DataFrame({summary_field: pd.Series(sfs)})\n",
      "        \n",
      "        for field in summaries.keys():\n",
      "            new_df[field] = pd.Series(summaries[field])\n",
      "            \n",
      "        plot_func(new_df, ax, label, color)\n",
      "        \n",
      "    return new_pf\n",
      "\n",
      "def windowed_field_by_order_split_qc(field, window_size, ylimits = None, xlimits = None):\n",
      "    pf = gen_plot_func_order(field)\n",
      "    pf = dec_plot_func_window_by_order(pf, window_size, field)\n",
      "    pf = dec_plot_func_cross_cond(pf, 'num_requested', legend_loc='upper right')\n",
      "    \n",
      "    vcdf = df[df['valid_cluster'] > 0]\n",
      "    fig = subplots_cross_cond(vcdf, 'question_code',\n",
      "                        xlab = 'answer_num',\n",
      "                        ylab = '%s (windowed)' % field,\n",
      "                        plot_func = pf,\n",
      "                        subplot_size = (14,7),\n",
      "                        ylimits = ylimits,\n",
      "                        xlimits = xlimits)\n",
      "\n",
      "def windowed_field_by_order_split_nr(field, window_size, ylimits = None, xlimits = None):\n",
      "    pf = gen_plot_func_order(field)\n",
      "    pf = dec_plot_func_window_by_order(pf, window_size, field)\n",
      "    pf = dec_plot_func_cross_cond(pf, 'question_code', legend_loc='upper right')\n",
      "    \n",
      "    vcdf = df[df['valid_cluster'] > 0]\n",
      "    fig = subplots_cross_cond(vcdf, 'num_requested',\n",
      "                        xlab = 'answer_num',\n",
      "                        ylab = '%s (windowed)' % field,\n",
      "                        plot_func = pf,\n",
      "                        subplot_size = (14,7),\n",
      "                        ylimits = ylimits,\n",
      "                        xlimits = xlimits,\n",
      "                        all_cond = True)"
     ],
     "language": "python",
     "metadata": {},
     "outputs": []
    },
    {
     "cell_type": "markdown",
     "metadata": {},
     "source": [
      "### num_instances_under"
     ]
    },
    {
     "cell_type": "code",
     "collapsed": false,
     "input": [
      "windowed_field_by_order_split_nr('num_instances_under', 10, ylimits = (0, 40), xlimits=(0,100))"
     ],
     "language": "python",
     "metadata": {},
     "outputs": []
    },
    {
     "cell_type": "code",
     "collapsed": false,
     "input": [
      "windowed_field_by_order_split_qc('num_instances_under', 5, ylimits = (0, 40))"
     ],
     "language": "python",
     "metadata": {},
     "outputs": []
    },
    {
     "cell_type": "markdown",
     "metadata": {},
     "source": [
      "### idea_oscore"
     ]
    },
    {
     "cell_type": "code",
     "collapsed": false,
     "input": [
      "windowed_field_by_order_split_nr('idea_oscore', 10, ylimits = (0.993, 1), xlimits=(0,100))"
     ],
     "language": "python",
     "metadata": {},
     "outputs": []
    },
    {
     "cell_type": "code",
     "collapsed": false,
     "input": [
      "sub_df = df[(df['question_code'] == 'iPod') & (df['num_requested'] == 100) & (df['valid_cluster'] == 1)]\n",
      "quarts = quartiles(sorted(sub_df['idea_oscore']))\n",
      "\n",
      "\n",
      "pf = gen_plot_func_order('idea_oscore')\n",
      "pf = dec_plot_func_window_by_order(pf, 10, 'idea_oscore')\n",
      "#pf = dec_plot_func_cross_cond(pf, 'num_requested', legend_loc='upper right')\n",
      "ax = plot_pf(sub_df, pf, 'answer_num', 'idea o-score', plot_size = (11, 3.5))\n",
      "\n",
      "ax.plot([0, 100], [quarts[0], quarts[0]])\n",
      "ax.text(2, quarts[0] - 0.0003, \"first quartile\")\n",
      "\n",
      "ax.plot([0, 100], [quarts[1], quarts[1]])\n",
      "ax.text(2, quarts[1] - 0.0003, \"second quartile\")\n",
      "\n",
      "ax.plot([0, 100], [quarts[2], quarts[2]])\n",
      "ax.text(2, quarts[2] - 0.0003, \"third quartile\")\n",
      "title('idea o-score for 100 condition')"
     ],
     "language": "python",
     "metadata": {},
     "outputs": []
    },
    {
     "cell_type": "code",
     "collapsed": false,
     "input": [
      "sub_df = df[(df['question_code'] == 'iPod') & (df['valid_cluster'] == 1)]\n",
      "pf = gen_plot_func_order('idea_oscore')\n",
      "pf = dec_plot_func_window_by_order(pf, 10, 'idea_oscore')\n",
      "#pf = dec_plot_func_cross_cond(pf, 'num_requested', legend_loc='upper right')\n",
      "ax = plot_pf(sub_df, pf, 'answer_num', 'idea o-score', plot_size = (11, 3.5))"
     ],
     "language": "python",
     "metadata": {},
     "outputs": []
    },
    {
     "cell_type": "code",
     "collapsed": false,
     "input": [
      "sub_df = df[(df['question_code'] == 'iPod') & (df['num_requested'] == 100) & (df['valid_cluster'] == 1)]\n",
      "quarts =  quartiles(sorted(sub_df['subtree_oscore']))\n",
      "\n",
      "pf = gen_plot_func_order('subtree_oscore')\n",
      "pf = dec_plot_func_window_by_order(pf, 10, 'subtree_oscore')\n",
      "#pf = dec_plot_func_cross_cond(pf, 'num_requested', legend_loc='upper right')\n",
      "ax = plot_pf(sub_df, pf, 'answer_num', 'category o-score', plot_size = (11, 3.5))\n",
      "\n",
      "ax.plot([0, 100], [quarts[0], quarts[0]])\n",
      "ax.text(2, quarts[0] - 0.002, \"first quartile\")\n",
      "\n",
      "ax.plot([0, 100], [quarts[1], quarts[1]])\n",
      "ax.text(2, quarts[1] - 0.002, \"second quartile\")\n",
      "\n",
      "ax.plot([0, 100], [quarts[2], quarts[2]])\n",
      "ax.text(2, quarts[2] - 0.002, \"third quartile\")\n",
      "title('category o-score for 100 condition')"
     ],
     "language": "python",
     "metadata": {},
     "outputs": []
    },
    {
     "cell_type": "code",
     "collapsed": false,
     "input": [
      "sub_df = df[(df['question_code'] == 'iPod') & (df['valid_cluster'] == 1)]\n",
      "pf = gen_plot_func_order('subtree_oscore')\n",
      "pf = dec_plot_func_window_by_order(pf, 10, 'subtree_oscore')\n",
      "#pf = dec_plot_func_cross_cond(pf, 'num_requested', legend_loc='upper right')\n",
      "ax = plot_pf(sub_df, pf, 'answer_num', 'category o-score', plot_size = (11, 3.5))"
     ],
     "language": "python",
     "metadata": {},
     "outputs": []
    },
    {
     "cell_type": "markdown",
     "metadata": {},
     "source": [
      "### subtree_oscore"
     ]
    },
    {
     "cell_type": "code",
     "collapsed": false,
     "input": [
      "windowed_field_by_order_split_nr('subtree_oscore', 10, ylimits = (0.965, 0.995), xlimits=(0,100))"
     ],
     "language": "python",
     "metadata": {},
     "outputs": []
    },
    {
     "cell_type": "code",
     "collapsed": false,
     "input": [
      "windowed_field_by_order_split_qc('subtree_oscore', 5, ylimits = (0.96, 1))"
     ],
     "language": "python",
     "metadata": {},
     "outputs": []
    },
    {
     "cell_type": "markdown",
     "metadata": {},
     "source": [
      "### height_in_subtree"
     ]
    },
    {
     "cell_type": "code",
     "collapsed": false,
     "input": [
      "windowed_field_by_order_split_nr('height_in_subtree', 5)"
     ],
     "language": "python",
     "metadata": {},
     "outputs": []
    },
    {
     "cell_type": "code",
     "collapsed": false,
     "input": [
      "windowed_field_by_order_split_qc('height_in_subtree', 5)"
     ],
     "language": "python",
     "metadata": {},
     "outputs": []
    },
    {
     "cell_type": "code",
     "collapsed": false,
     "input": [
      "sub_df = df[df['question_code'] == 'iPod']\n",
      "pf = gen_plot_func_order('height_in_subtree')\n",
      "pf = dec_plot_func_window_by_order(pf, 10, 'height_in_subtree')\n",
      "#pf = dec_plot_func_cross_cond(pf, 'num_requested', legend_loc='upper right')\n",
      "plot_pf(sub_df, pf, 'answer_num', 'height_in_subtree', plot_size = (11, 5.5))"
     ],
     "language": "python",
     "metadata": {},
     "outputs": []
    },
    {
     "cell_type": "markdown",
     "metadata": {},
     "source": [
      "### word_count"
     ]
    },
    {
     "cell_type": "code",
     "collapsed": false,
     "input": [
      "windowed_field_by_order_split_nr('word_count', 5)"
     ],
     "language": "python",
     "metadata": {},
     "outputs": []
    },
    {
     "cell_type": "code",
     "collapsed": false,
     "input": [
      "windowed_field_by_order_split_qc('word_count', 5)"
     ],
     "language": "python",
     "metadata": {},
     "outputs": []
    },
    {
     "cell_type": "markdown",
     "metadata": {},
     "source": [
      "### is_inmix"
     ]
    },
    {
     "cell_type": "code",
     "collapsed": false,
     "input": [
      "windowed_field_by_order_split_nr('is_inmix', 5)"
     ],
     "language": "python",
     "metadata": {},
     "outputs": []
    },
    {
     "cell_type": "code",
     "collapsed": false,
     "input": [
      "windowed_field_by_order_split_qc('is_inmix', 5)"
     ],
     "language": "python",
     "metadata": {},
     "outputs": []
    },
    {
     "cell_type": "markdown",
     "metadata": {},
     "source": [
      "### is_outmix"
     ]
    },
    {
     "cell_type": "code",
     "collapsed": false,
     "input": [
      "adf = df[(df['valid_cluster'] == 1)]\n",
      "\n",
      "ys = []\n",
      "yerrs = []\n",
      "xs = []\n",
      "\n",
      "window_size = 20\n",
      "\n",
      "for i in range(1, max(adf['answer_num']) - window_size):\n",
      "    sub_df = adf[(adf['answer_num'] >= i) & (adf['answer_num'] < i + window_size)]\n",
      "    mean, low_bd, up_bd = calculate_posterior(sum(sub_df['is_outmix']), len(sub_df))\n",
      "    ys.append(mean)\n",
      "    yerrs.append((mean - low_bd, up_bd - mean))\n",
      "    xs.append(i + window_size / 2)\n",
      "    \n",
      "print np.array(yerrs).transpose().shape\n",
      "\n",
      "figure(figsize=(14,6))\n",
      "errorbar(xs, ys, yerr=np.array(yerrs).transpose())"
     ],
     "language": "python",
     "metadata": {},
     "outputs": []
    },
    {
     "cell_type": "markdown",
     "metadata": {},
     "source": [
      "### Roaming split outmixes"
     ]
    },
    {
     "cell_type": "code",
     "collapsed": false,
     "input": [
      "vcdf = df[(df['valid_cluster'] == 1)]\n",
      "\n",
      "rows, cols, fig = init_multifig(len(nr_conds), subplot_size=(14,5))\n",
      "print rows, cols\n",
      "\n",
      "for j, nr in enumerate(nr_conds):\n",
      "    adf = vcdf[vcdf['num_requested'] == nr]\n",
      "    \n",
      "    ysl = []\n",
      "    ysr = []\n",
      "    yerrsl = []\n",
      "    yerrsr = []\n",
      "    xsl = []\n",
      "    xsr = []\n",
      "    \n",
      "    window_size = 20\n",
      "    \n",
      "    for i in range(1, max(adf['answer_num'])):\n",
      "        left_df = adf[(adf['answer_num'] < i)]\n",
      "        right_df = adf[(adf['answer_num'] >= i)]\n",
      "        \n",
      "        lmean, llow_bd, lup_bd = calculate_posterior(sum(left_df['is_outmix']), len(left_df))\n",
      "        rmean, rlow_bd, rup_bd = calculate_posterior(sum(right_df['is_outmix']), len(right_df))\n",
      "        \n",
      "        ysl.append(lmean)\n",
      "        xsl.append(i)\n",
      "        ysr.append(rmean)\n",
      "        xsr.append(i)\n",
      "        \n",
      "        yerrsl.append((lmean - llow_bd, lup_bd - lmean))\n",
      "        yerrsr.append((rmean - rlow_bd, rup_bd - rmean))\n",
      "        \n",
      "    print np.array(yerrs).transpose().shape\n",
      "\n",
      "    ax = fig.add_subplot(rows, cols, j+1)\n",
      "    ax.errorbar(xsl, ysl, yerr=np.array(yerrsl).transpose(), color='b')\n",
      "    ax.errorbar(xsr, ysr, yerr=np.array(yerrsr).transpose(), color='r')\n",
      "    ax.set_xlim(0, 100)"
     ],
     "language": "python",
     "metadata": {},
     "outputs": []
    },
    {
     "cell_type": "markdown",
     "metadata": {},
     "source": [
      "### is_midmix"
     ]
    },
    {
     "cell_type": "code",
     "collapsed": false,
     "input": [
      "windowed_field_by_order_split_nr('is_midmix', 10)"
     ],
     "language": "python",
     "metadata": {},
     "outputs": []
    },
    {
     "cell_type": "code",
     "collapsed": false,
     "input": [
      "windowed_field_by_order_split_qc('is_midmix', 5)"
     ],
     "language": "python",
     "metadata": {},
     "outputs": []
    },
    {
     "cell_type": "markdown",
     "metadata": {},
     "source": [
      "### num_workers"
     ]
    },
    {
     "cell_type": "code",
     "collapsed": false,
     "input": [
      "windowed_field_by_order_split_nr('num_workers', 5)"
     ],
     "language": "python",
     "metadata": {},
     "outputs": []
    },
    {
     "cell_type": "code",
     "collapsed": false,
     "input": [
      "windowed_field_by_order_split_qc('num_workers', 5)"
     ],
     "language": "python",
     "metadata": {},
     "outputs": []
    },
    {
     "cell_type": "markdown",
     "metadata": {},
     "source": [
      "### time_spent"
     ]
    },
    {
     "cell_type": "code",
     "collapsed": false,
     "input": [
      "windowed_field_by_order_split_qc('time_spent', 5, ylimits = (0, 600000))"
     ],
     "language": "python",
     "metadata": {},
     "outputs": []
    },
    {
     "cell_type": "markdown",
     "metadata": {},
     "source": [
      "# Remixing/Riffing\n"
     ]
    },
    {
     "cell_type": "markdown",
     "metadata": {},
     "source": [
      "## Summary stats"
     ]
    },
    {
     "cell_type": "code",
     "collapsed": false,
     "input": [
      "adf = df[df['valid_cluster'] == 1]\n",
      "\n",
      "for nr in nr_conds:\n",
      "    nrdf = adf[adf['num_requested'] == nr]\n",
      "    \n",
      "    om = nrdf[nrdf['is_outmix'] == 1]\n",
      "    im = nrdf[nrdf['is_inmix'] == 1]\n",
      "    mm = nrdf[nrdf['is_midmix'] == 1]\n",
      "    dist_sim = nrdf[~(nrdf['distance_from_similar']).isnull()]['distance_from_similar']\n",
      "    dist_inmix = nrdf[~(nrdf['distance_from_inmix']).isnull()]['distance_from_inmix']\n",
      "    \n",
      "    pc_riffs = float(len(om)) / len(nrdf)\n",
      "    pc_inmixes = float(len(im)) / len(nrdf)\n",
      "    pc_mmixes = float(len(mm)) / len(nrdf)\n",
      "    riffs_per_inmix = float(len(om)) / float(len(im))\n",
      "    \n",
      "    print nr, \"% outmixes\", pc_riffs\n",
      "    print nr, \"% inmixes\", pc_inmixes\n",
      "    print nr, \"% midmixes\", pc_mmixes\n",
      "    print nr, \"riffs per inmix\", riffs_per_inmix\n",
      "    print nr, \"mean distance from similar\", np.mean(dist_sim)\n",
      "    print nr, \"median distance from similar\", np.median(dist_sim)\n",
      "    print nr, \"mean distance from inmix\", np.mean(dist_inmix)\n",
      "    print nr, \"median distance from inmix\", np.median(dist_inmix)\n",
      "    print \"\""
     ],
     "language": "python",
     "metadata": {},
     "outputs": []
    },
    {
     "cell_type": "markdown",
     "metadata": {},
     "source": [
      "## Number of riffs/outmixes"
     ]
    },
    {
     "cell_type": "code",
     "collapsed": false,
     "input": [
      "vc_rmdf = rmdf[rmdf['r_valid_cluster'] > 0]\n",
      "vc_rmdf['percent_outmix'] = vc_rmdf['num_outmix'] / vc_rmdf['num_received']\n",
      "\n",
      "bar_mean_err_cross_qc(vc_rmdf, 'percent_outmix',\n",
      "                      '% outmix ideas', '% outmix ideas')"
     ],
     "language": "python",
     "metadata": {},
     "outputs": []
    },
    {
     "cell_type": "code",
     "collapsed": false,
     "input": [
      "vc_rmdf['percent_inmix'] = vc_rmdf['num_inmix'] / vc_rmdf['num_received']\n",
      "\n",
      "bar_mean_err_cross_qc(vc_rmdf, 'percent_inmix',\n",
      "                      '% inmix ideas', '% inmix ideas')"
     ],
     "language": "python",
     "metadata": {},
     "outputs": []
    },
    {
     "cell_type": "markdown",
     "metadata": {},
     "source": [
      "### Number of times an inmix is riffed upon"
     ]
    },
    {
     "cell_type": "code",
     "collapsed": false,
     "input": [
      "hist(df['inmix_index'].value_counts(), bins = 20)\n",
      "xlim(0, 20)\n",
      "xlabel(\"number of times remixed\")\n",
      "ylabel(\"number of inmixes\")"
     ],
     "language": "python",
     "metadata": {},
     "outputs": []
    },
    {
     "cell_type": "markdown",
     "metadata": {},
     "source": [
      "### lengths of remix chains"
     ]
    },
    {
     "cell_type": "code",
     "collapsed": false,
     "input": [
      "sub_df = df[(df['valid_cluster'] == 1)]\n",
      "runs = sub_df.groupby(['worker_id', 'submit_datetime', 'num_requested', 'question_code'])\n",
      "\n",
      "run_lengths = defaultdict(list)\n",
      "\n",
      "for (wid, sdt, nr, qc), run in runs:\n",
      "    cur_length = 0\n",
      "    start_im = None\n",
      "    run = run.sort('answer_num')\n",
      "    for i in run.index:\n",
      "        iom = run['is_outmix'][i]\n",
      "        sim = run['inmix_index'][i]\n",
      "        \n",
      "        if iom > 0:\n",
      "            if start_im is None or start_im == sim:\n",
      "                cur_length += 1\n",
      "            else:\n",
      "                cur_length = 1\n",
      "            start_im = sim\n",
      "        elif cur_length > 0:\n",
      "            if cur_length > 1:\n",
      "                run_lengths[nr].append(cur_length)\n",
      "            cur_length = 0\n",
      "            start_im= None\n",
      "\n",
      "rows, cols, fig = init_multifig(len(nr_conds), subplot_size=(4,4))\n",
      "for i, nr in enumerate(nr_conds):\n",
      "    \n",
      "    subplot(rows, cols, i + 1)\n",
      "    hist(run_lengths[nr])\n",
      "    title(str(nr))\n",
      "    xlim(0, 8)\n",
      "    xlabel(\"remix run length\")\n",
      "    ylabel(\"number of remixes of length\")\n",
      "    ylim(0, 25)\n",
      "    \n",
      "    print nr, \"number of riff chains\", len(run_lengths[nr]) # TODO: normalize in some way\n",
      "    print nr, \"max riff chain\", max(run_lengths[nr])\n",
      "    print nr, \"median riff chain\", np.median(run_lengths[nr])\n",
      "    print \"\""
     ],
     "language": "python",
     "metadata": {},
     "outputs": []
    },
    {
     "cell_type": "markdown",
     "metadata": {},
     "source": [
      "### Probability of chain vs start"
     ]
    },
    {
     "cell_type": "code",
     "collapsed": false,
     "input": [
      "# Could this be any more verbose way of calculating this? First pass, though.\n",
      "\n",
      "sub_df = df[(df['valid_cluster'] == 1)]\n",
      "runs = df.groupby(['worker_id', 'submit_datetime', 'num_requested', 'question_code'])\n",
      "\n",
      "last_was_outmix = False\n",
      "\n",
      "count_last = 0\n",
      "count_not = 0\n",
      "count_yes_after_no = 0\n",
      "count_yes_after_yes = 0\n",
      "\n",
      "for name, run in runs:\n",
      "    for om in run['is_outmix']:\n",
      "        if last_was_outmix:\n",
      "            count_last += 1\n",
      "        else:\n",
      "            count_not += 1\n",
      "        \n",
      "        if om > 0 and last_was_outmix:\n",
      "            count_yes_after_yes += 1\n",
      "        elif om > 0:\n",
      "            count_yes_after_no += 1\n",
      "            \n",
      "        last_was_outmix = om > 0\n",
      "\n",
      "        \n",
      "print \"p(remix | last not remix):\", float(count_yes_after_no) / count_not\n",
      "print \"p(remix | last remix):\", float(count_yes_after_yes) / count_last"
     ],
     "language": "python",
     "metadata": {},
     "outputs": []
    },
    {
     "cell_type": "code",
     "collapsed": false,
     "input": [
      "hist(vcdf['height_in_subtree'])"
     ],
     "language": "python",
     "metadata": {},
     "outputs": []
    },
    {
     "cell_type": "markdown",
     "metadata": {},
     "source": [
      "## O-score originality based on heirarchical clustering"
     ]
    },
    {
     "cell_type": "code",
     "collapsed": false,
     "input": [
      "bar_mean_err_cross_qc(vcdf, 'subtree_oscore',\n",
      "                      'subtree oscore', 'subtree oscore', ymin=0.97)"
     ],
     "language": "python",
     "metadata": {},
     "outputs": []
    },
    {
     "cell_type": "code",
     "collapsed": false,
     "input": [
      "bar_mean_err_cross_qc(vcdf, 'idea_oscore',\n",
      "                      'idea oscore', 'idea oscore', ymin=0.992)"
     ],
     "language": "python",
     "metadata": {},
     "outputs": []
    },
    {
     "cell_type": "code",
     "collapsed": false,
     "input": [
      "hist(vcdf['idea_oscore'], bins=1000)\n",
      "xlim(0.992, 1)"
     ],
     "language": "python",
     "metadata": {},
     "outputs": []
    },
    {
     "cell_type": "markdown",
     "metadata": {},
     "source": [
      "## time spent"
     ]
    },
    {
     "cell_type": "code",
     "collapsed": false,
     "input": [
      "tcdf = df[df['valid_time'] > 0]\n",
      "\n",
      "bar_mean_err_cross_qc(tcdf, 'time_spent',\n",
      "                      'time spent per answer', 'time spent per answer', ymax=700000)"
     ],
     "language": "python",
     "metadata": {},
     "outputs": []
    },
    {
     "cell_type": "code",
     "collapsed": false,
     "input": [
      "vtdf = df[df['valid_time'] == 1]\n",
      "\n",
      "filtered_times = [i for i in vtdf['time_spent'] if i < 100000]\n",
      "\n",
      "hist(filtered_times, bins=100)"
     ],
     "language": "python",
     "metadata": {},
     "outputs": []
    },
    {
     "cell_type": "markdown",
     "metadata": {},
     "source": [
      "# Correlations of interest"
     ]
    },
    {
     "cell_type": "code",
     "collapsed": false,
     "input": [
      "sub_df = df[df['valid_cluster'] == 1]\n",
      "print stats.pearsonr(sub_df['time_spent'], sub_df['is_outmix'])\n",
      "print stats.pearsonr(sub_df['height_in_subtree'], sub_df['subtree_oscore'])\n",
      "print stats.pearsonr(sub_df['height_in_subtree'], sub_df['idea_oscore'])\n",
      "\n",
      "no_category_change = df[(df['is_outmix'] == 1) & (df['distance_from_similar'] == 1)]\n",
      "\n",
      "df['no_category_change'] = bool_df_measure(df, no_category_change)\n",
      "\n",
      "clean_df = df[df['time_spent'] < 20000]\n",
      "\n",
      "df_change = clean_df[clean_df['no_category_change'] == 0]\n",
      "df_nochange = clean_df[clean_df['no_category_change'] == 1]\n",
      "\n",
      "\n",
      "c_mean= np.mean(df_change['time_spent'])\n",
      "c_ste = stats.sem(df_change['time_spent'], ddof=1)\n",
      "nc_mean = np.mean(df_nochange['time_spent'])\n",
      "nc_ste = stats.sem(df_nochange['time_spent'], ddof=1)\n",
      "\n",
      "bar([0, 1], [c_mean, nc_mean], yerr=[c_ste, nc_ste], alpha = 0.4)\n",
      "xticks([0, 1], ['change', 'no change'])\n",
      "title('time spent when changing vs not changing last idea')\n",
      "ylabel('time spent (ms)')\n",
      "\n",
      "#print stats.pearsonr(sub_df['time_spent'], sub_df['distance_from_similars'])"
     ],
     "language": "python",
     "metadata": {},
     "outputs": []
    },
    {
     "cell_type": "code",
     "collapsed": false,
     "input": [
      "boxplot([df_change['time_spent'], df_nochange['time_spent']])\n",
      "ylim(0, 20000)\n",
      "xticks([1, 2], ['change', 'no change'])"
     ],
     "language": "python",
     "metadata": {},
     "outputs": []
    },
    {
     "cell_type": "markdown",
     "metadata": {},
     "source": [
      "# Heatmap visualizations"
     ]
    },
    {
     "cell_type": "code",
     "collapsed": false,
     "input": [
      "import make_heatmap\n",
      "reload(make_heatmap)\n",
      "\n",
      "def hm_format(qc, run, max_weight, max_dfs, max_dfi):\n",
      "    \n",
      "    leaf_vals = [1 if h == 0 else 0 for h in run['height_in_subtree']]\n",
      "    norm_weights = run['num_instances_under'] / max_weight\n",
      "    norm_dfs = 1.0 * run['distance_from_similar'] / run['num_requested']\n",
      "    norm_dfi = 1.0 * run['distance_from_inmix'] / run['num_requested']\n",
      "    \n",
      "    min_run_ts = min(run['time_spent'])\n",
      "    norm_run_ts = float(max(run['time_spent']) - min(run['time_spent']))\n",
      "    \n",
      "    outs = []\n",
      "    \n",
      "    for ii, i in enumerate(run.index):\n",
      "        out = OrderedDict()\n",
      "        \n",
      "        out['inmix'] = run['is_inmix'][i]\n",
      "        out['self_riff'] = run['is_outmix'][i]\n",
      "        out['is_leaf'] = leaf_vals[ii]\n",
      "        out['weight'] = norm_weights[i]\n",
      "        out['dist_sim'] = norm_dfs[i]\n",
      "        out['dist_im'] = norm_dfi[i]\n",
      "        out['time_spent'] = (run['time_spent'][i] - min_run_ts) / norm_run_ts\n",
      "        out['answer'] = run['answer'][i]\n",
      "    #out['num_siblings'] = [num_siblings(hcm, i) for i in run['h_cluster']]\n",
      "        \n",
      "        outs.append(out)\n",
      "        \n",
      "    return outs\n",
      "\n",
      "vcdf = df[df['valid_cluster'] == 1]\n",
      "    \n",
      "for qc in qc_conds:\n",
      "    sub_df = vcdf[vcdf['question_code'] == qc]\n",
      "    \n",
      "    if len(sub_df) == 0:\n",
      "        continue\n",
      "    \n",
      "    max_weight = max(sub_df['num_instances_under'])\n",
      "    max_dfs = max(sub_df['distance_from_similar'])\n",
      "    max_dfi = max(sub_df['distance_from_inmix'])\n",
      "    \n",
      "    groups = sub_df.groupby(['num_requested'])\n",
      "    for nr, ssub_df in groups:\n",
      "        groups2 = ssub_df.groupby(['worker_id'])\n",
      "        hms = {}\n",
      "        \n",
      "        for wid, run in groups2:\n",
      "            hms[wid] = hm_format(qc, run, max_weight, max_dfs, max_dfi)\n",
      "            \n",
      "        d = 'heatmaps/%s' % qc\n",
      "        if not os.path.exists(d):\n",
      "            os.makedirs(d)\n",
      "        make_heatmap.output_heatmap(hms, '%s/%s.html' % (d, nr))"
     ],
     "language": "python",
     "metadata": {},
     "outputs": []
    },
    {
     "cell_type": "markdown",
     "metadata": {},
     "source": [
      "# Export pickled data"
     ]
    },
    {
     "cell_type": "code",
     "collapsed": false,
     "input": [
      "import json\n",
      "\n",
      "data = []\n",
      "sub_df = df[df['question_code'] == 'iPod']\n",
      "for i in sub_df.index:\n",
      "    t = [int(i), int(sub_df['num_requested'][i]), sub_df['answer'][i], sub_df['worker_id'][i]]\n",
      "    data.append(t)\n",
      "\n",
      "with open(\"ideas.json\", 'w') as f:\n",
      "    f.write(json.dumps(data))"
     ],
     "language": "python",
     "metadata": {},
     "outputs": []
    },
    {
     "cell_type": "markdown",
     "metadata": {},
     "source": [
      "# Export cumulative counts data"
     ]
    },
    {
     "cell_type": "code",
     "collapsed": false,
     "input": [
      "print len(df[df['is_repeat_worker'] == 1])\n",
      "\n",
      "qcdf = df[df['question_code'] == 'iPod']\n",
      "\n",
      "h_wids = set(qcdf[qcdf['num_requested'] == 100]['worker_id'])\n",
      "\n",
      "s_wids = set(qcdf[qcdf['num_requested'] == 75]['worker_id'])\n",
      "\n",
      "leave_outs = list(h_wids) + list(s_wids) + [None]\n",
      "print \"leave outs\", len(leave_outs)\n",
      "sys.stdout.flush()\n",
      "\n",
      "if True:\n",
      "    for leave_out in leave_outs:\n",
      "        data = []\n",
      "        \n",
      "        for nr in nr_conds:\n",
      "            nrdf = qcdf[qcdf['num_requested'] == nr]\n",
      "            nrdf = nrdf.sort('submit_datetime')\n",
      "            \n",
      "            cum_ideas = set()\n",
      "            cum_cats = set()\n",
      "            overall_num = 0\n",
      "            \n",
      "            runs = nrdf.groupby(['worker_id', 'submit_datetime'])\n",
      "            for (wid, sdt), run in runs:\n",
      "                if wid == leave_out:\n",
      "                    print \"skipping\", wid\n",
      "                    sys.stdout.flush()\n",
      "                    continue\n",
      "                \n",
      "                for i in run.index:\n",
      "                    an = run['answer_num'][i]\n",
      "                    idea = run['idea'][i]\n",
      "                    cat = run['subtree_root'][i]\n",
      "                    \n",
      "                    cum_ideas.add(idea)\n",
      "                    cum_cats.add(cat)\n",
      "                    \n",
      "                    safe_key = (wid, str(sdt), int(nr), int(an))\n",
      "                    \n",
      "                    row = [safe_key, int(i), int(nr), overall_num, len(cum_ideas), len(cum_cats)]\n",
      "                    overall_num +=1\n",
      "                    \n",
      "                    data.append(row)\n",
      "                    \n",
      "        with open(\"cumulative_ideas_categories_leave_out_%s.json\" % leave_out, 'w') as f:\n",
      "            print len(data)\n",
      "            f.write(json.dumps(data))"
     ],
     "language": "python",
     "metadata": {},
     "outputs": []
    },
    {
     "cell_type": "markdown",
     "metadata": {},
     "source": [
      "## Hyp6: Export originality split data"
     ]
    },
    {
     "cell_type": "code",
     "collapsed": false,
     "input": [
      "ipoddf = df[(df['valid_cluster'] ==1) & (df['question_code'] == 'iPod')]\n",
      "\n",
      "with open(\"hyp6.csv\", 'w') as f:\n",
      "    writer = csv.writer(f, delimiter='\\t')\n",
      "    writer.writerow(['num_requested', 'order', 'tree_oscore', 'idea_oscore'])\n",
      "\n",
      "    for i in ipoddf.index:\n",
      "        writer.writerow([ipoddf['num_requested'][i],\n",
      "                         ipoddf['answer_num'][i],\n",
      "                         ipoddf['subtree_oscore'][i],\n",
      "                         ipoddf['idea_oscore'][i]])\n",
      "    \n",
      "    "
     ],
     "language": "python",
     "metadata": {},
     "outputs": []
    },
    {
     "cell_type": "markdown",
     "metadata": {},
     "source": [
      "## ??"
     ]
    },
    {
     "cell_type": "code",
     "collapsed": false,
     "input": [
      "data = []\n",
      "\n",
      "qcdf = df[df['question_code'] == 'iPod']\n",
      "\n",
      "for nr in nr_conds:\n",
      "    nrdf = qcdf[qcdf['num_requested'] == nr]\n",
      "    nrdf = nrdf.sort('submit_datetime')\n",
      "    \n",
      "    cum_ideas = set()\n",
      "    cum_cats = set()\n",
      "    overall_num = 0\n",
      "    \n",
      "    runs = nrdf.groupby(['worker_id', 'submit_datetime'])\n",
      "    for (wid, sdt), run in runs:\n",
      "        \n",
      "        last_idea_num = None\n",
      "        last_category_num = None\n",
      "        \n",
      "        for i in run.index:\n",
      "            an = run['answer_num'][i]\n",
      "            idea = run['idea'][i]\n",
      "            cat = run['subtree_root'][i]\n",
      "            \n",
      "            cum_ideas.add(idea)\n",
      "            cum_cats.add(cat)\n",
      "            \n",
      "            safe_key = (wid, str(sdt), int(nr), int(an))\n",
      "            \n",
      "            if last_idea_num is not None and last_category_num is not None:\n",
      "                row = [safe_key, int(i), int(nr), overall_num,\n",
      "                       len(cum_ideas) - last_idea_num, len(cum_cats) - last_cat_num]\n",
      "                last_idea_num = len(cum_ideas)\n",
      "                last_cat_num = len(cum_cats)\n",
      "                \n",
      "            overall_num +=1\n",
      "            \n",
      "            data.append(row)\n",
      "            \n",
      "with open(\"cumulative_rates_ideas_categories.json\", 'w') as f:\n",
      "    f.write(json.dumps(data))"
     ],
     "language": "python",
     "metadata": {},
     "outputs": []
    },
    {
     "cell_type": "code",
     "collapsed": false,
     "input": [
      "qcdf = df[(df['question_code'] == 'iPod') & (df['valid_cluster'] == 1) & (df['valid_time'] == 1)]\n",
      "\n",
      "with open(\"time_spent_data.csv\", 'w') as f:\n",
      "    writer = csv.writer(f, delimiter='\\t')\n",
      "    writer.writerow(['follow_same', 'time_spent'])\n",
      "    \n",
      "    runs = qcdf.groupby(['run_id'])\n",
      "    \n",
      "    for rid, run in runs:\n",
      "        run = run.sort(['answer_num'])\n",
      "        \n",
      "        for ii, i in enumerate(run.index[:-1]):\n",
      "            next_idx = run.index[ii+1]\n",
      "            \n",
      "            last_tree = run['subtree_root'][i]\n",
      "            next_tree = run['subtree_root'][next_idx]\n",
      "            \n",
      "            if last_tree == next_tree:\n",
      "                writer.writerow([1, run['time_spent'][next_idx]])\n",
      "            else:\n",
      "                writer.writerow([0, run['time_spent'][next_idx]])"
     ],
     "language": "python",
     "metadata": {},
     "outputs": []
    },
    {
     "cell_type": "markdown",
     "metadata": {},
     "source": [
      "# Hypothesis Tests"
     ]
    },
    {
     "cell_type": "markdown",
     "metadata": {},
     "source": [
      "## Hypothesis 5"
     ]
    },
    {
     "cell_type": "raw",
     "metadata": {},
     "source": [
      "\n",
      "\n",
      "                 mean se_mean  sd    2.5%     25%     50%     75%   97.5% n_eff\n",
      "mu_cond[1]       10.2       0 0.0    10.2    10.2    10.2    10.2    10.3  5105\n",
      "mu_cond[2]        9.5       0 0.0     9.4     9.5     9.5     9.6     9.6  5369\n",
      "sigma_cond[1]     1.2       0 0.0     1.2     1.2     1.2     1.2     1.2  5786\n",
      "sigma_cond[2]     1.1       0 0.0     1.0     1.0     1.1     1.1     1.1  3685\n",
      "lp__          -1977.6       0 1.5 -1981.4 -1978.4 -1977.3 -1976.5 -1975.7  2465\n",
      "              Rhat\n",
      "mu_cond[1]       1\n",
      "mu_cond[2]       1\n",
      "sigma_cond[1]    1\n",
      "sigma_cond[2]    1\n",
      "lp__             1\n"
     ]
    },
    {
     "cell_type": "markdown",
     "metadata": {},
     "source": [
      "## Hypothesis 4"
     ]
    },
    {
     "cell_type": "code",
     "collapsed": false,
     "input": [
      "cdf = df[df['valid_cluster'] == 1]\n",
      "\n",
      "successes = 0\n",
      "total = 0\n",
      "\n",
      "runs = cdf.groupby(['run_id'])\n",
      "for rid, run in runs:\n",
      "    run = run.sort(['answer_num'])\n",
      "    for ii, i in enumerate(run.index[:-1]):\n",
      "        next_idx = run.index[ii + 1]\n",
      "        cat_prev = run['subtree_root'][i]\n",
      "        cat_next = run['subtree_root'][next_idx]\n",
      "        if cat_prev == cat_next:\n",
      "            successes += 1\n",
      "        total += 1\n",
      "        \n",
      "print calculate_posterior(successes, total)"
     ],
     "language": "python",
     "metadata": {},
     "outputs": []
    },
    {
     "cell_type": "code",
     "collapsed": false,
     "input": [
      "print max(clusters_df['subtree_probability'])\n",
      "\n",
      "c_sort = clusters_df[clusters_df['is_root'] == 1]\n",
      "\n",
      "c_sort = c_sort.sort(['subtree_probability'], ascending=False)\n",
      "print c_sort['idea_label'][0:10]\n",
      "print c_sort['subtree_probability'][0:10]\n",
      "\n",
      "plot(c_sort['subtree_probability'])"
     ],
     "language": "python",
     "metadata": {},
     "outputs": []
    },
    {
     "cell_type": "code",
     "collapsed": false,
     "input": [],
     "language": "python",
     "metadata": {},
     "outputs": []
    },
    {
     "cell_type": "markdown",
     "metadata": {},
     "source": [
      "## Print some runs"
     ]
    },
    {
     "cell_type": "code",
     "collapsed": false,
     "input": [
      "sub_df = rmdf[rmdf['r_valid_cluster'] == 1]\n",
      "\n",
      "indices = np.array(sub_df.index)\n",
      "np.random.shuffle(indices)\n",
      "indices = indices[:40]\n",
      "\n",
      "\n",
      "with open('random_runs.txt', 'w') as f:\n",
      "\n",
      "    for i in indices:\n",
      "        run_df = df[df['run_id'] == i]\n",
      "        s_df = run_df.sort(['answer_num'], ascending=True)\n",
      "        for a in s_df['answer']:\n",
      "            f.write(a + '\\n')\n",
      "            \n",
      "        f.write('\\n\\n\\n\\n')"
     ],
     "language": "python",
     "metadata": {},
     "outputs": [],
     "prompt_number": 173
    },
    {
     "cell_type": "code",
     "collapsed": false,
     "input": [],
     "language": "python",
     "metadata": {},
     "outputs": []
    }
   ],
   "metadata": {}
  }
 ]
}