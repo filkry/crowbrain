{
 "metadata": {
  "name": "000_pilot1_analysis"
 },
 "nbformat": 3,
 "nbformat_minor": 0,
 "worksheets": [
  {
   "cells": [
    {
     "cell_type": "markdown",
     "metadata": {},
     "source": [
      "# Pilot 1 Analysis\n",
      "\n",
      "Experiment conditions:\n",
      "\n",
      "* 5 responses\n",
      "* 10 responses\n",
      "* 20 responses\n",
      "\n",
      "Each to the question \"List things that could cause a change in body weight\"."
     ]
    },
    {
     "cell_type": "code",
     "collapsed": false,
     "input": [
      "import csv, random\n",
      "from collections import defaultdict\n",
      "import numpy as np\n",
      "import pylab as pl"
     ],
     "language": "python",
     "metadata": {},
     "outputs": [
      {
       "ename": "ImportError",
       "evalue": "No module named pylab",
       "output_type": "pyerr",
       "traceback": [
        "\u001b[1;31m---------------------------------------------------------------------------\u001b[0m\n\u001b[1;31mImportError\u001b[0m                               Traceback (most recent call last)",
        "\u001b[1;32m<ipython-input-70-5a08ea5e87bc>\u001b[0m in \u001b[0;36m<module>\u001b[1;34m()\u001b[0m\n\u001b[0;32m      2\u001b[0m \u001b[1;32mfrom\u001b[0m \u001b[0mcollections\u001b[0m \u001b[1;32mimport\u001b[0m \u001b[0mdefaultdict\u001b[0m\u001b[1;33m\u001b[0m\u001b[0m\n\u001b[0;32m      3\u001b[0m \u001b[1;32mimport\u001b[0m \u001b[0mnumpy\u001b[0m \u001b[1;32mas\u001b[0m \u001b[0mnp\u001b[0m\u001b[1;33m\u001b[0m\u001b[0m\n\u001b[1;32m----> 4\u001b[1;33m \u001b[1;32mimport\u001b[0m \u001b[0mpylab\u001b[0m \u001b[1;32mas\u001b[0m \u001b[0mpl\u001b[0m\u001b[1;33m\u001b[0m\u001b[0m\n\u001b[0m",
        "\u001b[1;31mImportError\u001b[0m: No module named pylab"
       ]
      }
     ],
     "prompt_number": 70
    },
    {
     "cell_type": "heading",
     "level": 2,
     "metadata": {},
     "source": [
      "Import Data"
     ]
    },
    {
     "cell_type": "code",
     "collapsed": false,
     "input": [
      "conditions = defaultdict(lambda: defaultdict(list))\n",
      "answer_key = {}\n",
      "\n",
      "with open('/processed_data/pilot/answers_coded.csv') as ans:\n",
      "    reader = csv.reader(ans)\n",
      "    for i, row in enumerate(reader):\n",
      "        if i == 0:\n",
      "            continue\n",
      "        \n",
      "        wid = row[0]\n",
      "        num = int(row[1])\n",
      "        code = int(row[3])\n",
      "        conditions[num][wid].append(code)\n",
      "        \n",
      "with open('/processed_data/pilot/answers_coded_key.csv') as anskey:\n",
      "    reader = csv.reader(anskey)\n",
      "    \n",
      "    for i, row in enumerate(reader):\n",
      "        if i == 0:\n",
      "            continue\n",
      "            \n",
      "        answer_key[int(row[0])] = row[1]\n",
      "        \n",
      "print conditions[5]"
     ],
     "language": "python",
     "metadata": {},
     "outputs": [
      {
       "output_type": "stream",
       "stream": "stdout",
       "text": [
        "defaultdict(<type 'list'>, {'\\xef\\xbf\\xbd~M\\xef\\xbf\\xbd\\xef\\xbf\\xbdY\\xef\\xbf\\xbd\\xc8\\x9c\\xef\\xbf\\xbdX\\xef\\xbf\\xbd$#\\xef\\xbf\\xbdZ': [5, 1, 12, 11, 13], '\\xc2\\xb7\\xef\\xbf\\xbd8\\xef\\xbf\\xbd<H\\xef\\xbf\\xbd\\xef\\xbf\\xbdS\\xef\\xbf\\xbd\\xef\\xbf\\xbd\\xef\\xbf\\xbd!': [0, 1, 2, 3, 4], '\\xef\\xbe\\xa8\\xef\\xbe\\x89': [16, 19, 11, 11, 1], '1\\xef\\xbf\\xbd(\\xef\\xbf\\xbd\\xef\\xbf\\xbd': [5, 1, 6, 7, 8], '|)\\xef\\xbf\\xbd9\"': [11, 9, 1, 10, 5], 'H\\xef\\xbf\\xbd\\xef\\xbf\\xbdGfmR`\\xef\\xbf\\xbd\\xef\\xbf\\xbd\\xc2\\x96\\xef\\xbf\\xbd\\xef\\xbf\\xbdb': [11, 17, 1, 1, 21], '\\xef\\xbf\\xbd\\xef\\xbf\\xbd\\xef\\xbf\\xbd_\\xef\\xbf\\xbd\\xef\\xbf\\xbdK\\xef\\xbf\\xbdo\\xef\\xbf\\xbd\\xef\\xbf\\xbd\\xef\\xbf\\xbdO;\\xef\\xbf\\xbd': [11, 110, 100, 100, 100], '3>\\x7f\\xd0\\xa8\\xc8\\x83\\n\\xef\\xbf\\xbdri@\\xef\\xbf\\xbdn\\xef\\xbf\\xbd': [5, 16, 110, 17, 20], 'F8\\xef\\xbf\\xbdL&\\xef\\xbf\\xbd\\xef\\xbf\\xbd\\x7f\\xef\\xbf\\xbd\\xef\\xbf\\xbd;`x\\xef\\xbf\\xbd': [110, 14, 15, 16, 17], '&\\xef\\xbf\\xbd7\\xef\\xbf\\xbdX\\xef\\xbf\\xbd\\xef\\xbf\\xbd\\xef\\xbf\\xbd)\\xef\\xbf\\xbd\\xef\\xbf\\xbd\\xef\\xbf\\xbd\\xef\\xbf\\xbd\\xef\\xbf\\xbd\\xef\\xbf\\xbd6': [18, 19, 110, 5, 1]})\n"
       ]
      }
     ],
     "prompt_number": 60
    },
    {
     "cell_type": "heading",
     "level": 2,
     "metadata": {},
     "source": [
      "Basic Picture"
     ]
    },
    {
     "cell_type": "code",
     "collapsed": false,
     "input": [
      "count = np.zeros(len(answer_key))\n",
      "\n",
      "for con in conditions:\n",
      "    for worker in conditions[con]:\n",
      "        for ans in conditions[con][worker]:\n",
      "            count[ans] += 1\n",
      "\n",
      "top = np.argsort(count)[::-1]\n",
      "top_names = [\"%d: %s\" % (count[i], answer_key[i]) for i in top]\n",
      "\n",
      "print '\\n'.join(top_names[:20])"
     ],
     "language": "python",
     "metadata": {},
     "outputs": [
      {
       "output_type": "stream",
       "stream": "stdout",
       "text": [
        "23: amount of exercise\n",
        "22: Missing\n",
        "21: change in eating quantity\n",
        "16: change in eating habits (i.e. Diet construction)\n",
        "12: stress\n",
        "12: pregnancy\n",
        "11: illness\n",
        "10: extreme change in eating quantity (fast)\n",
        "9: depression\n",
        "7: medication\n",
        "7: genetic predisposition\n",
        "6: peer pressure\n",
        "6: loss of loved one\n",
        "5: junk food consumption\n",
        "5: relationship\n",
        "4: surgery\n",
        "4: change in wealth\n",
        "4: general state of mind\n",
        "3: change in water weight\n",
        "3: age\n"
       ]
      }
     ],
     "prompt_number": 40
    },
    {
     "cell_type": "markdown",
     "metadata": {},
     "source": [
      "## Random sampling\n",
      "\n",
      "What happens if we randomly sample from all the answers? How many answers do we have after X samples?"
     ]
    },
    {
     "cell_type": "code",
     "collapsed": false,
     "input": [
      "def num_answers_after_samples(idea_pool):\n",
      "    samples_taken = random.sample(idea_pool, len(idea_pool))\n",
      "    \n",
      "    answers_received = set()\n",
      "    num_answers = [0,]\n",
      "    for s in samples_taken:\n",
      "        answers_received.add(s)\n",
      "        num_answers.append(len(answers_received))\n",
      "        \n",
      "    return num_answers"
     ],
     "language": "python",
     "metadata": {},
     "outputs": [],
     "prompt_number": 67
    },
    {
     "cell_type": "markdown",
     "metadata": {},
     "source": [
      "For all answers:"
     ]
    },
    {
     "cell_type": "code",
     "collapsed": false,
     "input": [
      "flat = [ans for con in conditions\n",
      "            for worker in conditions[con]\n",
      "            for ans in conditions[con][worker]]\n",
      "\n",
      "plot(num_answers_after_samples(flat))"
     ],
     "language": "python",
     "metadata": {},
     "outputs": [
      {
       "ename": "NameError",
       "evalue": "name 'plot' is not defined",
       "output_type": "pyerr",
       "traceback": [
        "\u001b[1;31m---------------------------------------------------------------------------\u001b[0m\n\u001b[1;31mNameError\u001b[0m                                 Traceback (most recent call last)",
        "\u001b[1;32m<ipython-input-69-49468f06b612>\u001b[0m in \u001b[0;36m<module>\u001b[1;34m()\u001b[0m\n\u001b[0;32m      3\u001b[0m             for ans in conditions[con][worker]]\n\u001b[0;32m      4\u001b[0m \u001b[1;33m\u001b[0m\u001b[0m\n\u001b[1;32m----> 5\u001b[1;33m \u001b[0mplot\u001b[0m\u001b[1;33m(\u001b[0m\u001b[0mnum_answers_after_samples\u001b[0m\u001b[1;33m(\u001b[0m\u001b[0mflat\u001b[0m\u001b[1;33m)\u001b[0m\u001b[1;33m)\u001b[0m\u001b[1;33m\u001b[0m\u001b[0m\n\u001b[0m",
        "\u001b[1;31mNameError\u001b[0m: name 'plot' is not defined"
       ]
      }
     ],
     "prompt_number": 69
    },
    {
     "cell_type": "code",
     "collapsed": false,
     "input": [],
     "language": "python",
     "metadata": {},
     "outputs": []
    }
   ],
   "metadata": {}
  }
 ]
}