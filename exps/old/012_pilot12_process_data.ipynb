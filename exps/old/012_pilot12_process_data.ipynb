{
 "metadata": {
  "name": "012_pilot12_process_data"
 },
 "nbformat": 3,
 "nbformat_minor": 0,
 "worksheets": [
  {
   "cells": [
    {
     "cell_type": "markdown",
     "metadata": {},
     "source": [
      "# HITs to CSV"
     ]
    },
    {
     "cell_type": "code",
     "collapsed": false,
     "input": [
      "import csv\n",
      "import glob\n",
      "import hashlib\n",
      "\n",
      "files = glob.glob(\"/raw_data/pilot12/*.csv\")\n",
      "print(files)\n"
     ],
     "language": "python",
     "metadata": {},
     "outputs": [
      {
       "output_type": "stream",
       "stream": "stdout",
       "text": [
        "['/raw_data/pilot12/HITResultsFor24NF3Q0JG5T0L4JC8OV9N9SSANEEIF.csv', '/raw_data/pilot12/HITResultsFor20WNLVWJ5OPDZF2W9LPM4B7E7FBU21.csv', '/raw_data/pilot12/HITResultsFor2YWCWA6X3YOEBW7SZIBXXTIN0OEON9.csv', '/raw_data/pilot12/HITResultsFor2JVIPDOBDDPAO0304Q485MB389QC1S.csv', '/raw_data/pilot12/HITResultsFor27WOZFYQS1CUS3VV744SCIC1W4UJML.csv']\n"
       ]
      }
     ],
     "prompt_number": 1
    },
    {
     "cell_type": "markdown",
     "metadata": {},
     "source": [
      "### Input Data\n",
      "\n",
      "Example of how our CSV files look:"
     ]
    },
    {
     "cell_type": "code",
     "collapsed": false,
     "input": [
      "def csv_top(file_name):\n",
      "    with open(file_name, 'r') as csvfile:\n",
      "        reader = csv.reader(csvfile, delimiter=\",\")\n",
      "        for (i, row) in enumerate(reader):\n",
      "            print row\n",
      "            if i > 1:\n",
      "                break"
     ],
     "language": "python",
     "metadata": {},
     "outputs": [],
     "prompt_number": 2
    },
    {
     "cell_type": "code",
     "collapsed": false,
     "input": [
      "csv_top(files[0])\n",
      "    "
     ],
     "language": "python",
     "metadata": {},
     "outputs": [
      {
       "output_type": "stream",
       "stream": "stdout",
       "text": [
        "['HitId', 'HitTitle', 'Annotation', 'AssignmentId', 'WorkerId', 'Status', 'AcceptTime', 'SubmitTime', 'Answer 1', 'Answer 2', 'Answer 3', 'Answer 4', 'Answer 5', 'Answer 6', 'Answer 7', 'Answer 8']\n",
        "['24NF3Q0JG5T0L4JC8OV9N9SSANEEIF', 'Brainstorm 10 ideas for a classic brainstorming             problem.', 'brainstorm', '26R9RNDWIOV3ROZ3DQKG213Y7MSVGJ', 'A3VE4CRJCJIHZH', 'Approved', 'Tue Jul 16 16:07:17 PDT 2013', 'Tue Jul 16 16:16:01 PDT 2013', '<p>Imagine you are in a social setting and you have forgotten the name of somebody you know. Brainstorm 10 ways you could learn their name without directly asking them. Be as specific as possible in your descriptions.</p>', '', '1374016056484|1374016100374|1374016134320|1374016159295|1374016177956|1374016230785|1374016323072|1374016357224|1374016479304|1374016503941', '1374016100371|1374016134317|1374016159293|1374016177954|1374016230783|1374016429944|1374016357222|1374016479302|1374016503939|1374016561427', '136', \"Introduce someone else you know to them and let them say their own name|Introduce yourself to someone else  while they are present and hope they also introduce themselves|Ask someone else you know what the persons name is|Ask for their telephone number and ask for them to spell their name|Ask for their address and have them spell their name as you write it|Talk about some detail of your drivers license that you think is 'weird' and ask to see their license to see if it includes the same feature|Show them your drivers license and mock your own photo and then ask to see theirs as well to compare|Talk about some detail of your social security card and ask to se theirs as well to compare|Talk about some detail of your student ID and ask to see theirs as well to compare|Ask them to play a game of how many words can they make out of the scrambled letters of their name\", 'consentAccept', '', '']\n",
        "['24NF3Q0JG5T0L4JC8OV9N9SSANEEIF', 'Brainstorm 10 ideas for a classic brainstorming             problem.', 'brainstorm', '2U1RJ85OZIZGG3HQZZFOY5EWJLXX9R', 'AMSD0JV1W7V9F', 'Approved', 'Tue Jul 16 18:56:36 PDT 2013', 'Tue Jul 16 19:00:39 PDT 2013', '1374026237158|1374026266167|1374026271233|1374026295928|1374026320640|1374026355026|1374026370655|1374026383405|1374026417066|1374026434362', '135', 'donate to childrens hospital|donate to soldiers over seas|recycle|donate to afterschool programs|donate to red cross|donate to church youth groups|donate to hospitals|donate to rehab centers|donate to domestic violence shelters|donate to thrift shops', 'consentAccept', \"<p>Many people have old iPods or MP3 players that they no longer use. Please brainstorm 10 uses for old iPods/MP3 players. Assume that the devices' batteries no longer work, though they can be powered via external power sources. Also be aware that devices may <em>not</em> have displays. Be as specific as possible in your descriptions.</p>\", '', '', '1374026217847|1374026237166|1374026266175|1374026271241|1374026295938|1374026320648|1374026355035|1374026370664|1374026383406|1374026417073', '']\n"
       ]
      }
     ],
     "prompt_number": 3
    },
    {
     "cell_type": "markdown",
     "metadata": {},
     "source": [
      "### Check Data makes sense"
     ]
    },
    {
     "cell_type": "code",
     "collapsed": false,
     "input": [
      "import string\n",
      "\n",
      "def all_caps_numbers(st):\n",
      "    for c in st:\n",
      "        if not (c.isdigit() or c in string.uppercase):\n",
      "            return False\n",
      "    return True\n",
      "\n",
      "def is_question(st):\n",
      "    return 'EFF' in st or 'smartphones' in st or 'social' in st or 'iPod' in st\n",
      "\n",
      "def worker_results_from_row(row):\n",
      "    hit_title = None\n",
      "    hashed_id = None\n",
      "    question = None\n",
      "    answers = None # check\n",
      "    num_answers = None # check\n",
      "    end_time = None # check\n",
      "    start_time = None # check\n",
      "    \n",
      "    temp_times = None\n",
      "    \n",
      "    for i, field in enumerate(row):\n",
      "        if i == 1:\n",
      "            hit_title = field\n",
      "        elif '|' in field:\n",
      "            sp = field.split('|')\n",
      "            num_answers = len(sp)\n",
      "            \n",
      "            sp = [x for x in sp if len(x) > 0]\n",
      "            if len(sp) == 0:\n",
      "                # user didn't respond to anything, skip them\n",
      "                return None\n",
      "            elif sp[0].isdigit():\n",
      "                if temp_times is None:\n",
      "                    temp_times = [int(i) for i in sp]\n",
      "                else:\n",
      "                    sp = [int(i) for i in sp]\n",
      "                    if sp[0] > temp_times[0]:\n",
      "                        end_time = sp\n",
      "                        start_time = temp_times\n",
      "                    else:\n",
      "                        end_time = temp_times\n",
      "                        start_time = sp\n",
      "            else: #in this case, these are their answers\n",
      "                answers = sp\n",
      "        elif i == 4 and all_caps_numbers(field):\n",
      "            hashed_id = hashlib.sha224(field).hexdigest()\n",
      "        elif is_question(field):\n",
      "            question = field\n",
      "            \n",
      "    if 'as many ideas as you can' in hit_title:\n",
      "        num_answers = 0\n",
      "    \n",
      "    return hashed_id, question, num_answers, answers, start_time, end_time"
     ],
     "language": "python",
     "metadata": {},
     "outputs": [],
     "prompt_number": 9
    },
    {
     "cell_type": "code",
     "collapsed": false,
     "input": [
      "for f in files:\n",
      "    with open(f, 'r') as csvfile:\n",
      "        reader = csv.reader(csvfile, delimiter=\",\")\n",
      "        rm = None\n",
      "        for (i, row) in enumerate(reader):\n",
      "            if i == 0:\n",
      "                continue\n",
      "            \n",
      "            res = worker_results_from_row(row)\n",
      "            \n",
      "            if res is None:\n",
      "                continue\n",
      "            \n",
      "            hashed_id, question, num, answers, start_time, end_time = res\n",
      "            \n",
      "            for i, t in enumerate(start_time):\n",
      "                assert(start_time[i] is None or end_time[i] is None or end_time[i] - t > 0)\n",
      "            "
     ],
     "language": "python",
     "metadata": {},
     "outputs": [
      {
       "output_type": "stream",
       "stream": "stdout",
       "text": [
        "<p>The Electronic Frontier Foundation (EFF) is a nonprofit whose goal is to protect individual rights with respect to digital and online technologies. For example, the EFF has initiated a lawsuit against the US government to limit the degree to which the US surveils its citizens via secret NSA programs. If you are unfamiliar with the EFF and its goals, read about it on its website (<a href=\"https://www.eff.org\" target=\"_new\">https://www.eff.org</a>) or via other online sources (such as Wikipedia).</p>\r\n",
        "      <p>Brainstorm 10 <em>new</em> ways the EFF can raise funds and simultaneously increase awareness. Your ideas <em>must be different from their current methods</em>, which include donation pages, merchandise, web badges and banners, affiliate programs with Amazon and eBay, and donating things such as airmiles, cars, or stocks. See the full list of their current methods here: <a href=\"https://www.eff.org/helpout\" target=\"_new\">https://www.eff.org/helpout</a>. Be as specific as possible in your responses.</p>\n",
        "<p>Imagine you are in a social setting and you have forgotten the name of somebody you know. Brainstorm 10 ways you could learn their name without directly asking them. Be as specific as possible in your descriptions.</p>\n",
        "<p>Imagine you are in a social setting and you have forgotten the name of somebody you know. Brainstorm 10 ways you could learn their name without directly asking them. Be as specific as possible in your descriptions.</p>\n",
        "<p>Mechanical Turk currently lacks a dedicated mobile app for performing HITs on smartphones (iPhone, Androids, etc.) or tablets (e.g., the iPad).</p>\r\n",
        "      <p>Brainstorm 10 features for a mobile app to Mechanical Turk that would improve the worker's experience when performing HITs on mobile devices. Be as specific as possible in your responses.</p>\n",
        "<p>Many people have old iPods or MP3 players that they no longer use. Please brainstorm 10 uses for old iPods/MP3 players. Assume that the devices' batteries no longer work, though they can be powered via external power sources. Also be aware that devices may <em>not</em> have displays. Be as specific as possible in your descriptions.</p>\n",
        "<p>Many people have old iPods or MP3 players that they no longer use. Please brainstorm 10 uses for old iPods/MP3 players. Assume that the devices' batteries no longer work, though they can be powered via external power sources. Also be aware that devices may <em>not</em> have displays. Be as specific as possible in your descriptions.</p>\n",
        "<p>Many people have old iPods or MP3 players that they no longer use. Please brainstorm 10 uses for old iPods/MP3 players. Assume that the devices' batteries no longer work, though they can be powered via external power sources. Also be aware that devices may <em>not</em> have displays. Be as specific as possible in your descriptions.</p>\n",
        "<p>Imagine you are in a social setting and you have forgotten the name of somebody you know. Brainstorm 10 ways you could learn their name without directly asking them. Be as specific as possible in your descriptions.</p>\n",
        "<p>Many people have old iPods or MP3 players that they no longer use. Please brainstorm 10 uses for old iPods/MP3 players. Assume that the devices' batteries no longer work, though they can be powered via external power sources. Also be aware that devices may <em>not</em> have displays. Be as specific as possible in your descriptions.</p>\n",
        "<p>Many people have old iPods or MP3 players that they no longer use. Please brainstorm 10 uses for old iPods/MP3 players. Assume that the devices' batteries no longer work, though they can be powered via external power sources. Also be aware that devices may <em>not</em> have displays. Be as specific as possible in your descriptions.</p>\n",
        "<p>Many people have old iPods or MP3 players that they no longer use. Please brainstorm 10 uses for old iPods/MP3 players. Assume that the devices' batteries no longer work, though they can be powered via external power sources. Also be aware that devices may <em>not</em> have displays. Be as specific as possible in your descriptions.</p>\n",
        "<p>Imagine you are in a social setting and you have forgotten the name of somebody you know. Brainstorm 10 ways you could learn their name without directly asking them. Be as specific as possible in your descriptions.</p>\n",
        "<p>Imagine you are in a social setting and you have forgotten the name of somebody you know. Brainstorm 10 ways you could learn their name without directly asking them. Be as specific as possible in your descriptions.</p>\n",
        "<p>Mechanical Turk currently lacks a dedicated mobile app for performing HITs on smartphones (iPhone, Androids, etc.) or tablets (e.g., the iPad).</p>\r\n",
        "      <p>Brainstorm 10 features for a mobile app to Mechanical Turk that would improve the worker's experience when performing HITs on mobile devices. Be as specific as possible in your responses.</p>\n",
        "<p>Mechanical Turk currently lacks a dedicated mobile app for performing HITs on smartphones (iPhone, Androids, etc.) or tablets (e.g., the iPad).</p>\r\n",
        "      <p>Brainstorm 10 features for a mobile app to Mechanical Turk that would improve the worker's experience when performing HITs on mobile devices. Be as specific as possible in your responses.</p>\n",
        "<p>The Electronic Frontier Foundation (EFF) is a nonprofit whose goal is to protect individual rights with respect to digital and online technologies. For example, the EFF has initiated a lawsuit against the US government to limit the degree to which the US surveils its citizens via secret NSA programs. If you are unfamiliar with the EFF and its goals, read about it on its website (<a href=\"https://www.eff.org\" target=\"_new\">https://www.eff.org</a>) or via other online sources (such as Wikipedia).</p>\r\n",
        "      <p>Brainstorm 10 <em>new</em> ways the EFF can raise funds and simultaneously increase awareness. Your ideas <em>must be different from their current methods</em>, which include donation pages, merchandise, web badges and banners, affiliate programs with Amazon and eBay, and donating things such as airmiles, cars, or stocks. See the full list of their current methods here: <a href=\"https://www.eff.org/helpout\" target=\"_new\">https://www.eff.org/helpout</a>. Be as specific as possible in your responses.</p>\n",
        "<p>The Electronic Frontier Foundation (EFF) is a nonprofit whose goal is to protect individual rights with respect to digital and online technologies. For example, the EFF has initiated a lawsuit against the US government to limit the degree to which the US surveils its citizens via secret NSA programs. If you are unfamiliar with the EFF and its goals, read about it on its website (<a href=\"https://www.eff.org\" target=\"_new\">https://www.eff.org</a>) or via other online sources (such as Wikipedia).</p>\r\n",
        "      <p>Brainstorm 10 <em>new</em> ways the EFF can raise funds and simultaneously increase awareness. Your ideas <em>must be different from their current methods</em>, which include donation pages, merchandise, web badges and banners, affiliate programs with Amazon and eBay, and donating things such as airmiles, cars, or stocks. See the full list of their current methods here: <a href=\"https://www.eff.org/helpout\" target=\"_new\">https://www.eff.org/helpout</a>. Be as specific as possible in your responses.</p>\n"
       ]
      }
     ],
     "prompt_number": 10
    },
    {
     "cell_type": "markdown",
     "metadata": {},
     "source": [
      "### Output formatted data\n",
      "\n",
      "We want data to look like this when outputted:\n",
      "\n",
      "Hashed worker ID | Question | Post Date | Screenshot| Number of Answers Requested | Answer number | Answer | Answer word count | Answer Start Time | Answer End Time | Coded Answer"
     ]
    },
    {
     "cell_type": "code",
     "collapsed": false,
     "input": [
      "output_file = '/processed_data/pilot12/answers.csv'\n",
      "\n",
      "half_file = '/processed_data/pilot12/answers_half.csv'"
     ],
     "language": "python",
     "metadata": {},
     "outputs": [],
     "prompt_number": 6
    },
    {
     "cell_type": "code",
     "collapsed": false,
     "input": [
      "import md5\n",
      "import random\n",
      "\n",
      "with open(output_file, 'w') as outfile:\n",
      "    with open(half_file, 'w') as halffile:\n",
      "        writer = csv.writer(outfile, delimiter=\"|\")\n",
      "        writer.writerow([\"hashed_worker_id\", \"question\", \"question_code\", \"post_date\", \"screenshot\", \"num_answers_requested\", \"answer_num\", \"answer\", \"answer_word_count\", \"answer_start_time\", \"answer_end_time\", \"answer_code\"])\n",
      "        w2 = csv.writer(halffile, delimiter=\"|\")\n",
      "        w2.writerow([\"hashed_worker_id\", \"question\", \"question_code\", \"post_date\", \"screenshot\", \"num_answers_requested\", \"answer_num\", \"answer\", \"answer_word_count\", \"answer_start_time\", \"answer_end_time\", \"answer_code\"])\n",
      "        \n",
      "        def truncate_question(q):\n",
      "            if \"EFF\" in q:\n",
      "                return \"charity\"\n",
      "            if \"smartphones\" in q:\n",
      "                return \"turk\"\n",
      "            if \"iPod\" in q:\n",
      "                return \"iPod\"\n",
      "            if \"social\" in q:\n",
      "                return \"forgot_name\"\n",
      "            return \"error\"\n",
      "        \n",
      "        for f in files:\n",
      "            with open(f, 'r') as csvfile:\n",
      "                reader = csv.reader(csvfile, delimiter=\",\")\n",
      "                rm = None\n",
      "                for i, row in enumerate(reader):\n",
      "                    if i == 0:\n",
      "                        continue\n",
      "                        \n",
      "                    half = random.random() > 0.5\n",
      "                        \n",
      "                    res = worker_results_from_row(row)\n",
      "                    \n",
      "                    if res is None:\n",
      "                        continue\n",
      "                        \n",
      "                    hashed_id, question, num, answers, start_time, end_time = res\n",
      "                    question_code = truncate_question(question)\n",
      "                    \n",
      "                    post_date = \"2013-07-08\"\n",
      "                    screenshot = \"%s_%d.png\" % (question_code, num)\n",
      "                        \n",
      "                    for i, answer in enumerate(answers):\n",
      "                        answer_word_count = len(answer.split()) if not answer is None else 0\n",
      "                        writer.writerow([hashed_id, question, question_code, post_date, screenshot, num, i, answer, answer_word_count, start_time[i], end_time[i], \"\"])\n",
      "                        if half:\n",
      "                            w2.writerow([hashed_id, question, question_code, post_date, screenshot, num, i, answer, answer_word_count, start_time[i], end_time[i], \"\"])"
     ],
     "language": "python",
     "metadata": {},
     "outputs": [],
     "prompt_number": 7
    },
    {
     "cell_type": "markdown",
     "metadata": {},
     "source": [
      "### Test output"
     ]
    },
    {
     "cell_type": "code",
     "collapsed": false,
     "input": [
      "csv_top(output_file)"
     ],
     "language": "python",
     "metadata": {},
     "outputs": [
      {
       "output_type": "stream",
       "stream": "stdout",
       "text": [
        "['hashed_worker_id|question|question_code|post_date|screenshot|num_answers_requested|answer_num|answer|answer_word_count|answer_start_time|answer_end_time|answer_code']\n",
        "['07aabd7691846c27789614ea0126f9c123e2589de5668633a1749f6c|<p>Imagine you are in a social setting and you have forgotten the name of somebody you know. Brainstorm 10 ways you could learn their name without directly asking them. Be as specific as possible in your descriptions.</p>|forgot_name|2013-07-08|forgot_name_10.png|10|0|Introduce someone else you know to them and let them say their own name|14|1374016056484|1374016100371|']\n",
        "['07aabd7691846c27789614ea0126f9c123e2589de5668633a1749f6c|<p>Imagine you are in a social setting and you have forgotten the name of somebody you know. Brainstorm 10 ways you could learn their name without directly asking them. Be as specific as possible in your descriptions.</p>|forgot_name|2013-07-08|forgot_name_10.png|10|1|Introduce yourself to someone else  while they are present and hope they also introduce themselves|15|1374016100374|1374016134317|']\n"
       ]
      }
     ],
     "prompt_number": 8
    },
    {
     "cell_type": "markdown",
     "metadata": {},
     "source": [
      "## Coding\n",
      "\n",
      "The data is coded such that two items are assigned the same label if and only if they refer to the exact same phenomena despite being worded differently. Thus, *mayonaise* and *miracle whip* are different, but *ketchup* and *catsup* are the same."
     ]
    },
    {
     "cell_type": "code",
     "collapsed": false,
     "input": [],
     "language": "python",
     "metadata": {},
     "outputs": []
    }
   ],
   "metadata": {}
  }
 ]
}