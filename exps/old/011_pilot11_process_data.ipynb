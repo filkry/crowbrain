{
 "metadata": {
  "name": "011_pilot11_process_data"
 },
 "nbformat": 3,
 "nbformat_minor": 0,
 "worksheets": [
  {
   "cells": [
    {
     "cell_type": "markdown",
     "metadata": {},
     "source": [
      "# HITs to CSV"
     ]
    },
    {
     "cell_type": "code",
     "collapsed": false,
     "input": [
      "import csv\n",
      "import glob\n",
      "import hashlib\n",
      "\n",
      "files = glob.glob(\"/raw_data/pilot11/*.csv\")\n",
      "print(files)\n"
     ],
     "language": "python",
     "metadata": {},
     "outputs": [
      {
       "output_type": "stream",
       "stream": "stdout",
       "text": [
        "['/raw_data/pilot11/HITResultsFor25L3FDEY5COYZ2N79GZCZFLCNR8T2S.csv']\n"
       ]
      }
     ],
     "prompt_number": 1
    },
    {
     "cell_type": "markdown",
     "metadata": {},
     "source": [
      "### Input Data\n",
      "\n",
      "Example of how our CSV files look:"
     ]
    },
    {
     "cell_type": "code",
     "collapsed": false,
     "input": [
      "def csv_top(file_name):\n",
      "    with open(file_name, 'r') as csvfile:\n",
      "        reader = csv.reader(csvfile, delimiter=\",\")\n",
      "        for (i, row) in enumerate(reader):\n",
      "            print row\n",
      "            if i > 1:\n",
      "                break"
     ],
     "language": "python",
     "metadata": {},
     "outputs": [],
     "prompt_number": 2
    },
    {
     "cell_type": "code",
     "collapsed": false,
     "input": [
      "csv_top(files[0])\n",
      "    "
     ],
     "language": "python",
     "metadata": {},
     "outputs": [
      {
       "output_type": "stream",
       "stream": "stdout",
       "text": [
        "['HitId', 'HitTitle', 'Annotation', 'AssignmentId', 'WorkerId', 'Status', 'AcceptTime', 'SubmitTime', 'Answer 1', 'Answer 2', 'Answer 3', 'Answer 4', 'Answer 5', 'Answer 6', 'Answer 7', 'Answer 8']\n",
        "['25L3FDEY5COYZ2N79GZCZFLCNR8T2S', 'Brainstorm 20 ideas for a classic brainstorming             problem.', 'brainstorm', '2V7Q0ONNVRH3JYVPOTIBF6NV34MVM1', 'A2FXVZN4PBYO2E', 'Approved', 'Mon Jul 15 13:57:26 PDT 2013', 'Mon Jul 15 14:01:41 PDT 2013', '1373921887582|1373921893853|1373921907942|1373921914350|1373921921269|1373921951726|1373921954910|1373921963605|1373921973878|1373921979653|1373921994998|1373921999310|1373922005126|1373922014414|1373922023038|1373922051671|1373922066261|1373922073590|1373922081997|1373922096392', '', '70', '', 'removed completed HITs|remove dead HITs|allow transfer of money to bank account|allow transfer of money to app store|invite friends feature|link to facebook|like to twitter|post HITs you want done|request certification|see certifications|alert when new HITs available|alert when payment made|alert when HIT declined|put money towards cell bill|see old HITs|filter HITs|pause hits|decline all hits by poster|sign up for mturk|auto accept hits.', '1373921877932|1373921887583|1373921893854|1373921907942|1373921914351|1373921921270|1373921951726|1373921954910|1373921963606|1373921973878|1373921979654|1373921994999|1373921999312|1373922005126|1373922014415|1373922023038|1373922051671|1373922066262|1373922073591|1373922081998', 'consentAccept', \"<p>Mechanical Turk currently lacks a dedicated mobile app for performing HITs on smartphones (iPhone, Androids, etc.) or tablets (e.g., the iPad).</p>\\r\\n      <p>Brainstorm 20 features for a mobile app to Mechanical Turk that would improve the worker's experience when performing HITs on mobile devices. Be as specific as possible in your responses.</p>\", '']\n",
        "['25L3FDEY5COYZ2N79GZCZFLCNR8T2S', 'Brainstorm 20 ideas for a classic brainstorming             problem.', 'brainstorm', '2DLVOK5UFJ53XOXUYC6YYS1CMCP96Q', 'A340XVPOIAW5SB', 'Approved', 'Mon Jul 15 13:58:20 PDT 2013', 'Mon Jul 15 14:02:44 PDT 2013', '1373921917779|1373921925987|1373921954062|1373921956123|1373921961688|1373921973768|1373921995983|1373922000352|1373922012649|1373922020807|1373922029382|1373922041630|1373922054623|1373922067075|1373922072725|1373922084656|1373922089585|1373922116693|1373922122038|1373922141750', '', '76', '', 'ask someone they know|introduce them to a friend|make everyone wear name tags|ask for their email|ask them to friend you on fb|ask them to find you on linkedin|ask them to |ask everyone they talk to what their name is|ask if they have a nickname|ask them how their parents chose their name|ask if they ever got teased about their name|ask what their middle name is|stand by them as they introduce theirselves to others|talk about facts about their own name|ask if they like their name|talk about a song that includes your name|talk about a celebrity with your name|look to see if there\\'s a sign up sheet|look to see if you ever received an email from this person|say \"i love your name\"', '1373921914641|1373921917782|1373921925989|1373921954065|1373921956126|1373921961690|1373921973771|1373921995986|1373922000357|1373922012652|1373922020810|1373922029385|1373922041633|1373922054627|1373922067078|1373922073813|1373922084659|1373922089588|1373922116696|1373922122042', 'consentAccept', '<p>Imagine you are in a social setting and you have forgotten the name of somebody you know. Brainstorm 20 ways you could learn their name without directly asking them. Be as specific as possible in your descriptions.</p>', '']\n"
       ]
      }
     ],
     "prompt_number": 3
    },
    {
     "cell_type": "markdown",
     "metadata": {},
     "source": [
      "### Check Data makes sense"
     ]
    },
    {
     "cell_type": "code",
     "collapsed": false,
     "input": [
      "import string\n",
      "\n",
      "def all_caps_numbers(st):\n",
      "    for c in st:\n",
      "        if not (c.isdigit() or c in string.uppercase):\n",
      "            return False\n",
      "    return True\n",
      "\n",
      "def is_question(st):\n",
      "    return 'EFF' in st or 'smartphones' in st or 'social' in st or 'iPod' in st\n",
      "\n",
      "def worker_results_from_row(row):\n",
      "    hit_title = None\n",
      "    hashed_id = None\n",
      "    question = None\n",
      "    answers = None # check\n",
      "    num_answers = None # check\n",
      "    end_time = None # check\n",
      "    start_time = None # check\n",
      "    \n",
      "    temp_times = None\n",
      "    \n",
      "    for i, field in enumerate(row):\n",
      "        if i == 1:\n",
      "            hit_title = field\n",
      "        elif '|' in field:\n",
      "            sp = field.split('|')\n",
      "            num_answers = len(sp)\n",
      "            \n",
      "            sp = [x for x in sp if len(x) > 0]\n",
      "            if len(sp) == 0:\n",
      "                # user didn't respond to anything, skip them\n",
      "                return None\n",
      "            elif sp[0].isdigit():\n",
      "                if temp_times is None:\n",
      "                    temp_times = [int(i) for i in sp]\n",
      "                else:\n",
      "                    sp = [int(i) for i in sp]\n",
      "                    if sp[0] > temp_times[0]:\n",
      "                        end_time = sp\n",
      "                        start_time = temp_times\n",
      "                    else:\n",
      "                        end_time = temp_times\n",
      "                        start_time = sp\n",
      "            else: #in this case, these are their answers\n",
      "                answers = sp\n",
      "        elif i == 4 and all_caps_numbers(field):\n",
      "            hashed_id = hashlib.sha224(field).hexdigest()\n",
      "        elif is_question(field):\n",
      "            question = field\n",
      "            \n",
      "    if 'as many ideas as you can' in hit_title:\n",
      "        num_answers = 0\n",
      "    \n",
      "    return hashed_id, question, num_answers, answers, start_time, end_time"
     ],
     "language": "python",
     "metadata": {},
     "outputs": [],
     "prompt_number": 17
    },
    {
     "cell_type": "code",
     "collapsed": false,
     "input": [
      "for f in files:\n",
      "    with open(f, 'r') as csvfile:\n",
      "        reader = csv.reader(csvfile, delimiter=\",\")\n",
      "        rm = None\n",
      "        for (i, row) in enumerate(reader):\n",
      "            if i == 0:\n",
      "                continue\n",
      "            \n",
      "            res = worker_results_from_row(row)\n",
      "            \n",
      "            if res is None:\n",
      "                continue\n",
      "            \n",
      "            hashed_id, question, num, answers, start_time, end_time = res\n",
      "            \n",
      "            for i, t in enumerate(start_time):\n",
      "                assert(start_time[i] is None or end_time[i] is None or end_time[i] - t > 0)\n",
      "            "
     ],
     "language": "python",
     "metadata": {},
     "outputs": [],
     "prompt_number": 18
    },
    {
     "cell_type": "markdown",
     "metadata": {},
     "source": [
      "### Output formatted data\n",
      "\n",
      "We want data to look like this when outputted:\n",
      "\n",
      "Hashed worker ID | Question | Post Date | Screenshot| Number of Answers Requested | Answer number | Answer | Answer word count | Answer Start Time | Answer End Time | Coded Answer"
     ]
    },
    {
     "cell_type": "code",
     "collapsed": false,
     "input": [
      "output_file = '/processed_data/pilot11/answers.csv'\n",
      "\n",
      "half_file = '/processed_data/pilot11/answers_half.csv'"
     ],
     "language": "python",
     "metadata": {},
     "outputs": [],
     "prompt_number": 19
    },
    {
     "cell_type": "code",
     "collapsed": false,
     "input": [
      "import md5\n",
      "import random\n",
      "\n",
      "with open(output_file, 'w') as outfile:\n",
      "    with open(half_file, 'w') as halffile:\n",
      "        writer = csv.writer(outfile, delimiter=\"|\")\n",
      "        writer.writerow([\"hashed_worker_id\", \"question\", \"question_code\", \"post_date\", \"screenshot\", \"num_answers_requested\", \"answer_num\", \"answer\", \"answer_word_count\", \"answer_start_time\", \"answer_end_time\", \"answer_code\"])\n",
      "        w2 = csv.writer(halffile, delimiter=\"|\")\n",
      "        w2.writerow([\"hashed_worker_id\", \"question\", \"question_code\", \"post_date\", \"screenshot\", \"num_answers_requested\", \"answer_num\", \"answer\", \"answer_word_count\", \"answer_start_time\", \"answer_end_time\", \"answer_code\"])\n",
      "        \n",
      "        def truncate_question(q):\n",
      "            if \"EFF\" in q:\n",
      "                return \"charity\"\n",
      "            if \"smartphones\" in q:\n",
      "                return \"turk\"\n",
      "            if \"iPod\" in q:\n",
      "                return \"iPod\"\n",
      "            if \"social\" in q:\n",
      "                return \"forgot_name\"\n",
      "            return \"error\"\n",
      "        \n",
      "        for f in files:\n",
      "            with open(f, 'r') as csvfile:\n",
      "                reader = csv.reader(csvfile, delimiter=\",\")\n",
      "                rm = None\n",
      "                for i, row in enumerate(reader):\n",
      "                    if i == 0:\n",
      "                        continue\n",
      "                        \n",
      "                    half = random.random() > 0.5\n",
      "                        \n",
      "                    res = worker_results_from_row(row)\n",
      "                    \n",
      "                    if res is None:\n",
      "                        continue\n",
      "                        \n",
      "                    hashed_id, question, num, answers, start_time, end_time = res\n",
      "                    question_code = truncate_question(question)\n",
      "                    \n",
      "                    post_date = \"2013-07-08\"\n",
      "                    screenshot = \"%s_%d.png\" % (question_code, num)\n",
      "                        \n",
      "                    for i, answer in enumerate(answers):\n",
      "                        answer_word_count = len(answer.split()) if not answer is None else 0\n",
      "                        \n",
      "                        # Stupid hack because we had some missing time data\n",
      "                        start = \"missing\" if i > len(start_time) - 1 else start_time[i]\n",
      "                        end = \"missing\" if i > len(end_time) - 1 else end_time[i]\n",
      "                            \n",
      "                        \n",
      "                        writer.writerow([hashed_id, question, question_code, post_date, screenshot, num, i, answer, answer_word_count, start, end, \"\"])\n",
      "                        if half:\n",
      "                            w2.writerow([hashed_id, question, question_code, post_date, screenshot, num, i, answer, answer_word_count, start, end, \"\"])"
     ],
     "language": "python",
     "metadata": {},
     "outputs": [
      {
       "ename": "IndexError",
       "evalue": "list index out of range",
       "output_type": "pyerr",
       "traceback": [
        "\u001b[1;31m---------------------------------------------------------------------------\u001b[0m\n\u001b[1;31mIndexError\u001b[0m                                Traceback (most recent call last)",
        "\u001b[1;32m<ipython-input-20-040be0fed1a9>\u001b[0m in \u001b[0;36m<module>\u001b[1;34m()\u001b[0m\n\u001b[0;32m     49\u001b[0m \u001b[1;33m\u001b[0m\u001b[0m\n\u001b[0;32m     50\u001b[0m \u001b[1;33m\u001b[0m\u001b[0m\n\u001b[1;32m---> 51\u001b[1;33m                         \u001b[0mwriter\u001b[0m\u001b[1;33m.\u001b[0m\u001b[0mwriterow\u001b[0m\u001b[1;33m(\u001b[0m\u001b[1;33m[\u001b[0m\u001b[0mhashed_id\u001b[0m\u001b[1;33m,\u001b[0m \u001b[0mquestion\u001b[0m\u001b[1;33m,\u001b[0m \u001b[0mquestion_code\u001b[0m\u001b[1;33m,\u001b[0m \u001b[0mpost_date\u001b[0m\u001b[1;33m,\u001b[0m \u001b[0mscreenshot\u001b[0m\u001b[1;33m,\u001b[0m \u001b[0mnum\u001b[0m\u001b[1;33m,\u001b[0m \u001b[0mi\u001b[0m\u001b[1;33m,\u001b[0m \u001b[0manswer\u001b[0m\u001b[1;33m,\u001b[0m \u001b[0manswer_word_count\u001b[0m\u001b[1;33m,\u001b[0m \u001b[0mstart_time\u001b[0m\u001b[1;33m[\u001b[0m\u001b[0mi\u001b[0m\u001b[1;33m]\u001b[0m\u001b[1;33m,\u001b[0m \u001b[0mend_time\u001b[0m\u001b[1;33m[\u001b[0m\u001b[0mi\u001b[0m\u001b[1;33m]\u001b[0m\u001b[1;33m,\u001b[0m \u001b[1;34m\"\"\u001b[0m\u001b[1;33m]\u001b[0m\u001b[1;33m)\u001b[0m\u001b[1;33m\u001b[0m\u001b[0m\n\u001b[0m\u001b[0;32m     52\u001b[0m                         \u001b[1;32mif\u001b[0m \u001b[0mhalf\u001b[0m\u001b[1;33m:\u001b[0m\u001b[1;33m\u001b[0m\u001b[0m\n\u001b[0;32m     53\u001b[0m                             \u001b[0mw2\u001b[0m\u001b[1;33m.\u001b[0m\u001b[0mwriterow\u001b[0m\u001b[1;33m(\u001b[0m\u001b[1;33m[\u001b[0m\u001b[0mhashed_id\u001b[0m\u001b[1;33m,\u001b[0m \u001b[0mquestion\u001b[0m\u001b[1;33m,\u001b[0m \u001b[0mquestion_code\u001b[0m\u001b[1;33m,\u001b[0m \u001b[0mpost_date\u001b[0m\u001b[1;33m,\u001b[0m \u001b[0mscreenshot\u001b[0m\u001b[1;33m,\u001b[0m \u001b[0mnum\u001b[0m\u001b[1;33m,\u001b[0m \u001b[0mi\u001b[0m\u001b[1;33m,\u001b[0m \u001b[0manswer\u001b[0m\u001b[1;33m,\u001b[0m \u001b[0manswer_word_count\u001b[0m\u001b[1;33m,\u001b[0m \u001b[0mstart_time\u001b[0m\u001b[1;33m[\u001b[0m\u001b[0mi\u001b[0m\u001b[1;33m]\u001b[0m\u001b[1;33m,\u001b[0m \u001b[0mend_time\u001b[0m\u001b[1;33m[\u001b[0m\u001b[0mi\u001b[0m\u001b[1;33m]\u001b[0m\u001b[1;33m,\u001b[0m \u001b[1;34m\"\"\u001b[0m\u001b[1;33m]\u001b[0m\u001b[1;33m)\u001b[0m\u001b[1;33m\u001b[0m\u001b[0m\n",
        "\u001b[1;31mIndexError\u001b[0m: list index out of range"
       ]
      }
     ],
     "prompt_number": 20
    },
    {
     "cell_type": "markdown",
     "metadata": {},
     "source": [
      "### Test output"
     ]
    },
    {
     "cell_type": "code",
     "collapsed": false,
     "input": [
      "csv_top(output_file)"
     ],
     "language": "python",
     "metadata": {},
     "outputs": [
      {
       "output_type": "stream",
       "stream": "stdout",
       "text": [
        "['hashed_worker_id|question|question_code|post_date|screenshot|num_answers_requested|answer_num|answer|answer_word_count|answer_start_time|answer_end_time|answer_code']\n",
        "['07aabd7691846c27789614ea0126f9c123e2589de5668633a1749f6c|<p>Imagine you are in a social setting and you have forgotten the name of somebody you know. Brainstorm 10 ways you could learn their name without directly asking them. Be as specific as possible in your descriptions.</p>|forgot_name|2013-07-08|forgot_name_10.png|10|0|Introduce someone else you know to them and let them say their own name|14|1374016056484|1374016100371|']\n",
        "['07aabd7691846c27789614ea0126f9c123e2589de5668633a1749f6c|<p>Imagine you are in a social setting and you have forgotten the name of somebody you know. Brainstorm 10 ways you could learn their name without directly asking them. Be as specific as possible in your descriptions.</p>|forgot_name|2013-07-08|forgot_name_10.png|10|1|Introduce yourself to someone else  while they are present and hope they also introduce themselves|15|1374016100374|1374016134317|']\n"
       ]
      }
     ],
     "prompt_number": 8
    },
    {
     "cell_type": "markdown",
     "metadata": {},
     "source": [
      "## Coding\n",
      "\n",
      "The data is coded such that two items are assigned the same label if and only if they refer to the exact same phenomena despite being worded differently. Thus, *mayonaise* and *miracle whip* are different, but *ketchup* and *catsup* are the same."
     ]
    },
    {
     "cell_type": "code",
     "collapsed": false,
     "input": [],
     "language": "python",
     "metadata": {},
     "outputs": []
    }
   ],
   "metadata": {}
  }
 ]
}