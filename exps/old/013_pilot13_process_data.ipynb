{
 "metadata": {
  "name": "013_pilot13_process_data"
 },
 "nbformat": 3,
 "nbformat_minor": 0,
 "worksheets": [
  {
   "cells": [
    {
     "cell_type": "markdown",
     "metadata": {},
     "source": [
      "# HITs to CSV"
     ]
    },
    {
     "cell_type": "code",
     "collapsed": false,
     "input": [
      "import csv\n",
      "import glob\n",
      "import hashlib\n",
      "\n",
      "files = glob.glob(\"/raw_data/pilot13/*.csv\")\n",
      "print(files)\n"
     ],
     "language": "python",
     "metadata": {},
     "outputs": [
      {
       "output_type": "stream",
       "stream": "stdout",
       "text": [
        "['/raw_data/pilot13/HITResultsFor2A3B3L0FBJ9KNSQUT45VM5RP9C7YM6.csv']\n"
       ]
      }
     ],
     "prompt_number": 1
    },
    {
     "cell_type": "markdown",
     "metadata": {},
     "source": [
      "### Input Data\n",
      "\n",
      "Example of how our CSV files look:"
     ]
    },
    {
     "cell_type": "code",
     "collapsed": false,
     "input": [
      "def csv_top(file_name):\n",
      "    with open(file_name, 'r') as csvfile:\n",
      "        reader = csv.reader(csvfile, delimiter=\",\")\n",
      "        for (i, row) in enumerate(reader):\n",
      "            print row\n",
      "            if i > 1:\n",
      "                break"
     ],
     "language": "python",
     "metadata": {},
     "outputs": [],
     "prompt_number": 2
    },
    {
     "cell_type": "code",
     "collapsed": false,
     "input": [
      "csv_top(files[0])\n",
      "    "
     ],
     "language": "python",
     "metadata": {},
     "outputs": [
      {
       "output_type": "stream",
       "stream": "stdout",
       "text": [
        "['HitId', 'HitTitle', 'Annotation', 'AssignmentId', 'WorkerId', 'Status', 'AcceptTime', 'SubmitTime', 'Answer 1', 'Answer 2', 'Answer 3', 'Answer 4', 'Answer 5', 'Answer 6', 'Answer 7', 'Answer 8']\n",
        "['2A3B3L0FBJ9KNSQUT45VM5RP9C7YM6', 'Brainstorm             as many ideas as you can for a classic brainstorming problem', 'brainstorm', '26QB49F9SSSJWI8ZY0JTDH5F2CTWSV', 'A61J0B264OIL0', 'Approved', 'Thu Jul 18 07:06:04 PDT 2013', 'Thu Jul 18 07:07:54 PDT 2013', '', 'Mobiles|Tourist Guide recordings|paperweights|Shopping list recorders||||||', '1374157443678|1374157459464|1374157472055|1374157490073||||||', 'consentAccept', '1374157459464|1374157472054|1374157490070|1374157530778||||||', '', \"<p>Many people have old iPods or MP3 players that they no longer use. Please brainstorm as many as possible uses for old iPods/MP3 players. Assume that the devices' batteries no longer work, though they can be powered via external power sources. Also be aware that devices may <em>not</em> have displays. Be as specific as possible in your descriptions.</p>\", '34', '']\n",
        "['2A3B3L0FBJ9KNSQUT45VM5RP9C7YM6', 'Brainstorm             as many ideas as you can for a classic brainstorming problem', 'brainstorm', '23YYTWX4H3H4OSBTJM7IEIJR5YV4ZN', 'A238ZNWBCND84B', 'Approved', 'Thu Jul 18 07:09:57 PDT 2013', 'Thu Jul 18 07:13:44 PDT 2013', \"<p>Mechanical Turk currently lacks a dedicated mobile app for performing HITs on smartphones (iPhone, Androids, etc.) or tablets (e.g., the iPad).</p>\\r\\n      <p>Brainstorm as many as possible features for a mobile app to Mechanical Turk that would improve the worker's experience when performing HITs on mobile devices. Be as specific as possible in your responses.</p>\", '', '1374156612344|1374156620542|1374156628773|1374156641533|1374156652741|1374156659740|1374156694739|1374156740948|1374156763418|1374156783977|', '1374156620541|1374156628772|1374156641531|1374156652739|1374156659739|1374156694738|1374156740946|1374156763417|1374156783973|1374156814482|', '28', \"Better copy/paste|Save favorite requesters|Pending earnings calculator.|List of hits we've done previously.|Better search|Better formatting so everything fits on one page|Different ways to list hits.|Integrate calendar to remind us when certain hits post. |Integrate w/ email for contacting requestors.|Push notifications to tell us when certain hits post.|\", 'consentAccept', '', '']\n"
       ]
      }
     ],
     "prompt_number": 3
    },
    {
     "cell_type": "markdown",
     "metadata": {},
     "source": [
      "### Check Data makes sense"
     ]
    },
    {
     "cell_type": "code",
     "collapsed": false,
     "input": [
      "import string\n",
      "\n",
      "def all_caps_numbers(st):\n",
      "    for c in st:\n",
      "        if not (c.isdigit() or c in string.uppercase):\n",
      "            return False\n",
      "    return True\n",
      "\n",
      "def is_question(st):\n",
      "    return 'EFF' in st or 'smartphones' in st or 'social' in st or 'iPod' in st\n",
      "\n",
      "def worker_results_from_row(row):\n",
      "    hit_title = None\n",
      "    hashed_id = None\n",
      "    question = None\n",
      "    answers = None # check\n",
      "    num_answers = None # check\n",
      "    end_time = None # check\n",
      "    start_time = None # check\n",
      "    \n",
      "    temp_times = None\n",
      "    \n",
      "    for i, field in enumerate(row):\n",
      "        if i == 1:\n",
      "            hit_title = field\n",
      "        elif '|' in field:\n",
      "            sp = field.split('|')\n",
      "            num_answers = len(sp)\n",
      "            \n",
      "            sp = [x for x in sp if len(x) > 0]\n",
      "            if len(sp) == 0:\n",
      "                # user didn't respond to anything, skip them\n",
      "                return None\n",
      "            elif sp[0].isdigit():\n",
      "                if temp_times is None:\n",
      "                    temp_times = [int(i) for i in sp]\n",
      "                else:\n",
      "                    sp = [int(i) for i in sp]\n",
      "                    if sp[0] > temp_times[0]:\n",
      "                        end_time = sp\n",
      "                        start_time = temp_times\n",
      "                    else:\n",
      "                        end_time = temp_times\n",
      "                        start_time = sp\n",
      "            else: #in this case, these are their answers\n",
      "                answers = sp\n",
      "        elif i == 4 and all_caps_numbers(field):\n",
      "            hashed_id = hashlib.sha224(field).hexdigest()\n",
      "        elif is_question(field):\n",
      "            question = field\n",
      "            \n",
      "    if 'as many ideas as you can' in hit_title:\n",
      "        num_answers = 0\n",
      "    \n",
      "    return hashed_id, question, num_answers, answers, start_time, end_time"
     ],
     "language": "python",
     "metadata": {},
     "outputs": [],
     "prompt_number": 4
    },
    {
     "cell_type": "code",
     "collapsed": false,
     "input": [
      "for f in files:\n",
      "    with open(f, 'r') as csvfile:\n",
      "        reader = csv.reader(csvfile, delimiter=\",\")\n",
      "        rm = None\n",
      "        for (i, row) in enumerate(reader):\n",
      "            if i == 0:\n",
      "                continue\n",
      "            \n",
      "            res = worker_results_from_row(row)\n",
      "            \n",
      "            if res is None:\n",
      "                continue\n",
      "            \n",
      "            hashed_id, question, num, answers, start_time, end_time = res\n",
      "            \n",
      "            for i, t in enumerate(start_time):\n",
      "                assert(start_time[i] is None or end_time[i] is None or end_time[i] - t > 0)\n",
      "            "
     ],
     "language": "python",
     "metadata": {},
     "outputs": [],
     "prompt_number": 5
    },
    {
     "cell_type": "markdown",
     "metadata": {},
     "source": [
      "### Output formatted data\n",
      "\n",
      "We want data to look like this when outputted:\n",
      "\n",
      "Hashed worker ID | Question | Post Date | Screenshot| Number of Answers Requested | Answer number | Answer | Answer word count | Answer Start Time | Answer End Time | Coded Answer"
     ]
    },
    {
     "cell_type": "code",
     "collapsed": false,
     "input": [
      "output_file = '/processed_data/pilot13/answers.csv'\n",
      "\n",
      "half_file = '/processed_data/pilot13/answers_half.csv'"
     ],
     "language": "python",
     "metadata": {},
     "outputs": [],
     "prompt_number": 6
    },
    {
     "cell_type": "code",
     "collapsed": false,
     "input": [
      "import md5\n",
      "import random\n",
      "\n",
      "with open(output_file, 'w') as outfile:\n",
      "    with open(half_file, 'w') as halffile:\n",
      "        writer = csv.writer(outfile, delimiter=\"|\")\n",
      "        writer.writerow([\"hashed_worker_id\", \"question\", \"question_code\", \"post_date\", \"screenshot\", \"num_answers_requested\", \"answer_num\", \"answer\", \"answer_word_count\", \"answer_start_time\", \"answer_end_time\", \"answer_code\"])\n",
      "        w2 = csv.writer(halffile, delimiter=\"|\")\n",
      "        w2.writerow([\"hashed_worker_id\", \"question\", \"question_code\", \"post_date\", \"screenshot\", \"num_answers_requested\", \"answer_num\", \"answer\", \"answer_word_count\", \"answer_start_time\", \"answer_end_time\", \"answer_code\"])\n",
      "        \n",
      "        def truncate_question(q):\n",
      "            if \"EFF\" in q:\n",
      "                return \"charity\"\n",
      "            if \"smartphones\" in q:\n",
      "                return \"turk\"\n",
      "            if \"iPod\" in q:\n",
      "                return \"iPod\"\n",
      "            if \"social\" in q:\n",
      "                return \"forgot_name\"\n",
      "            return \"error\"\n",
      "        \n",
      "        for f in files:\n",
      "            with open(f, 'r') as csvfile:\n",
      "                reader = csv.reader(csvfile, delimiter=\",\")\n",
      "                rm = None\n",
      "                for i, row in enumerate(reader):\n",
      "                    if i == 0:\n",
      "                        continue\n",
      "                        \n",
      "                    half = random.random() > 0.5\n",
      "                        \n",
      "                    res = worker_results_from_row(row)\n",
      "                    \n",
      "                    if res is None:\n",
      "                        continue\n",
      "                        \n",
      "                    hashed_id, question, num, answers, start_time, end_time = res\n",
      "                    question_code = truncate_question(question)\n",
      "                    \n",
      "                    post_date = \"2013-07-08\"\n",
      "                    screenshot = \"%s_%d.png\" % (question_code, num)\n",
      "                        \n",
      "                    for i, answer in enumerate(answers):\n",
      "                        answer_word_count = len(answer.split()) if not answer is None else 0\n",
      "                        writer.writerow([hashed_id, question, question_code, post_date, screenshot, num, i, answer, answer_word_count, start_time[i], end_time[i], \"\"])\n",
      "                        if half:\n",
      "                            w2.writerow([hashed_id, question, question_code, post_date, screenshot, num, i, answer, answer_word_count, start_time[i], end_time[i], \"\"])"
     ],
     "language": "python",
     "metadata": {},
     "outputs": [],
     "prompt_number": 7
    },
    {
     "cell_type": "markdown",
     "metadata": {},
     "source": [
      "### Test output"
     ]
    },
    {
     "cell_type": "code",
     "collapsed": false,
     "input": [
      "csv_top(output_file)"
     ],
     "language": "python",
     "metadata": {},
     "outputs": [
      {
       "output_type": "stream",
       "stream": "stdout",
       "text": [
        "['hashed_worker_id|question|question_code|post_date|screenshot|num_answers_requested|answer_num|answer|answer_word_count|answer_start_time|answer_end_time|answer_code']\n",
        "[\"54f7653cd7b40f78cbf0d542d614785ff07743c189ac53a2f2a196aa|<p>Many people have old iPods or MP3 players that they no longer use. Please brainstorm as many as possible uses for old iPods/MP3 players. Assume that the devices' batteries no longer work\", ' though they can be powered via external power sources. Also be aware that devices may <em>not</em> have displays. Be as specific as possible in your descriptions.</p>|iPod|2013-07-08|iPod_0.png|0|0|Mobiles|1|1374157443678|1374157459464|']\n",
        "[\"54f7653cd7b40f78cbf0d542d614785ff07743c189ac53a2f2a196aa|<p>Many people have old iPods or MP3 players that they no longer use. Please brainstorm as many as possible uses for old iPods/MP3 players. Assume that the devices' batteries no longer work\", ' though they can be powered via external power sources. Also be aware that devices may <em>not</em> have displays. Be as specific as possible in your descriptions.</p>|iPod|2013-07-08|iPod_0.png|0|1|Tourist Guide recordings|3|1374157459464|1374157472054|']\n"
       ]
      }
     ],
     "prompt_number": 8
    },
    {
     "cell_type": "markdown",
     "metadata": {},
     "source": [
      "## Coding\n",
      "\n",
      "The data is coded such that two items are assigned the same label if and only if they refer to the exact same phenomena despite being worded differently. Thus, *mayonaise* and *miracle whip* are different, but *ketchup* and *catsup* are the same."
     ]
    },
    {
     "cell_type": "code",
     "collapsed": false,
     "input": [],
     "language": "python",
     "metadata": {},
     "outputs": []
    }
   ],
   "metadata": {}
  }
 ]
}