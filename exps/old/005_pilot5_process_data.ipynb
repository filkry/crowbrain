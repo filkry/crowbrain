{
 "metadata": {
  "name": "005_pilot5_process_data"
 },
 "nbformat": 3,
 "nbformat_minor": 0,
 "worksheets": [
  {
   "cells": [
    {
     "cell_type": "markdown",
     "metadata": {},
     "source": [
      "# HITs to CSV"
     ]
    },
    {
     "cell_type": "code",
     "collapsed": false,
     "input": [
      "import csv\n",
      "import glob\n",
      "import hashlib\n",
      "\n",
      "files = glob.glob(\"/raw_data/pilot5/*.csv\")\n",
      "print(files)\n"
     ],
     "language": "python",
     "metadata": {},
     "outputs": [
      {
       "output_type": "stream",
       "stream": "stdout",
       "text": [
        "['/raw_data/pilot5/20.csv', '/raw_data/pilot5/5.csv', '/raw_data/pilot5/50.csv', '/raw_data/pilot5/10.csv']\n"
       ]
      }
     ],
     "prompt_number": 1
    },
    {
     "cell_type": "markdown",
     "metadata": {},
     "source": [
      "### Input Data\n",
      "\n",
      "Example of how our CSV files look:"
     ]
    },
    {
     "cell_type": "code",
     "collapsed": false,
     "input": [
      "def csv_top(file_name):\n",
      "    with open(file_name, 'r') as csvfile:\n",
      "        reader = csv.reader(csvfile, delimiter=\",\")\n",
      "        for (i, row) in enumerate(reader):\n",
      "            print row\n",
      "            if i > 1:\n",
      "                break"
     ],
     "language": "python",
     "metadata": {},
     "outputs": [],
     "prompt_number": 2
    },
    {
     "cell_type": "code",
     "collapsed": false,
     "input": [
      "csv_top(files[0])\n",
      "    "
     ],
     "language": "python",
     "metadata": {},
     "outputs": [
      {
       "output_type": "stream",
       "stream": "stdout",
       "text": [
        "['HitId', 'HitTitle', 'Annotation', 'AssignmentId', 'WorkerId', 'Status', 'AcceptTime', 'SubmitTime', 'Comments', 'End Time', 'Job ID', 'Answers', 'Start Time', 'Consent', 'Question']\n",
        "['2VG5COW0LGR12PJ7PY363NUZBG97YK', 'Brainstorm 20 ideas for a classic brainstorming problem.', 'brainstorm', '2Z5OBDDP8PJYJBKTIADBBQ39Q734FQ', 'A38HC30F1GPL3K', 'Approved', 'Thu Jun 06 17:11:28 PDT 2013', 'Thu Jun 06 17:18:26 PDT 2013', '', '1370563922084|1370563944462|1370563965143|1370563982914|1370564003643|1370564016746|1370564050650|1370564072479|1370564094825|1370564113980|1370564131865|1370564141667|1370564156419|1370564172851|1370564192198|1370564207304|1370564230476|1370564260366|1370564280627|1370564297242', '183', \"I would be able to hold things more securly.|I would be able to carry more items in my hands (having an extra finger to secure more items)|I wouldn't be able to wear gloves (too many fingers).|It would take time to get use to an extra thumb so I could see a lot of fumbling.|I could hitchhike much more effectively.|Ebert would be able to give 4 thumbs up!|I could use them to do more intricate detail work on small and large projects.|If I had an itch I would have an extra finger to scratch with.|I would be able to give a High Six (much better than a high five)|I could text message faster with two extra fingers|It might be more difficult to text message with an added finger in the way.|I would have to learn how to type all over again. |There would be room for more keys on a keyboard with more fingers|I could possibly type faster with extra thumbs.|Playing some musical instruments would be easier (example the sax)|I would be able to play the piano eaiser with extra fingers.|I would have to learn how to do all the normal everyday things differently which could take time.|I could swing in the trees like a monkey with the added thumb to hold me up.|I could hang upside down on a branch like a sloth.|I could tickle my kids more efficiently.\", '1370563912687|1370563922085|1370563944463|1370563965144|1370563982916|1370564003644|1370564016747|1370564050650|1370564072480|1370564094825|1370564113981|1370564131866|1370564141667|1370564156419|1370564172852|1370564192199|1370564207305|1370564230478|1370564260367|1370564280630', 'consentAccept', 'Imagine you woke up with an extra opposable thumb on each hand. List benefits and drawbacks.']\n",
        "['2VG5COW0LGR12PJ7PY363NUZBG97YK', 'Brainstorm 20 ideas for a classic brainstorming problem.', 'brainstorm', '25IVJ8EBDPGHKN2SZ9Q9ZNDW9VN0F6', 'AU4I47UULSWWI', 'Approved', 'Thu Jun 06 17:00:14 PDT 2013', 'Thu Jun 06 17:23:15 PDT 2013', '', '1370563252614|1370563259727|1370563283816|1370563307193|1370563365533|1370563374516|1370563418853|1370563429625|1370563458030|1370563486146|1370563491678|1370563502797|1370563534073|1370563576822|1370563585003|1370563632916|1370563650304|1370563739872|1370563742504|1370563755911', '200', 'Wash a car|sweeping|Wig|Cleaning the wall|Dusting a ceiling fan|Removing a bug from the house|Poking people|Playing with the cat / dog|Stuffing|Weapon|Door lock|Couch tent support|Reaching behind things|Use as a microphone|guitar|Painting|dancing partner|Slippers|Hat|window cleaning', '1370563242599|1370563252614|1370563259727|1370563283817|1370563307193|1370563365533|1370563374516|1370563418853|1370563429625|1370563458030|1370563486146|1370563491678|1370563502797|1370563534073|1370563576822|1370563585003|1370563636528|1370563650305|1370563739872|1370563742504', 'consentAccept', 'List unusual uses for a mop.']\n"
       ]
      }
     ],
     "prompt_number": 3
    },
    {
     "cell_type": "markdown",
     "metadata": {},
     "source": [
      "### Check Data makes sense"
     ]
    },
    {
     "cell_type": "code",
     "collapsed": false,
     "input": [
      "def worker_results_from_row(row, rm):\n",
      "    hashed_id = hashlib.sha224(row[rm['WorkerId']]).hexdigest()\n",
      "    question = row[rm['Question']]\n",
      "    answers = [(None if t=='' else t) for t in row[rm['Answers']].split('|')]\n",
      "    num_answers = len(answers)\n",
      "    end_time = [(None if t == '' else int(t)) for t in row[rm['End Time']].split('|')]\n",
      "    start_time = [(None if t == '' else int(t)) for t in row[rm['Start Time']].split('|')]\n",
      "    \n",
      "    return hashed_id, question, num_answers, answers, start_time, end_time\n",
      "\n",
      "def row_mapping_from_row(row):\n",
      "    rm = {}\n",
      "    for i, field in enumerate(row):\n",
      "        rm[field] = i\n",
      "        \n",
      "    return rm"
     ],
     "language": "python",
     "metadata": {},
     "outputs": [],
     "prompt_number": 4
    },
    {
     "cell_type": "code",
     "collapsed": false,
     "input": [
      "for f in files:\n",
      "    with open(f, 'r') as csvfile:\n",
      "        reader = csv.reader(csvfile, delimiter=\",\")\n",
      "        rm = None\n",
      "        for (i, row) in enumerate(reader):\n",
      "            if i == 0:\n",
      "                rm = row_mapping_from_row(row)\n",
      "                continue\n",
      "            \n",
      "            hashed_id, question, num, answers, start_time, end_time = worker_results_from_row(row, rm)\n",
      "            \n",
      "            assert(num == 5 or num == 10 or num == 20 or num == 50)\n",
      "            \n",
      "            for i, t in enumerate(start_time):\n",
      "                assert(start_time[i] is None or end_time[i] is None or end_time[i] - t > 0)\n",
      "            "
     ],
     "language": "python",
     "metadata": {},
     "outputs": [],
     "prompt_number": 5
    },
    {
     "cell_type": "markdown",
     "metadata": {},
     "source": [
      "### Output formatted data\n",
      "\n",
      "We want data to look like this when outputted:\n",
      "\n",
      "Hashed worker ID | Question | Post Date | Screenshot| Number of Answers Requested | Answer number | Answer | Answer word count | Answer Start Time | Answer End Time | Coded Answer"
     ]
    },
    {
     "cell_type": "code",
     "collapsed": false,
     "input": [
      "output_file = '/processed_data/pilot5/answers.csv'"
     ],
     "language": "python",
     "metadata": {},
     "outputs": [],
     "prompt_number": 11
    },
    {
     "cell_type": "code",
     "collapsed": false,
     "input": [
      "import md5\n",
      "\n",
      "with open(output_file, 'w') as outfile:\n",
      "    writer = csv.writer(outfile, delimiter=\",\")\n",
      "    writer.writerow([\"hashed_worker_id\", \"question\", \"question_code\", \"post_date\", \"screenshot\", \"num_answers_requested\", \"answer_num\", \"answer\", \"answer_word_count\", \"answer_start_time\", \"answer_end_time\", \"answer_code\"])\n",
      "    \n",
      "    def truncate_question(q):\n",
      "        if \"thumb\" in q:\n",
      "            return \"thumb\"\n",
      "        if \"mop\" in q:\n",
      "            return \"mop\"\n",
      "        if \"weight\" in q:\n",
      "            return \"weight\"\n",
      "        return \"error\"\n",
      "    \n",
      "    for f in files:\n",
      "        with open(f, 'r') as csvfile:\n",
      "            reader = csv.reader(csvfile, delimiter=\",\")\n",
      "            rm = None\n",
      "            for i, row in enumerate(reader):\n",
      "                if i == 0:\n",
      "                    rm = row_mapping_from_row(row)\n",
      "                    continue\n",
      "                    \n",
      "                hashed_id, question, num, answers, start_time, end_time = worker_results_from_row(row, rm)\n",
      "                question_code = truncate_question(question)\n",
      "                \n",
      "                post_date = \"2013-06-06\"\n",
      "                screenshot = \"%s_%d.png\" % (question_code, num)\n",
      "                    \n",
      "                for i, answer in enumerate(answers):\n",
      "                    answer_word_count = len(answer.split()) if not answer is None else 0\n",
      "                    writer.writerow([hashed_id, question, question_code, post_date, screenshot, num, i, answer, answer_word_count, start_time[i], end_time[i], \"\"])"
     ],
     "language": "python",
     "metadata": {},
     "outputs": [],
     "prompt_number": 12
    },
    {
     "cell_type": "markdown",
     "metadata": {},
     "source": [
      "### Test output"
     ]
    },
    {
     "cell_type": "code",
     "collapsed": false,
     "input": [
      "csv_top(output_file)"
     ],
     "language": "python",
     "metadata": {},
     "outputs": [
      {
       "output_type": "stream",
       "stream": "stdout",
       "text": [
        "['hashed_worker_id', 'question', 'question_code', 'post_date', 'screenshot', 'num_answers_requested', 'answer_num', 'answer', 'answer_word_count', 'answer_start_time', 'answer_end_time', 'answer_code']\n",
        "['ad77998dec8f66f653184185e0953c8e5273de39c99170d30abddb49', 'Imagine you woke up with an extra opposable thumb on each hand. List benefits and drawbacks.', 'thumb', '2013-06-06', 'thumb_50.png', '50', '0', 'Unique', '1', '1370563275414', '1370563288800', '']\n",
        "['ad77998dec8f66f653184185e0953c8e5273de39c99170d30abddb49', 'Imagine you woke up with an extra opposable thumb on each hand. List benefits and drawbacks.', 'thumb', '2013-06-06', 'thumb_50.png', '50', '1', 'Different from everyone else', '4', '1370563288800', '1370563296007', '']\n"
       ]
      }
     ],
     "prompt_number": 13
    },
    {
     "cell_type": "markdown",
     "metadata": {},
     "source": [
      "## Output some random data "
     ]
    },
    {
     "cell_type": "code",
     "collapsed": false,
     "input": [
      "import md5\n",
      "import random\n",
      "\n",
      "output_file = '/processed_data/pilot5/answers_random_subset.csv'\n",
      "with open(output_file, 'w') as outfile:\n",
      "    writer = csv.writer(outfile, delimiter=\",\")\n",
      "    writer.writerow([\"hashed_worker_id\", \"question\", \"question_code\", \"post_date\", \"screenshot\", \"num_answers_requested\", \"answer_num\", \"answer\", \"answer_word_count\", \"answer_start_time\", \"answer_end_time\", \"answer_code\"])\n",
      "    \n",
      "    def truncate_question(q):\n",
      "        if \"thumb\" in q:\n",
      "            return \"thumb\"\n",
      "        if \"mop\" in q:\n",
      "            return \"mop\"\n",
      "        if \"weight\" in q:\n",
      "            return \"weight\"\n",
      "        return \"error\"\n",
      "    \n",
      "    for f in files:\n",
      "        with open(f, 'r') as csvfile:\n",
      "            reader = csv.reader(csvfile, delimiter=\",\")\n",
      "            rm = None\n",
      "            for i, row in enumerate(reader):\n",
      "                if i == 0:\n",
      "                    rm = row_mapping_from_row(row)\n",
      "                    continue\n",
      "                    \n",
      "                if random.randint(1,5) != 1:\n",
      "                    continue\n",
      "                    \n",
      "                hashed_id, question, num, answers, start_time, end_time = worker_results_from_row(row, rm)\n",
      "                question_code = truncate_question(question)\n",
      "                \n",
      "                post_date = \"2013-06-06\"\n",
      "                screenshot = \"%s_%d.png\" % (question_code, num)\n",
      "                    \n",
      "                for i, answer in enumerate(answers):\n",
      "                    answer_word_count = len(answer.split()) if not answer is None else 0\n",
      "                    writer.writerow([hashed_id, question, question_code, post_date, screenshot, num, i, answer, answer_word_count, start_time[i], end_time[i], \"\"])"
     ],
     "language": "python",
     "metadata": {},
     "outputs": [],
     "prompt_number": 6
    },
    {
     "cell_type": "markdown",
     "metadata": {},
     "source": [
      "## Coding\n",
      "\n",
      "The data is coded such that two items are assigned the same label if and only if they refer to the exact same phenomena despite being worded differently. Thus, *mayonaise* and *miracle whip* are different, but *ketchup* and *catsup* are the same."
     ]
    },
    {
     "cell_type": "code",
     "collapsed": false,
     "input": [],
     "language": "python",
     "metadata": {},
     "outputs": []
    }
   ],
   "metadata": {}
  }
 ]
}