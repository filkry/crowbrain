{
 "metadata": {
  "name": "009_pilot9_process_data"
 },
 "nbformat": 3,
 "nbformat_minor": 0,
 "worksheets": [
  {
   "cells": [
    {
     "cell_type": "markdown",
     "metadata": {},
     "source": [
      "# HITs to CSV"
     ]
    },
    {
     "cell_type": "code",
     "collapsed": false,
     "input": [
      "import csv\n",
      "import glob\n",
      "import hashlib\n",
      "\n",
      "files = glob.glob(\"/raw_data/pilot9/*.csv\")\n",
      "print(files)\n"
     ],
     "language": "python",
     "metadata": {},
     "outputs": [
      {
       "output_type": "stream",
       "stream": "stdout",
       "text": [
        "['/raw_data/pilot9/HITResultsFor2XBP9RA7S5WO0NGE21678JMH2PYTY6.csv']\n"
       ]
      }
     ],
     "prompt_number": 1
    },
    {
     "cell_type": "markdown",
     "metadata": {},
     "source": [
      "### Input Data\n",
      "\n",
      "Example of how our CSV files look:"
     ]
    },
    {
     "cell_type": "code",
     "collapsed": false,
     "input": [
      "def csv_top(file_name):\n",
      "    with open(file_name, 'r') as csvfile:\n",
      "        reader = csv.reader(csvfile, delimiter=\",\")\n",
      "        for (i, row) in enumerate(reader):\n",
      "            print row\n",
      "            if i > 1:\n",
      "                break"
     ],
     "language": "python",
     "metadata": {},
     "outputs": [],
     "prompt_number": 4
    },
    {
     "cell_type": "code",
     "collapsed": false,
     "input": [
      "csv_top(files[0])\n",
      "    "
     ],
     "language": "python",
     "metadata": {},
     "outputs": [
      {
       "output_type": "stream",
       "stream": "stdout",
       "text": [
        "['HitId', 'HitTitle', 'Annotation', 'AssignmentId', 'WorkerId', 'Status', 'AcceptTime', 'SubmitTime', 'Answer 1', 'Answer 2', 'Answer 3', 'Answer 4', 'Answer 5', 'Answer 6', 'Answer 7']\n",
        "['2XBP9RA7S5WO0NGE21678JMH2PYTY6', 'Brainstorm 20 ideas for a classic brainstorming             problem.', 'brainstorm', '2WU5L8I9NZW8GV6MYRVQ47T80JKUKQ', 'A3J57G3L42PDR4', 'Approved', 'Thu Jul 11 20:28:14 PDT 2013', 'Thu Jul 11 20:40:46 PDT 2013', '', '1373599728518|1373599774672|1373599805364|1373599868011|1373599900015|1373599968188|1373600008112|1373600022131|1373600060522|1373600115511|1373600167727|1373600202579|1373600240839|1373600269904|1373600293036|1373600324354|1373600337462|1373600353816|1373600397479|1373600411516', '338', \"rating requesters|a way to contact requesters without them having a hit currently up or having done one in the past (ie for qualifications, questions about tasks, etc.)|a way to set a daily, weekly, monthly goal for money earned and number of hits|something that redirects things that automatically open in new tabs (since many phones can't support multiple tabs)|a feature to export timers of accepted hits to a widget so you can monitor when hits are going to expire|remembering demographic data for surveys and such|specific search engine for hits optimized for mobile turking|a way to set up alerts for certain requesters|being able to spend your money in the google play store or app store without having to transfer it to your bank first|alerts for bonuses or communication from requesters without having to go to your email|be able to accept hits on the computer, work on them on your phone and submit them through the computer or any combination of transferring them therein|a way for requesters to test and preview hits on mobile devices to make sure they work properly|swype compatibility|no ads|no captchas (or maybe ones with real words that swype could pick up)|alerts for when specific hits are approved or rejected|alerts for when qualifications are approved or rejected|export hits to facebook or twitter|optimize layout for mobile devices|no excessive zooming or scrolling\", '1373599713652|1373599728519|1373599774673|1373599805365|1373599868012|1373599900015|1373599968191|1373600008113|1373600022132|1373600060522|1373600115512|1373600167727|1373600202580|1373600240840|1373600269905|1373600293036|1373600324355|1373600337463|1373600353816|1373600397480', 'consentAccept', \"Mechanical Turk currently lacks a dedicated mobile app for performing\\r\\n      HITs on smartphones (iPhone, Androids, etc.) or tablets (e.g., the iPad). Brainstorm 20\\r\\n      features for a mobile Mechanical Turk app that would improve the worker's experience\\r\\n      when performing HITs on mobile devices. Be as specific as possible in your responses.\", '']\n",
        "['2XBP9RA7S5WO0NGE21678JMH2PYTY6', 'Brainstorm 20 ideas for a classic brainstorming             problem.', 'brainstorm', '2VCH1Q6SVQ8J7PT64JC5WBVCCBWM3G', 'A1HFY6ERC1QNV5', 'Approved', 'Thu Jul 11 20:35:31 PDT 2013', 'Thu Jul 11 20:41:27 PDT 2013', '', '1373600167657|1373600179551|1373600193200|1373600205418|1373600275498|1373600291853|1373600292090|1373600298834|1373600308034|1373600320816|1373600327430|1373600340217|1373600349000|1373600360844|1373600377484|1373600391504|1373600407225|1373600415342|1373600442077|1373600475684', '336', 'Have a dashboard home page.|Have HITS that are location specific.|Have HITS that involve \"Check-ins\"|Review mobile sites.|Recording sound for HITs.|Take pictures with the camera.|Take videos with the camera.|Engage in live chat sessions. |Geo tag locations to prove you were there.|Scan objects in a store to compare prices.|Download and play games or apps.|Use the phone to instantly call automated line.|Watch videos and transcribe.|Send text messages for approval.|Send text alerts of new HITs that closely match my interests.|Send notification when more money hits my account.|Let me transfer funds from my Amazon Account to my bank account.|Update my stats in real time.|Aslert me when HITs that match a criteria I choose become available.|Visit sites for reviews in person.', '1373600144696|1373600167663|1373600179556|1373600193205|1373600205424|1373600272786|1373600281821|1373600288743|1373600298838|1373600308040|1373600320822|1373600327435|1373600340222|1373600349006|1373600360850|1373600377490|1373600391510|1373600407232|1373600415348|1373600442083', 'consentAccept', \"Mechanical Turk currently lacks a dedicated mobile app for performing\\r\\n      HITs on smartphones (iPhone, Androids, etc.) or tablets (e.g., the iPad). Brainstorm 20\\r\\n      features for a mobile Mechanical Turk app that would improve the worker's experience\\r\\n      when performing HITs on mobile devices. Be as specific as possible in your responses.\", '']\n"
       ]
      }
     ],
     "prompt_number": 6
    },
    {
     "cell_type": "markdown",
     "metadata": {},
     "source": [
      "### Check Data makes sense"
     ]
    },
    {
     "cell_type": "code",
     "collapsed": false,
     "input": [
      "import string\n",
      "\n",
      "def all_caps_numbers(st):\n",
      "    for c in st:\n",
      "        if not (c.isdigit() or c in string.uppercase):\n",
      "            return False\n",
      "    return True\n",
      "\n",
      "def is_question(st):\n",
      "    return 'EFF' in st or 'smartphones' in st\n",
      "\n",
      "def worker_results_from_row(row):\n",
      "    hashed_id = None\n",
      "    question = None\n",
      "    answers = None # check\n",
      "    num_answers = None # check\n",
      "    end_time = None # check\n",
      "    start_time = None # check\n",
      "    \n",
      "    temp_times = None\n",
      "    \n",
      "    for i, field in enumerate(row):\n",
      "        if '|' in field:\n",
      "            sp = field.split('|')\n",
      "            num_answers = len(sp)\n",
      "            \n",
      "            sp = [x for x in sp if len(x) > 0]\n",
      "            if len(sp) == 0:\n",
      "                # user didn't respond to anything, skip them\n",
      "                return None\n",
      "            elif sp[0].isdigit():\n",
      "                if temp_times is None:\n",
      "                    temp_times = [int(i) for i in sp]\n",
      "                else:\n",
      "                    sp = [int(i) for i in sp]\n",
      "                    if sp[0] > temp_times[0]:\n",
      "                        end_time = sp\n",
      "                        start_time = temp_times\n",
      "                    else:\n",
      "                        end_time = temp_times\n",
      "                        start_time = sp\n",
      "            else: #in this case, these are their answers\n",
      "                answers = sp\n",
      "        elif i == 4 and all_caps_numbers(field):\n",
      "            hashed_id = hashlib.sha224(field).hexdigest()\n",
      "        elif is_question(field):\n",
      "            question = field\n",
      "            \n",
      "    if 'as many as possible' in question:\n",
      "        num_answers = 0\n",
      "    \n",
      "    return hashed_id, question, num_answers, answers, start_time, end_time"
     ],
     "language": "python",
     "metadata": {},
     "outputs": [],
     "prompt_number": 7
    },
    {
     "cell_type": "code",
     "collapsed": false,
     "input": [
      "for f in files:\n",
      "    with open(f, 'r') as csvfile:\n",
      "        reader = csv.reader(csvfile, delimiter=\",\")\n",
      "        rm = None\n",
      "        for (i, row) in enumerate(reader):\n",
      "            if i == 0:\n",
      "                continue\n",
      "            \n",
      "            res = worker_results_from_row(row)\n",
      "            \n",
      "            if res is None:\n",
      "                continue\n",
      "            \n",
      "            hashed_id, question, num, answers, start_time, end_time = res\n",
      "            \n",
      "            for i, t in enumerate(start_time):\n",
      "                assert(start_time[i] is None or end_time[i] is None or end_time[i] - t > 0)\n",
      "            "
     ],
     "language": "python",
     "metadata": {},
     "outputs": [],
     "prompt_number": 9
    },
    {
     "cell_type": "markdown",
     "metadata": {},
     "source": [
      "### Output formatted data\n",
      "\n",
      "We want data to look like this when outputted:\n",
      "\n",
      "Hashed worker ID | Question | Post Date | Screenshot| Number of Answers Requested | Answer number | Answer | Answer word count | Answer Start Time | Answer End Time | Coded Answer"
     ]
    },
    {
     "cell_type": "code",
     "collapsed": false,
     "input": [
      "output_file = '/processed_data/pilot9/answers.csv'\n",
      "\n",
      "half_file = '/processed_data/pilot9/answers_half.csv'"
     ],
     "language": "python",
     "metadata": {},
     "outputs": [],
     "prompt_number": 10
    },
    {
     "cell_type": "code",
     "collapsed": false,
     "input": [
      "import md5\n",
      "import random\n",
      "\n",
      "with open(output_file, 'w') as outfile:\n",
      "    with open(half_file, 'w') as halffile:\n",
      "        writer = csv.writer(outfile, delimiter=\"|\")\n",
      "        writer.writerow([\"hashed_worker_id\", \"question\", \"question_code\", \"post_date\", \"screenshot\", \"num_answers_requested\", \"answer_num\", \"answer\", \"answer_word_count\", \"answer_start_time\", \"answer_end_time\", \"answer_code\"])\n",
      "        w2 = csv.writer(halffile, delimiter=\"|\")\n",
      "        w2.writerow([\"hashed_worker_id\", \"question\", \"question_code\", \"post_date\", \"screenshot\", \"num_answers_requested\", \"answer_num\", \"answer\", \"answer_word_count\", \"answer_start_time\", \"answer_end_time\", \"answer_code\"])\n",
      "        \n",
      "        def truncate_question(q):\n",
      "            if \"EFF\" in q:\n",
      "                return \"charity\"\n",
      "            if \"smartphones\" in q:\n",
      "                return \"turk\"\n",
      "            return \"error\"\n",
      "        \n",
      "        for f in files:\n",
      "            with open(f, 'r') as csvfile:\n",
      "                reader = csv.reader(csvfile, delimiter=\",\")\n",
      "                rm = None\n",
      "                for i, row in enumerate(reader):\n",
      "                    if i == 0:\n",
      "                        continue\n",
      "                        \n",
      "                    half = random.random() > 0.5\n",
      "                        \n",
      "                    res = worker_results_from_row(row)\n",
      "                    \n",
      "                    if res is None:\n",
      "                        continue\n",
      "                        \n",
      "                    hashed_id, question, num, answers, start_time, end_time = res\n",
      "                    question_code = truncate_question(question)\n",
      "                    \n",
      "                    post_date = \"2013-07-08\"\n",
      "                    screenshot = \"%s_%d.png\" % (question_code, num)\n",
      "                        \n",
      "                    for i, answer in enumerate(answers):\n",
      "                        answer_word_count = len(answer.split()) if not answer is None else 0\n",
      "                        writer.writerow([hashed_id, question, question_code, post_date, screenshot, num, i, answer, answer_word_count, start_time[i], end_time[i], \"\"])\n",
      "                        if half:\n",
      "                            w2.writerow([hashed_id, question, question_code, post_date, screenshot, num, i, answer, answer_word_count, start_time[i], end_time[i], \"\"])"
     ],
     "language": "python",
     "metadata": {},
     "outputs": [],
     "prompt_number": 13
    },
    {
     "cell_type": "markdown",
     "metadata": {},
     "source": [
      "### Test output"
     ]
    },
    {
     "cell_type": "code",
     "collapsed": false,
     "input": [
      "csv_top(output_file)"
     ],
     "language": "python",
     "metadata": {},
     "outputs": [
      {
       "output_type": "stream",
       "stream": "stdout",
       "text": [
        "['hashed_worker_id|question|question_code|post_date|screenshot|num_answers_requested|answer_num|answer|answer_word_count|answer_start_time|answer_end_time|answer_code']\n",
        "['23631cbff4e3f2bc93e6aeb6dc3c56339ef16c38c3358c520b2b4d75|\"Mechanical Turk currently lacks a dedicated mobile app for performing']\n",
        "['      HITs on smartphones (iPhone', ' Androids', ' etc.) or tablets (e.g.', ' the iPad). Brainstorm 20']\n"
       ]
      }
     ],
     "prompt_number": 14
    },
    {
     "cell_type": "markdown",
     "metadata": {},
     "source": [
      "## Coding\n",
      "\n",
      "The data is coded such that two items are assigned the same label if and only if they refer to the exact same phenomena despite being worded differently. Thus, *mayonaise* and *miracle whip* are different, but *ketchup* and *catsup* are the same."
     ]
    },
    {
     "cell_type": "code",
     "collapsed": false,
     "input": [],
     "language": "python",
     "metadata": {},
     "outputs": []
    }
   ],
   "metadata": {}
  }
 ]
}