{
 "metadata": {
  "name": "test experiment"
 },
 "nbformat": 3,
 "nbformat_minor": 0,
 "worksheets": [
  {
   "cells": [
    {
     "cell_type": "markdown",
     "metadata": {},
     "source": [
      "# Introduction\n",
      "\n",
      "This is me attempting to move a Python project into this iPython notebook."
     ]
    },
    {
     "cell_type": "markdown",
     "metadata": {},
     "source": [
      "## Imports and parameters"
     ]
    },
    {
     "cell_type": "code",
     "collapsed": false,
     "input": [
      "from common import *\n",
      "from turkflow.turkflow import *\n",
      "\n",
      "m_assignments = 10\n",
      "live = False\n",
      "reset = None\n",
      "us_only = False"
     ],
     "language": "python",
     "metadata": {},
     "outputs": [],
     "prompt_number": 22
    },
    {
     "cell_type": "markdown",
     "metadata": {},
     "source": [
      "##Initialization, definitions"
     ]
    },
    {
     "cell_type": "code",
     "collapsed": false,
     "input": [
      "experiment_id = 'crowbrain_test_experiment'\n",
      "db_location = \"/data/%s.%s\" % (experiment_id, 'live' if live else 'sandbox')\n",
      "print(db_location)\n",
      "\n",
      "tc = TurkConnection(experiment_id, db_location, not live, reset,\n",
      "            extra_files=['templates/Mop.svg.png', 'templates/bootstrap.css', 'templates/main.css'],\n",
      "            us_only=us_only)\n",
      "\n",
      "schema = sl.ExperimentSchema(\n",
      "            \"crowbrain\",\n",
      "            \"v0\",\n",
      "            [('hit_id', 'text'),\n",
      "             ('title', 'text'),\n",
      "             ('description', 'text'),\n",
      "             ('keywords', 'text'),\n",
      "             ('duration', 'integer'),\n",
      "             ('assignments', 'integer'),\n",
      "             ('reward', 'real'),\n",
      "             ('template_name', 'text'),\n",
      "             ('html', 'text')],\n",
      "            [('responses_json', 'text'),\n",
      "             ('accept_times', 'text'),\n",
      "             ('submit_times', 'text')])"
     ],
     "language": "python",
     "metadata": {},
     "outputs": [
      {
       "output_type": "stream",
       "stream": "stdout",
       "text": [
        "/data/crowbrain_test_experiment.sandbox\n"
       ]
      },
      {
       "output_type": "stream",
       "stream": "stdout",
       "text": [
        "/data/crowbrain_test_experiment.sandbox\n"
       ]
      }
     ],
     "prompt_number": 29
    },
    {
     "cell_type": "code",
     "collapsed": false,
     "input": [
      "class RandomStorm(TurkHITType):\n",
      "    def __init__(self, num_responses):\n",
      "        self.num_responses = num_responses\n",
      "\n",
      "        template = env.get_template(\"consent_plaintext\")\n",
      "        description = template.render({'num_responses': num_responses})\n",
      "\n",
      "        TurkHITType.__init__(self,\n",
      "            \"Brainstorm %i ideas for a classic brainstorming problem.\" % (num_responses),\n",
      "            string.split('research, brainstorming'),\n",
      "            description = description,\n",
      "            duration = (5 + num_responses) * 60,\n",
      "            max_assignments = m_assignments,\n",
      "            annotation = 'brainstorm',\n",
      "            reward = (8 if num_responses == 5 else (15 if num_responses == 10 else 25)) * 0.01,\n",
      "            env = env)"
     ],
     "language": "python",
     "metadata": {},
     "outputs": [],
     "prompt_number": 30
    },
    {
     "cell_type": "markdown",
     "metadata": {},
     "source": [
      "## Run experiment"
     ]
    },
    {
     "cell_type": "code",
     "collapsed": false,
     "input": [
      "with sl.Experiment(db_location, schema, experiment_id) as exp:\n",
      "        fives_key = start_trial(tc, RandomStorm(5), exp,'fives')\n",
      "        tens_key = start_trial(tc, RandomStorm(10), exp,'tens')\n",
      "        twenties_key = start_trial(tc, RandomStorm(20), exp,'twenties')\n",
      "\n",
      "        fives_results = attempt_finish_trial(tc, exp, fives_key)\n",
      "        tens_results = attempt_finish_trial(tc, exp, tens_key)\n",
      "        twenties_results = attempt_finish_trial(tc, exp, twenties_key)"
     ],
     "language": "python",
     "metadata": {},
     "outputs": [
      {
       "ename": "error",
       "evalue": "Bad magic number",
       "output_type": "pyerr",
       "traceback": ""
      },
      {
       "output_type": "stream",
       "stream": "stdout",
       "text": [
        "Traceback (most recent call last):\n",
        "  File \"/usr/local/lib/python2.7/dist-packages/IPython/core/ultratb.py\", line 760, in structured_traceback\n",
        "    records = _fixed_getinnerframes(etb, context, tb_offset)\n",
        "  File \"/usr/local/lib/python2.7/dist-packages/IPython/core/ultratb.py\", line 242, in _fixed_getinnerframes\n",
        "    records  = fix_frame_records_filenames(inspect.getinnerframes(etb, context))\n",
        "  File \"/usr/lib/python2.7/inspect.py\", line 1043, in getinnerframes\n",
        "    framelist.append((tb.tb_frame,) + getframeinfo(tb, context))\n",
        "  File \"/usr/lib/python2.7/inspect.py\", line 1007, in getframeinfo\n",
        "    lines, lnum = findsource(frame)\n",
        "  File \"/usr/lib/python2.7/inspect.py\", line 580, in findsource\n",
        "    if pat.match(lines[lnum]): break\n",
        "IndexError: list index out of range\n"
       ]
      },
      {
       "output_type": "stream",
       "stream": "stderr",
       "text": [
        "ERROR: Internal Python error in the inspect module.\n",
        "Below is the traceback from this internal error.\n",
        "\n",
        "Unfortunately, your original traceback can not be constructed.\n"
       ]
      }
     ],
     "prompt_number": 31
    },
    {
     "cell_type": "code",
     "collapsed": false,
     "input": [],
     "language": "python",
     "metadata": {},
     "outputs": []
    }
   ],
   "metadata": {}
  }
 ]
}